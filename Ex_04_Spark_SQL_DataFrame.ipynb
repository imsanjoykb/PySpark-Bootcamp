{
  "nbformat": 4,
  "nbformat_minor": 0,
  "metadata": {
    "colab": {
      "name": "Ex-03-Spark SQL DataFrame.ipynb",
      "provenance": []
    },
    "kernelspec": {
      "name": "python3",
      "display_name": "Python 3"
    },
    "language_info": {
      "name": "python"
    }
  },
  "cells": [
    {
      "cell_type": "code",
      "metadata": {
        "id": "wNQvOcLSJC4D"
      },
      "source": [
        "!apt-get install openjdk-8-jdk-headless -qq > /dev/null\n",
        "!wget -q https://downloads.apache.org/spark/spark-2.4.8/spark-2.4.8-bin-hadoop2.7.tgz\n",
        "!tar xf spark-2.4.8-bin-hadoop2.7.tgz\n",
        "!pip install -q findspark"
      ],
      "execution_count": 1,
      "outputs": []
    },
    {
      "cell_type": "code",
      "metadata": {
        "colab": {
          "base_uri": "https://localhost:8080/"
        },
        "id": "FIH7ZgU6JD6M",
        "outputId": "066e3fe0-8409-4f28-bc40-d6431af38b4c"
      },
      "source": [
        "!pip install pyspark"
      ],
      "execution_count": 2,
      "outputs": [
        {
          "output_type": "stream",
          "text": [
            "Requirement already satisfied: pyspark in /usr/local/lib/python3.7/dist-packages (3.1.2)\n",
            "Requirement already satisfied: py4j==0.10.9 in /usr/local/lib/python3.7/dist-packages (from pyspark) (0.10.9)\n"
          ],
          "name": "stdout"
        }
      ]
    },
    {
      "cell_type": "code",
      "metadata": {
        "id": "VQDp31ePJF07"
      },
      "source": [
        "from pyspark import SparkContext, SparkConf"
      ],
      "execution_count": 3,
      "outputs": []
    },
    {
      "cell_type": "code",
      "metadata": {
        "id": "Nu0J9qykJZFz"
      },
      "source": [
        "conf = SparkConf().setAppName('Spark Prac').setMaster('local')\n",
        "sc = SparkContext(conf = conf)"
      ],
      "execution_count": 4,
      "outputs": []
    },
    {
      "cell_type": "code",
      "metadata": {
        "colab": {
          "resources": {
            "http://localhost:8080/nbextensions/google.colab/files.js": {
              "data": "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",
              "ok": true,
              "headers": [
                [
                  "content-type",
                  "application/javascript"
                ]
              ],
              "status": 200,
              "status_text": ""
            }
          },
          "base_uri": "https://localhost:8080/",
          "height": 72
        },
        "id": "CdunAvM1Jejq",
        "outputId": "9e85871e-f191-47cd-f552-72e376cc5970"
      },
      "source": [
        "from google.colab import files\n",
        "uploaded = files.upload()"
      ],
      "execution_count": 5,
      "outputs": [
        {
          "output_type": "display_data",
          "data": {
            "text/html": [
              "\n",
              "     <input type=\"file\" id=\"files-406a8ede-9963-41e3-8b6c-8012401da4f5\" name=\"files[]\" multiple disabled\n",
              "        style=\"border:none\" />\n",
              "     <output id=\"result-406a8ede-9963-41e3-8b6c-8012401da4f5\">\n",
              "      Upload widget is only available when the cell has been executed in the\n",
              "      current browser session. Please rerun this cell to enable.\n",
              "      </output>\n",
              "      <script src=\"/nbextensions/google.colab/files.js\"></script> "
            ],
            "text/plain": [
              "<IPython.core.display.HTML object>"
            ]
          },
          "metadata": {}
        },
        {
          "output_type": "stream",
          "text": [
            "Saving books.csv to books (1).csv\n"
          ],
          "name": "stdout"
        }
      ]
    },
    {
      "cell_type": "code",
      "metadata": {
        "id": "NTA-EgRcKFSb"
      },
      "source": [
        "import io\n",
        "data1 = io.BytesIO(uploaded['books.csv'])    "
      ],
      "execution_count": 6,
      "outputs": []
    },
    {
      "cell_type": "code",
      "metadata": {
        "id": "qLWtEmhuKoMa"
      },
      "source": [
        "data = sc.textFile('books.csv')"
      ],
      "execution_count": 7,
      "outputs": []
    },
    {
      "cell_type": "code",
      "metadata": {
        "colab": {
          "base_uri": "https://localhost:8080/"
        },
        "id": "On9gBZUgKska",
        "outputId": "50d9c414-367f-413f-d01d-f5b8ff4fa791"
      },
      "source": [
        "type(data)"
      ],
      "execution_count": 8,
      "outputs": [
        {
          "output_type": "execute_result",
          "data": {
            "text/plain": [
              "pyspark.rdd.RDD"
            ]
          },
          "metadata": {},
          "execution_count": 8
        }
      ]
    },
    {
      "cell_type": "code",
      "metadata": {
        "colab": {
          "base_uri": "https://localhost:8080/"
        },
        "id": "odL6GFweKuZr",
        "outputId": "2074312c-035d-4fd9-d2db-790286d2fd83"
      },
      "source": [
        "data.top(2)"
      ],
      "execution_count": 9,
      "outputs": [
        {
          "output_type": "execute_result",
          "data": {
            "text/plain": [
              "['id,book_id,best_book_id,work_id,books_count,isbn,isbn13,authors,original_publication_year,original_title,title,language_code,average_rating,ratings_count,work_ratings_count,work_text_reviews_count,ratings_1,ratings_2,ratings_3,ratings_4,ratings_5,image_url,small_image_url',\n",
              " '9999,8565083,8565083,13433613,7,61711527,9.78006171153e+12,Peggy Orenstein,2011.0,Cinderella Ate My Daughter: Dispatches from the Frontlines of the New Girlie-Girl Culture,Cinderella Ate My Daughter: Dispatches from the Frontlines of the New Girlie-Girl Culture,eng,3.65,11279,11994,1988,275,1002,3765,4577,2375,https://images.gr-assets.com/books/1279214118m/8565083.jpg,https://images.gr-assets.com/books/1279214118s/8565083.jpg']"
            ]
          },
          "metadata": {},
          "execution_count": 9
        }
      ]
    },
    {
      "cell_type": "code",
      "metadata": {
        "colab": {
          "base_uri": "https://localhost:8080/"
        },
        "id": "LqqvevXjKwEp",
        "outputId": "9b39b2f3-b5b6-48d4-c415-92c001b212de"
      },
      "source": [
        "data.collect()"
      ],
      "execution_count": 10,
      "outputs": [
        {
          "output_type": "execute_result",
          "data": {
            "text/plain": [
              "['id,book_id,best_book_id,work_id,books_count,isbn,isbn13,authors,original_publication_year,original_title,title,language_code,average_rating,ratings_count,work_ratings_count,work_text_reviews_count,ratings_1,ratings_2,ratings_3,ratings_4,ratings_5,image_url,small_image_url',\n",
              " '1,2767052,2767052,2792775,272,439023483,9.78043902348e+12,Suzanne Collins,2008.0,The Hunger Games,\"The Hunger Games (The Hunger Games, #1)\",eng,4.34,4780653,4942365,155254,66715,127936,560092,1481305,2706317,https://images.gr-assets.com/books/1447303603m/2767052.jpg,https://images.gr-assets.com/books/1447303603s/2767052.jpg',\n",
              " '2,3,3,4640799,491,439554934,9.78043955493e+12,\"J.K. Rowling, Mary GrandPré\",1997.0,Harry Potter and the Philosopher\\'s Stone,\"Harry Potter and the Sorcerer\\'s Stone (Harry Potter, #1)\",eng,4.44,4602479,4800065,75867,75504,101676,455024,1156318,3011543,https://images.gr-assets.com/books/1474154022m/3.jpg,https://images.gr-assets.com/books/1474154022s/3.jpg',\n",
              " '3,41865,41865,3212258,226,316015849,9.78031601584e+12,Stephenie Meyer,2005.0,Twilight,\"Twilight (Twilight, #1)\",en-US,3.57,3866839,3916824,95009,456191,436802,793319,875073,1355439,https://images.gr-assets.com/books/1361039443m/41865.jpg,https://images.gr-assets.com/books/1361039443s/41865.jpg',\n",
              " '4,2657,2657,3275794,487,61120081,9.78006112008e+12,Harper Lee,1960.0,To Kill a Mockingbird,To Kill a Mockingbird,eng,4.25,3198671,3340896,72586,60427,117415,446835,1001952,1714267,https://images.gr-assets.com/books/1361975680m/2657.jpg,https://images.gr-assets.com/books/1361975680s/2657.jpg',\n",
              " '5,4671,4671,245494,1356,743273567,9.78074327356e+12,F. Scott Fitzgerald,1925.0,The Great Gatsby,The Great Gatsby,eng,3.89,2683664,2773745,51992,86236,197621,606158,936012,947718,https://images.gr-assets.com/books/1490528560m/4671.jpg,https://images.gr-assets.com/books/1490528560s/4671.jpg',\n",
              " '6,11870085,11870085,16827462,226,525478817,9.78052547881e+12,John Green,2012.0,The Fault in Our Stars,The Fault in Our Stars,eng,4.26,2346404,2478609,140739,47994,92723,327550,698471,1311871,https://images.gr-assets.com/books/1360206420m/11870085.jpg,https://images.gr-assets.com/books/1360206420s/11870085.jpg',\n",
              " '7,5907,5907,1540236,969,618260307,9.7806182603e+12,J.R.R. Tolkien,1937.0,The Hobbit or There and Back Again,The Hobbit,en-US,4.25,2071616,2196809,37653,46023,76784,288649,665635,1119718,https://images.gr-assets.com/books/1372847500m/5907.jpg,https://images.gr-assets.com/books/1372847500s/5907.jpg',\n",
              " '8,5107,5107,3036731,360,316769177,9.78031676917e+12,J.D. Salinger,1951.0,The Catcher in the Rye,The Catcher in the Rye,eng,3.79,2044241,2120637,44920,109383,185520,455042,661516,709176,https://images.gr-assets.com/books/1398034300m/5107.jpg,https://images.gr-assets.com/books/1398034300s/5107.jpg',\n",
              " '9,960,960,3338963,311,1416524797,9.78141652479e+12,Dan Brown,2000.0,Angels & Demons ,\"Angels & Demons  (Robert Langdon, #1)\",en-CA,3.85,2001311,2078754,25112,77841,145740,458429,716569,680175,https://images.gr-assets.com/books/1303390735m/960.jpg,https://images.gr-assets.com/books/1303390735s/960.jpg',\n",
              " '10,1885,1885,3060926,3455,679783261,9.78067978327e+12,Jane Austen,1813.0,Pride and Prejudice,Pride and Prejudice,eng,4.24,2035490,2191465,49152,54700,86485,284852,609755,1155673,https://images.gr-assets.com/books/1320399351m/1885.jpg,https://images.gr-assets.com/books/1320399351s/1885.jpg',\n",
              " '11,77203,77203,3295919,283,1594480001,9.78159448e+12,Khaled Hosseini,2003.0,The Kite Runner ,The Kite Runner,eng,4.26,1813044,1878095,59730,34288,59980,226062,628174,929591,https://images.gr-assets.com/books/1484565687m/77203.jpg,https://images.gr-assets.com/books/1484565687s/77203.jpg',\n",
              " '12,13335037,13335037,13155899,210,62024035,9.78006202404e+12,Veronica Roth,2011.0,Divergent,\"Divergent (Divergent, #1)\",eng,4.24,1903563,2216814,101023,36315,82870,310297,673028,1114304,https://images.gr-assets.com/books/1328559506m/13335037.jpg,https://images.gr-assets.com/books/1328559506s/13335037.jpg',\n",
              " '13,5470,5470,153313,995,451524934,9.78045152494e+12,\"George Orwell, Erich Fromm, Celâl Üster\",1949.0,Nineteen Eighty-Four,1984,eng,4.14,1956832,2053394,45518,41845,86425,324874,692021,908229,https://images.gr-assets.com/books/1348990566m/5470.jpg,https://images.gr-assets.com/books/1348990566s/5470.jpg',\n",
              " '14,7613,7613,2207778,896,452284244,9.78045228424e+12,George Orwell,1945.0,Animal Farm: A Fairy Story,Animal Farm,eng,3.87,1881700,1982987,35472,66854,135147,433432,698642,648912,https://images.gr-assets.com/books/1424037542m/7613.jpg,https://images.gr-assets.com/books/1424037542s/7613.jpg',\n",
              " '15,48855,48855,3532896,710,553296981,9.78055329698e+12,\"Anne Frank, Eleanor Roosevelt, B.M. Mooyaart-Doubleday\",1947.0,Het Achterhuis: Dagboekbrieven 14 juni 1942 - 1 augustus 1944,The Diary of a Young Girl,eng,4.1,1972666,2024493,20825,45225,91270,355756,656870,875372,https://images.gr-assets.com/books/1358276407m/48855.jpg,https://images.gr-assets.com/books/1358276407s/48855.jpg',\n",
              " '16,2429135,2429135,1708725,274,307269752,9.78030726975e+12,\"Stieg Larsson, Reg Keeland\",2005.0,Män som hatar kvinnor,\"The Girl with the Dragon Tattoo (Millennium, #1)\",eng,4.11,1808403,1929834,62543,54835,86051,285413,667485,836050,https://images.gr-assets.com/books/1327868566m/2429135.jpg,https://images.gr-assets.com/books/1327868566s/2429135.jpg',\n",
              " '17,6148028,6148028,6171458,201,439023491,9.7804390235e+12,Suzanne Collins,2009.0,Catching Fire,\"Catching Fire (The Hunger Games, #2)\",eng,4.3,1831039,1988079,88538,10492,48030,262010,687238,980309,https://images.gr-assets.com/books/1358273780m/6148028.jpg,https://images.gr-assets.com/books/1358273780s/6148028.jpg',\n",
              " '18,5,5,2402163,376,043965548X,9.78043965548e+12,\"J.K. Rowling, Mary GrandPré, Rufus Beck\",1999.0,Harry Potter and the Prisoner of Azkaban,\"Harry Potter and the Prisoner of Azkaban (Harry Potter, #3)\",eng,4.53,1832823,1969375,36099,6716,20413,166129,509447,1266670,https://images.gr-assets.com/books/1499277281m/5.jpg,https://images.gr-assets.com/books/1499277281s/5.jpg',\n",
              " '19,34,34,3204327,566,618346252,9.78061834626e+12,J.R.R. Tolkien,1954.0, The Fellowship of the Ring,\"The Fellowship of the Ring (The Lord of the Rings, #1)\",eng,4.34,1766803,1832541,15333,38031,55862,202332,493922,1042394,https://images.gr-assets.com/books/1298411339m/34.jpg,https://images.gr-assets.com/books/1298411339s/34.jpg',\n",
              " '20,7260188,7260188,8812783,239,439023513,9.78043902351e+12,Suzanne Collins,2010.0,Mockingjay,\"Mockingjay (The Hunger Games, #3)\",eng,4.03,1719760,1870748,96274,30144,110498,373060,618271,738775,https://images.gr-assets.com/books/1358275419m/7260188.jpg,https://images.gr-assets.com/books/1358275419s/7260188.jpg',\n",
              " '21,2,2,2809203,307,439358078,9.78043935807e+12,\"J.K. Rowling, Mary GrandPré\",2003.0,Harry Potter and the Order of the Phoenix,\"Harry Potter and the Order of the Phoenix (Harry Potter, #5)\",eng,4.46,1735368,1840548,28685,9528,31577,180210,494427,1124806,https://images.gr-assets.com/books/1387141547m/2.jpg,https://images.gr-assets.com/books/1387141547s/2.jpg',\n",
              " '22,12232938,12232938,1145090,183,316166685,9.78031616668e+12,Alice Sebold,2002.0,The Lovely Bones,The Lovely Bones,eng,3.77,1605173,1661562,36642,62777,131188,404699,583575,479323,https://images.gr-assets.com/books/1457810586m/12232938.jpg,https://images.gr-assets.com/books/1457810586s/12232938.jpg',\n",
              " '23,15881,15881,6231171,398,439064864,9.78043906487e+12,\"J.K. Rowling, Mary GrandPré\",1998.0,Harry Potter and the Chamber of Secrets,\"Harry Potter and the Chamber of Secrets (Harry Potter, #2)\",eng,4.37,1779331,1906199,34172,8253,42251,242345,548266,1065084,https://images.gr-assets.com/books/1474169725m/15881.jpg,https://images.gr-assets.com/books/1474169725s/15881.jpg',\n",
              " '24,6,6,3046572,332,439139600,9.7804391396e+12,\"J.K. Rowling, Mary GrandPré\",2000.0,Harry Potter and the Goblet of Fire,\"Harry Potter and the Goblet of Fire (Harry Potter, #4)\",eng,4.53,1753043,1868642,31084,6676,20210,151785,494926,1195045,https://images.gr-assets.com/books/1361482611m/6.jpg,https://images.gr-assets.com/books/1361482611s/6.jpg',\n",
              " '25,136251,136251,2963218,263,545010225,9.78054501022e+12,\"J.K. Rowling, Mary GrandPré\",2007.0,Harry Potter and the Deathly Hallows,\"Harry Potter and the Deathly Hallows (Harry Potter, #7)\",eng,4.61,1746574,1847395,51942,9363,22245,113646,383914,1318227,https://images.gr-assets.com/books/1474171184m/136251.jpg,https://images.gr-assets.com/books/1474171184s/136251.jpg',\n",
              " '26,968,968,2982101,350,307277674,9.78030727767e+12,Dan Brown,2003.0,The Da Vinci Code,\"The Da Vinci Code (Robert Langdon, #2)\",eng,3.79,1447148,1557292,41560,71345,126493,340790,539277,479387,https://images.gr-assets.com/books/1303252999m/968.jpg,https://images.gr-assets.com/books/1303252999s/968.jpg',\n",
              " '27,1,1,41335427,275,439785960,9.78043978597e+12,\"J.K. Rowling, Mary GrandPré\",2005.0,Harry Potter and the Half-Blood Prince,\"Harry Potter and the Half-Blood Prince (Harry Potter, #6)\",eng,4.54,1678823,1785676,27520,7308,21516,136333,459028,1161491,https://images.gr-assets.com/books/1361039191m/1.jpg,https://images.gr-assets.com/books/1361039191s/1.jpg',\n",
              " '28,7624,7624,2766512,458,140283331,9.78014028333e+12,William Golding,1954.0,Lord of the Flies ,Lord of the Flies,eng,3.64,1605019,1671484,26886,92779,160295,425648,564916,427846,https://images.gr-assets.com/books/1327869409m/7624.jpg,https://images.gr-assets.com/books/1327869409s/7624.jpg',\n",
              " '29,18135,18135,3349450,1937,743477111,9.78074347712e+12,\"William Shakespeare, Robert           Jackson\",1595.0,An Excellent conceited Tragedie of Romeo and Juliet,Romeo and Juliet,eng,3.73,1628519,1672889,14778,57980,153179,452673,519822,489235,https://images.gr-assets.com/books/1327872146m/18135.jpg,https://images.gr-assets.com/books/1327872146s/18135.jpg',\n",
              " '30,8442457,19288043,13306276,196,297859382,9.78029785938e+12,Gillian Flynn,2012.0,Gone Girl,Gone Girl,eng,4.03,512475,1626519,121614,38874,80807,280331,616031,610476,https://images.gr-assets.com/books/1339602131m/8442457.jpg,https://images.gr-assets.com/books/1339602131s/8442457.jpg',\n",
              " '31,4667024,4667024,4717423,183,399155341,9.78039915534e+12,Kathryn Stockett,2009.0,The Help,The Help,eng,4.45,1531753,1603545,78204,10235,25117,134887,490754,942552,https://images.gr-assets.com/books/1346100365m/4667024.jpg,https://images.gr-assets.com/books/1346100365s/4667024.jpg',\n",
              " '32,890,890,40283,373,142000671,9.78014200067e+12,John Steinbeck,1937.0,Of Mice and Men ,Of Mice and Men,eng,3.84,1467496,1518741,24642,46630,110856,355169,532291,473795,https://images.gr-assets.com/books/1437235233m/890.jpg,https://images.gr-assets.com/books/1437235233s/890.jpg',\n",
              " '33,930,929,1558965,220,739326228,9.78073932622e+12,Arthur Golden,1997.0,Memoirs of a Geisha,Memoirs of a Geisha,eng,4.08,1300209,1418172,25605,23500,59033,258700,517157,559782,https://s.gr-assets.com/assets/nophoto/book/111x148-bcc042a9c91a29c1d680899eff700a03.png,https://s.gr-assets.com/assets/nophoto/book/50x75-a91bf249278a81aabab721ef782c4a74.png',\n",
              " '34,10818853,10818853,15732562,169,1612130291,9.78161213029e+12,E.L. James,2011.0,Fifty Shades of Grey,\"Fifty Shades of Grey (Fifty Shades, #1)\",eng,3.67,1338493,1436818,75437,165455,152293,252185,294976,571909,https://images.gr-assets.com/books/1385207843m/10818853.jpg,https://images.gr-assets.com/books/1385207843s/10818853.jpg',\n",
              " '35,865,865,4835472,458,61122416,9.78006112242e+12,\"Paulo Coelho, Alan R. Clarke\",1988.0,O Alquimista,The Alchemist,eng,3.82,1299566,1403995,55781,74846,123614,289143,412180,504212,https://images.gr-assets.com/books/1483412266m/865.jpg,https://images.gr-assets.com/books/1483412266s/865.jpg',\n",
              " '36,3636,3636,2543234,192,385732554,9.78038573255e+12,Lois Lowry,1993.0,The Giver,\"The Giver (The Giver, #1)\",eng,4.12,1296825,1345445,54084,26497,59652,225326,448691,585279,https://images.gr-assets.com/books/1342493368m/3636.jpg,https://images.gr-assets.com/books/1342493368s/3636.jpg',\n",
              " '37,100915,100915,4790821,474,60764899,9.78006076489e+12,C.S. Lewis,1950.0,\"The Lion, the Witch and the Wardrobe\",\"The Lion, the Witch, and the Wardrobe (Chronicles of Narnia, #1)\",eng,4.19,1531800,1584884,15186,19309,55542,262038,513366,734629,https://images.gr-assets.com/books/1353029077m/100915.jpg,https://images.gr-assets.com/books/1353029077s/100915.jpg',\n",
              " \"38,14050,18619684,2153746,167,965818675,9.78096581867e+12,Audrey Niffenegger,2003.0,The Time Traveler's Wife,The Time Traveler's Wife,eng,3.95,746287,1308667,43382,44339,85429,257805,427210,493884,https://images.gr-assets.com/books/1437728815m/14050.jpg,https://images.gr-assets.com/books/1437728815s/14050.jpg\",\n",
              " '39,13496,13496,1466917,101,553588486,9.78055358848e+12,George R.R. Martin,1996.0,A Game of Thrones,\"A Game of Thrones (A Song of Ice and Fire, #1)\",eng,4.45,1319204,1442220,46205,19988,28983,114092,404583,874574,https://images.gr-assets.com/books/1436732693m/13496.jpg,https://images.gr-assets.com/books/1436732693s/13496.jpg',\n",
              " '40,19501,19501,3352398,185,143038419,9.78014303841e+12,Elizabeth Gilbert,2006.0,\"Eat, pray, love: one woman\\'s search for everything across Italy, India and Indonesia\",\"Eat, Pray, Love\",eng,3.51,1181647,1206597,49714,100373,149549,310212,332191,314272,https://images.gr-assets.com/books/1503066414m/19501.jpg,https://images.gr-assets.com/books/1503066414s/19501.jpg',\n",
              " '41,28187,28187,3346751,159,786838655,9.78078683865e+12,Rick Riordan,2005.0,The Lightning Thief,\"The Lightning Thief (Percy Jackson and the Olympians, #1)\",eng,4.23,1366265,1411114,46006,18303,48294,219638,435514,689365,https://images.gr-assets.com/books/1400602609m/28187.jpg,https://images.gr-assets.com/books/1400602609s/28187.jpg',\n",
              " '42,1934,1934,3244642,1707,451529308,9.78045152930e+12,Louisa May Alcott,1868.0,Little Women,\"Little Women (Little Women, #1)\",en-US,4.04,1257121,1314293,17090,31645,70011,250794,426280,535563,https://s.gr-assets.com/assets/nophoto/book/111x148-bcc042a9c91a29c1d680899eff700a03.png,https://s.gr-assets.com/assets/nophoto/book/50x75-a91bf249278a81aabab721ef782c4a74.png',\n",
              " '43,10210,10210,2977639,2568,142437204,9.78014243721e+12,\"Charlotte Brontë, Michael Mason\",1847.0,Jane Eyre,Jane Eyre,eng,4.1,1198557,1286135,31212,35132,64274,212294,400214,574221,https://images.gr-assets.com/books/1327867269m/10210.jpg,https://images.gr-assets.com/books/1327867269s/10210.jpg',\n",
              " '44,15931,15931,1498135,190,553816713,9.78055381672e+12,Nicholas Sparks,1996.0,The Notebook,\"The Notebook (The Notebook, #1)\",eng,4.06,1053403,1076749,17279,41395,63432,176469,298259,497194,https://images.gr-assets.com/books/1385738917m/15931.jpg,https://images.gr-assets.com/books/1385738917s/15931.jpg',\n",
              " '45,4214,4214,1392700,264,770430074,9.78077043008e+12,Yann Martel,2001.0,Life of Pi,Life of Pi,,3.88,1003228,1077431,42962,39768,74331,218702,384164,360466,https://images.gr-assets.com/books/1320562005m/4214.jpg,https://images.gr-assets.com/books/1320562005s/4214.jpg',\n",
              " '46,43641,43641,3441236,128,1565125606,9.78156512560e+12,Sara Gruen,2006.0,Water for Elephants,Water for Elephants,eng,4.07,1068146,1108839,55732,16705,49832,200154,417328,424820,https://images.gr-assets.com/books/1494428973m/43641.jpg,https://images.gr-assets.com/books/1494428973s/43641.jpg',\n",
              " '47,19063,19063,878368,251,375831002,9.780375831e+12,Markus Zusak,2005.0,The Book Thief,The Book Thief,eng,4.36,1159741,1287798,93611,17892,35360,135272,377218,722056,https://images.gr-assets.com/books/1390053681m/19063.jpg,https://images.gr-assets.com/books/1390053681s/19063.jpg',\n",
              " '48,4381,4381,1272463,507,307347974,9.78030734798e+12,Ray Bradbury,1953.0,Fahrenheit 451,Fahrenheit 451,spa,3.97,570498,1176240,30694,28366,64289,238242,426292,419051,https://images.gr-assets.com/books/1351643740m/4381.jpg,https://images.gr-assets.com/books/1351643740s/4381.jpg',\n",
              " '49,49041,49041,3203964,194,316160199,9.78031616019e+12,Stephenie Meyer,2006.0,\"New Moon (Twilight, #2)\",\"New Moon (Twilight, #2)\",eng,3.52,1149630,1199000,44020,102837,160660,294207,290612,350684,https://images.gr-assets.com/books/1361039440m/49041.jpg,https://images.gr-assets.com/books/1361039440s/49041.jpg',\n",
              " '50,30119,30119,30518,45,60513039,9.78006051303e+12,Shel Silverstein,1974.0,Where the Sidewalk Ends: The Poems and Drawings of Shel Silverstein,Where the Sidewalk Ends,eng,4.29,1016888,1023781,9234,16590,30792,139024,293222,544153,https://images.gr-assets.com/books/1168052448m/30119.jpg,https://images.gr-assets.com/books/1168052448s/30119.jpg',\n",
              " '51,256683,256683,2267189,178,1416914285,9.78141691428e+12,Cassandra Clare,2007.0,City of Bones,\"City of Bones (The Mortal Instruments, #1)\",eng,4.12,1154031,1241799,51589,34122,65349,203466,356048,582814,https://images.gr-assets.com/books/1432730315m/256683.jpg,https://images.gr-assets.com/books/1432730315s/256683.jpg',\n",
              " '52,428263,428263,2675454,185,316160202,9.78031616021e+12,Stephenie Meyer,2007.0,Eclipse,\"Eclipse (Twilight, #3)\",en-US,3.69,1134511,1176642,35216,83094,124293,260763,309358,399134,https://images.gr-assets.com/books/1361038355m/428263.jpg,https://images.gr-assets.com/books/1361038355s/428263.jpg',\n",
              " '53,113436,113436,3178011,217,375826696,9.7803758267e+12,Christopher Paolini,2002.0,Eragon,\"Eragon (The Inheritance Cycle, #1)\",en-US,3.86,1104021,1125231,18280,50563,88536,240157,337943,408032,https://images.gr-assets.com/books/1366212852m/113436.jpg,https://images.gr-assets.com/books/1366212852s/113436.jpg',\n",
              " '54,11,386162,3078186,257,345391802,9.7803453918e+12,Douglas Adams,1979.0,The Hitchhiker\\'s Guide to the Galaxy,\"The Hitchhiker\\'s Guide to the Galaxy (Hitchhiker\\'s Guide to the Galaxy, #1)\",en-US,4.2,936782,1006479,20345,21764,41962,145173,299579,498001,https://images.gr-assets.com/books/1327656754m/11.jpg,https://images.gr-assets.com/books/1327656754s/11.jpg',\n",
              " '55,5129,5129,3204877,515,60929871,9.78006092988e+12,Aldous Huxley,1932.0,Brave New World,Brave New World,eng,3.97,1022601,1079135,20095,26367,60328,219895,389379,383166,https://images.gr-assets.com/books/1487389574m/5129.jpg,https://images.gr-assets.com/books/1487389574s/5129.jpg',\n",
              " '56,1162543,1162543,2960529,183,031606792X,9.78031606793e+12,Stephenie Meyer,2008.0,Breaking Dawn,\"Breaking Dawn (Twilight, #4)\",en-US,3.7,1070245,1107709,44550,100994,114893,213402,267706,410714,https://images.gr-assets.com/books/1361039438m/1162543.jpg,https://images.gr-assets.com/books/1361039438s/1162543.jpg',\n",
              " '57,37435,37435,3275013,125,142001740,9.78014200174e+12,Sue Monk Kidd,2001.0,The Secret Life of Bees,The Secret Life of Bees,en-US,4.01,916189,937393,26522,17500,45455,185631,347540,341267,https://images.gr-assets.com/books/1473454532m/37435.jpg,https://images.gr-assets.com/books/1473454532s/37435.jpg',\n",
              " '58,2956,2956,1835605,2277,142437174,9.78014243718e+12,\"Mark Twain, John Seelye, Guy Cardwell\",1884.0,The Adventures of Huckleberry Finn,The Adventures of Huckleberry Finn,eng,3.8,953758,1001491,12448,28467,76630,255722,344356,296316,https://images.gr-assets.com/books/1405973850m/2956.jpg,https://images.gr-assets.com/books/1405973850s/2956.jpg',\n",
              " '59,24178,24178,987048,180,64410935,9.78006441094e+12,\"E.B. White, Garth Williams, Rosemary Wells\",1952.0,Charlotte\\'s Web,Charlotte\\'s Web,eng,4.15,1064521,1084842,13044,18450,41124,191415,346090,487763,https://images.gr-assets.com/books/1439632243m/24178.jpg,https://images.gr-assets.com/books/1439632243s/24178.jpg',\n",
              " '60,1618,1618,4259809,183,1400032717,9.78140003272e+12,Mark Haddon,2003.0,The Curious Incident of the Dog in the Night-Time,The Curious Incident of the Dog in the Night-Time,eng,3.85,867553,915790,35796,21049,58117,218218,355925,262481,https://images.gr-assets.com/books/1479863624m/1618.jpg,https://images.gr-assets.com/books/1479863624s/1618.jpg',\n",
              " '61,22557272,22557272,41107568,14,1594633665,9.78159463367e+12,Paula Hawkins,2015.0,The Girl on the Train,The Girl on the Train,eng,3.88,1008778,1226485,93600,27773,73897,273817,488447,362551,https://images.gr-assets.com/books/1490903702m/22557272.jpg,https://images.gr-assets.com/books/1490903702s/22557272.jpg',\n",
              " '62,119322,119322,1536771,287,679879242,9.78067987924e+12,Philip Pullman,1995.0,Northern Lights,\"The Golden Compass (His Dark Materials, #1)\",eng,3.94,953970,994914,14915,38382,64591,198764,313147,380030,https://images.gr-assets.com/books/1451271747m/119322.jpg,https://images.gr-assets.com/books/1451271747s/119322.jpg',\n",
              " '63,6185,6185,1565818,2498,393978893,9.7803939789e+12,\"Emily Brontë, Richard J. Dunn\",1847.0,Wuthering Heights,Wuthering Heights,eng,3.82,899195,1001135,26157,46469,84084,215320,309180,346082,https://s.gr-assets.com/assets/nophoto/book/111x148-bcc042a9c91a29c1d680899eff700a03.png,https://s.gr-assets.com/assets/nophoto/book/50x75-a91bf249278a81aabab721ef782c4a74.png',\n",
              " \"64,10917,10917,1639903,125,743454537,9.78074345454e+12,Jodi Picoult,2004.0,My Sister's Keeper,My Sister's Keeper,eng,4.06,863879,887880,30719,17547,42763,162573,314003,350994,https://images.gr-assets.com/books/1369504683m/10917.jpg,https://images.gr-assets.com/books/1369504683s/10917.jpg\",\n",
              " '65,4981,4981,1683562,241,385333846,9.78038533385e+12,Kurt Vonnegut Jr.,1969.0,\"Slaughterhouse-Five, or The Children\\'s Crusade: A Duty-Dance with Death \",Slaughterhouse-Five,eng,4.06,846488,891762,19646,24964,45518,152442,300948,367890,https://images.gr-assets.com/books/1440319389m/4981.jpg,https://images.gr-assets.com/books/1440319389s/4981.jpg',\n",
              " '66,18405,18405,3358283,409,446675539,9.78044667554e+12,Margaret Mitchell,1936.0,Gone with the Wind,Gone with the Wind,eng,4.28,873981,897303,16050,19996,33136,116160,234290,493721,https://images.gr-assets.com/books/1328025229m/18405.jpg,https://images.gr-assets.com/books/1328025229s/18405.jpg',\n",
              " '67,128029,128029,3271379,197,1594489505,9.7815944895e+12,Khaled Hosseini,2007.0,A Thousand Splendid Suns,A Thousand Splendid Suns,eng,4.34,818742,866065,43645,6509,18015,99030,295817,446694,https://images.gr-assets.com/books/1345958969m/128029.jpg,https://images.gr-assets.com/books/1345958969s/128029.jpg',\n",
              " '68,22628,22628,2236198,128,671027344,9.78067102735e+12,Stephen Chbosky,1999.0,The Perks of Being a Wallflower,The Perks of Being a Wallflower,eng,4.21,888806,954905,47116,14286,38658,143440,297501,461020,https://images.gr-assets.com/books/1167352178m/22628.jpg,https://images.gr-assets.com/books/1167352178s/22628.jpg',\n",
              " '69,11735983,11735983,15524542,164,7442912,9.78000744291e+12,Veronica Roth,2012.0,Insurgent,\"Insurgent (Divergent, #2)\",eng,4.07,836362,947338,55873,10641,44620,182131,339977,369969,https://images.gr-assets.com/books/1325667729m/11735983.jpg,https://images.gr-assets.com/books/1325667729s/11735983.jpg',\n",
              " '70,375802,375802,2422333,224,812550706,9.7808125507e+12,Orson Scott Card,1985.0,Ender\\'s Game,\"Ender\\'s Game (Ender\\'s Saga, #1)\",eng,4.3,813439,873417,38054,15330,27612,103439,264207,462829,https://images.gr-assets.com/books/1408303130m/375802.jpg,https://images.gr-assets.com/books/1408303130s/375802.jpg',\n",
              " '71,18490,18490,4836639,2618,141439475,9.78014143947e+12,\"Mary Wollstonecraft Shelley, Percy Bysshe Shelley, Maurice Hindle\",1818.0,\"Frankenstein; or, The Modern Prometheus\",Frankenstein,eng,3.75,808589,883563,19993,29366,74142,231022,300495,248538,https://images.gr-assets.com/books/1381512375m/18490.jpg,https://images.gr-assets.com/books/1381512375s/18490.jpg',\n",
              " '72,11588,11588,849585,289,450040186,9.78045004018e+12,Stephen King,1977.0,The Shining,The Shining (The Shining #1),eng,4.17,791850,830881,14936,18487,28981,123862,277393,382158,https://images.gr-assets.com/books/1353277730m/11588.jpg,https://images.gr-assets.com/books/1353277730s/11588.jpg',\n",
              " '73,1656001,1656001,3328799,161,316068047,9.78031606805e+12,Stephenie Meyer,2008.0,The Host,\"The Host (The Host, #1)\",en-US,3.84,749780,777560,39778,44215,62501,154906,227180,288758,https://images.gr-assets.com/books/1318009171m/1656001.jpg,https://images.gr-assets.com/books/1318009171s/1656001.jpg',\n",
              " '74,99561,99561,919292,187,142402516,9.78014240251e+12,John Green,2005.0,Looking for Alaska,Looking for Alaska,eng,4.09,783470,831285,47128,16940,44232,147324,262932,359857,https://images.gr-assets.com/books/1394798630m/99561.jpg,https://images.gr-assets.com/books/1394798630s/99561.jpg',\n",
              " '75,227443,227443,3185154,193,014028009X,9.7801402801e+12,Helen Fielding,1996.0,,\"Bridget Jones\\'s Diary (Bridget Jones, #1)\",eng,3.75,736498,754498,8157,28973,59309,198555,254836,212825,https://images.gr-assets.com/books/1292060045m/227443.jpg,https://images.gr-assets.com/books/1292060045s/227443.jpg',\n",
              " '76,14935,14935,2809709,1969,141439661,9.78014143966e+12,\"Jane Austen, Tony Tanner, Ros Ballaster\",1811.0,Sense and Sensibility,Sense and Sensibility,eng,4.06,738894,779382,11526,18430,34699,141987,272512,311754,https://images.gr-assets.com/books/1397245675m/14935.jpg,https://images.gr-assets.com/books/1397245675s/14935.jpg',\n",
              " '77,38709,38709,1679789,138,439244196,9.78043924419e+12,\"Louis Sachar, Louis Sachar\",1998.0,Holes,\"Holes (Holes, #1)\",eng,3.93,747445,764637,15832,15495,43786,176946,269153,259257,https://images.gr-assets.com/books/1327781893m/38709.jpg,https://images.gr-assets.com/books/1327781893s/38709.jpg',\n",
              " '78,5139,5139,38765,129,307275558,9.78030727555e+12,Lauren Weisberger,2003.0,The Devil Wears Prada,\"The Devil Wears Prada (The Devil Wears Prada, #1)\",eng,3.7,665930,679845,8024,24231,58323,192366,226675,178250,https://s.gr-assets.com/assets/nophoto/book/111x148-bcc042a9c91a29c1d680899eff700a03.png,https://s.gr-assets.com/assets/nophoto/book/50x75-a91bf249278a81aabab721ef782c4a74.png',\n",
              " '79,1381,1381,3356006,1703,143039954,9.78014303995e+12,\"Homer, Robert Fagles, E.V. Rieu, Frédéric Mugler, Bernard Knox\",-720.0,Ὀδύσσεια,The Odyssey,eng,3.73,670326,710757,8101,29703,65629,183082,224120,208223,https://images.gr-assets.com/books/1390173285m/1381.jpg,https://images.gr-assets.com/books/1390173285s/1381.jpg',\n",
              " '80,157993,157993,2180358,1708,156012197,9.7801560122e+12,\"Antoine de Saint-Exupéry, Richard Howard, Dom Marcos Barbosa, Melina Karakosta\",1946.0,Le Petit Prince,The Little Prince,eng,4.28,738757,859286,24537,15039,32866,114714,228440,468227,https://images.gr-assets.com/books/1367545443m/157993.jpg,https://images.gr-assets.com/books/1367545443s/157993.jpg',\n",
              " '81,7445,7445,2944133,92,074324754X,9.78074324754e+12,Jeannette Walls,2005.0,The Glass Castle,The Glass Castle,eng,4.24,621099,637866,40777,7901,18922,85191,227750,298102,https://images.gr-assets.com/books/1400930557m/7445.jpg,https://images.gr-assets.com/books/1400930557s/7445.jpg',\n",
              " '82,1845,1845,3284484,108,385486804,9.7803854868e+12,Jon Krakauer,1996.0,Into the Wild,Into the Wild,eng,3.94,647684,665377,17299,19229,35567,135199,248287,227095,https://images.gr-assets.com/books/1403173986m/1845.jpg,https://images.gr-assets.com/books/1403173986s/1845.jpg',\n",
              " '83,1953,1953,2956372,525,141439602,9.7801414396e+12,\"Charles Dickens, Richard Maxwell, Hablot Knight Browne\",1859.0,A Tale of Two Cities,A Tale of Two Cities,eng,3.81,637412,677713,13093,28904,55555,153305,216378,223571,https://images.gr-assets.com/books/1344922523m/1953.jpg,https://images.gr-assets.com/books/1344922523s/1953.jpg',\n",
              " '84,7677,6424171,3376836,176,030734813X,9.78030734814e+12,Michael Crichton,1990.0,Jurassic Park,\"Jurassic Park (Jurassic Park, #1)\",spa,3.96,447833,650483,8143,15736,34222,138327,231583,230615,https://s.gr-assets.com/assets/nophoto/book/111x148-bcc042a9c91a29c1d680899eff700a03.png,https://s.gr-assets.com/assets/nophoto/book/50x75-a91bf249278a81aabab721ef782c4a74.png',\n",
              " '85,370493,370493,30530,81,60256656,9.78006025665e+12,Shel Silverstein,1964.0,The Giving Tree,The Giving Tree,eng,4.38,702332,708287,14368,15345,20408,76071,167542,428921,https://images.gr-assets.com/books/1174210942m/370493.jpg,https://images.gr-assets.com/books/1174210942s/370493.jpg',\n",
              " '86,32542,32542,1804929,158,385338600,9.78038533861e+12,John Grisham,1989.0,A Time to Kill,A Time to Kill,eng,4.03,597775,608824,4239,12106,25938,122675,218617,229488,https://s.gr-assets.com/assets/nophoto/book/111x148-bcc042a9c91a29c1d680899eff700a03.png,https://s.gr-assets.com/assets/nophoto/book/50x75-a91bf249278a81aabab721ef782c4a74.png',\n",
              " '87,1617,1617,265616,109,374500010,9.78037450002e+12,\"Elie Wiesel, Marion Wiesel\",1958.0,Un di Velt Hot Geshvign,Night (The Night Trilogy #1),eng,4.3,691231,707879,22001,7761,18539,90575,230227,360777,https://images.gr-assets.com/books/1473495285m/1617.jpg,https://images.gr-assets.com/books/1473495285s/1617.jpg',\n",
              " '88,6442769,6442769,3364505,178,014241493X,9.78014241493e+12,John Green,2008.0,Paper Towns,Paper Towns,en-US,3.88,461311,655271,42717,14105,47183,154479,223895,215609,https://images.gr-assets.com/books/1349013610m/6442769.jpg,https://images.gr-assets.com/books/1349013610s/6442769.jpg',\n",
              " '89,21787,21787,992628,129,345418263,9.78034541826e+12,William Goldman,1973.0,The Princess Bride,The Princess Bride ,en-US,4.25,628637,658042,15630,12883,21641,89236,196047,338235,https://images.gr-assets.com/books/1327903636m/21787.jpg,https://images.gr-assets.com/books/1327903636s/21787.jpg',\n",
              " '90,231804,231804,1426690,156,014038572X,9.78014038572e+12,S.E. Hinton,1967.0,The Outsiders,The Outsiders,en-US,4.06,659248,680437,22662,10178,34346,134244,227250,274419,https://images.gr-assets.com/books/1442129426m/231804.jpg,https://images.gr-assets.com/books/1442129426s/231804.jpg',\n",
              " '91,6186357,6186357,6366642,147,385737947,9.78038573794e+12,James Dashner,2009.0,The Maze Runner,\"The Maze Runner (Maze Runner, #1)\",eng,4.02,719925,777956,48942,15291,43370,150488,266698,302109,https://images.gr-assets.com/books/1375596592m/6186357.jpg,https://images.gr-assets.com/books/1375596592s/6186357.jpg',\n",
              " '92,1202,1202,5397,124,61234001,9.780061234e+12,\"Steven D. Levitt, Stephen J. Dubner\",2005.0,Freakonomics: A Rogue Economist Explores the Hidden Side of Everything,\"Freakonomics: A Rogue Economist Explores the Hidden Side of Everything (Freakonomics, #1)\",en-US,3.93,524191,549301,13668,14586,26538,115789,216316,176072,https://images.gr-assets.com/books/1327909092m/1202.jpg,https://images.gr-assets.com/books/1327909092s/1202.jpg',\n",
              " '93,2998,2998,3186437,1350,517189607,9.7805171896e+12,Frances Hodgson Burnett,1911.0,The Secret Garden,The Secret Garden,eng,4.12,639357,692249,13054,8005,25207,129646,243821,285570,https://images.gr-assets.com/books/1327873635m/2998.jpg,https://images.gr-assets.com/books/1327873635s/2998.jpg',\n",
              " '94,320,320,3295655,555,60531045,9.78006053104e+12,\"Gabriel García Márquez, Gregory Rabassa\",1967.0,Cien años de soledad,One Hundred Years of Solitude,eng,4.04,490565,575667,21671,27340,37646,87675,155809,267197,https://images.gr-assets.com/books/1327881361m/320.jpg,https://images.gr-assets.com/books/1327881361s/320.jpg',\n",
              " '95,5297,5297,1858012,2303,375751513,9.78037575152e+12,\"Oscar Wilde, Jeffrey Eugenides\",1891.0,The Picture of Dorian Gray,The Picture of Dorian Gray,eng,4.06,590014,674551,19647,9825,30735,129420,246892,257679,https://images.gr-assets.com/books/1424596966m/5297.jpg,https://images.gr-assets.com/books/1424596966s/5297.jpg',\n",
              " '96,13536860,13536860,18034963,133,345803507,9.7803458035e+12,E.L. James,2012.0,Fifty Shades Freed,\"Fifty Shades Freed (Fifty Shades, #3)\",eng,3.88,387290,610116,25287,39079,55691,109963,140304,265079,https://images.gr-assets.com/books/1336418837m/13536860.jpg,https://images.gr-assets.com/books/1336418837s/13536860.jpg',\n",
              " '97,17245,17245,3165724,2207,393970124,9.78039397013e+12,\"Bram Stoker, Nina Auerbach, David J. Skal\",1897.0,Dracula,Dracula,eng,3.98,618973,689739,17263,11756,36719,151396,246043,243825,https://images.gr-assets.com/books/1387151694m/17245.jpg,https://images.gr-assets.com/books/1387151694s/17245.jpg',\n",
              " '98,5060378,5060378,6976108,209,307269981,9.78030726998e+12,\"Stieg Larsson, Reg Keeland\",2006.0,Flickan som lekte med elden,\"The Girl Who Played with Fire (Millennium, #2)\",eng,4.22,563994,649253,31423,4623,15781,91021,258236,279592,https://images.gr-assets.com/books/1351778881m/5060378.jpg,https://images.gr-assets.com/books/1351778881s/5060378.jpg',\n",
              " '99,11857408,11857408,16813814,147,1612130585,9.78161213058e+12,E.L. James,2011.0,Fifty Shades Darker,\"Fifty Shades Darker (Fifty Shades, #2)\",eng,3.87,552059,623340,28052,37245,58935,114203,150906,262051,https://images.gr-assets.com/books/1358266080m/11857408.jpg,https://images.gr-assets.com/books/1358266080s/11857408.jpg',\n",
              " '100,7244,7244,810663,39,60786507,9.7800607865e+12,Barbara Kingsolver,1998.0,The Poisonwood Bible,The Poisonwood Bible,eng,4.02,546502,562787,19941,21699,33702,92590,175725,239071,https://images.gr-assets.com/books/1412242487m/7244.jpg,https://images.gr-assets.com/books/1412242487s/7244.jpg',\n",
              " '101,4137,4137,1030767,59,349113912,9.78034911391e+12,David Sedaris,2000.0,Me Talk Pretty One Day,Me Talk Pretty One Day,eng,3.97,495736,514276,14982,19718,29034,93427,178021,194076,https://s.gr-assets.com/assets/nophoto/book/111x148-bcc042a9c91a29c1d680899eff700a03.png,https://s.gr-assets.com/assets/nophoto/book/50x75-a91bf249278a81aabab721ef782c4a74.png',\n",
              " '102,19543,19543,3020535,110,99408392,9.78009940839e+12,Maurice Sendak,1963.0,Where the Wild Things Are,Where the Wild Things Are,eng,4.22,620618,636061,9102,15392,27532,93700,167043,332394,https://images.gr-assets.com/books/1384434560m/19543.jpg,https://images.gr-assets.com/books/1384434560s/19543.jpg',\n",
              " '103,7126,7126,391568,1310,140449264,9.78014044927e+12,\"Alexandre Dumas, Robin Buss\",1844.0,Le Comte de Monte-Cristo,The Count of Monte Cristo,eng,4.21,555822,601220,15925,10381,22482,89980,183142,295235,https://images.gr-assets.com/books/1309203605m/7126.jpg,https://images.gr-assets.com/books/1309203605s/7126.jpg',\n",
              " '104,6288,6288,3355573,181,307265439,9.78030726543e+12,Cormac McCarthy,2006.0,The Road,The Road,eng,3.95,504793,555787,38980,20086,36561,100989,190823,207328,https://images.gr-assets.com/books/1439197219m/6288.jpg,https://images.gr-assets.com/books/1439197219s/6288.jpg',\n",
              " '105,18710190,18710190,15524549,153,7524277,9.78000752427e+12,Veronica Roth,2013.0,Allegiant,\"Allegiant (Divergent, #3)\",eng,3.63,463257,663226,62536,31626,78366,176061,192785,184388,https://images.gr-assets.com/books/1395582745m/18710190.jpg,https://images.gr-assets.com/books/1395582745s/18710190.jpg',\n",
              " '106,9418327,9418327,14302659,48,,,Tina Fey,2011.0,Bossypants,Bossypants,eng,3.94,506250,609260,35142,14842,31761,129390,230080,203187,https://images.gr-assets.com/books/1481509554m/9418327.jpg,https://images.gr-assets.com/books/1481509554s/9418327.jpg',\n",
              " '107,3473,3473,3143497,131,446693804,9.78044669381e+12,Nicholas Sparks,1999.0,A Walk to Remember,A Walk to Remember,en-US,4.15,546948,559581,11071,10640,24094,94327,169650,260870,https://images.gr-assets.com/books/1385738968m/3473.jpg,https://images.gr-assets.com/books/1385738968s/3473.jpg',\n",
              " '108,9416,9416,3237433,144,440241413,9.78044024142e+12,Sophie Kinsella,2000.0,Confessions of a Shopaholic,\"Confessions of a Shopaholic (Shopaholic, #1)\",eng,3.61,543658,558004,11170,30705,56949,156636,166927,146787,https://images.gr-assets.com/books/1327872404m/9416.jpg,https://images.gr-assets.com/books/1327872404s/9416.jpg',\n",
              " '109,24280,24280,3208463,1319,451525264,9.78045152526e+12,\"Victor Hugo, Lee Fahnestock, Norman MacAfee\",1862.0,Les Misérables,Les Misérables,eng,4.14,513407,560132,12505,15225,25914,87461,167385,264147,https://images.gr-assets.com/books/1411852091m/24280.jpg,https://images.gr-assets.com/books/1411852091s/24280.jpg',\n",
              " '110,10572,10572,3272005,202,553381695,9.7805533817e+12,George R.R. Martin,1998.0,A Clash of Kings,\"A Clash of Kings  (A Song of Ice and Fire, #2)\",eng,4.4,523303,606765,20325,1788,7104,56167,221706,320000,https://images.gr-assets.com/books/1358254974m/10572.jpg,https://images.gr-assets.com/books/1358254974s/10572.jpg',\n",
              " \"111,10441,10441,2868431,98,143037145,9.78014303715e+12,Kim Edwards,2005.0,The Memory Keeper's Daughter,The Memory Keeper's Daughter,eng,3.64,501430,510582,18027,19453,47004,145437,183150,115538,https://s.gr-assets.com/assets/nophoto/book/111x148-bcc042a9c91a29c1d680899eff700a03.png,https://s.gr-assets.com/assets/nophoto/book/50x75-a91bf249278a81aabab721ef782c4a74.png\",\n",
              " '112,15507958,15507958,17763198,168,670026603,9.78067002661e+12,Jojo Moyes,2012.0,Me Before You,\"Me Before You (Me Before You, #1)\",eng,4.27,587647,741133,71412,10346,21880,91517,249474,367916,https://images.gr-assets.com/books/1357108762m/15507958.jpg,https://images.gr-assets.com/books/1357108762s/15507958.jpg',\n",
              " '113,168668,168668,814330,251,684833395,9.78068483339e+12,Joseph Heller,1961.0,Catch-22,Catch-22,en-US,3.98,563265,582515,13734,20639,37912,106269,186745,230950,https://images.gr-assets.com/books/1463157317m/168668.jpg,https://images.gr-assets.com/books/1463157317s/168668.jpg',\n",
              " '114,6900,6900,1995335,172,751529818,9.78075152981e+12,\"Mitch Albom, Saulius Dagys\",1997.0,Tuesdays with Morrie,Tuesdays with Morrie,eng,4.06,556518,584397,19272,11507,30534,107446,194448,240462,https://images.gr-assets.com/books/1423763749m/6900.jpg,https://images.gr-assets.com/books/1423763749s/6900.jpg',\n",
              " '115,2187,2187,1352495,125,312422156,9.78031242216e+12,Jeffrey Eugenides,2002.0,Middlesex,Middlesex,en-US,3.98,488243,507998,20880,19329,30503,89740,171099,197327,https://images.gr-assets.com/books/1437029776m/2187.jpg,https://images.gr-assets.com/books/1437029776s/2187.jpg',\n",
              " '116,24583,24583,41326609,2448,143039563,9.78014303956e+12,\"Mark Twain, Guy Cardwell, John Seelye\",1876.0,The Adventures of Tom Sawyer,The Adventures of Tom Sawyer,eng,3.89,555359,594226,7165,12130,34349,143659,217896,186192,https://images.gr-assets.com/books/1404811979m/24583.jpg,https://images.gr-assets.com/books/1404811979s/24583.jpg',\n",
              " '117,18131,18131,948387,165,440498058,9.78044049806e+12,Madeleine L\\'Engle,1962.0,A Wrinkle in Time,\"A Wrinkle in Time (A Wrinkle in Time Quintet, #1)\",en-US,4.04,615907,650094,19413,17313,34988,119115,209745,268933,https://images.gr-assets.com/books/1329061522m/18131.jpg,https://images.gr-assets.com/books/1329061522s/18131.jpg',\n",
              " '118,7763,7763,1955658,126,143038095,9.78014303809e+12,Amy Tan,1989.0,The Joy Luck Club,The Joy Luck Club,eng,3.9,515090,525243,6708,14802,30197,116748,195930,167566,https://images.gr-assets.com/books/1304978653m/7763.jpg,https://images.gr-assets.com/books/1304978653s/7763.jpg',\n",
              " \"119,38447,38447,1119185,236,038549081X,9.78038549082e+12,Margaret Atwood,1985.0,The Handmaid's Tale,The Handmaid's Tale,eng,4.06,607889,683564,35925,13998,32561,116975,252942,267088,https://images.gr-assets.com/books/1498057733m/38447.jpg,https://images.gr-assets.com/books/1498057733s/38447.jpg\",\n",
              " '120,452306,452306,1058370,93,385729332,9.78038572934e+12,Ann Brashares,2001.0,The Sisterhood of the Traveling Pants,\"The Sisterhood of the Traveling Pants (Sisterhood, #1)\",eng,3.75,525706,536604,6477,14996,42396,152024,177404,149784,https://images.gr-assets.com/books/1461611233m/452306.jpg,https://images.gr-assets.com/books/1461611233s/452306.jpg',\n",
              " '121,7604,7604,1268631,370,,,\"Vladimir Nabokov, Craig Raine\",1955.0,Lolita,Lolita,eng,3.88,469836,517990,18107,21091,37205,108664,165477,185553,https://images.gr-assets.com/books/1377756377m/7604.jpg,https://images.gr-assets.com/books/1377756377s/7604.jpg',\n",
              " '122,37442,37442,1479280,80,60987103,9.78006098711e+12,\"Gregory Maguire, Douglas Smith\",1995.0,Wicked: The Life and Times of the Wicked Witch of the West,\"Wicked: The Life and Times of the Wicked Witch of the West (The Wicked Years, #1)\",eng,3.52,506900,525498,22926,40802,65835,132061,153583,133217,https://images.gr-assets.com/books/1437733293m/37442.jpg,https://images.gr-assets.com/books/1437733293s/37442.jpg',\n",
              " '123,5358,5358,38270,11,582418275,9.78058241827e+12,John Grisham,1991.0,The Firm,\"The Firm (Penguin Readers, Level 5)\",eng,3.99,488269,488355,3139,5075,20119,111543,190966,160652,https://images.gr-assets.com/books/1418465200m/5358.jpg,https://images.gr-assets.com/books/1418465200s/5358.jpg',\n",
              " '124,7937843,7937843,9585076,151,316098337,9.78031609834e+12,Emma Donoghue,2010.0,Room,Room,eng,4.03,511360,556327,42254,11020,26079,99831,217995,201402,https://images.gr-assets.com/books/1344265419m/7937843.jpg,https://images.gr-assets.com/books/1344265419s/7937843.jpg',\n",
              " '125,1420,1420,1885548,1929,521618746,9.78052161875e+12,\"William Shakespeare, Richard Andrews, Rex Gibson\",1600.0,\"The Tragicall Historie of Hamlet, Prince of Denmark\",Hamlet,eng,4.0,515820,576894,8889,10413,32697,121040,192937,219807,https://images.gr-assets.com/books/1351051208m/1420.jpg,https://images.gr-assets.com/books/1351051208s/1420.jpg',\n",
              " '126,234225,234225,3634639,241,340839937,9.78034083994e+12,Frank Herbert,1965.0,Dune,Dune (Dune Chronicles #1),eng,4.19,485032,525976,13239,13354,22778,74206,154771,260867,https://images.gr-assets.com/books/1434908555m/234225.jpg,https://images.gr-assets.com/books/1434908555s/234225.jpg',\n",
              " '127,2612,2612,2124255,100,316346624,9.78031634663e+12,Malcolm Gladwell,2000.0,The Tipping Point: How Little Things Can Make a Big Difference,The Tipping Point: How Little Things Can Make a Big Difference,eng,3.92,490504,499066,10895,15111,25871,106453,189120,162511,https://images.gr-assets.com/books/1473396980m/2612.jpg,https://images.gr-assets.com/books/1473396980s/2612.jpg',\n",
              " '128,11084145,11084145,16005831,190,1451648537,9.78145164854e+12,Walter Isaacson,2011.0,Steve Jobs,Steve Jobs,eng,4.09,560715,579256,15198,19680,21986,88456,203975,245159,https://images.gr-assets.com/books/1327861368m/11084145.jpg,https://images.gr-assets.com/books/1327861368s/11084145.jpg',\n",
              " \"129,332613,332613,2100252,275,451163966,9.78045116397e+12,Ken Kesey,1962.0,One Flew Over the Cuckoo's Nest,One Flew Over the Cuckoo's Nest,eng,4.18,491642,514458,7855,5672,15978,78714,191622,222472,https://images.gr-assets.com/books/1485308778m/332613.jpg,https://images.gr-assets.com/books/1485308778s/332613.jpg\",\n",
              " '130,2165,2165,69741,666,684830493,9.78068483049e+12,Ernest Hemingway,1952.0,The Old Man and the Sea,The Old Man and the Sea,eng,3.73,520630,574328,16716,28645,52583,136217,186747,170136,https://images.gr-assets.com/books/1329189714m/2165.jpg,https://images.gr-assets.com/books/1329189714s/2165.jpg',\n",
              " '131,4395,18114322,2931549,381,142000663,9.78014200066e+12,John Steinbeck,1939.0,The Grapes of Wrath,The Grapes of Wrath,eng,3.92,322321,553352,12991,23552,40261,103475,173589,212475,https://images.gr-assets.com/books/1352912927m/4395.jpg,https://images.gr-assets.com/books/1352912927s/4395.jpg',\n",
              " '132,3431,3431,2561472,123,1401308589,9.78140130858e+12,Mitch Albom,2003.0,The Five People You Meet in Heaven,The Five People You Meet in Heaven,,3.9,449501,474699,16682,12360,33669,107800,155830,165040,https://s.gr-assets.com/assets/nophoto/book/111x148-bcc042a9c91a29c1d680899eff700a03.png,https://s.gr-assets.com/assets/nophoto/book/50x75-a91bf249278a81aabab721ef782c4a74.png',\n",
              " '133,8127,8127,3464264,1314,451528824,9.78045152883e+12,L.M. Montgomery,1908.0,Anne of Green Gables,\"Anne of Green Gables (Anne of Green Gables, #1)\",eng,4.23,502247,533352,14041,8864,19531,80256,158725,265976,https://s.gr-assets.com/assets/nophoto/book/111x148-bcc042a9c91a29c1d680899eff700a03.png,https://s.gr-assets.com/assets/nophoto/book/50x75-a91bf249278a81aabab721ef782c4a74.png',\n",
              " '134,3777732,3777732,3443248,122,1416914307,9.7814169143e+12,Cassandra Clare,2009.0,City of Glass,\"City of Glass (The Mortal Instruments, #3)\",en-US,4.34,593173,630560,22736,6646,17351,79202,179290,348071,https://images.gr-assets.com/books/1369452339m/3777732.jpg,https://images.gr-assets.com/books/1369452339s/3777732.jpg',\n",
              " '135,62291,62291,1164465,175,055357342X,9.78055357343e+12,George R.R. Martin,2000.0,A Storm of Swords,\"A Storm of Swords (A Song of Ice and Fire, #3)\",eng,4.54,469022,527644,19497,1456,4820,36418,149268,335682,https://images.gr-assets.com/books/1497931121m/62291.jpg,https://images.gr-assets.com/books/1497931121s/62291.jpg',\n",
              " '136,137791,137791,1010054,75,006075995X,9.78006075996e+12,Rebecca Wells,1996.0,Divine Secrets of the Ya-Ya Sisterhood,Divine Secrets of the Ya-Ya Sisterhood,en-US,3.79,465676,470508,3867,15795,35314,120396,158451,140552,https://images.gr-assets.com/books/1408313524m/137791.jpg,https://images.gr-assets.com/books/1408313524s/137791.jpg',\n",
              " '137,10964,10964,2489796,189,440242940,9.78044024295e+12,Diana Gabaldon,1991.0,Outlander,\"Outlander (Outlander, #1)\",eng,4.2,515547,578842,36707,20998,27673,73126,147085,309960,https://images.gr-assets.com/books/1402600310m/10964.jpg,https://images.gr-assets.com/books/1402600310s/10964.jpg',\n",
              " '138,12296,12296,4925227,1579,142437263,9.78014243726e+12,\"Nathaniel Hawthorne, Thomas E. Connolly, Nina Baym\",1850.0,The Scarlet Letter,The Scarlet Letter,eng,3.37,509883,559246,11428,34813,80444,182701,165079,96209,https://images.gr-assets.com/books/1404810944m/12296.jpg,https://images.gr-assets.com/books/1404810944s/12296.jpg',\n",
              " '139,9460487,9460487,14345371,155,1594744769,9.78159474476e+12,Ransom Riggs,2011.0,Miss Peregrine’s Home for Peculiar Children,\"Miss Peregrine’s Home for Peculiar Children (Miss Peregrine’s Peculiar Children, #1)\",en-US,3.89,613674,672222,53569,14920,45434,159227,234792,217849,https://images.gr-assets.com/books/1472782916m/9460487.jpg,https://images.gr-assets.com/books/1472782916s/9460487.jpg',\n",
              " '140,6892870,6892870,12883496,193,030726999X,9.78030727e+12,\"Stieg Larsson, Reg Keeland\",2007.0,Luftslottet som sprängdes,\"The Girl Who Kicked the Hornet\\'s Nest (Millennium, #3)\",en-US,4.2,443951,526791,26766,3823,14773,78387,203297,226511,https://images.gr-assets.com/books/1327708260m/6892870.jpg,https://images.gr-assets.com/books/1327708260s/6892870.jpg',\n",
              " '141,18007564,18007564,21825181,148,804139024,9.78080413902e+12,Andy Weir,2012.0,The Martian,The Martian,eng,4.39,423344,529702,61298,4114,10856,49200,173861,291671,https://images.gr-assets.com/books/1413706054m/18007564.jpg,https://images.gr-assets.com/books/1413706054s/18007564.jpg',\n",
              " '142,5043,5043,3359698,255,451207149,9.78045120714e+12,Ken Follett,1989.0,The Pillars of the Earth,\"The Pillars of the Earth (The Kingsbridge Series, #1)\",eng,4.29,462517,495893,26283,9248,16886,57825,148052,263882,https://s.gr-assets.com/assets/nophoto/book/111x148-bcc042a9c91a29c1d680899eff700a03.png,https://s.gr-assets.com/assets/nophoto/book/50x75-a91bf249278a81aabab721ef782c4a74.png',\n",
              " '143,18143977,18143977,25491300,139,1476746583,9.78147674659e+12,Anthony Doerr,2014.0,,All the Light We Cannot See,eng,4.31,470001,547827,53413,6209,14527,61020,185239,280832,https://images.gr-assets.com/books/1451445646m/18143977.jpg,https://images.gr-assets.com/books/1451445646s/18143977.jpg',\n",
              " '144,8664353,8664353,12946965,16,1400064163,9.78140006417e+12,Laura Hillenbrand,2010.0,\"Unbroken: A World War II Story of Survival, Resilience, and Redemption\",\"Unbroken: A World War II Story of Survival, Resilience, and Redemption\",eng,4.4,487775,528552,41572,10308,12874,47828,144203,313339,https://images.gr-assets.com/books/1327861115m/8664353.jpg,https://images.gr-assets.com/books/1327861115s/8664353.jpg',\n",
              " '145,976,976,3135896,180,671027387,9.78067102738e+12,Dan Brown,2001.0,Deception Point,Deception Point,eng,3.67,455610,479733,7798,14380,45006,143182,160819,116346,https://s.gr-assets.com/assets/nophoto/book/111x148-bcc042a9c91a29c1d680899eff700a03.png,https://s.gr-assets.com/assets/nophoto/book/50x75-a91bf249278a81aabab721ef782c4a74.png',\n",
              " '146,17333223,17333223,24065147,108,316055433,9.78031605544e+12,Donna Tartt,2013.0,The Goldfinch,The Goldfinch,eng,3.87,396756,463847,44631,19164,35300,93459,153459,162465,https://images.gr-assets.com/books/1451554970m/17333223.jpg,https://images.gr-assets.com/books/1451554970s/17333223.jpg',\n",
              " '147,1217100,29844228,2588213,150,1595141715,9.78159514171e+12,Jay Asher,2007.0,Thirteen Reasons Why,Thirteen Reasons Why,eng,4.02,463783,571281,43467,15246,35668,105414,179197,235756,https://images.gr-assets.com/books/1333822506m/1217100.jpg,https://images.gr-assets.com/books/1333822506s/1217100.jpg',\n",
              " '148,2865,2865,3358875,169,452287022,9.78045228702e+12,Tracy Chevalier,1999.0,Girl with a Pearl Earring,Girl with a Pearl Earring,eng,3.85,467577,492177,8011,11525,28287,123463,189656,139246,https://images.gr-assets.com/books/1327197580m/2865.jpg,https://images.gr-assets.com/books/1327197580s/2865.jpg',\n",
              " '149,4374400,4374400,4422413,130,525421033,9.78052542103e+12,Gayle Forman,2009.0,If I Stay,\"If I Stay (If I Stay, #1)\",en-US,3.96,503527,567087,34959,12666,34896,122977,190793,205755,https://images.gr-assets.com/books/1347462970m/4374400.jpg,https://images.gr-assets.com/books/1347462970s/4374400.jpg',\n",
              " '150,4989,4989,1041558,80,312353766,9.78031235377e+12,Anita Diamant,1997.0,The Red Tent,The Red Tent,en-US,4.16,424981,449217,17234,9470,19616,67878,146178,206075,https://s.gr-assets.com/assets/nophoto/book/111x148-bcc042a9c91a29c1d680899eff700a03.png,https://s.gr-assets.com/assets/nophoto/book/50x75-a91bf249278a81aabab721ef782c4a74.png',\n",
              " '151,28186,28186,43554,121,786856866,9.78078685686e+12,Rick Riordan,2006.0,The Sea of Monsters,\"The Sea of Monsters (Percy Jackson and the Olympians, #2)\",eng,4.23,514932,550512,20097,2967,13884,91127,188988,253546,https://images.gr-assets.com/books/1400602661m/28186.jpg,https://images.gr-assets.com/books/1400602661s/28186.jpg',\n",
              " '152,5526,5526,3222389,111,446528056,9.78044652805e+12,Nicholas Sparks,2006.0,Dear John,Dear John,en-US,4.01,441062,454781,10626,9683,25220,94711,145202,179965,https://images.gr-assets.com/books/1397749854m/5526.jpg,https://images.gr-assets.com/books/1397749854s/5526.jpg',\n",
              " '153,1582996,1582996,1575860,125,1416914293,9.7814169143e+12,Cassandra Clare,2008.0,City of Ashes,\"City of Ashes (The Mortal Instruments, #2)\",eng,4.21,541117,586008,23643,6135,20075,92626,192934,274238,https://images.gr-assets.com/books/1432730356m/1582996.jpg,https://images.gr-assets.com/books/1432730356s/1582996.jpg',\n",
              " '154,8852,8852,1896522,1732,743477103,9.78074347711e+12,William Shakespeare,1606.0,The Tragedy of Macbeth,Macbeth,eng,3.88,496018,524826,7609,10551,35408,127354,183871,167642,https://images.gr-assets.com/books/1459795224m/8852.jpg,https://images.gr-assets.com/books/1459795224s/8852.jpg',\n",
              " '155,15241,15241,2963845,453,618346260,9.78061834626e+12,J.R.R. Tolkien,1954.0,The Two Towers,\"The Two Towers (The Lord of the Rings, #2)\",en-US,4.42,480446,532209,6980,3013,10264,55433,156232,307267,https://images.gr-assets.com/books/1298415523m/15241.jpg,https://images.gr-assets.com/books/1298415523s/15241.jpg',\n",
              " '156,42156,42156,1789440,65,031232118X,9.78031232118e+12,Emily Giffin,2004.0,Something Borrowed,\"Something Borrowed (Darcy & Rachel, #1)\",eng,3.83,403601,435189,11567,16019,29297,104322,148507,137044,https://images.gr-assets.com/books/1305063535m/42156.jpg,https://images.gr-assets.com/books/1305063535s/42156.jpg',\n",
              " '157,23772,23772,86934,72,394800168,9.78039480016e+12,\"Dr. Seuss, לאה נאור\",1960.0,Green Eggs and Ham,Green Eggs and Ham,en-US,4.29,457475,461041,7370,6605,14530,66873,121751,251282,https://images.gr-assets.com/books/1468680100m/23772.jpg,https://images.gr-assets.com/books/1468680100s/23772.jpg',\n",
              " '158,6310,6310,2765786,338,142403881,9.78014240388e+12,\"Roald Dahl, Quentin Blake\",1964.0,Charlie and the Chocolate Factory,\"Charlie and the Chocolate Factory (Charlie Bucket, #1)\",eng,4.1,453959,494747,8473,6236,17193,94240,178216,198862,https://images.gr-assets.com/books/1309211401m/6310.jpg,https://images.gr-assets.com/books/1309211401s/6310.jpg',\n",
              " '159,2120932,2120932,2377629,92,1423101464,9.78142310147e+12,Rick Riordan,2008.0,The Battle of the Labyrinth,\"The Battle of the Labyrinth (Percy Jackson and the Olympians, #4)\",eng,4.39,508214,537708,14098,2435,8093,62108,172289,292783,https://images.gr-assets.com/books/1443142158m/2120932.jpg,https://images.gr-assets.com/books/1443142158s/2120932.jpg',\n",
              " '160,2623,2623,2612809,1725,192833596,9.78019283359e+12,Charles Dickens,1860.0,Great Expectations,Great Expectations,eng,3.75,459247,507187,12311,22811,44293,120385,170702,148996,https://images.gr-assets.com/books/1327920219m/2623.jpg,https://images.gr-assets.com/books/1327920219s/2623.jpg',\n",
              " '161,18512,18512,2964424,470,345339738,9.78034533974e+12,J.R.R. Tolkien,1955.0,The Return of the King,\"The Return of the King (The Lord of the Rings, #3)\",en-US,4.51,463959,510537,6644,2691,8008,42693,132149,324996,https://images.gr-assets.com/books/1389977161m/18512.jpg,https://images.gr-assets.com/books/1389977161s/18512.jpg',\n",
              " '162,49552,49552,3324344,675,,,\"Albert Camus, Matthew    Ward\",1942.0,L’Étranger,The Stranger,eng,3.96,420600,483623,14836,10563,28920,100140,174957,169043,https://images.gr-assets.com/books/1349927872m/49552.jpg,https://images.gr-assets.com/books/1349927872s/49552.jpg',\n",
              " '163,7736182,7736182,10107891,72,142311339X,9.78142311339e+12,Rick Riordan,2010.0,The Lost Hero,\"The Lost Hero (The Heroes of Olympus, #1)\",eng,4.35,271576,489495,17107,5020,11267,58590,148498,266120,https://images.gr-assets.com/books/1464201003m/7736182.jpg,https://images.gr-assets.com/books/1464201003s/7736182.jpg',\n",
              " '164,15745753,15745753,17225055,103,1250012570,9.78125001258e+12,Rainbow Rowell,2013.0,Eleanor & Park,Eleanor & Park,eng,4.11,514312,579753,53005,12904,26371,94470,196224,249784,https://images.gr-assets.com/books/1341952742m/15745753.jpg,https://images.gr-assets.com/books/1341952742s/15745753.jpg',\n",
              " '165,13497,13497,1019062,176,055358202X,9.78055358202e+12,George R.R. Martin,2005.0,A Feast for Crows,\"A Feast for Crows (A Song of Ice and Fire, #4)\",en-US,4.1,428186,481130,18876,3170,18574,94401,175973,189012,https://images.gr-assets.com/books/1429538615m/13497.jpg,https://images.gr-assets.com/books/1429538615s/13497.jpg',\n",
              " '166,7735333,7735333,9631645,84,525423648,9.78052542364e+12,Ally Condie,2010.0,Matched,\"Matched (Matched, #1)\",eng,3.68,511815,530680,30226,24343,53804,138030,165412,149091,https://images.gr-assets.com/books/1367706191m/7735333.jpg,https://images.gr-assets.com/books/1367706191s/7735333.jpg',\n",
              " '167,4407,30165203,1970226,196,747263744,9.78074726375e+12,Neil Gaiman,2001.0,American Gods,\"American Gods (American Gods, #1)\",eng,4.11,378019,518343,27587,9888,24944,83253,178346,221912,https://images.gr-assets.com/books/1258417001m/4407.jpg,https://images.gr-assets.com/books/1258417001s/4407.jpg',\n",
              " '168,149267,149267,1742269,195,385199570,9.78038519958e+12,\"Stephen King, Bernie Wrightson\",1978.0,The Stand,The Stand,en-US,4.34,438832,469953,13808,5647,13612,56722,134098,259874,https://images.gr-assets.com/books/1213131305m/149267.jpg,https://images.gr-assets.com/books/1213131305s/149267.jpg',\n",
              " '169,6400090,6400090,6588800,95,446547565,9.78044654757e+12,Nicholas Sparks,2008.0,The Last Song,The Last Song,en-GB,4.14,424637,438429,11051,7253,17803,77712,140241,195420,https://images.gr-assets.com/books/1286549186m/6400090.jpg,https://images.gr-assets.com/books/1286549186s/6400090.jpg',\n",
              " '170,11125,11125,40195,185,552151696,9.7805521517e+12,Dan Brown,1998.0,Digital Fortress,Digital Fortress,en-GB,3.6,423019,447503,7538,16592,47507,136196,144029,103179,https://images.gr-assets.com/books/1360095966m/11125.jpg,https://images.gr-assets.com/books/1360095966s/11125.jpg',\n",
              " '171,6969,6969,3360164,1710,141439580,9.78014143959e+12,\"Jane Austen, Fiona Stafford\",1815.0,Emma,Emma,eng,3.99,459826,497949,11724,11386,25777,102144,178238,180404,https://images.gr-assets.com/books/1373627931m/6969.jpg,https://images.gr-assets.com/books/1373627931s/6969.jpg',\n",
              " '172,15823480,15823480,2507928,1492,345803922,9.78034580392e+12,\"Leo Tolstoy, Louise Maude, Leo Tolstoj, Aylmer Maude\",1877.0,Анна Каренина,Anna Karenina,eng,4.02,297472,472796,18064,11738,26945,88365,158179,187569,https://images.gr-assets.com/books/1352422904m/15823480.jpg,https://images.gr-assets.com/books/1352422904s/15823480.jpg',\n",
              " '173,227463,227463,23596,283,393312836,9.78039331284e+12,Anthony Burgess,1962.0,A Clockwork Orange,A Clockwork Orange,eng,3.98,431195,454391,9958,14741,24244,84863,163488,167055,https://images.gr-assets.com/books/1348339306m/227463.jpg,https://images.gr-assets.com/books/1348339306s/227463.jpg',\n",
              " '174,1812457,1812457,2666268,134,964729237,9.78096472923e+12,William Paul Young,2007.0,The Shack: Where Tragedy Confronts Eternity,The Shack,eng,3.74,419539,438292,29377,35734,42977,84751,111923,162907,https://images.gr-assets.com/books/1344270232m/1812457.jpg,https://images.gr-assets.com/books/1344270232s/1812457.jpg',\n",
              " '175,4502507,4556058,4551489,87,739380338,9.78073938034e+12,Rick Riordan,2009.0,The Last Olympian,\"The Last Olympian (Percy Jackson and the Olympians, #5)\",eng,4.5,397500,499510,17693,2098,6501,45208,133168,312535,https://images.gr-assets.com/books/1327924597m/4502507.jpg,https://images.gr-assets.com/books/1327924597s/4502507.jpg',\n",
              " '176,18342,830502,150259,7,451169514,9.78045116952e+12,Stephen King,1986.0,It,It,en-US,4.18,292592,479381,11698,8464,19610,75841,148672,226794,https://images.gr-assets.com/books/1309376909m/18342.jpg,https://images.gr-assets.com/books/1309376909s/18342.jpg',\n",
              " '177,7144,7144,3393917,1714,143058142,9.78014305814e+12,\"Fyodor Dostoyevsky, David McDuff\",1866.0,Преступление и наказание,Crime and Punishment,eng,4.18,380903,444675,12605,9477,20078,64050,137104,213966,https://images.gr-assets.com/books/1382846449m/7144.jpg,https://images.gr-assets.com/books/1382846449s/7144.jpg',\n",
              " '178,6514,6514,1385044,246,61148512,9.78006114851e+12,Sylvia Plath,1963.0,The Bell Jar,The Bell Jar,en-US,3.98,401605,442157,15963,8266,23983,92408,162216,155284,https://images.gr-assets.com/books/1473890514m/6514.jpg,https://images.gr-assets.com/books/1473890514s/6514.jpg',\n",
              " '179,252577,252577,2883783,184,7205236,9.78000720523e+12,Frank McCourt,1996.0,Angela\\'s Ashes: A Memoir,\"Angela\\'s Ashes (Frank McCourt, #1)\",eng,4.07,392103,419746,9798,7657,18327,73550,155775,164437,https://s.gr-assets.com/assets/nophoto/book/111x148-bcc042a9c91a29c1d680899eff700a03.png,https://s.gr-assets.com/assets/nophoto/book/50x75-a91bf249278a81aabab721ef782c4a74.png',\n",
              " '180,52036,52036,4840290,972,553208845,9.78055320885e+12,\"Hermann Hesse, Hilda Rosner\",1922.0,Siddhartha,Siddhartha,eng,3.99,372099,418653,11518,10229,25529,83698,138837,160360,https://images.gr-assets.com/books/1428715580m/52036.jpg,https://images.gr-assets.com/books/1428715580s/52036.jpg',\n",
              " '181,168642,168642,1940709,223,679745580,9.78067974559e+12,Truman Capote,1965.0,In Cold Blood,In Cold Blood,eng,4.05,381652,401839,11754,10639,17836,70857,144616,157891,https://images.gr-assets.com/books/1424931136m/168642.jpg,https://images.gr-assets.com/books/1424931136s/168642.jpg',\n",
              " '182,6304335,6304335,6488966,119,316042676,9.78031604267e+12,\"Kami Garcia, Margaret Stohl\",2009.0,Beautiful Creatures,\"Beautiful Creatures (Caster Chronicles, #1)\",eng,3.76,436093,458518,20808,19917,43525,113352,132492,149232,https://images.gr-assets.com/books/1327873282m/6304335.jpg,https://images.gr-assets.com/books/1327873282s/6304335.jpg',\n",
              " '183,7171637,7171637,6674837,103,1416975861,9.78141697586e+12,Cassandra Clare,2010.0,Clockwork Angel,\"Clockwork Angel (The Infernal Devices, #1)\",eng,4.33,490890,515759,24385,8364,15544,61409,140928,289514,https://images.gr-assets.com/books/1454962884m/7171637.jpg,https://images.gr-assets.com/books/1454962884s/7171637.jpg',\n",
              " '184,39988,39988,1015554,242,141301066,9.78014130107e+12,\"Roald Dahl, Quentin Blake\",1988.0,Matilda,Matilda,eng,4.29,440743,463491,11053,4277,10823,64536,152003,231852,https://s.gr-assets.com/assets/nophoto/book/111x148-bcc042a9c91a29c1d680899eff700a03.png,https://s.gr-assets.com/assets/nophoto/book/50x75-a91bf249278a81aabab721ef782c4a74.png',\n",
              " '185,9361589,9361589,14245059,119,385534639,9.78038553464e+12,Erin Morgenstern,2011.0,The Night Circus,The Night Circus,eng,4.03,429543,474826,54008,11349,28650,84254,159596,190977,https://images.gr-assets.com/books/1387124618m/9361589.jpg,https://images.gr-assets.com/books/1387124618s/9361589.jpg',\n",
              " '186,37470,37470,3248536,111,743227441,9.78074322744e+12,Philippa Gregory,2001.0,The Other Boleyn Girl,\"The Other Boleyn Girl (The Plantagenet and Tudor Novels, #9)\",eng,4.04,381080,399223,15846,5311,16716,78620,153807,144769,https://images.gr-assets.com/books/1355932638m/37470.jpg,https://images.gr-assets.com/books/1355932638s/37470.jpg',\n",
              " '187,24770,24770,2895388,98,689865384,9.78068986538e+12,Scott Westerfeld,2005.0,Uglies,\"Uglies (Uglies, #1)\",eng,3.86,449073,464589,21234,15531,34808,106086,151540,156624,https://images.gr-assets.com/books/1443904172m/24770.jpg,https://images.gr-assets.com/books/1443904172s/24770.jpg',\n",
              " '188,10664113,10664113,2936175,115,,,George R.R. Martin,2011.0,A Dance with Dragons,\"A Dance with Dragons (A Song of Ice and Fire, #5)\",eng,4.31,365954,424618,20072,2399,10150,53744,147136,211189,https://images.gr-assets.com/books/1327885335m/10664113.jpg,https://images.gr-assets.com/books/1327885335s/10664113.jpg',\n",
              " '189,33,33,3462456,380,618640150,9.78061864016e+12,J.R.R. Tolkien,1955.0,The Lord of the Rings,\"The Lord of the Rings (The Lord of the Rings, #1-3)\",eng,4.47,389054,436346,9365,4807,9577,37552,106818,277592,https://images.gr-assets.com/books/1411114164m/33.jpg,https://images.gr-assets.com/books/1411114164s/33.jpg',\n",
              " '190,12262741,12262741,17237712,101,307592731,9.78030759274e+12,Cheryl Strayed,2012.0,Wild: From Lost to Found on the Pacific Crest Trail ,Wild: From Lost to Found on the Pacific Crest Trail,eng,3.96,379872,420903,34444,8344,22137,85489,165482,139451,https://images.gr-assets.com/books/1453189881m/12262741.jpg,https://images.gr-assets.com/books/1453189881s/12262741.jpg',\n",
              " '191,472331,472331,4358649,90,930289234,9.78093028923e+12,\"Alan Moore, Dave Gibbons, John Higgins\",1987.0,Watchmen,Watchmen,en-US,4.35,398018,409323,10851,6349,11732,44847,116877,229518,https://images.gr-assets.com/books/1442239711m/472331.jpg,https://images.gr-assets.com/books/1442239711s/472331.jpg',\n",
              " '192,186074,186074,2502879,123,075640407X,9.78075640408e+12,Patrick Rothfuss,2007.0,The Name of the Wind,\"The Name of the Wind (The Kingkiller Chronicle, #1)\",eng,4.55,400101,449372,28631,5605,8582,28480,95470,311235,https://images.gr-assets.com/books/1472068073m/186074.jpg,https://images.gr-assets.com/books/1472068073s/186074.jpg',\n",
              " '193,3228917,3228917,3364437,120,316017922,9.78031601792e+12,Malcolm Gladwell,2008.0,Outliers: The Story of Success,Outliers: The Story of Success,en-US,4.11,353011,369126,19383,4494,12545,62510,148978,140599,https://images.gr-assets.com/books/1344266315m/3228917.jpg,https://images.gr-assets.com/books/1344266315s/3228917.jpg',\n",
              " '194,153747,153747,2409320,1823,142437247,9.78014243725e+12,\"Herman Melville, Andrew Delbanco, Tom Quirk\",1851.0,\"Moby Dick; or, The Whale\",\"Moby-Dick or, The Whale\",eng,3.46,358050,397963,11223,35983,52601,103625,102432,103322,https://images.gr-assets.com/books/1327940656m/153747.jpg,https://images.gr-assets.com/books/1327940656s/153747.jpg',\n",
              " '195,2728527,2728527,2754161,116,385340990,9.78038534099e+12,\"Mary Ann Shaffer, Annie Barrows\",2008.0,The Guernsey Literary and Potato Peel Pie Society,The Guernsey Literary and Potato Peel Pie Society,eng,4.12,393626,423672,39853,7190,17250,68942,155107,175183,https://images.gr-assets.com/books/1351979318m/2728527.jpg,https://images.gr-assets.com/books/1351979318s/2728527.jpg',\n",
              " '196,5759,5759,68729,162,393327345,9.78039332734e+12,Chuck Palahniuk,1996.0,Fight Club,Fight Club,eng,4.2,365349,388654,11176,4578,12632,58110,139554,173780,https://images.gr-assets.com/books/1357128997m/5759.jpg,https://images.gr-assets.com/books/1357128997s/5759.jpg',\n",
              " '197,301082,301082,479517,109,441008534,9.78044100854e+12,Charlaine Harris,2001.0,Dead Until Dark,\"Dead Until Dark (Sookie Stackhouse, #1)\",en-US,3.96,420764,444824,16818,11330,25781,96290,148326,163097,https://images.gr-assets.com/books/1468560853m/301082.jpg,https://images.gr-assets.com/books/1468560853s/301082.jpg',\n",
              " '198,11486,11486,3300573,155,671727796,9.7806717278e+12,Alice Walker,1982.0,The Color Purple,The Color Purple,eng,4.17,376766,400965,9485,6298,14477,62380,140835,176975,https://s.gr-assets.com/assets/nophoto/book/111x148-bcc042a9c91a29c1d680899eff700a03.png,https://s.gr-assets.com/assets/nophoto/book/50x75-a91bf249278a81aabab721ef782c4a74.png',\n",
              " \"199,12691,12691,14961,119,739461192,9.7807394612e+12,John Grogan,2005.0,Marley & Me: Life and Love with the World's Worst Dog,Marley and Me: Life and Love With the World's Worst Dog,eng,4.12,367304,379348,13407,5485,14940,68532,131536,158855,https://images.gr-assets.com/books/1308858322m/12691.jpg,https://images.gr-assets.com/books/1308858322s/12691.jpg\",\n",
              " '200,16299,16299,3038872,474,312330871,9.78031233087e+12,Agatha Christie,1939.0,Ten Little Niggers,And Then There Were None,eng,4.23,408983,456680,17264,6134,12476,66243,156306,215521,https://images.gr-assets.com/books/1391120695m/16299.jpg,https://images.gr-assets.com/books/1391120695s/16299.jpg',\n",
              " '201,6411961,6411961,6600281,208,385504225,9.78038550422e+12,Dan Brown,2009.0,The Lost Symbol,\"The Lost Symbol (Robert Langdon, #3)\",eng,3.66,369428,404982,24199,11293,40545,120122,136545,96477,https://images.gr-assets.com/books/1358274396m/6411961.jpg,https://images.gr-assets.com/books/1358274396s/6411961.jpg',\n",
              " '202,6339664,6339664,6525609,91,1416989412,9.78141698942e+12,Becca Fitzpatrick,2009.0,\"Hush, Hush\",\"Hush, Hush (Hush, Hush, #1)\",en-US,4.0,448166,461802,21871,19338,33543,82544,120204,206173,https://images.gr-assets.com/books/1358261334m/6339664.jpg,https://images.gr-assets.com/books/1358261334s/6339664.jpg',\n",
              " '203,11505797,11505797,16441531,85,,,Jamie McGuire,2011.0,Beautiful Disaster,\"Beautiful Disaster (Beautiful, #1)\",eng,4.15,418309,442696,25298,17185,23298,61993,115123,225097,https://images.gr-assets.com/books/1358259032m/11505797.jpg,https://images.gr-assets.com/books/1358259032s/11505797.jpg',\n",
              " '204,5326,5326,3097440,2380,1561797464,9.78156179746e+12,Charles Dickens,1843.0,A Christmas Carol,A Christmas Carol,,4.02,394540,441396,11568,6737,21415,93906,153823,165515,https://images.gr-assets.com/books/1406512317m/5326.jpg,https://images.gr-assets.com/books/1406512317s/5326.jpg',\n",
              " '205,43763,43763,873132,189,345476875,9.78034547688e+12,Anne Rice,1976.0,Interview with the Vampire,\"Interview with the Vampire (The Vampire Chronicles, #1)\",eng,3.97,372566,393941,7951,7519,22377,84804,137659,141582,https://images.gr-assets.com/books/1380631642m/43763.jpg,https://images.gr-assets.com/books/1380631642s/43763.jpg',\n",
              " '206,10507293,10507293,15413183,93,62059939,9.78006205993e+12,Kiera Cass,2012.0,The Selection,\"The Selection (The Selection, #1)\",en-US,4.15,505340,539091,35681,13841,25349,83692,158716,257493,https://images.gr-assets.com/books/1322103400m/10507293.jpg,https://images.gr-assets.com/books/1322103400s/10507293.jpg',\n",
              " '207,6853,6853,1486401,109,312362080,9.78031236209e+12,Janet Evanovich,1994.0,One for the Money,\"One for the Money (Stephanie Plum, #1)\",en-US,4.03,391007,403315,13050,9176,19657,80319,133454,160709,https://images.gr-assets.com/books/1316730230m/6853.jpg,https://images.gr-assets.com/books/1316730230s/6853.jpg',\n",
              " '208,6493208,6493208,6684634,66,1400052173,9.78140005217e+12,Rebecca Skloot,2010.0,The Immortal Life of Henrietta Lacks,The Immortal Life of Henrietta Lacks,eng,4.04,377249,404440,28624,10782,18237,70339,151226,153856,https://images.gr-assets.com/books/1327878144m/6493208.jpg,https://images.gr-assets.com/books/1327878144s/6493208.jpg',\n",
              " '209,23807,23807,22533,187,99446782,9.78009944678e+12,Thomas Harris,1988.0,The Silence of the Lambs,\"The Silence of the Lambs  (Hannibal Lecter, #2)\",eng,4.14,351107,366112,3866,10268,12845,55427,123652,163920,https://images.gr-assets.com/books/1390426249m/23807.jpg,https://images.gr-assets.com/books/1390426249s/23807.jpg',\n",
              " '210,345627,345627,335933,132,159514174X,9.78159514174e+12,Richelle Mead,2007.0,,\"Vampire Academy (Vampire Academy, #1)\",en-US,4.14,248283,455151,19720,12535,22043,73357,129382,217834,https://images.gr-assets.com/books/1361098973m/345627.jpg,https://images.gr-assets.com/books/1361098973s/345627.jpg',\n",
              " '211,40102,40102,1180927,116,316010669,9.78031601066e+12,Malcolm Gladwell,2005.0,Blink: The Power of Thinking Without Thinking,Blink: The Power of Thinking Without Thinking,en-US,3.89,348196,360338,12215,6804,20128,85934,139947,107525,https://s.gr-assets.com/assets/nophoto/book/111x148-bcc042a9c91a29c1d680899eff700a03.png,https://s.gr-assets.com/assets/nophoto/book/50x75-a91bf249278a81aabab721ef782c4a74.png',\n",
              " '212,6867,6867,2307233,155,038572179X,9.78038572179e+12,Ian McEwan,2001.0,Atonement,Atonement,eng,3.88,347006,365658,14815,11473,25462,77135,134788,116800,https://images.gr-assets.com/books/1320449708m/6867.jpg,https://images.gr-assets.com/books/1320449708s/6867.jpg',\n",
              " '213,485894,485894,2373750,1316,553213695,9.78055321369e+12,\"Franz Kafka, Stanley Corngold\",1915.0,Die Verwandlung,The Metamorphosis,eng,3.78,364933,414533,10252,15430,33226,98774,146297,120806,https://images.gr-assets.com/books/1359061917m/485894.jpg,https://images.gr-assets.com/books/1359061917s/485894.jpg',\n",
              " '214,561456,561456,2936530,94,141382899,9.78014138289e+12,Rick Riordan,2007.0,The Titan\\'s Curse,\"The Titan\\'s Curse (Percy Jackson and the Olympians, #3)\",eng,4.33,446668,486262,15418,1863,7934,65220,162371,248874,https://images.gr-assets.com/books/1361038385m/561456.jpg,https://images.gr-assets.com/books/1361038385s/561456.jpg',\n",
              " '215,9969571,9969571,14863741,112,030788743X,9.78030788744e+12,Ernest Cline,2011.0,,Ready Player One,eng,4.31,349423,421819,52120,5150,12928,48285,134107,221349,https://images.gr-assets.com/books/1500930947m/9969571.jpg,https://images.gr-assets.com/books/1500930947s/9969571.jpg',\n",
              " '216,3153910,3153910,3175590,90,1554681723,9.78155468172e+12,Garth Stein,2006.0,The Art of Racing in the Rain,The Art of Racing in the Rain,eng,4.19,327409,354319,32021,4808,13901,53780,118166,163664,https://images.gr-assets.com/books/1377206302m/3153910.jpg,https://images.gr-assets.com/books/1377206302s/3153910.jpg',\n",
              " '217,21996,21996,3486041,70,739303406,9.78073930340e+12,\"Erik Larson, Tony Goldwyn\",2003.0,\"The Devil in the White City: Murder, Magic, and Madness at the Fair that Changed America\",\"The Devil in the White City: Murder, Magic, and Madness at the Fair That Changed America\",eng,3.98,309385,350607,25846,6687,18709,69012,135360,120839,https://images.gr-assets.com/books/1312066724m/21996.jpg,https://images.gr-assets.com/books/1312066724s/21996.jpg',\n",
              " '218,13572249,20448515,18973111,96,425263908,9.78042526391e+12,Sylvia Day,2012.0,Bared to You,\"Bared to You (Crossfire, #1)\",eng,4.19,222678,386136,16748,9867,18983,55554,104657,197075,https://images.gr-assets.com/books/1477803272m/13572249.jpg,https://images.gr-assets.com/books/1477803272s/13572249.jpg',\n",
              " '219,11127,11127,781271,270,66238501,9.7800662385e+12,\"C.S. Lewis, Pauline Baynes\",1956.0,The Chronicles of Narnia,\"The Chronicles of Narnia (Chronicles of Narnia, #1-7)\",eng,4.24,376385,401676,8871,3772,12192,59975,133056,192681,https://images.gr-assets.com/books/1449868701m/11127.jpg,https://images.gr-assets.com/books/1449868701s/11127.jpg',\n",
              " '220,3609760,3609760,3652511,20,316043133,9.78031604314e+12,Mark Cotta Vaz,,Twilight: The Complete Illustrated Movie Companion,Twilight: The Complete Illustrated Movie Companion,en-US,4.23,291411,291899,532,6862,11019,48008,67939,158071,https://images.gr-assets.com/books/1352539022m/3609760.jpg,https://images.gr-assets.com/books/1352539022s/3609760.jpg',\n",
              " '221,60748,60748,59104,74,1558743669,9.78155874366e+12,Dave Pelzer,1995.0,\"A Child Called \"\"It\"\": One Child\\'s Courage to Survive\",\"A Child Called \"\"It\"\" (Dave Pelzer #1)\",eng,4.08,311543,321298,13729,7819,16453,57341,98786,140899,https://s.gr-assets.com/assets/nophoto/book/111x148-bcc042a9c91a29c1d680899eff700a03.png,https://s.gr-assets.com/assets/nophoto/book/50x75-a91bf249278a81aabab721ef782c4a74.png',\n",
              " '222,7869,7869,859111,143,752864327,9.78075286433e+12,Robert Ludlum,1980.0,The Bourne Identity,\"The Bourne Identity (Jason Bourne, #1)\",eng,3.98,327122,336212,3899,10266,17695,65161,118463,124627,https://images.gr-assets.com/books/1335860740m/7869.jpg,https://images.gr-assets.com/books/1335860740s/7869.jpg',\n",
              " '223,249747,249747,1334778,163,786817879,9.78078681787e+12,Eoin Colfer,2001.0,Artemis Fowl,\"Artemis Fowl (Artemis Fowl, #1)\",eng,3.82,386923,399165,8384,14473,30894,94950,129607,129241,https://images.gr-assets.com/books/1327945104m/249747.jpg,https://images.gr-assets.com/books/1327945104s/249747.jpg',\n",
              " '224,6487308,6487308,6678670,97,385738935,9.78038573893e+12,Lauren Kate,2009.0,Fallen,\"Fallen (Fallen, #1)\",en-US,3.74,395296,408108,17725,23594,41578,94145,107149,141642,https://images.gr-assets.com/books/1440619649m/6487308.jpg,https://images.gr-assets.com/books/1440619649s/6487308.jpg',\n",
              " '225,4406,4406,2574991,81,142000655,9.78014200066e+12,John Steinbeck,1952.0,East of Eden  ,East of Eden,eng,4.35,320919,336682,14454,4183,9409,39153,96741,187196,https://images.gr-assets.com/books/1441547516m/4406.jpg,https://images.gr-assets.com/books/1441547516s/4406.jpg',\n",
              " '226,5886881,5886881,6873353,131,307341569,9.78030734156e+12,Gillian Flynn,2009.0,Dark Places,Dark Places,eng,3.92,333452,386607,28784,5169,17975,89242,165108,109113,https://images.gr-assets.com/books/1354988288m/5886881.jpg,https://images.gr-assets.com/books/1354988288s/5886881.jpg',\n",
              " '227,5359,5359,137715,134,385339089,9.78038533909e+12,John Grisham,1993.0,The Client,The Client,eng,3.97,320083,325663,1917,2530,12566,79176,129019,102372,https://s.gr-assets.com/assets/nophoto/book/111x148-bcc042a9c91a29c1d680899eff700a03.png,https://s.gr-assets.com/assets/nophoto/book/50x75-a91bf249278a81aabab721ef782c4a74.png',\n",
              " '228,228333,228333,221139,84,312291639,9.78031229163e+12,\"Emma McLaughlin, Nicola Kraus\",2002.0,The Nanny Diaries,\"The Nanny Diaries (Nanny, #1)\",eng,3.4,323762,328073,5121,17006,43014,116021,95951,56081,https://s.gr-assets.com/assets/nophoto/book/111x148-bcc042a9c91a29c1d680899eff700a03.png,https://s.gr-assets.com/assets/nophoto/book/50x75-a91bf249278a81aabab721ef782c4a74.png',\n",
              " '229,24213,24213,2375385,845,451527747,9.78045152774e+12,\"Lewis Carroll, John Tenniel, Martin Gardner\",1865.0,Alice\\'s Adventures in Wonderland,Alice\\'s Adventures in Wonderland & Through the Looking-Glass,eng,4.06,340920,377190,7736,5294,17482,76985,127906,149523,https://images.gr-assets.com/books/1327872220m/24213.jpg,https://images.gr-assets.com/books/1327872220s/24213.jpg',\n",
              " '230,2156,2156,2534720,1451,192802631,9.78019280264e+12,\"Jane Austen, James Kinsley, Deidre Shauna Lynch\",1817.0,Persuasion,Persuasion,eng,4.13,365425,402359,13117,6688,15653,71218,133222,175578,https://s.gr-assets.com/assets/nophoto/book/111x148-bcc042a9c91a29c1d680899eff700a03.png,https://s.gr-assets.com/assets/nophoto/book/50x75-a91bf249278a81aabab721ef782c4a74.png',\n",
              " \"231,556602,556602,2523229,117,312370830,9.78031237083e+12,Tatiana de Rosnay,2007.0,Elle s'appelait Sarah,Sarah's Key,eng,4.14,312444,347631,26614,3865,12684,55760,134748,140574,https://s.gr-assets.com/assets/nophoto/book/111x148-bcc042a9c91a29c1d680899eff700a03.png,https://s.gr-assets.com/assets/nophoto/book/50x75-a91bf249278a81aabab721ef782c4a74.png\",\n",
              " '232,43615,43615,46575,213,452284694,9.78045228469e+12,Stephen King,1982.0,The Gunslinger,\"The Gunslinger (The Dark Tower, #1)\",en-US,3.99,332494,366377,13014,9958,24111,72736,112895,146677,https://images.gr-assets.com/books/1375776480m/43615.jpg,https://images.gr-assets.com/books/1375776480s/43615.jpg',\n",
              " '233,9712,9712,3285349,347,140003468X,9.78140003468e+12,\"Gabriel García Márquez, Edith Grossman\",1985.0,El amor en los tiempos del cólera,Love in the Time of Cholera,eng,3.89,283806,323461,15246,11450,23825,65668,110544,111974,https://images.gr-assets.com/books/1327124987m/9712.jpg,https://images.gr-assets.com/books/1327124987s/9712.jpg',\n",
              " '234,439288,439288,118521,87,014131088X,9.78014131089e+12,Laurie Halse Anderson,1999.0,Speak,Speak,eng,4.0,360156,372404,18379,7770,21049,76503,125660,141422,https://images.gr-assets.com/books/1310121762m/439288.jpg,https://images.gr-assets.com/books/1310121762s/439288.jpg',\n",
              " \"235,17802724,17802724,23986788,95,399159347,9.78039915934e+12,Liane Moriarty,2013.0,The Husband's Secret ,The Husband's Secret,eng,3.92,232106,351805,27610,4175,15649,80869,155945,95167,https://images.gr-assets.com/books/1460577225m/17802724.jpg,https://images.gr-assets.com/books/1460577225s/17802724.jpg\",\n",
              " '236,1898,1898,1816662,101,385494785,9.78038549479e+12,Jon Krakauer,1997.0,Into Thin Air: A Personal Account of the Mt. Everest Disaster,Into Thin Air: A Personal Account of the Mount Everest Disaster,en-US,4.11,291258,301593,10439,8041,10286,46060,112601,124605,https://images.gr-assets.com/books/1463384482m/1898.jpg,https://images.gr-assets.com/books/1463384482s/1898.jpg',\n",
              " '237,10592,10592,1552134,249,1416524304,9.7814165243e+12,Stephen King,1974.0,Carrie,Carrie,,3.93,356814,377650,8264,4564,19479,96352,136054,121201,https://s.gr-assets.com/assets/nophoto/book/111x148-bcc042a9c91a29c1d680899eff700a03.png,https://s.gr-assets.com/assets/nophoto/book/50x75-a91bf249278a81aabab721ef782c4a74.png',\n",
              " '238,242006,242006,828773,79,031242227X,9.78031242227e+12,Augusten Burroughs,2002.0,Running with Scissors,Running with Scissors,en-US,3.7,293878,306388,11601,13569,27249,78405,105786,81379,https://s.gr-assets.com/assets/nophoto/book/111x148-bcc042a9c91a29c1d680899eff700a03.png,https://s.gr-assets.com/assets/nophoto/book/50x75-a91bf249278a81aabab721ef782c4a74.png',\n",
              " '239,8908,8908,817,137,307346609,9.78030734660e+12,Max Brooks,2006.0,World War Z: An Oral History of the Zombie War,World War Z: An Oral History of the Zombie War,en-US,4.01,312969,345149,22412,7680,19887,65570,121537,130475,https://images.gr-assets.com/books/1386328204m/8908.jpg,https://images.gr-assets.com/books/1386328204s/8908.jpg',\n",
              " '240,17212231,17212231,23841765,235,385537859,9.78038553786e+12,Dan Brown,2013.0,Inferno,\"Inferno (Robert Langdon, #4)\",eng,3.8,287533,345560,33700,7261,26077,89237,128374,94611,https://images.gr-assets.com/books/1397093185m/17212231.jpg,https://images.gr-assets.com/books/1397093185s/17212231.jpg',\n",
              " '241,47281,47281,2677305,81,440227534,9.78044022753e+12,Lois Lowry,1989.0,Number the Stars,Number the Stars,eng,4.11,333638,342365,10304,3797,12794,63919,123296,138559,https://images.gr-assets.com/books/1370917812m/47281.jpg,https://images.gr-assets.com/books/1370917812s/47281.jpg',\n",
              " '242,13145,13145,3373984,122,446692638,9.78044669263e+12,James Patterson,1993.0,Along Came a Spider,\"Along Came a Spider (Alex Cross, #1)\",eng,4.08,311499,318031,3600,4281,10929,61630,118236,122955,https://s.gr-assets.com/assets/nophoto/book/111x148-bcc042a9c91a29c1d680899eff700a03.png,https://s.gr-assets.com/assets/nophoto/book/50x75-a91bf249278a81aabab721ef782c4a74.png',\n",
              " '243,10614,10614,3230869,197,450417395,9.7804504174e+12,Stephen King,1987.0,Misery,Misery,en-GB,4.11,334647,352203,6416,4302,12725,64835,128990,141351,https://images.gr-assets.com/books/1270545451m/10614.jpg,https://images.gr-assets.com/books/1270545451s/10614.jpg',\n",
              " '244,66559,18045891,3801,136,307341542,9.78030734155e+12,Gillian Flynn,2006.0,Sharp Objects,Sharp Objects,en-US,3.92,207889,354838,28268,4988,17566,81036,147558,103690,https://images.gr-assets.com/books/1423241485m/66559.jpg,https://images.gr-assets.com/books/1423241485s/66559.jpg',\n",
              " '245,2839,2839,2237401,125,439366771,9.78043936678e+12,Katherine Paterson,1977.0,Bridge to Terabithia,Bridge to Terabithia,eng,3.98,337644,353474,9270,8287,20081,74409,119504,131193,https://images.gr-assets.com/books/1327880087m/2839.jpg,https://images.gr-assets.com/books/1327880087s/2839.jpg',\n",
              " '246,30183,30183,30573,97,312360266,9.78031236027e+12,\"P.C. Cast, Kristin Cast\",2007.0,Marked,\"Marked (House of Night, #1)\",en-US,3.79,360044,371020,12870,21547,34170,81486,97982,135835,https://images.gr-assets.com/books/1317067002m/30183.jpg,https://images.gr-assets.com/books/1317067002s/30183.jpg',\n",
              " '247,36072,36072,6277,250,743269519,9.78074326951e+12,Stephen R. Covey,1989.0,The 7 Habits of Highly Effective People,The 7 Habits of Highly Effective People: Powerful Lessons in Personal Change,en-US,4.05,314700,333884,6148,9038,17041,61036,109359,137410,https://images.gr-assets.com/books/1421842784m/36072.jpg,https://images.gr-assets.com/books/1421842784s/36072.jpg',\n",
              " '248,1622,1622,894834,1379,743477545,9.78074347754e+12,\"William Shakespeare, Barbara A. Mowat, Paul Werstine, Catherine Belsey\",1595.0,A Midsummer Night\\'s Dream,A Midsummer Night\\'s Dream,eng,3.94,334241,361510,5724,5598,20498,84388,130051,120975,https://images.gr-assets.com/books/1327874534m/1622.jpg,https://images.gr-assets.com/books/1327874534s/1622.jpg',\n",
              " '249,4588,4588,1940137,104,618711651,9.78061871166e+12,Jonathan Safran Foer,2005.0,Extremely Loud and Incredibly Close,Extremely Loud and Incredibly Close,en-US,3.97,294726,319116,21107,8847,20556,61303,109008,119402,https://images.gr-assets.com/books/1327879967m/4588.jpg,https://images.gr-assets.com/books/1327879967s/4588.jpg',\n",
              " '250,11387515,11387515,16319487,124,375869026,9.78037586902e+12,R.J. Palacio,2012.0,Wonder,Wonder,eng,4.43,228538,377791,43021,4504,7833,34567,105977,224910,https://images.gr-assets.com/books/1309285027m/11387515.jpg,https://images.gr-assets.com/books/1309285027s/11387515.jpg',\n",
              " '251,233093,233093,267087,99,039480001X,9.78039480001e+12,Dr. Seuss,1957.0,The Cat in the Hat,The Cat in the Hat,eng,4.15,314016,317182,4299,6179,14497,57850,85944,152712,https://images.gr-assets.com/books/1468890477m/233093.jpg,https://images.gr-assets.com/books/1468890477s/233093.jpg',\n",
              " '252,11235712,11235712,15545385,92,312641893,9.78031264189e+12,Marissa Meyer,2012.0,Cinder,\"Cinder (The Lunar Chronicles, #1)\",eng,4.15,427663,454146,41109,12154,18256,66180,150914,206642,https://images.gr-assets.com/books/1470056948m/11235712.jpg,https://images.gr-assets.com/books/1470056948s/11235712.jpg',\n",
              " '253,16160797,16160797,22002305,48,316206849,9.78031620685e+12,\"Robert Galbraith, J.K. Rowling\",2013.0,The Cuckoo\\'s Calling,\"The Cuckoo\\'s Calling (Cormoran Strike, #1)\",en-US,3.83,297712,340495,27258,9729,20151,79290,138955,92370,https://images.gr-assets.com/books/1358716559m/16160797.jpg,https://images.gr-assets.com/books/1358716559s/16160797.jpg',\n",
              " '254,6068551,6068551,6244926,96,545123267,9.78054512327e+12,Maggie Stiefvater,2009.0,Shiver,\"Shiver (The Wolves of Mercy Falls, #1)\",eng,3.78,356625,370811,20521,17815,35108,86129,105099,126660,https://images.gr-assets.com/books/1409283154m/6068551.jpg,https://images.gr-assets.com/books/1409283154s/6068551.jpg',\n",
              " '255,662,662,817219,147,452011876,9.78045201188e+12,\"Ayn Rand, Leonard Peikoff\",1957.0,Atlas Shrugged,Atlas Shrugged,eng,3.68,283295,296645,14666,30901,27442,53762,78744,105796,https://images.gr-assets.com/books/1405868167m/662.jpg,https://images.gr-assets.com/books/1405868167s/662.jpg',\n",
              " '256,49436,49436,251800,67,143038257,9.78014303825e+12,\"Greg Mortenson, David Oliver Relin\",2006.0,Three Cups of Tea ,Three Cups of Tea: One Man\\'s Mission to Promote Peace ... One School at a Time,en-US,3.64,283516,288520,21681,14371,27844,77127,97820,71358,https://images.gr-assets.com/books/1395407074m/49436.jpg,https://images.gr-assets.com/books/1395407074s/49436.jpg',\n",
              " '257,13023,13023,2933712,4,517223627,9.78051722363e+12,\"Jane Carruth, Lewis Carroll, Rene Cloke\",1865.0,,Alice in Wonderland,eng,4.03,343252,343271,4876,7467,18101,70170,109730,137803,https://s.gr-assets.com/assets/nophoto/book/111x148-bcc042a9c91a29c1d680899eff700a03.png,https://s.gr-assets.com/assets/nophoto/book/50x75-a91bf249278a81aabab721ef782c4a74.png',\n",
              " '258,1232,1232,3209783,279,143034901,9.7801430349e+12,\"Carlos Ruiz Zafón, Lucia Graves\",2001.0,La sombra del viento,\"The Shadow of the Wind (The Cemetery of Forgotten Books,  #1)\",eng,4.24,263685,317554,24652,4789,11769,42214,101612,157170,https://images.gr-assets.com/books/1344545047m/1232.jpg,https://images.gr-assets.com/books/1344545047s/1232.jpg',\n",
              " '259,7631105,7631105,6574198,107,385738757,9.78038573875e+12,James Dashner,2010.0,The Scorch Trials,\"The Scorch Trials (Maze Runner, #2)\",eng,3.93,305643,346307,23058,5525,21370,79458,124458,115496,https://s.gr-assets.com/assets/nophoto/book/111x148-bcc042a9c91a29c1d680899eff700a03.png,https://s.gr-assets.com/assets/nophoto/book/50x75-a91bf249278a81aabab721ef782c4a74.png',\n",
              " '260,4865,4865,2370171,353,,9.78067172365e+12,Dale Carnegie,1936.0,How to Win Friends and Influence People,How to Win Friends and Influence People,eng,4.13,282623,305437,7909,6734,13880,50529,94743,139551,https://images.gr-assets.com/books/1442726934m/4865.jpg,https://images.gr-assets.com/books/1442726934s/4865.jpg',\n",
              " '261,480479,480479,940760,59,767900383,9.78076790039e+12,Frances Mayes,1996.0,Under the Tuscan Sun,Under the Tuscan Sun,eng,3.72,279264,281836,3074,12008,22882,74910,93439,78597,https://images.gr-assets.com/books/1320524083m/480479.jpg,https://images.gr-assets.com/books/1320524083s/480479.jpg',\n",
              " '262,19486412,19486412,27570886,107,399167064,9.78039916706e+12,Liane Moriarty,2014.0,Big Little Lies,Big Little Lies,eng,4.2,306186,371433,30120,3775,7865,49115,159494,151184,https://images.gr-assets.com/books/1492239430m/19486412.jpg,https://images.gr-assets.com/books/1492239430s/19486412.jpg',\n",
              " '263,24337,24337,2485462,61,590920685,9.78059092068e+12,Gail Carson Levine,1997.0,Ella Enchanted,Ella Enchanted,eng,3.97,339117,345749,8534,6619,20066,80272,110568,128224,https://images.gr-assets.com/books/1410727190m/24337.jpg,https://images.gr-assets.com/books/1410727190s/24337.jpg',\n",
              " '264,3876,3876,589497,343,743297334,9.78074329733e+12,Ernest Hemingway,1926.0,The Sun Also Rises,The Sun Also Rises,en-US,3.83,284988,303117,9826,9602,23682,70004,105785,94044,https://images.gr-assets.com/books/1331828228m/3876.jpg,https://images.gr-assets.com/books/1331828228s/3876.jpg',\n",
              " '265,14891,14891,833257,127,61120073,9.78006112008e+12,Betty  Smith,1943.0,A Tree Grows In Brooklyn ,A Tree Grows in Brooklyn,eng,4.24,291909,309000,16088,3693,9667,43734,103879,148027,https://images.gr-assets.com/books/1327883484m/14891.jpg,https://images.gr-assets.com/books/1327883484s/14891.jpg',\n",
              " '266,13148,13148,881425,111,446677388,9.78044667739e+12,James Patterson,1995.0,Kiss the Girls,\"Kiss the Girls (Alex Cross, #2)\",eng,3.93,274639,279116,2798,10518,14558,58296,95980,99764,https://s.gr-assets.com/assets/nophoto/book/111x148-bcc042a9c91a29c1d680899eff700a03.png,https://s.gr-assets.com/assets/nophoto/book/50x75-a91bf249278a81aabab721ef782c4a74.png',\n",
              " '267,21853621,21853621,41125521,90,312577222,9.78031257722e+12,Kristin Hannah,2015.0,The Nightingale,The Nightingale,eng,4.54,253606,327015,37279,2829,4913,20612,82844,215817,https://images.gr-assets.com/books/1451446316m/21853621.jpg,https://images.gr-assets.com/books/1451446316s/21853621.jpg',\n",
              " '268,6334,6334,1499998,159,1400078776,9.78140007878e+12,Kazuo Ishiguro,2005.0,Never Let Me Go,Never Let Me Go,eng,3.8,294123,323627,21927,9081,26036,78203,118163,92144,https://images.gr-assets.com/books/1353048590m/6334.jpg,https://images.gr-assets.com/books/1353048590s/6334.jpg',\n",
              " '269,366522,366522,2742631,17,786890754,9.78078689075e+12,Cecelia Ahern,2003.0,\"PS, I Love You\",P.S. I Love You,en-US,4.01,262921,283413,7069,7027,16336,56951,90089,113010,https://s.gr-assets.com/assets/nophoto/book/111x148-bcc042a9c91a29c1d680899eff700a03.png,https://s.gr-assets.com/assets/nophoto/book/50x75-a91bf249278a81aabab721ef782c4a74.png',\n",
              " '270,12873,17899948,46663,306,1844080382,9.78184408038e+12,\"Daphne du Maurier, Sally Beauman\",1938.0,Rebecca,Rebecca,en-US,4.2,177384,329596,14920,4565,10900,49263,112768,152100,https://images.gr-assets.com/books/1327871977m/12873.jpg,https://images.gr-assets.com/books/1327871977s/12873.jpg',\n",
              " '271,18373,18373,3337594,163,156030306,9.7801560303e+12,Daniel Keyes,1966.0,Flowers for Algernon,Flowers for Algernon,en-US,4.07,313044,336199,11328,4223,14882,65106,122462,129526,https://images.gr-assets.com/books/1367141311m/18373.jpg,https://images.gr-assets.com/books/1367141311s/18373.jpg',\n",
              " '272,6952,6952,1172473,177,552995878,9.78055299587e+12,\"Laura Esquivel, Thomas  Christensen, Carol Christensen\",1989.0,Como agua para chocolate,Like Water for Chocolate,en-US,3.94,263199,285469,6559,8887,15941,60147,100011,100483,https://s.gr-assets.com/assets/nophoto/book/111x148-bcc042a9c91a29c1d680899eff700a03.png,https://s.gr-assets.com/assets/nophoto/book/50x75-a91bf249278a81aabab721ef782c4a74.png',\n",
              " '273,1103,1103,1453585,105,812968069,9.78081296806e+12,Lisa See,2005.0,Snow Flower and the Secret Fan,Snow Flower and the Secret Fan,eng,4.05,280475,290660,15807,3268,11286,56005,116178,103923,https://images.gr-assets.com/books/1327880508m/1103.jpg,https://images.gr-assets.com/books/1327880508s/1103.jpg',\n",
              " '274,22034,22034,266624,259,451205766,9.78045120577e+12,\"Mario Puzo, Robert Thompson, Peter Bart\",1969.0,The Godfather,The Godfather,eng,4.36,256480,270386,5832,2930,5985,30009,83730,147732,https://images.gr-assets.com/books/1394988109m/22034.jpg,https://images.gr-assets.com/books/1394988109s/22034.jpg',\n",
              " '275,49750,49750,48658,116,525476881,9.78052547689e+12,John Green,2006.0,An Abundance of Katherines,An Abundance of Katherines,eng,3.63,312754,347424,20657,14225,36867,98115,111740,86477,https://images.gr-assets.com/books/1360206426m/49750.jpg,https://images.gr-assets.com/books/1360206426s/49750.jpg',\n",
              " '276,29579,29579,1783981,169,553803719,9.78055380372e+12,Isaac Asimov,1951.0,Foundation,Foundation (Foundation #1),eng,4.13,279688,297588,6240,7697,12471,47251,97583,132586,https://images.gr-assets.com/books/1417900846m/29579.jpg,https://images.gr-assets.com/books/1417900846s/29579.jpg',\n",
              " '277,15783514,15783514,21500681,109,62255657,9.78006225566e+12,Neil Gaiman,2013.0,The Ocean at the End of the Lane,The Ocean at the End of the Lane,eng,3.99,293844,336251,37655,7038,18089,64714,127761,118649,https://images.gr-assets.com/books/1497098563m/15783514.jpg,https://images.gr-assets.com/books/1497098563s/15783514.jpg',\n",
              " '278,30118,30118,142009,32,60513063,9.78006051306e+12,Shel Silverstein,1981.0,A Light in the Attic,A Light in the Attic,eng,4.34,297861,304514,2431,3585,7593,38923,85051,169362,https://images.gr-assets.com/books/1427169918m/30118.jpg,https://images.gr-assets.com/books/1427169918s/30118.jpg',\n",
              " '279,29056083,29056083,48765776,95,751565350,9.78075156536e+12,\"John Tiffany, Jack Thorne, J.K. Rowling\",2016.0,\"Harry Potter and the Cursed Child, Parts One and Two\",\"Harry Potter and the Cursed Child - Parts One and Two (Harry Potter, #8)\",eng,3.75,270603,397773,53365,15828,35842,96395,133156,116552,https://images.gr-assets.com/books/1470082995m/29056083.jpg,https://images.gr-assets.com/books/1470082995s/29056083.jpg',\n",
              " '280,11614718,11614718,10342808,108,61726834,9.78006172684e+12,Lauren Oliver,2011.0,Delirium,\"Delirium (Delirium, #1)\",eng,3.99,256975,352398,24271,8868,21223,68789,117580,135938,https://images.gr-assets.com/books/1327890411m/11614718.jpg,https://images.gr-assets.com/books/1327890411s/11614718.jpg',\n",
              " '281,32499,32499,490324,145,385339704,9.7803853397e+12,John Grisham,1992.0,The Pelican Brief,The Pelican Brief,eng,3.95,288376,296168,2006,2362,12423,73587,116438,91358,https://s.gr-assets.com/assets/nophoto/book/111x148-bcc042a9c91a29c1d680899eff700a03.png,https://s.gr-assets.com/assets/nophoto/book/50x75-a91bf249278a81aabab721ef782c4a74.png',\n",
              " '282,17061,17061,2834844,153,61139378,9.78006113938e+12,Neil Gaiman,2002.0,Coraline,Coraline,eng,4.03,316379,343630,13905,7078,15010,67188,126167,128187,https://images.gr-assets.com/books/1493497435m/17061.jpg,https://images.gr-assets.com/books/1493497435s/17061.jpg',\n",
              " '283,12067,12067,4110990,114,60853980,9.78006085398e+12,\"Terry Pratchett, Neil Gaiman\",1990.0,\"Good Omens: The Nice and Accurate Prophecies of Agnes Nutter, Witch\",\"Good Omens: The Nice and Accurate Prophecies of Agnes Nutter, Witch\",en-US,4.25,298304,326373,13914,4991,10988,44804,101159,164431,https://images.gr-assets.com/books/1392528568m/12067.jpg,https://images.gr-assets.com/books/1392528568s/12067.jpg',\n",
              " '284,70401,70401,1701188,312,140042598,9.7801400426e+12,Jack Kerouac,1955.0,On the Road,On the Road,eng,3.64,246602,277884,12011,13769,31221,70104,88569,74221,https://images.gr-assets.com/books/1413588576m/70401.jpg,https://images.gr-assets.com/books/1413588576s/70401.jpg',\n",
              " '285,16181775,16181775,22084678,122,1476729085,9.78147672908e+12,Graeme Simsion,2013.0,The Rosie Project,\"The Rosie Project (Don Tillman, #1)\",eng,4.01,251703,305509,31155,4544,11558,57792,133951,97664,https://images.gr-assets.com/books/1371651741m/16181775.jpg,https://images.gr-assets.com/books/1371651741s/16181775.jpg',\n",
              " '286,3063499,3063499,3094402,99,446579939,9.78044657993e+12,Nicholas Sparks,2008.0,The Lucky One,The Lucky One,en-US,4.1,267166,281323,9476,3661,11792,54208,94613,117049,https://images.gr-assets.com/books/1420816338m/3063499.jpg,https://images.gr-assets.com/books/1420816338s/3063499.jpg',\n",
              " '287,2122,2122,3331807,154,451191153,9.78045119115e+12,\"Ayn Rand, Leonard Peikoff\",1943.0,The Fountainhead,The Fountainhead,eng,3.85,244545,254976,10198,18158,18720,44131,76424,97543,https://images.gr-assets.com/books/1491163636m/2122.jpg,https://images.gr-assets.com/books/1491163636s/2122.jpg',\n",
              " '288,19691,19691,1112006,117,425172902,9.7804251729e+12,Tom Clancy,1984.0,The Hunt for Red October,\"The Hunt for Red October (Jack Ryan Universe, #4)\",,4.01,270318,278255,2117,9470,13707,49906,95296,109876,https://images.gr-assets.com/books/1281995542m/19691.jpg,https://images.gr-assets.com/books/1281995542s/19691.jpg',\n",
              " '289,76620,76620,1357456,193,038039586X,9.78038039587e+12,Richard Adams,1972.0,Watership Down,\"Watership Down (Watership Down, #1)\",eng,4.05,292426,308373,10399,9158,15767,52906,102093,128449,https://images.gr-assets.com/books/1405136931m/76620.jpg,https://images.gr-assets.com/books/1405136931s/76620.jpg',\n",
              " '290,10335308,10335308,15237902,18,307886263,9.78030788626e+12,Mindy Kaling,2011.0,Is Everyone Hanging Out Without Me? (And Other Concerns),Is Everyone Hanging Out Without Me? (And Other Concerns),eng,3.84,290674,312931,19397,6438,18856,81229,117248,89160,https://images.gr-assets.com/books/1443264638m/10335308.jpg,https://images.gr-assets.com/books/1443264638s/10335308.jpg',\n",
              " '291,3591262,3591262,3633533,74,375414495,9.7803754145e+12,Abraham Verghese,2009.0,Cutting for Stone,Cutting for Stone,eng,4.28,258319,281079,23146,4586,9249,32671,91293,143280,https://images.gr-assets.com/books/1327931601m/3591262.jpg,https://images.gr-assets.com/books/1327931601s/3591262.jpg',\n",
              " '292,140225,140225,3349054,299,006112527X,9.78006112527e+12,\"C.S. Lewis, Pauline Baynes\",1951.0,The Voyage of the Dawn Treader,\"The Voyage of the Dawn Treader (Chronicles of Narnia, #3)\",eng,4.08,306492,325264,4620,2658,12490,69089,112121,128906,https://images.gr-assets.com/books/1343185059m/140225.jpg,https://images.gr-assets.com/books/1343185059s/140225.jpg',\n",
              " '293,295,295,3077988,2573,753453800,9.7807534538e+12,Robert Louis Stevenson,1882.0,Treasure Island,Treasure Island,eng,3.82,268012,310515,7917,5349,19127,86487,114968,84584,https://images.gr-assets.com/books/1485248909m/295.jpg,https://images.gr-assets.com/books/1485248909s/295.jpg',\n",
              " '294,9520360,9520360,14406312,69,1423140591,9.7814231406e+12,Rick Riordan,2011.0,The Son of Neptune ,\"The Son of Neptune (The Heroes of Olympus, #2)\",eng,4.44,299980,316800,12270,1773,4666,30788,93611,185962,https://images.gr-assets.com/books/1464201114m/9520360.jpg,https://images.gr-assets.com/books/1464201114s/9520360.jpg',\n",
              " '295,10644930,10644930,15553789,145,1451627289,9.78145162728e+12,Stephen King,2011.0,11/22/63,11/22/63,eng,4.29,258464,303057,30656,2927,7649,35500,109392,147589,https://images.gr-assets.com/books/1327876792m/10644930.jpg,https://images.gr-assets.com/books/1327876792s/10644930.jpg',\n",
              " '296,4948,4948,3144982,162,241003008,9.78024100301e+12,Eric Carle,1969.0,The Very Hungry Caterpillar,The Very Hungry Caterpillar Board Book,eng,4.29,296952,304528,5760,5801,11214,43549,73389,170575,https://images.gr-assets.com/books/1327878225m/4948.jpg,https://images.gr-assets.com/books/1327878225s/4948.jpg',\n",
              " \"297,135479,135479,1621115,155,140285601,9.7801402856e+12,Kurt Vonnegut Jr.,1963.0,Cat's Cradle,Cat's Cradle,eng,4.18,238940,274153,8050,2701,8491,43680,102441,116840,https://images.gr-assets.com/books/1327867150m/135479.jpg,https://images.gr-assets.com/books/1327867150s/135479.jpg\",\n",
              " '298,2493,2493,3234863,1248,451528557,9.78045152855e+12,\"H.G. Wells, Greg Bear, Carlo Pagetti\",1895.0,The Time Machine,The Time Machine,eng,3.87,276076,303730,7353,3570,16119,81773,118129,84139,https://images.gr-assets.com/books/1327942880m/2493.jpg,https://images.gr-assets.com/books/1327942880s/2493.jpg',\n",
              " '299,7933292,7933292,11283577,69,849946158,9.78084994616e+12,\"Todd Burpo, Lynn Vincent\",2010.0,,Heaven is for Real: A Little Boy\\'s Astounding Story of His Trip to Heaven and Back,eng,4.01,228371,243018,14378,9291,15024,44510,68399,105794,https://s.gr-assets.com/assets/nophoto/book/111x148-bcc042a9c91a29c1d680899eff700a03.png,https://s.gr-assets.com/assets/nophoto/book/50x75-a91bf249278a81aabab721ef782c4a74.png',\n",
              " '300,39999,39999,1148702,178,385751060,9.78038575106e+12,John Boyne,2006.0,The Boy in the Striped Pyjamas,The Boy in the Striped Pajamas,eng,4.1,285692,325401,19058,5297,13562,54987,121193,130362,https://images.gr-assets.com/books/1366228171m/39999.jpg,https://images.gr-assets.com/books/1366228171s/39999.jpg',\n",
              " '301,4900,4900,2877220,1369,1892295490,9.78189229549e+12,Joseph Conrad,1899.0,Heart of Darkness,Heart of Darkness,eng,3.42,255576,308391,9791,25591,42946,84433,88608,66813,https://images.gr-assets.com/books/1392799983m/4900.jpg,https://images.gr-assets.com/books/1392799983s/4900.jpg',\n",
              " '302,7812659,7812659,10829530,117,044654759X,9.7804465476e+12,Nicholas Sparks,2010.0,Safe Haven,Safe Haven,eng,4.19,255531,274974,12769,3010,9496,45461,91240,125767,https://images.gr-assets.com/books/1344268800m/7812659.jpg,https://images.gr-assets.com/books/1344268800s/7812659.jpg',\n",
              " '303,52529,52529,2001660,113,1582701709,9.78158270171e+12,Rhonda Byrne,2006.0,The Secret,\"The Secret (The Secret, #1)\",eng,3.62,241537,250945,9663,23328,26321,55785,61698,83813,https://images.gr-assets.com/books/1482865039m/52529.jpg,https://images.gr-assets.com/books/1482865039s/52529.jpg',\n",
              " '304,227711,227711,1191096,52,60987561,9.78006098756e+12,Wally Lamb,1998.0,I Know This Much Is True ,I Know This Much Is True,eng,4.17,246917,257608,7775,4430,9972,39899,86909,116398,https://images.gr-assets.com/books/1373532198m/227711.jpg,https://images.gr-assets.com/books/1373532198s/227711.jpg',\n",
              " '305,10583,33124137,150017,198,1416524347,9.78141652434e+12,Stephen King,1983.0,Pet Sematary,Pet Sematary,eng,3.91,256383,293753,5430,4584,17315,73475,102744,95635,https://images.gr-assets.com/books/1308894674m/10583.jpg,https://images.gr-assets.com/books/1308894674s/10583.jpg',\n",
              " \"306,5203,5203,1003370,61,671021001,9.78067102101e+12,Wally Lamb,1992.0,She's Come Undone,She's Come Undone,en-US,3.84,259576,268924,9090,10224,20064,59412,91423,87801,https://images.gr-assets.com/books/1408313457m/5203.jpg,https://images.gr-assets.com/books/1408313457s/5203.jpg\",\n",
              " '307,1215032,1215032,2502882,102,756404738,9.78075640473e+12,Patrick Rothfuss,2011.0,The Wise Man\\'s Fear,\"The Wise Man\\'s Fear (The Kingkiller Chronicle, #2)\",eng,4.57,245686,282349,15503,1486,4018,17932,66415,192498,https://images.gr-assets.com/books/1452624392m/1215032.jpg,https://images.gr-assets.com/books/1452624392s/1215032.jpg',\n",
              " '308,33724,33724,2888997,94,440241901,9.7804402419e+12,Sophie Kinsella,2003.0,Can You Keep a Secret?,Can You Keep a Secret?,en-US,3.83,278747,293801,9510,8003,19319,76244,101810,88425,https://images.gr-assets.com/books/1330464293m/33724.jpg,https://images.gr-assets.com/books/1330464293s/33724.jpg',\n",
              " '309,6752378,6752378,6948844,96,1442403543,9.78144240354e+12,Cassandra Clare,2011.0,City of Fallen Angels,\"City of Fallen Angels (The Mortal Instruments, #4)\",en-US,4.16,341826,373167,18870,4306,16000,64499,120426,167936,https://images.gr-assets.com/books/1369452302m/6752378.jpg,https://images.gr-assets.com/books/1369452302s/6752378.jpg',\n",
              " '310,14748,14748,2796838,71,743418174,9.78074341817e+12,Jennifer Weiner,2001.0,Good in Bed,\"Good in Bed (Cannie Shapiro, #1)\",en-US,3.7,248804,252305,5500,12137,20336,66587,84488,68757,https://images.gr-assets.com/books/1327936464m/14748.jpg,https://images.gr-assets.com/books/1327936464s/14748.jpg',\n",
              " '311,3412,3412,816449,201,380018179,9.78038001818e+12,Colleen McCullough,1977.0,The Thorn Birds,The Thorn Birds,eng,4.22,255651,266826,4556,2889,9117,42299,85531,126990,https://images.gr-assets.com/books/1391416796m/3412.jpg,https://images.gr-assets.com/books/1391416796s/3412.jpg',\n",
              " '312,2213661,2213661,2219449,129,60530928,9.78006053092e+12,\"Neil Gaiman, Dave McKean\",2008.0,The Graveyard Book,The Graveyard Book,en-US,4.12,302303,325451,23840,5515,12566,53668,120830,132872,https://images.gr-assets.com/books/1303859949m/2213661.jpg,https://images.gr-assets.com/books/1303859949s/2213661.jpg',\n",
              " '313,13158800,13158800,18337340,113,1451681739,9.78145168173e+12,M.L. Stedman,2012.0,The Light Between Oceans,The Light Between Oceans,eng,4.0,243526,288434,29932,3432,11985,56557,124430,92030,https://images.gr-assets.com/books/1336683021m/13158800.jpg,https://images.gr-assets.com/books/1336683021s/13158800.jpg',\n",
              " '314,28194,28194,2628323,134,439709105,9.7804397091e+12,\"Cornelia Funke, Anthea Bell\",2003.0,Tintenherz,\"Inkheart (Inkworld, #1)\",en-US,3.86,285011,301414,10384,8524,22966,71494,98625,99805,https://images.gr-assets.com/books/1328866790m/28194.jpg,https://images.gr-assets.com/books/1328866790s/28194.jpg',\n",
              " '315,4894,4894,3332594,128,91883768,9.78009188377e+12,\"Spencer Johnson, Kenneth H. Blanchard\",1998.0,Who Moved My Cheese?,Who Moved My Cheese?,eng,3.74,237272,253134,7877,12161,23384,61934,77196,78459,https://s.gr-assets.com/assets/nophoto/book/111x148-bcc042a9c91a29c1d680899eff700a03.png,https://s.gr-assets.com/assets/nophoto/book/50x75-a91bf249278a81aabab721ef782c4a74.png',\n",
              " '316,9791,9791,613469,95,307279464,9.78030727946e+12,Bill Bryson,1997.0,A Walk in the Woods,A Walk in the Woods,eng,4.05,250192,264449,14422,3553,10293,50487,104690,95426,https://s.gr-assets.com/assets/nophoto/book/111x148-bcc042a9c91a29c1d680899eff700a03.png,https://s.gr-assets.com/assets/nophoto/book/50x75-a91bf249278a81aabab721ef782c4a74.png',\n",
              " '317,13214,13214,1413589,107,553279378,9.78055327938e+12,Maya Angelou,1969.0,I Know Why the Caged Bird Sings,I Know Why the Caged Bird Sings,en-US,4.19,270859,284448,6666,4969,9937,42472,95531,131539,https://images.gr-assets.com/books/1327957927m/13214.jpg,https://images.gr-assets.com/books/1327957927s/13214.jpg',\n",
              " '318,15818107,15818107,21545713,65,61950726,9.78006195073e+12,Christina Baker Kline,2013.0,Orphan Train,Orphan Train,eng,4.14,226091,263968,24700,1703,6769,42434,116003,97059,https://images.gr-assets.com/books/1362409483m/15818107.jpg,https://images.gr-assets.com/books/1362409483s/15818107.jpg',\n",
              " '319,8755776,8755776,13629058,101,1442416866,9.78144241686e+12,Cassandra Clare,2012.0,City of Lost Souls,\"City of Lost Souls (The Mortal Instruments, #5)\",eng,4.3,300553,327869,16639,3341,10329,43333,97947,172919,https://images.gr-assets.com/books/1460477703m/8755776.jpg,https://images.gr-assets.com/books/1460477703s/8755776.jpg',\n",
              " '320,13526165,13526165,17626728,78,316204277,9.78031620428e+12,Maria Semple,2012.0,\"Where\\'d You Go, Bernadette\",\"Where\\'d You Go, Bernadette\",eng,3.9,215453,268153,28973,4080,13047,59489,119361,72176,https://images.gr-assets.com/books/1338822317m/13526165.jpg,https://images.gr-assets.com/books/1338822317s/13526165.jpg',\n",
              " '321,10365,10365,115,69,375806814,9.78037580681e+12,Wilson Rawls,1961.0,Where the Red Fern Grows,Where the Red Fern Grows,,4.04,268548,280179,8725,6585,15232,53560,89699,115103,https://images.gr-assets.com/books/1166154337m/10365.jpg,https://images.gr-assets.com/books/1166154337s/10365.jpg',\n",
              " '322,14497,14497,16534,152,60557818,9.78006055781e+12,Neil Gaiman,1996.0,Neverwhere,Neverwhere,eng,4.18,268318,301740,15680,3126,9628,46996,113506,128484,https://images.gr-assets.com/books/1348747943m/14497.jpg,https://images.gr-assets.com/books/1348747943s/14497.jpg',\n",
              " '323,9717,9717,4489585,274,571224385,9.78057122439e+12,\"Milan Kundera, Michael Henry Heim\",1984.0,Nesnesitelná lehkost bytí,The Unbearable Lightness of Being,eng,4.08,205279,247980,10682,4894,12964,42199,84519,103404,https://images.gr-assets.com/books/1265401884m/9717.jpg,https://images.gr-assets.com/books/1265401884s/9717.jpg',\n",
              " '324,16068905,16068905,21861351,80,,,Rainbow Rowell,2013.0,,Fangirl,eng,4.12,340379,371730,39353,8626,16973,60097,121431,164603,https://images.gr-assets.com/books/1499565420m/16068905.jpg,https://images.gr-assets.com/books/1499565420s/16068905.jpg',\n",
              " '325,4473,4473,1734019,138,552135399,9.7805521354e+12,John Irving,1989.0,A Prayer for Owen Meany,A Prayer for Owen Meany,eng,4.22,226964,246452,11197,4679,9761,33669,76223,122120,https://images.gr-assets.com/books/1260470010m/4473.jpg,https://images.gr-assets.com/books/1260470010s/4473.jpg',\n",
              " '326,32234,32234,1223333,96,316182540,9.78031618255e+12,Janet Fitch,1999.0,White Oleander,White Oleander,eng,3.93,245674,254276,5960,3765,13598,60133,94893,81887,https://images.gr-assets.com/books/1501159524m/32234.jpg,https://images.gr-assets.com/books/1501159524s/32234.jpg',\n",
              " '327,9275658,9275658,14157512,91,039925675X,9.78039925675e+12,Marie Lu,2011.0,Legend,\"Legend (Legend, #1)\",eng,4.19,299998,318472,23487,5069,11608,48677,106122,146996,https://images.gr-assets.com/books/1501368160m/9275658.jpg,https://images.gr-assets.com/books/1501368160s/9275658.jpg',\n",
              " '328,14866,14866,3375915,84,743496728,9.78074349673e+12,Jodi Picoult,2007.0,Nineteen Minutes,Nineteen Minutes,eng,4.1,235978,251693,14004,2852,9629,46237,94104,98871,https://s.gr-assets.com/assets/nophoto/book/111x148-bcc042a9c91a29c1d680899eff700a03.png,https://s.gr-assets.com/assets/nophoto/book/50x75-a91bf249278a81aabab721ef782c4a74.png',\n",
              " '329,2318271,2318271,3364076,111,1401323251,9.78140132326e+12,\"Randy Pausch, Jeffrey Zaslow\",2008.0,The Last Lecture,The Last Lecture,eng,4.25,241869,248143,14988,3004,8851,35547,76621,124120,https://images.gr-assets.com/books/1388075896m/2318271.jpg,https://images.gr-assets.com/books/1388075896s/2318271.jpg',\n",
              " '330,228665,228665,2008238,94,812511816,9.78081251182e+12,Robert Jordan,1990.0,The Eye of the World,\"The Eye of the World (Wheel of Time, #1)\",eng,4.18,260184,272983,8212,6163,11298,38946,88024,128552,https://images.gr-assets.com/books/1337818095m/228665.jpg,https://images.gr-assets.com/books/1337818095s/228665.jpg',\n",
              " '331,10916,10916,3349846,76,61150142,9.78006115014e+12,Jodi Picoult,1998.0,The Pact,The Pact,en-US,4.0,221225,235359,9257,3586,11789,50494,85430,84060,https://images.gr-assets.com/books/1410754561m/10916.jpg,https://images.gr-assets.com/books/1410754561s/10916.jpg',\n",
              " '332,65605,65605,1031537,312,60764902,9.78006076491e+12,C.S. Lewis,1953.0,The magician\\'s nephew,\"The Magician\\'s Nephew (Chronicles of Narnia, #6)\",eng,4.01,268355,303570,8690,3168,14602,69051,105375,111374,https://images.gr-assets.com/books/1308814770m/65605.jpg,https://images.gr-assets.com/books/1308814770s/65605.jpg',\n",
              " '333,2153405,2153405,2158906,107,595440096,9.78059544009e+12,Lisa Genova,2007.0,Still Alice,Still Alice,eng,4.3,223432,245071,24112,1178,4249,28642,96615,114387,https://s.gr-assets.com/assets/nophoto/book/111x148-bcc042a9c91a29c1d680899eff700a03.png,https://s.gr-assets.com/assets/nophoto/book/50x75-a91bf249278a81aabab721ef782c4a74.png',\n",
              " '334,13596809,13596809,19186128,81,425263916,9.78042526391e+12,Sylvia Day,2012.0,Reflected in You,\"Reflected in You (Crossfire, #2)\",eng,4.33,252564,267608,9817,2923,8651,33911,74587,147536,https://images.gr-assets.com/books/1477802540m/13596809.jpg,https://images.gr-assets.com/books/1477802540s/13596809.jpg',\n",
              " '335,6689,6689,2379261,182,375814248,9.78037581424e+12,\"Roald Dahl, Quentin Blake\",1961.0,James and the Giant Peach,James and the Giant Peach,eng,3.99,270402,289737,5120,4235,13199,65762,104078,102463,https://images.gr-assets.com/books/1320412586m/6689.jpg,https://images.gr-assets.com/books/1320412586s/6689.jpg',\n",
              " '336,13137,13137,1711194,107,446696617,9.78044669662e+12,James Patterson,2001.0,1st To Die,\"1st to Die (Women\\'s Murder Club, #1)\",en-US,4.05,233984,242428,5039,4464,10087,48616,83796,95465,https://s.gr-assets.com/assets/nophoto/book/111x148-bcc042a9c91a29c1d680899eff700a03.png,https://s.gr-assets.com/assets/nophoto/book/50x75-a91bf249278a81aabab721ef782c4a74.png',\n",
              " \"337,13,13,135328,32,345453743,9.78034545375e+12,Douglas Adams,1996.0,The Ultimate Hitchhiker's Guide: Five Complete Novels and One Story,The Ultimate Hitchhiker's Guide to the Galaxy,eng,4.37,222842,238420,4254,2657,6328,26431,66655,136349,https://images.gr-assets.com/books/1404613595m/13.jpg,https://images.gr-assets.com/books/1404613595s/13.jpg\",\n",
              " '338,6280118,6280118,6463667,129,340896965,9.78034089697e+12,David Nicholls,2009.0,One Day,One Day,eng,3.77,222926,247052,15937,8632,21291,59874,86793,70462,https://images.gr-assets.com/books/1327873020m/6280118.jpg,https://images.gr-assets.com/books/1327873020s/6280118.jpg',\n",
              " '339,32929,32929,1086867,98,60775858,9.78006077586e+12,\"Margaret Wise Brown, Clement Hurd\",1947.0,,Goodnight Moon,en-US,4.27,244842,252678,4604,4998,10298,37146,59629,140607,https://s.gr-assets.com/assets/nophoto/book/111x148-bcc042a9c91a29c1d680899eff700a03.png,https://s.gr-assets.com/assets/nophoto/book/50x75-a91bf249278a81aabab721ef782c4a74.png',\n",
              " '340,7747374,7747374,10576999,38,61969559,9.78006196955e+12,Pittacus Lore,2010.0,I Am Number Four,\"I Am Number Four (Lorien Legacies, #1)\",en-US,3.94,253437,270195,14101,6538,17766,58268,90409,97214,https://images.gr-assets.com/books/1305807140m/7747374.jpg,https://images.gr-assets.com/books/1305807140s/7747374.jpg',\n",
              " '341,1371,1371,3293141,1726,140275363,9.78014027536e+12,\"Homer, Robert Fagles, Frédéric Mugler, Bernard Knox\",-750.0,Ἰλιάς,The Iliad,eng,3.83,241088,273565,4763,7701,20845,68844,89384,86791,https://s.gr-assets.com/assets/nophoto/book/111x148-bcc042a9c91a29c1d680899eff700a03.png,https://s.gr-assets.com/assets/nophoto/book/50x75-a91bf249278a81aabab721ef782c4a74.png',\n",
              " '342,13497818,13497818,19926990,139,316228532,9.78031622853e+12,J.K. Rowling,2012.0,The Casual Vacancy,The Casual Vacancy,eng,3.28,231835,254461,28751,24583,38326,74611,75741,41200,https://images.gr-assets.com/books/1358266832m/13497818.jpg,https://images.gr-assets.com/books/1358266832s/13497818.jpg',\n",
              " '343,24192,24192,1022176,120,385339690,9.7803853397e+12,John Grisham,1996.0,The Runaway Jury,The Runaway Jury,eng,3.96,222712,226861,1700,1613,8950,56426,90284,69588,https://s.gr-assets.com/assets/nophoto/book/111x148-bcc042a9c91a29c1d680899eff700a03.png,https://s.gr-assets.com/assets/nophoto/book/50x75-a91bf249278a81aabab721ef782c4a74.png',\n",
              " '344,4138,4138,2086690,54,316777730,9.78031677774e+12,David Sedaris,1997.0,Naked,Naked,en-US,4.08,201337,204766,5096,2631,7051,37023,81934,76127,https://images.gr-assets.com/books/1394178867m/4138.jpg,https://images.gr-assets.com/books/1394178867s/4138.jpg',\n",
              " '345,45978,45978,2035753,163,375840400,9.7803758404e+12,Christopher Paolini,2005.0,Eldest,\"Eldest (The Inheritance Cycle, #2)\",en-US,3.96,250000,274059,8284,5483,16680,58948,95907,97041,https://images.gr-assets.com/books/1387119654m/45978.jpg,https://images.gr-assets.com/books/1387119654s/45978.jpg',\n",
              " '346,236093,236093,1993810,1474,140621679,9.78014062168e+12,\"L. Frank Baum, W.W. Denslow\",1900.0,The Wonderful Wizard of Oz,\"The Wonderful Wizard of Oz (Oz, #1)\",eng,3.98,247521,279400,8866,4197,13653,65910,95948,99692,https://images.gr-assets.com/books/1398003737m/236093.jpg,https://images.gr-assets.com/books/1398003737s/236093.jpg',\n",
              " '347,121749,121749,3348636,348,000720230X,9.7800072023e+12,C.S. Lewis,1951.0,Prince Caspian: The Return to Narnia,\"Prince Caspian (Chronicles of Narnia, #2)\",eng,3.96,250221,273069,4737,2399,12145,68026,101461,89038,https://images.gr-assets.com/books/1308814880m/121749.jpg,https://images.gr-assets.com/books/1308814880s/121749.jpg',\n",
              " '348,16143347,16143347,21975829,77,,,E. Lockhart,2014.0,We Were Liars,We Were Liars,eng,3.85,273442,298780,36910,9074,22616,68468,102385,96237,https://images.gr-assets.com/books/1402749479m/16143347.jpg,https://images.gr-assets.com/books/1402749479s/16143347.jpg',\n",
              " \"349,11590,11590,3048937,211,450031063,9.78045003107e+12,Stephen King,1975.0,Salem's Lot,'Salem's Lot,en-GB,3.99,228680,246360,6167,2713,11724,57171,89196,85556,https://images.gr-assets.com/books/1327891565m/11590.jpg,https://images.gr-assets.com/books/1327891565s/11590.jpg\",\n",
              " '350,7745,7745,1309111,98,679785892,9.7806797859e+12,\"Hunter S. Thompson, Ralph Steadman\",1971.0,Fear and Loathing in Las Vegas: A Savage Journey to the Heart of the American Dream,Fear and Loathing in Las Vegas,eng,4.08,232489,242140,5021,4730,11381,42362,84094,99573,https://images.gr-assets.com/books/1394204569m/7745.jpg,https://images.gr-assets.com/books/1394204569s/7745.jpg',\n",
              " '351,10025305,10025305,6674845,99,1416975888,9.78141697588e+12,Cassandra Clare,2011.0,Clockwork Prince,\"Clockwork Prince (The Infernal Devices, #2)\",eng,4.46,307994,328019,17854,3420,6235,29508,85633,203223,https://images.gr-assets.com/books/1460477747m/10025305.jpg,https://images.gr-assets.com/books/1460477747s/10025305.jpg',\n",
              " '352,20910157,20910157,40098620,29,62268341,9.78006226834e+12,Amy Poehler,2014.0,Yes Please,Yes Please,eng,3.81,251082,274223,20301,8886,19000,69227,96483,80627,https://images.gr-assets.com/books/1402815435m/20910157.jpg,https://images.gr-assets.com/books/1402815435s/20910157.jpg',\n",
              " '353,12996,12996,995103,1053,743477553,9.78074347755e+12,William Shakespeare,1603.0,\"The Tragedy of Othello, The Moor of Venice\",Othello,eng,3.88,238875,256757,4334,4281,16576,64922,92076,78902,https://images.gr-assets.com/books/1459795105m/12996.jpg,https://images.gr-assets.com/books/1459795105s/12996.jpg',\n",
              " '354,6149,6149,736076,153,1400033411,9.78140003342e+12,Toni Morrison,1987.0,Beloved,Beloved,eng,3.77,233825,245098,7749,12441,21409,53863,79915,77470,https://s.gr-assets.com/assets/nophoto/book/111x148-bcc042a9c91a29c1d680899eff700a03.png,https://s.gr-assets.com/assets/nophoto/book/50x75-a91bf249278a81aabab721ef782c4a74.png',\n",
              " '355,3236307,3236307,3270810,87,015206396X,9.78015206396e+12,Kristin Cashore,2008.0,Graceling,\"Graceling (Graceling Realm, #1)\",en-CA,4.1,281185,296630,19081,6773,13946,48894,99939,127078,https://images.gr-assets.com/books/1331548394m/3236307.jpg,https://images.gr-assets.com/books/1331548394s/3236307.jpg',\n",
              " '356,78411,78411,1069597,126,439206472,9.78043920647e+12,\"Lemony Snicket, Brett Helquist\",1999.0,The Bad Beginning,\"The Bad Beginning (A Series of Unfortunate Events, #1)\",eng,3.89,275670,295024,12794,6701,18612,70767,102585,96359,https://images.gr-assets.com/books/1490085391m/78411.jpg,https://images.gr-assets.com/books/1490085391s/78411.jpg',\n",
              " '357,355697,355697,2662852,372,449213943,9.78044921394e+12,\"Erich Maria Remarque, A.W. Wheen\",1929.0,Im Westen nichts Neues,All Quiet on the Western Front,en-US,3.92,249113,265789,6947,7646,17740,55908,90874,93621,https://images.gr-assets.com/books/1441227765m/355697.jpg,https://images.gr-assets.com/books/1441227765s/355697.jpg',\n",
              " '358,191139,191139,2125304,40,679805273,9.78067980527e+12,Dr. Seuss,1990.0,\"Oh, the Places You\\'ll Go!\",\"Oh, The Places You\\'ll Go!\",en-US,4.34,257260,260002,4021,3615,8150,33869,63795,150573,https://images.gr-assets.com/books/1421708635m/191139.jpg,https://images.gr-assets.com/books/1421708635s/191139.jpg',\n",
              " '359,16115612,16115612,21933087,135,159463176X,9.78159463176e+12,Khaled Hosseini,2012.0,And The Mountains Echoed,And the Mountains Echoed,eng,4.03,199326,229116,24084,2049,9146,45985,93953,77983,https://images.gr-assets.com/books/1358190204m/16115612.jpg,https://images.gr-assets.com/books/1358190204s/16115612.jpg',\n",
              " '360,7082,7082,830939,221,345404475,9.78034540447e+12,\"Philip K. Dick, Roger Zelazny\",1968.0,Do Androids Dream of Electric Sheep?,Do Androids Dream of Electric Sheep?,eng,4.08,223828,245008,8330,2097,8453,45683,100794,87981,https://images.gr-assets.com/books/1435458683m/7082.jpg,https://images.gr-assets.com/books/1435458683s/7082.jpg',\n",
              " '361,18254,18254,3057979,1787,141439742,9.78014143975e+12,\"Charles Dickens, George Cruikshank, Philip Horne\",1838.0,Oliver Twist,Oliver Twist,eng,3.85,230181,253163,5342,4766,15425,65342,96135,71495,https://images.gr-assets.com/books/1327868529m/18254.jpg,https://images.gr-assets.com/books/1327868529s/18254.jpg',\n",
              " '362,11149,17383917,2920952,231,60652896,9.78006065289e+12,C.S. Lewis,1942.0,A Grief Observed,The Screwtape Letters,eng,4.21,116277,238169,8285,4524,8925,34444,75279,114997,https://images.gr-assets.com/books/1347801873m/11149.jpg,https://images.gr-assets.com/books/1347801873s/11149.jpg',\n",
              " '363,6936382,6936382,7168450,79,525423273,9.78052542327e+12,Stephanie Perkins,2010.0,Anna and the French Kiss,\"Anna and the French Kiss (Anna and the French Kiss, #1)\",en-US,4.08,259479,285344,26153,10602,14781,46011,84323,129627,https://images.gr-assets.com/books/1358271931m/6936382.jpg,https://images.gr-assets.com/books/1358271931s/6936382.jpg',\n",
              " '364,113946,113946,267076,72,7173040,9.78000717304e+12,Dr. Seuss,1957.0,How the Grinch Stole Christmas!,How the Grinch Stole Christmas!,eng,4.36,250602,256127,2204,3438,7227,32673,63395,149394,https://images.gr-assets.com/books/1327958149m/113946.jpg,https://images.gr-assets.com/books/1327958149s/113946.jpg',\n",
              " '365,5805,5805,392838,72,1401207928,9.78140120792e+12,\"Alan Moore, David   Lloyd\",1990.0,V for Vendetta,V for Vendetta,eng,4.25,210682,220640,4138,3564,6593,29496,73094,107893,https://images.gr-assets.com/books/1343668985m/5805.jpg,https://images.gr-assets.com/books/1343668985s/5805.jpg',\n",
              " '366,2203,2203,963375,38,743223136,9.78074322313e+12,David McCullough,2001.0,John Adams,John Adams,eng,4.05,215780,220127,5334,11255,10372,30772,70601,97127,https://images.gr-assets.com/books/1478144278m/2203.jpg,https://images.gr-assets.com/books/1478144278s/2203.jpg',\n",
              " '367,14995,14995,4574034,82,553384287,9.78055338428e+12,Dean Koontz,2003.0,Odd Thomas,\"Odd Thomas (Odd Thomas, #1)\",eng,3.94,205986,213895,6357,10963,12869,39433,65984,84646,https://s.gr-assets.com/assets/nophoto/book/111x148-bcc042a9c91a29c1d680899eff700a03.png,https://s.gr-assets.com/assets/nophoto/book/50x75-a91bf249278a81aabab721ef782c4a74.png',\n",
              " '368,119324,119324,1570229,55,679879250,9.78067987925e+12,Philip Pullman,1997.0,The Subtle Knife,\"The Subtle Knife (His Dark Materials, #2)\",eng,4.1,242503,270785,6139,3905,11486,47802,96998,110594,https://images.gr-assets.com/books/1451271814m/119324.jpg,https://images.gr-assets.com/books/1451271814s/119324.jpg',\n",
              " '369,22232,22232,963221,85,439488400,9.7804394884e+12,Jerry Spinelli,2000.0,Stargirl,\"Stargirl (Stargirl, #1)\",eng,3.74,237560,245315,11717,9710,22399,62918,76059,74229,https://images.gr-assets.com/books/1335947642m/22232.jpg,https://images.gr-assets.com/books/1335947642s/22232.jpg',\n",
              " '370,7090447,7090447,7346572,76,1423113381,9.78142311339e+12,Rick Riordan,2010.0,The Red Pyramid,\"The Red Pyramid (Kane Chronicles, #1)\",eng,4.06,232791,242889,10914,4565,12571,46486,78216,101051,https://images.gr-assets.com/books/1366227978m/7090447.jpg,https://images.gr-assets.com/books/1366227978s/7090447.jpg',\n",
              " '371,350,350,908211,130,441788386,9.78044178838e+12,Robert A. Heinlein,1961.0,Stranger in a Strange Land,Stranger in a Strange Land,eng,3.91,220301,229222,6293,10416,16204,45343,69937,87322,https://images.gr-assets.com/books/1156897088m/350.jpg,https://images.gr-assets.com/books/1156897088s/350.jpg',\n",
              " '372,10176,10176,2582035,55,965904830,9.78096590483e+12,David Sedaris,2004.0,Dress Your Family in Corduroy and Denim,Dress Your Family in Corduroy and Denim,eng,4.08,191923,204247,5776,2483,6620,37230,82749,75165,https://images.gr-assets.com/books/1352983006m/10176.jpg,https://images.gr-assets.com/books/1352983006s/10176.jpg',\n",
              " '373,6319,6319,1249788,197,141311371,9.78014131137e+12,\"Roald Dahl, Quentin Blake\",1982.0,The BFG,The BFG,eng,4.22,245855,264369,7906,2987,7906,42480,86105,124891,https://images.gr-assets.com/books/1327872673m/6319.jpg,https://images.gr-assets.com/books/1327872673s/6319.jpg',\n",
              " '374,21,21,2305997,155,076790818X,9.78076790818e+12,Bill Bryson,2003.0,A Short History of Nearly Everything,A Short History of Nearly Everything,en-US,4.19,191535,206367,9065,3514,7196,29992,71534,94131,https://s.gr-assets.com/assets/nophoto/book/111x148-bcc042a9c91a29c1d680899eff700a03.png,https://s.gr-assets.com/assets/nophoto/book/50x75-a91bf249278a81aabab721ef782c4a74.png',\n",
              " '375,1852,1852,3252320,1384,439227143,9.78043922715e+12,Jack London,1903.0,The Call of the Wild,The Call of the Wild,eng,3.83,223932,248795,6770,6366,16636,62853,90382,72558,https://images.gr-assets.com/books/1452291694m/1852.jpg,https://images.gr-assets.com/books/1452291694s/1852.jpg',\n",
              " '376,7864437,7864437,11022464,88,385738773,9.78038573877e+12,James Dashner,2011.0,The Death Cure,\"The Death Cure (Maze Runner, #3)\",eng,3.77,223674,257184,19975,6731,23270,68067,84128,74988,https://images.gr-assets.com/books/1303997647m/7864437.jpg,https://images.gr-assets.com/books/1303997647s/7864437.jpg',\n",
              " '377,16793,16793,3166179,207,61142026,9.78006114202e+12,Neil Gaiman,1999.0,Stardust,Stardust,eng,4.07,237602,277184,13731,2959,10183,52599,109208,102235,https://images.gr-assets.com/books/1459127484m/16793.jpg,https://images.gr-assets.com/books/1459127484s/16793.jpg',\n",
              " '378,33917,33917,16171,93,618485228,9.78061848522e+12,Jhumpa Lahiri,2003.0,The Namesake,The Namesake,en-US,3.96,184211,192903,9824,1926,8889,42552,81043,58493,https://images.gr-assets.com/books/1480106986m/33917.jpg,https://images.gr-assets.com/books/1480106986s/33917.jpg',\n",
              " '379,8667848,8667848,13190160,99,670022411,9.78067002241e+12,Deborah Harkness,2011.0,A Discovery of Witches,\"A Discovery of Witches (All Souls Trilogy, #1)\",eng,3.99,226622,249735,25179,9304,16503,43523,79322,101083,https://images.gr-assets.com/books/1322168805m/8667848.jpg,https://images.gr-assets.com/books/1322168805s/8667848.jpg',\n",
              " '380,11297,11297,2956680,232,375704027,9.78037570402e+12,\"Haruki Murakami, Jay Rubin\",1987.0,ノルウェイの森 [Noruwei no Mori],Norwegian Wood,eng,4.02,183988,217817,12522,2927,10416,41293,87041,76140,https://s.gr-assets.com/assets/nophoto/book/111x148-bcc042a9c91a29c1d680899eff700a03.png,https://s.gr-assets.com/assets/nophoto/book/50x75-a91bf249278a81aabab721ef782c4a74.png',\n",
              " '381,5168,5168,1649,54,446672211,9.78044667221e+12,Billie Letts,1995.0,Where the Heart Is,Where the Heart Is,en-US,4.0,208333,210368,3147,2053,8967,48023,79147,72178,https://images.gr-assets.com/books/1327959469m/5168.jpg,https://images.gr-assets.com/books/1327959469s/5168.jpg',\n",
              " '382,6567017,6567017,6759965,86,525421580,9.78052542158e+12,\"John Green, David Levithan\",2010.0,\"Will Grayson, Will Grayson\",\"Will Grayson, Will Grayson\",eng,3.84,236431,254305,15782,8039,18868,60009,87132,80257,https://images.gr-assets.com/books/1368393890m/6567017.jpg,https://images.gr-assets.com/books/1368393890s/6567017.jpg',\n",
              " '383,1241,1241,3140930,69,307276902,9.7803072769e+12,James Frey,2003.0,A Million Little Pieces,A Million Little Pieces,en-CA,3.62,184241,189931,10857,9619,18950,51504,63727,46131,https://images.gr-assets.com/books/1483206985m/1241.jpg,https://images.gr-assets.com/books/1483206985s/1241.jpg',\n",
              " '384,2282133,2282133,6651004,93,1595141758,9.78159514175e+12,Richelle Mead,2008.0,Frostbite,\"Frostbite (Vampire Academy, #2)\",eng,4.3,256745,270065,10056,2851,7224,36392,84199,139399,https://images.gr-assets.com/books/1361098960m/2282133.jpg,https://images.gr-assets.com/books/1361098960s/2282133.jpg',\n",
              " \"385,8520610,8520610,13387396,86,307352145,9.78030735215e+12,Susan Cain,2012.0,Quiet: The Power of Introverts in a World that Can't Stop Talking,Quiet: The Power of Introverts in a World That Can't Stop Talking,eng,4.04,202135,221729,17573,5116,10093,39869,82757,83894,https://images.gr-assets.com/books/1328562861m/8520610.jpg,https://images.gr-assets.com/books/1328562861s/8520610.jpg\",\n",
              " '386,233818,233818,3215136,127,440439884,9.78044043988e+12,Scott O\\'Dell,1960.0,Island of the Blue Dolphins,\"Island of the Blue Dolphins (Island of the Blue Dolphins, #1)\",en-CA,3.8,236015,245968,6699,8175,19308,61975,80520,75990,https://images.gr-assets.com/books/1475166260m/233818.jpg,https://images.gr-assets.com/books/1475166260s/233818.jpg',\n",
              " '387,17250,17250,1426723,133,142437336,9.78014243734e+12,\"Arthur Miller, Christopher Bigsby\",1953.0,The Crucible,The Crucible,eng,3.55,242980,253242,5390,9010,29173,80661,83304,51094,https://images.gr-assets.com/books/1447764813m/17250.jpg,https://images.gr-assets.com/books/1447764813s/17250.jpg',\n",
              " '388,50,50,1158125,93,689840926,9.78068984092e+12,Gary Paulsen,1986.0,Hatchet,\"Hatchet (Brian\\'s Saga, #1)\",en-US,3.68,222553,231963,10378,12070,22390,59179,73180,65144,https://s.gr-assets.com/assets/nophoto/book/111x148-bcc042a9c91a29c1d680899eff700a03.png,https://s.gr-assets.com/assets/nophoto/book/50x75-a91bf249278a81aabab721ef782c4a74.png',\n",
              " '389,68428,68428,66322,75,076531178X,9.78076531179e+12,Brandon Sanderson,2006.0,Mistborn : The Final Empire,\"The Final Empire (Mistborn, #1)\",eng,4.43,208944,238993,16276,1783,4008,20554,76611,136037,https://images.gr-assets.com/books/1480717416m/68428.jpg,https://images.gr-assets.com/books/1480717416s/68428.jpg',\n",
              " '390,51496,51496,3164921,1974,451528956,9.78045152896e+12,\"Robert Louis Stevenson, Vladimir Nabokov, Mervyn Peake, Dan Chaon\",1886.0,The Strange Case of Dr Jekyll and Mr Hyde,The Strange Case of Dr. Jekyll and Mr. Hyde,eng,3.79,223535,259652,7958,2939,16110,76470,100514,63619,https://images.gr-assets.com/books/1318116526m/51496.jpg,https://images.gr-assets.com/books/1318116526s/51496.jpg',\n",
              " '391,7784,7784,886002,40,679889108,9.78067988911e+12,Dr. Seuss,1971.0,The Lorax,The Lorax,eng,4.35,226564,230363,3231,3193,6884,29815,57259,133212,https://images.gr-assets.com/books/1327879938m/7784.jpg,https://images.gr-assets.com/books/1327879938s/7784.jpg',\n",
              " '392,389627,389627,2617009,115,810993139,9.78081099314e+12,Jeff Kinney,2004.0,Greg Heffley\\'s Journal,\"Diary of a Wimpy Kid (Diary of a Wimpy Kid, #1)\",en-US,3.96,254852,263269,13337,10196,18564,53471,69722,111316,https://s.gr-assets.com/assets/nophoto/book/111x148-bcc042a9c91a29c1d680899eff700a03.png,https://s.gr-assets.com/assets/nophoto/book/50x75-a91bf249278a81aabab721ef782c4a74.png',\n",
              " '393,7896527,7896527,11138426,73,1599906953,9.78159990696e+12,Sarah J. Maas,2012.0,Throne of Glass,\"Throne of Glass (Throne of Glass, #1)\",eng,4.24,274987,327865,29145,8471,12115,41710,96202,169367,https://images.gr-assets.com/books/1495278054m/7896527.jpg,https://images.gr-assets.com/books/1495278054s/7896527.jpg',\n",
              " '394,2802316,2802316,6651006,88,1595141979,9.78159514197e+12,Richelle Mead,2008.0,Shadow Kiss,\"Shadow Kiss (Vampire Academy, #3)\",en-US,4.37,266742,278963,10074,2876,6532,32789,78293,158473,https://images.gr-assets.com/books/1361099049m/2802316.jpg,https://images.gr-assets.com/books/1361099049s/2802316.jpg',\n",
              " '395,46170,46170,2252079,371,684803356,9.78068480336e+12,Ernest Hemingway,1940.0,For Whom the Bell Tolls,For Whom the Bell Tolls,eng,3.95,195063,206219,4658,4578,11772,43122,75680,71067,https://images.gr-assets.com/books/1492591524m/46170.jpg,https://images.gr-assets.com/books/1492591524s/46170.jpg',\n",
              " '396,3367956,3367956,3407295,69,345505336,9.78034550533e+12,Jamie Ford,2009.0,Hotel on the Corner of Bitter and Sweet,Hotel on the Corner of Bitter and Sweet,eng,3.98,197294,211336,18120,2345,9368,44408,88468,66747,https://s.gr-assets.com/assets/nophoto/book/111x148-bcc042a9c91a29c1d680899eff700a03.png,https://s.gr-assets.com/assets/nophoto/book/50x75-a91bf249278a81aabab721ef782c4a74.png',\n",
              " '397,343,343,2977727,364,140120831,9.78014012084e+12,\"Patrick Süskind, John E. Woods\",1985.0,Das Parfum. Die Geschichte eines Mörders,Perfume: The Story of a Murderer,eng,4.0,178135,222754,10057,5659,12862,41804,78658,83771,https://images.gr-assets.com/books/1409112276m/343.jpg,https://images.gr-assets.com/books/1409112276s/343.jpg',\n",
              " '398,1097,1097,2207547,61,60838582,9.78006083858e+12,Eric Schlosser,2001.0,Fast Food Nation : The Dark Side of the All-American Meal ,Fast Food Nation: The Dark Side of the All-American Meal,eng,3.73,179347,183361,5063,7881,12314,47602,69009,46555,https://s.gr-assets.com/assets/nophoto/book/111x148-bcc042a9c91a29c1d680899eff700a03.png,https://s.gr-assets.com/assets/nophoto/book/50x75-a91bf249278a81aabab721ef782c4a74.png',\n",
              " '399,3950967,3950967,3007490,131,747599874,9.78074759988e+12,J.K. Rowling,2007.0,The Tales of Beedle the Bard,The Tales of Beedle the Bard,en-US,4.06,284833,319107,11330,3019,15025,69367,103350,128346,https://images.gr-assets.com/books/1373467575m/3950967.jpg,https://images.gr-assets.com/books/1373467575s/3950967.jpg',\n",
              " '400,22328,888628,909457,143,441569595,9.7804415696e+12,William Gibson,1984.0,Neuromancer,Neuromancer,eng,3.88,183878,202417,6623,9313,14728,40328,65376,72672,https://images.gr-assets.com/books/1167348726m/22328.jpg,https://images.gr-assets.com/books/1167348726s/22328.jpg',\n",
              " '401,10799,10799,4652599,425,99910101,9.78009991011e+12,Ernest Hemingway,1929.0,A Farewell to Arms,A Farewell to Arms,en-US,3.79,186613,207523,7249,6224,16181,50604,77096,57418,https://images.gr-assets.com/books/1313714836m/10799.jpg,https://images.gr-assets.com/books/1313714836s/10799.jpg',\n",
              " '402,391729,391729,1383053,12,553212281,9.78055321228e+12,Edgar Allan Poe,1843.0,The Tell-Tale Heart,The Tell-Tale Heart and Other Writings,en-GB,4.15,195689,197636,1050,2456,6438,33803,70786,84153,https://images.gr-assets.com/books/1327936583m/391729.jpg,https://images.gr-assets.com/books/1327936583s/391729.jpg',\n",
              " '403,10534,10534,3200649,1865,1590302257,9.78159030226e+12,\"Sun Tzu, Thomas Cleary\",-500.0,孫子兵法 [Sūnzi bīngfǎ],The Art of War,eng,3.95,167332,203948,6335,2930,11589,48265,70644,70520,https://images.gr-assets.com/books/1453417993m/10534.jpg,https://images.gr-assets.com/books/1453417993s/10534.jpg',\n",
              " '404,11367726,11367726,16298550,76,385344228,9.78038534423e+12,William Landay,2012.0,Defending Jacob,Defending Jacob,eng,3.97,182025,202066,17681,2777,8608,42024,87107,61550,https://images.gr-assets.com/books/1329612158m/11367726.jpg,https://images.gr-assets.com/books/1329612158s/11367726.jpg',\n",
              " '405,4980,4980,2859378,112,385334206,9.7803853342e+12,Kurt Vonnegut Jr.,1973.0,Breakfast of Champions,Breakfast of Champions,eng,4.08,178154,187177,5265,2137,7189,34421,72558,70872,https://images.gr-assets.com/books/1327934446m/4980.jpg,https://images.gr-assets.com/books/1327934446s/4980.jpg',\n",
              " '406,627206,627206,1763052,64,874774241,9.78087477424e+12,Betty Edwards,1979.0,Drawing on the Right Side of the Brain,The New Drawing on the Right Side of the Brain,en-US,3.84,218264,224450,591,16846,16544,44024,56358,90678,https://s.gr-assets.com/assets/nophoto/book/111x148-bcc042a9c91a29c1d680899eff700a03.png,https://s.gr-assets.com/assets/nophoto/book/50x75-a91bf249278a81aabab721ef782c4a74.png',\n",
              " '407,5826,5826,859342,77,60838728,9.78006083872e+12,Ann Patchett,2001.0,Bel Canto,Bel Canto,eng,3.92,192330,200256,12134,4523,13395,43193,71190,67955,https://images.gr-assets.com/books/1352997328m/5826.jpg,https://images.gr-assets.com/books/1352997328s/5826.jpg',\n",
              " '408,1842,1842,2138852,118,739467352,9.78073946735e+12,Jared Diamond,1997.0,\"Guns, Germs, and Steel: The Fates of Human Societies\",\"Guns, Germs, and Steel: The Fates of Human Societies\",eng,4.0,171558,185443,7872,4352,9752,35299,68549,67491,https://images.gr-assets.com/books/1453215833m/1842.jpg,https://images.gr-assets.com/books/1453215833s/1842.jpg',\n",
              " '409,9375,9375,2129359,94,375508414,9.78037550842e+12,Fannie Flagg,1987.0,Fried Green Tomatoes at the Whistle Stop Cafe,Fried Green Tomatoes at the Whistle Stop Cafe,,4.26,207508,216286,4439,1259,4353,31358,79626,99690,https://s.gr-assets.com/assets/nophoto/book/111x148-bcc042a9c91a29c1d680899eff700a03.png,https://s.gr-assets.com/assets/nophoto/book/50x75-a91bf249278a81aabab721ef782c4a74.png',\n",
              " '410,37781,37781,825843,161,385474547,9.78038547454e+12,Chinua Achebe,1958.0,Things Fall Apart,\"Things Fall Apart (The African Trilogy, #1)\",en-US,3.61,199346,213360,9884,9494,22041,59144,74584,48097,https://images.gr-assets.com/books/1352082529m/37781.jpg,https://images.gr-assets.com/books/1352082529s/37781.jpg',\n",
              " '411,33722,33722,2914,99,385338694,9.78038533869e+12,Sophie Kinsella,2005.0,The Undomestic Goddess,The Undomestic Goddess,eng,3.82,200509,209361,6772,4985,13344,56048,75290,59694,https://s.gr-assets.com/assets/nophoto/book/111x148-bcc042a9c91a29c1d680899eff700a03.png,https://s.gr-assets.com/assets/nophoto/book/50x75-a91bf249278a81aabab721ef782c4a74.png',\n",
              " '412,567795,23878688,832090,147,1881273156,9.78188127316e+12,Gary Chapman,1990.0,The Five Love Languages: How to Express Heartfelt Commitment to Your Mate,The Five Love Languages: How to Express Heartfelt Commitment to Your Mate,en-US,4.23,165675,195438,7647,2672,6275,29306,63108,94077,https://images.gr-assets.com/books/1369401342m/567795.jpg,https://images.gr-assets.com/books/1369401342s/567795.jpg',\n",
              " '413,7190,7190,1263212,1341,,,Alexandre Dumas,1844.0,Les Trois Mousquetaires,The Three Musketeers,,4.06,195274,221481,4974,2176,8195,46090,83254,81766,https://images.gr-assets.com/books/1320436982m/7190.jpg,https://images.gr-assets.com/books/1320436982s/7190.jpg',\n",
              " '414,6948436,6948436,4126074,82,1416589643,9.78141658965e+12,Chris Cleave,2008.0,The Other Hand,Little Bee,en-US,3.7,116784,197953,19680,5111,16849,54949,77107,43937,https://images.gr-assets.com/books/1344401905m/6948436.jpg,https://images.gr-assets.com/books/1344401905s/6948436.jpg',\n",
              " '415,3975774,3975774,4021549,78,031253275X,9.78031253276e+12,Alyson Noel,2009.0,Evermore,\"Evermore (The Immortals, #1)\",en-US,3.59,230031,235704,9228,16941,29301,59174,59075,71213,https://images.gr-assets.com/books/1362336360m/3975774.jpg,https://images.gr-assets.com/books/1362336360s/3975774.jpg',\n",
              " '416,6327,6327,105046,174,590032496,9.78059003249e+12,\"Roald Dahl, Quentin Blake\",1983.0,The Witches,The Witches,en-US,4.17,221431,234145,5190,3156,7583,40191,79598,103617,https://images.gr-assets.com/books/1351707720m/6327.jpg,https://images.gr-assets.com/books/1351707720s/6327.jpg',\n",
              " '417,40440,40440,849453,137,743298020,9.78074329802e+12,Diane Setterfield,2006.0,The Thirteenth Tale,The Thirteenth Tale,eng,3.95,213200,228602,19432,4510,12847,49274,85569,76402,https://images.gr-assets.com/books/1346267826m/40440.jpg,https://images.gr-assets.com/books/1346267826s/40440.jpg',\n",
              " '418,6479259,6479259,6670482,71,1595142509,9.7815951425e+12,Richelle Mead,2010.0,Spirit Bound,\"Spirit Bound (Vampire Academy, #5)\",eng,4.37,224247,235076,8030,2755,5907,26981,66097,133336,https://images.gr-assets.com/books/1291168967m/6479259.jpg,https://images.gr-assets.com/books/1291168967s/6479259.jpg',\n",
              " '419,5996153,5996153,6651007,76,1595141987,9.78159514199e+12,Richelle Mead,2009.0,Blood Promise,\"Blood Promise (Vampire Academy, #4)\",en-US,4.35,231853,244376,8782,2186,6182,30711,70250,135047,https://images.gr-assets.com/books/1442530605m/5996153.jpg,https://images.gr-assets.com/books/1442530605s/5996153.jpg',\n",
              " '420,3478,3478,1622450,133,446676071,9.78044667608e+12,Nicholas Sparks,1998.0,Message in a Bottle,Message in a Bottle,en-US,3.95,185116,192001,3721,4500,11979,44190,59999,71333,https://images.gr-assets.com/books/1163789140m/3478.jpg,https://images.gr-assets.com/books/1163789140s/3478.jpg',\n",
              " '421,8683812,8683812,13556031,77,345521307,9.78034552131e+12,Paula McLain,2011.0,The Paris Wife,The Paris Wife,eng,3.79,191850,207590,18836,3575,12959,53900,89887,47269,https://images.gr-assets.com/books/1320545874m/8683812.jpg,https://images.gr-assets.com/books/1320545874s/8683812.jpg',\n",
              " '422,862041,862041,2962492,76,545044251,9.78054504426e+12,J.K. Rowling,1998.0,Complete Harry Potter Boxed Set,\"Harry Potter Boxset (Harry Potter, #1-7)\",eng,4.74,190050,204125,6508,1105,1285,7020,30666,164049,https://images.gr-assets.com/books/1392579059m/862041.jpg,https://images.gr-assets.com/books/1392579059s/862041.jpg',\n",
              " '423,16248068,16248068,20397129,84,62059963,9.78006205996e+12,Kiera Cass,2013.0,The Elite,\"The Elite (The Selection, #2)\",eng,4.02,234247,269816,21810,4780,15546,53644,91201,104645,https://images.gr-assets.com/books/1391454595m/16248068.jpg,https://images.gr-assets.com/books/1391454595s/16248068.jpg',\n",
              " '424,119073,119073,3138328,428,156001314,9.78015600131e+12,\"Umberto Eco, William Weaver, Seán Barrett\",1980.0,Il nome della rosa,The Name of the Rose,en-US,4.11,200217,224974,6075,4575,10031,36282,79311,94775,https://images.gr-assets.com/books/1415375471m/119073.jpg,https://images.gr-assets.com/books/1415375471s/119073.jpg',\n",
              " '425,46799,46799,2115708,92,1416914633,9.78141691463e+12,\"Beatrice Sparks, Anonymous\",1971.0,Go Ask Alice,Go Ask Alice,eng,3.77,196677,205554,9202,7940,18269,51957,63188,64200,https://images.gr-assets.com/books/1327870536m/46799.jpg,https://images.gr-assets.com/books/1327870536s/46799.jpg',\n",
              " '426,310612,310612,968084,131,802130208,9.7808021302e+12,\"John Kennedy Toole, Walker Percy\",1980.0,A Confederacy of Dunces,A Confederacy of Dunces,eng,3.89,170776,185391,11881,10993,15078,31369,54306,73645,https://images.gr-assets.com/books/1436747103m/310612.jpg,https://images.gr-assets.com/books/1436747103s/310612.jpg',\n",
              " '427,92303,92303,649216,728,158049580X,9.78158049581e+12,Oscar Wilde,1895.0,The Importance of Being Earnest,The Importance of Being Earnest,eng,4.17,210630,232256,6560,2127,7457,38513,85492,98667,https://s.gr-assets.com/assets/nophoto/book/111x148-bcc042a9c91a29c1d680899eff700a03.png,https://s.gr-assets.com/assets/nophoto/book/50x75-a91bf249278a81aabab721ef782c4a74.png',\n",
              " '428,12127750,12127750,17115055,65,1423140605,9.7814231406e+12,Rick Riordan,2012.0,The Mark of Athena,\"The Mark of Athena (The Heroes of Olympus, #3)\",eng,4.47,277491,293586,13332,2771,4480,26318,77876,182141,https://images.gr-assets.com/books/1464201354m/12127750.jpg,https://images.gr-assets.com/books/1464201354s/12127750.jpg',\n",
              " '429,34497,34497,194190,153,60855924,9.78006085592e+12,Terry Pratchett,1983.0,The Colour of Magic,\"The Color of Magic (Discworld, #1; Rincewind #1)\",eng,3.97,190590,225614,6520,3601,11554,50463,81295,78701,https://images.gr-assets.com/books/1407111017m/34497.jpg,https://images.gr-assets.com/books/1407111017s/34497.jpg',\n",
              " '430,4929,4929,6191072,157,1400079276,9.78140007928e+12,\"Haruki Murakami, Philip Gabriel\",2002.0,海辺のカフカ [Umibe no Kafuka],Kafka on the Shore,en-US,4.13,167593,195365,13279,2593,7557,30809,75564,78842,https://s.gr-assets.com/assets/nophoto/book/111x148-bcc042a9c91a29c1d680899eff700a03.png,https://s.gr-assets.com/assets/nophoto/book/50x75-a91bf249278a81aabab721ef782c4a74.png',\n",
              " '431,28877,28877,925503,191,525945563,9.78052594557e+12,Thomas Harris,1981.0,Red Dragon,\"Red Dragon (Hannibal Lecter, #1)\",eng,4.01,194013,205433,3309,3012,7790,43235,80662,70734,https://s.gr-assets.com/assets/nophoto/book/111x148-bcc042a9c91a29c1d680899eff700a03.png,https://s.gr-assets.com/assets/nophoto/book/50x75-a91bf249278a81aabab721ef782c4a74.png',\n",
              " '432,41804,41804,1796026,218,553803700,9.78055380371e+12,Isaac Asimov,1950.0,\"I, Robot\",\"I, Robot (Robot #0.1)\",eng,4.17,198368,210219,4335,1221,5332,35107,82535,86024,https://images.gr-assets.com/books/1388321463m/41804.jpg,https://images.gr-assets.com/books/1388321463s/41804.jpg',\n",
              " '433,42899,42899,2158128,73,451216954,9.78045121695e+12,J.R. Ward,2005.0,Dark Lover,\"Dark Lover (Black Dagger Brotherhood, #1)\",eng,4.21,227021,238633,10769,6659,10012,33160,64879,123923,https://images.gr-assets.com/books/1429676285m/42899.jpg,https://images.gr-assets.com/books/1429676285s/42899.jpg',\n",
              " '434,7791997,7791997,6867038,73,1416989439,9.78141698943e+12,Becca Fitzpatrick,2010.0,Crescendo,\"Crescendo (Hush, Hush, #2)\",en-US,4.07,226237,234040,10041,5296,13835,43129,68217,103563,https://images.gr-assets.com/books/1362408146m/7791997.jpg,https://images.gr-assets.com/books/1362408146s/7791997.jpg',\n",
              " '435,6482837,6482837,6674135,82,61726818,9.78006172681e+12,Lauren Oliver,2010.0,Before I Fall,Before I Fall,eng,3.92,220160,232559,17705,6283,15320,50933,79050,80973,https://images.gr-assets.com/books/1361044695m/6482837.jpg,https://images.gr-assets.com/books/1361044695s/6482837.jpg',\n",
              " '436,9777,9777,810135,168,679457313,9.78067945731e+12,Arundhati Roy,1997.0,The God of Small Things,The God of Small Things,eng,3.91,165378,182127,9294,5833,12631,37349,61880,64434,https://images.gr-assets.com/books/1436217001m/9777.jpg,https://images.gr-assets.com/books/1436217001s/9777.jpg',\n",
              " '437,18079776,18079776,25387072,63,670024783,9.78067002478e+12,Sue Monk Kidd,2014.0,The Invention of Wings,The Invention of Wings,en-US,4.23,168006,193774,19518,1466,4021,25745,80524,82018,https://images.gr-assets.com/books/1386699861m/18079776.jpg,https://images.gr-assets.com/books/1386699861s/18079776.jpg',\n",
              " '438,6469165,6469165,6659752,68,141043768,9.78014104376e+12,Liane Moriarty,2009.0,What Alice Forgot,What Alice Forgot,eng,4.05,165704,205778,17382,1599,6071,38562,93941,65605,https://images.gr-assets.com/books/1377159022m/6469165.jpg,https://images.gr-assets.com/books/1377159022s/6469165.jpg',\n",
              " '439,3869,3869,2192250,246,553380168,9.78055338016e+12,\"Stephen Hawking, Cao Chi, Phạm Văn Thiều\",1987.0,A Brief History of Time: From the Big Bang to Black Holes,A Brief History of Time,eng,4.12,165628,181410,5146,2487,6028,30632,70364,71899,https://images.gr-assets.com/books/1333578746m/3869.jpg,https://images.gr-assets.com/books/1333578746s/3869.jpg',\n",
              " '440,7315573,7315573,8842841,140,525951652,9.78052595165e+12,Ken Follett,2010.0,Fall of Giants,\"Fall of Giants (The Century Trilogy, #1)\",eng,4.26,168911,190478,11859,2009,5158,24893,68375,90043,https://images.gr-assets.com/books/1470384630m/7315573.jpg,https://images.gr-assets.com/books/1470384630s/7315573.jpg',\n",
              " '441,6320534,6320534,6760952,110,1439148503,9.7814391485e+12,Stephen King,2009.0,Under the Dome,Under the Dome,eng,3.89,183292,201322,13086,4863,12998,44938,74323,64200,https://images.gr-assets.com/books/1268982908m/6320534.jpg,https://images.gr-assets.com/books/1268982908s/6320534.jpg',\n",
              " '442,830,830,493634,80,553380958,9.78055338096e+12,Neal Stephenson,1992.0,Snow Crash,Snow Crash,eng,4.02,175883,187292,7075,7982,10158,29605,61336,78211,https://images.gr-assets.com/books/1477624625m/830.jpg,https://images.gr-assets.com/books/1477624625s/830.jpg',\n",
              " '443,51738,51738,1032901,61,670061050,9.78067006105e+12,Sarah Dessen,2006.0,Just Listen,Just Listen,en-US,4.06,202180,207930,7319,3665,10143,40684,68323,85115,https://images.gr-assets.com/books/1358270741m/51738.jpg,https://images.gr-assets.com/books/1358270741s/51738.jpg',\n",
              " '444,99107,99107,1225592,244,525467564,9.78052546756e+12,\"A.A. Milne, Ernest H. Shepard\",1926.0,Winnie-the-Pooh,\"Winnie-the-Pooh (Winnie-the-Pooh, #1)\",eng,4.34,207550,215213,2978,2636,5254,28148,60427,118748,https://s.gr-assets.com/assets/nophoto/book/111x148-bcc042a9c91a29c1d680899eff700a03.png,https://s.gr-assets.com/assets/nophoto/book/50x75-a91bf249278a81aabab721ef782c4a74.png',\n",
              " '445,9736930,9736930,14625976,150,62060554,9.78006206056e+12,S.J. Watson,2011.0,Before I Go to Sleep,Before I Go to Sleep,en-CA,3.87,180896,213136,19206,3703,12436,51695,84940,60362,https://images.gr-assets.com/books/1358353512m/9736930.jpg,https://images.gr-assets.com/books/1358353512s/9736930.jpg',\n",
              " '446,102868,102868,1997473,1106,1420925539,9.78142092553e+12,Arthur Conan Doyle,1887.0,A Study in Scarlet,A Study in Scarlet,eng,4.15,201499,220115,6954,2318,5550,38107,85345,88795,https://s.gr-assets.com/assets/nophoto/book/111x148-bcc042a9c91a29c1d680899eff700a03.png,https://s.gr-assets.com/assets/nophoto/book/50x75-a91bf249278a81aabab721ef782c4a74.png',\n",
              " '447,2248573,2248573,3124969,143,375826726,9.78037582673e+12,Christopher Paolini,2008.0,Brisingr,\"Brisingr (The Inheritance Cycle, #3)\",eng,4.03,211645,226941,7993,4273,13094,44147,75689,89738,https://s.gr-assets.com/assets/nophoto/book/111x148-bcc042a9c91a29c1d680899eff700a03.png,https://s.gr-assets.com/assets/nophoto/book/50x75-a91bf249278a81aabab721ef782c4a74.png',\n",
              " '448,56495,56495,2265235,149,310276993,9.780310277e+12,Rick Warren,2002.0,The Purpose Driven Life: What on Earth am I Here For?,The Purpose Driven Life: What on Earth Am I Here for?,en-US,3.9,170491,176463,2755,9635,13051,34305,48395,71077,https://s.gr-assets.com/assets/nophoto/book/111x148-bcc042a9c91a29c1d680899eff700a03.png,https://s.gr-assets.com/assets/nophoto/book/50x75-a91bf249278a81aabab721ef782c4a74.png',\n",
              " '449,676924,676924,662923,80,312360282,9.78031236028e+12,\"P.C. Cast, Kristin Cast\",2007.0,Betrayed: a House of Night Novel,\"Betrayed (House of Night, #2)\",en-US,3.93,205340,213261,4993,6222,15443,47467,62243,81886,https://s.gr-assets.com/assets/nophoto/book/111x148-bcc042a9c91a29c1d680899eff700a03.png,https://s.gr-assets.com/assets/nophoto/book/50x75-a91bf249278a81aabab721ef782c4a74.png',\n",
              " '450,47212,47212,1137060,75,451457811,9.78045145781e+12,Jim Butcher,2000.0,Storm Front,\"Storm Front (The Dresden Files, #1)\",en-US,4.02,203053,219442,12005,3325,9842,45940,80371,79964,https://images.gr-assets.com/books/1419456275m/47212.jpg,https://images.gr-assets.com/books/1419456275s/47212.jpg',\n",
              " '451,50398,50398,4039699,122,1593082649,9.78159308264e+12,\"Jane Austen, Alfred MacAdam\",1817.0,Northanger Abbey,Northanger Abbey,eng,3.8,205167,232299,8616,4132,15938,65157,84363,62709,https://s.gr-assets.com/assets/nophoto/book/111x148-bcc042a9c91a29c1d680899eff700a03.png,https://s.gr-assets.com/assets/nophoto/book/50x75-a91bf249278a81aabab721ef782c4a74.png',\n",
              " '452,16101128,16101128,19187812,102,399162410,9.78039916241e+12,Rick Yancey,2013.0,The 5th Wave,\"The 5th Wave (The 5th Wave, #1)\",eng,4.1,260048,287540,26756,6176,13097,47631,98816,121820,https://images.gr-assets.com/books/1359853842m/16101128.jpg,https://images.gr-assets.com/books/1359853842s/16101128.jpg',\n",
              " '453,10920,10920,1006369,97,802142842,9.78080214285e+12,Charles Frazier,1997.0,Cold Mountain,Cold Mountain,en-US,3.83,185979,190137,4884,6078,14021,43914,68143,57981,https://s.gr-assets.com/assets/nophoto/book/111x148-bcc042a9c91a29c1d680899eff700a03.png,https://s.gr-assets.com/assets/nophoto/book/50x75-a91bf249278a81aabab721ef782c4a74.png',\n",
              " '454,767680,767680,3132746,41,60245867,9.78006024586e+12,\"Laura Joffe Numeroff, Felicia Bond\",1985.0,If You Give a Mouse a Cookie,If You Give a Mouse a Cookie,en-US,4.24,198083,198778,3016,3208,7772,32336,50573,104889,https://images.gr-assets.com/books/1276046901m/767680.jpg,https://images.gr-assets.com/books/1276046901s/767680.jpg',\n",
              " '455,42155,42155,1470371,43,312323867,9.78031232387e+12,Emily Giffin,2005.0,Something Blue,\"Something Blue (Darcy & Rachel, #2)\",en-US,3.92,172417,178529,6646,2164,9144,44161,68226,54834,https://s.gr-assets.com/assets/nophoto/book/111x148-bcc042a9c91a29c1d680899eff700a03.png,https://s.gr-assets.com/assets/nophoto/book/50x75-a91bf249278a81aabab721ef782c4a74.png',\n",
              " '456,12220,12220,142449,109,822210894,9.78082221089e+12,Tennessee Williams,1947.0,A Streetcar Named Desire,A Streetcar Named Desire,eng,3.97,194493,206983,2841,3436,11347,45238,74929,72033,https://s.gr-assets.com/assets/nophoto/book/111x148-bcc042a9c91a29c1d680899eff700a03.png,https://s.gr-assets.com/assets/nophoto/book/50x75-a91bf249278a81aabab721ef782c4a74.png',\n",
              " '457,10692,10692,3061272,129,751537284,9.78075153728e+12,Elizabeth Kostova,2005.0,The Historian,The Historian,eng,3.77,190473,207529,14252,8554,18768,48197,68781,63229,https://images.gr-assets.com/books/1338298031m/10692.jpg,https://images.gr-assets.com/books/1338298031s/10692.jpg',\n",
              " '458,20170404,20170404,28098716,63,385353308,9.7803853533e+12,Emily St. John Mandel,2014.0,Station Eleven,Station Eleven,eng,4.02,160466,189380,24215,4039,8449,33537,77755,65600,https://images.gr-assets.com/books/1451446835m/20170404.jpg,https://images.gr-assets.com/books/1451446835s/20170404.jpg',\n",
              " '459,18774964,18774964,21619954,132,1476738017,9.78147673802e+12,\"Fredrik Backman, Henning Koch\",2012.0,En man som heter Ove,A Man Called Ove,eng,4.35,183777,243440,34386,2589,5734,25138,81377,128602,https://images.gr-assets.com/books/1405259930m/18774964.jpg,https://images.gr-assets.com/books/1405259930s/18774964.jpg',\n",
              " '460,18335634,18335634,6309710,79,1406321346,9.78140632134e+12,Cassandra Clare,2013.0,Clockwork Princess,\"Clockwork Princess (The Infernal Devices, #3)\",eng,4.59,162099,247984,23261,1935,3804,16964,49313,175968,https://images.gr-assets.com/books/1436788488m/18335634.jpg,https://images.gr-assets.com/books/1436788488s/18335634.jpg',\n",
              " '461,1078,1078,2346070,210,1416500189,9.78141650019e+12,Pearl S. Buck,1931.0,The Good Earth,\"The Good Earth (House of Earth, #1)\",eng,3.97,182220,193405,8259,5262,11487,38413,67056,71187,https://images.gr-assets.com/books/1312497600m/1078.jpg,https://images.gr-assets.com/books/1312497600s/1078.jpg',\n",
              " '462,2784,2784,2507145,34,140135154,9.78014013515e+12,John Berger,1972.0,Ways of Seeing,Ways of Seeing,eng,3.75,155658,156859,790,13276,13342,32193,39251,58797,https://images.gr-assets.com/books/1464018308m/2784.jpg,https://images.gr-assets.com/books/1464018308s/2784.jpg',\n",
              " '463,5364,5364,2866304,141,385335970,9.78038533597e+12,Diana Gabaldon,1992.0,Dragonfly in Amber,\"Dragonfly in Amber (Outlander, #2)\",eng,4.31,178110,210989,12025,1200,4958,27491,70976,106364,https://images.gr-assets.com/books/1456114344m/5364.jpg,https://images.gr-assets.com/books/1456114344s/5364.jpg',\n",
              " '464,1923820,1923820,6405906,1449,,,Anonymous,1611.0,,Holy Bible: King James Version,eng,4.43,159457,171594,4438,10011,6802,11712,14338,128731,https://images.gr-assets.com/books/1313518530m/1923820.jpg,https://images.gr-assets.com/books/1313518530s/1923820.jpg',\n",
              " '465,14758,14758,964332,53,743495667,9.78074349566e+12,Jennifer Weiner,2002.0,In Her Shoes,In Her Shoes,,3.78,167400,174338,2513,3345,11596,50482,64358,44557,https://images.gr-assets.com/books/1435252471m/14758.jpg,https://images.gr-assets.com/books/1435252471s/14758.jpg',\n",
              " '466,659469,659469,16998382,44,345368584,9.78034536858e+12,\"Chuck Dixon, J.R.R. Tolkien, David Wenzel, Sean Deming\",1989.0,The Hobbit,The Hobbit: Graphic Novel,eng,4.48,155338,159435,957,991,2180,14437,43107,98720,https://images.gr-assets.com/books/1374681632m/659469.jpg,https://images.gr-assets.com/books/1374681632s/659469.jpg',\n",
              " '467,297673,297673,3281466,9,1594489580,9.78159448959e+12,Junot Díaz,2007.0,The Brief Wondrous Life of Oscar Wao,The Brief Wondrous Life of Oscar Wao,eng,3.89,160330,181124,16640,5212,12924,37298,67080,58610,https://images.gr-assets.com/books/1391409748m/297673.jpg,https://images.gr-assets.com/books/1391409748s/297673.jpg',\n",
              " '468,37415,37415,1643555,80,61120065,9.78006112006e+12,Zora Neale Hurston,1937.0,Their Eyes Were Watching God,Their Eyes Were Watching God,eng,3.87,181106,198264,9005,5743,14231,44676,69779,63835,https://images.gr-assets.com/books/1368072803m/37415.jpg,https://images.gr-assets.com/books/1368072803s/37415.jpg',\n",
              " '469,41899,41899,4195128,123,439321603,9.7804393216e+12,\"Newt Scamander, J.K. Rowling, Albus Dumbledore\",2001.0,Fantastic Beasts and Where to Find Them,Fantastic Beasts and Where to Find Them,eng,3.95,185928,209465,6523,2847,13155,52573,64027,76863,https://images.gr-assets.com/books/1303738520m/41899.jpg,https://images.gr-assets.com/books/1303738520s/41899.jpg',\n",
              " '470,17851885,17851885,24987300,129,316322407,9.78031632241e+12,\"Malala Yousafzai, Christina Lamb\",2012.0,I Am Malala: The Girl Who Stood Up for Education and Was Shot by the Taliban,I Am Malala: The Story of the Girl Who Stood Up for Education and Was Shot by the Taliban,eng,4.06,214412,227850,14667,7433,9470,38518,77944,94485,https://images.gr-assets.com/books/1375414895m/17851885.jpg,https://images.gr-assets.com/books/1375414895s/17851885.jpg',\n",
              " '471,45032,45032,2722329,1208,141439807,9.78014143981e+12,\"Jane Austen, Kathryn Sutherland, Tony Tanner, Claire Lamont\",1814.0,Mansfield Park,Mansfield Park,eng,3.84,205064,224467,7046,4183,14784,59163,82001,64336,https://images.gr-assets.com/books/1397063295m/45032.jpg,https://images.gr-assets.com/books/1397063295s/45032.jpg',\n",
              " \"472,4069,4069,3389674,187,080701429X,9.7808070143e+12,Viktor E. Frankl,1946.0,…trotzdem Ja zum Leben sagen: Ein Psychologe erlebt das Konzentrationslager,Man's Search for Meaning,eng,4.33,171281,193751,10147,2161,4948,23224,59644,103774,https://images.gr-assets.com/books/1467136625m/4069.jpg,https://images.gr-assets.com/books/1467136625s/4069.jpg\",\n",
              " '473,237209,237209,3088141,78,670038601,9.7806700386e+12,Tana French,2007.0,In the Woods,\"In the Woods (Dublin Murder Squad, #1)\",eng,3.74,188024,201721,15392,6553,15636,51430,77182,50920,https://images.gr-assets.com/books/1348442606m/237209.jpg,https://images.gr-assets.com/books/1348442606s/237209.jpg',\n",
              " '474,14743,14743,3044365,104,618680004,9.78061868001e+12,Richard Dawkins,2006.0,The God Delusion,The God Delusion,eng,3.89,162740,176774,6812,9571,11019,31723,60769,63692,https://images.gr-assets.com/books/1347220693m/14743.jpg,https://images.gr-assets.com/books/1347220693s/14743.jpg',\n",
              " '475,8492825,8492825,10706553,8,525422943,9.78052542294e+12,Gayle Forman,2011.0,Where She Went,\"Where She Went (If I Stay, #2)\",en-US,4.06,193141,218362,18556,2856,10629,43007,76839,85031,https://images.gr-assets.com/books/1347810457m/8492825.jpg,https://images.gr-assets.com/books/1347810457s/8492825.jpg',\n",
              " '476,7069,7069,1028204,165,345915593,9.7803459156e+12,John Irving,1978.0,The World According to Garp,The World According to Garp,eng,4.07,167106,179078,4569,3098,7716,31528,67942,68794,https://images.gr-assets.com/books/1447234581m/7069.jpg,https://images.gr-assets.com/books/1447234581s/7069.jpg',\n",
              " '477,78129,78129,4511038,127,515141429,9.78051514143e+12,Lee Child,1997.0,Killing Floor,\"Killing Floor (Jack Reacher, #1)\",eng,4.04,162972,182703,8032,2652,7160,35471,71953,65467,https://images.gr-assets.com/books/1399313258m/78129.jpg,https://images.gr-assets.com/books/1399313258s/78129.jpg',\n",
              " '478,2932,2932,604666,558,375757325,9.78037575733e+12,\"Daniel Defoe, Gerald McCann, Virginia Woolf\",1719.0,\"The Life and Strange Surprising Adventures of Robinson Crusoe of York, Mariner\",Robinson Crusoe,eng,3.66,178188,196865,4603,6429,18126,58497,67140,46673,https://images.gr-assets.com/books/1403180114m/2932.jpg,https://images.gr-assets.com/books/1403180114s/2932.jpg',\n",
              " '479,28862,28862,1335445,1654,937832383,9.78093783239e+12,\"Niccolò Machiavelli, Adolph Caso, Rufus Goodwin, Benjamin Martinez\",1513.0,Il Principe,The Prince,eng,3.78,153128,181980,5389,4222,14222,49930,63294,50312,https://s.gr-assets.com/assets/nophoto/book/111x148-bcc042a9c91a29c1d680899eff700a03.png,https://s.gr-assets.com/assets/nophoto/book/50x75-a91bf249278a81aabab721ef782c4a74.png',\n",
              " '480,18122,18122,1774510,42,440238153,9.78044023816e+12,Philip Pullman,2000.0,The Amber Spyglass,\"The Amber Spyglass (His Dark Materials, #3)\",eng,4.06,192315,217610,6693,4739,11883,39131,70648,91209,https://images.gr-assets.com/books/1329189152m/18122.jpg,https://images.gr-assets.com/books/1329189152s/18122.jpg',\n",
              " '481,43889,43889,1323305,90,765346524,9.78076534652e+12,Terry Goodkind,1994.0,Wizard\\'s First Rule,\"Wizard\\'s First Rule (Sword of Truth, #1)\",eng,4.13,175771,188159,5485,6176,9386,27430,55921,89246,https://s.gr-assets.com/assets/nophoto/book/111x148-bcc042a9c91a29c1d680899eff700a03.png,https://s.gr-assets.com/assets/nophoto/book/50x75-a91bf249278a81aabab721ef782c4a74.png',\n",
              " '482,6837103,6837103,7048306,46,1439153663,9.78143915367e+12,Kathleen Grissom,2010.0,The Kitchen House,The Kitchen House,en-CA,4.18,168082,179277,15812,1830,5689,26149,71058,74551,https://images.gr-assets.com/books/1463229128m/6837103.jpg,https://images.gr-assets.com/books/1463229128s/6837103.jpg',\n",
              " '483,5113,5113,3118417,125,316769029,9.78031676902e+12,J.D. Salinger,1961.0,Franny and Zooey,Franny and Zooey,en-US,3.98,152906,162697,5297,2841,9398,34950,56515,58993,https://images.gr-assets.com/books/1355037988m/5113.jpg,https://images.gr-assets.com/books/1355037988s/5113.jpg',\n",
              " '484,29059,29059,3185242,84,385720920,9.78038572092e+12,Chuck Palahniuk,2001.0,Choke,Choke,eng,3.69,154643,162963,5328,4541,13841,46314,60868,37399,https://images.gr-assets.com/books/1403186013m/29059.jpg,https://images.gr-assets.com/books/1403186013s/29059.jpg',\n",
              " '485,4934,4934,3393910,1072,374528373,9.78037452838e+12,\"Fyodor Dostoyevsky, Richard Pevear, Larissa Volokhonsky\",1880.0,Братья Карамазовы,The Brothers Karamazov,eng,4.3,155838,178135,7640,2339,5887,22752,51450,95707,https://images.gr-assets.com/books/1427728126m/4934.jpg,https://images.gr-assets.com/books/1427728126s/4934.jpg',\n",
              " '486,307791,307791,2285229,69,375822747,9.78037582274e+12,Jeanne DuPrau,2003.0,The City of Ember,\"The City of Ember (Book of Ember, #1)\",eng,3.85,198809,204085,9322,3684,13227,53014,74561,59599,https://images.gr-assets.com/books/1397931596m/307791.jpg,https://images.gr-assets.com/books/1397931596s/307791.jpg',\n",
              " '487,7670,7670,997271,122,60541814,9.78006054181e+12,Michael Crichton,1969.0,The Andromeda Strain,The Andromeda Strain,,3.87,173186,178917,2555,1599,9379,48894,69876,49169,https://s.gr-assets.com/assets/nophoto/book/111x148-bcc042a9c91a29c1d680899eff700a03.png,https://s.gr-assets.com/assets/nophoto/book/50x75-a91bf249278a81aabab721ef782c4a74.png',\n",
              " '488,11566,11566,15599,162,451933028,9.78045193303e+12,Stephen King,1996.0,The Green Mile,The Green Mile,eng,4.42,173950,191109,4873,725,3044,19770,59813,107757,https://images.gr-assets.com/books/1373903563m/11566.jpg,https://images.gr-assets.com/books/1373903563s/11566.jpg',\n",
              " '489,2547,2547,2938937,721,000100039X,9.78000100039e+12,Kahlil Gibran,1923.0,The Prophet,The Prophet,eng,4.22,142641,164552,6263,2748,6601,24667,47472,83064,https://images.gr-assets.com/books/1355046521m/2547.jpg,https://images.gr-assets.com/books/1355046521s/2547.jpg',\n",
              " '490,15196,15196,1947012,37,394541553,9.78039454156e+12,Art Spiegelman,1985.0,Maus: A Survivor\\'s Tale : My Father Bleeds History,\"Maus I: A Survivor\\'s Tale: My Father Bleeds History (Maus, #1)\",eng,4.35,184007,191615,4837,2822,4801,21104,56900,105988,https://images.gr-assets.com/books/1327884972m/15196.jpg,https://images.gr-assets.com/books/1327884972s/15196.jpg',\n",
              " '491,2866718,2866718,2892871,67,312379838,9.78031237983e+12,\"P.C. Cast, Kristin Cast\",2008.0,Untamed: A House of Night Novel,\"Untamed (House of Night, #4)\",en-US,3.95,191743,198350,3356,5701,13859,43080,56984,78726,https://images.gr-assets.com/books/1438037020m/2866718.jpg,https://images.gr-assets.com/books/1438037020s/2866718.jpg',\n",
              " '492,7967,7967,2327777,99,812550757,9.78081255076e+12,Orson Scott Card,1986.0,Speaker for the Dead,\"Speaker for the Dead (Ender\\'s Saga, #2)\",en-US,4.04,164287,182764,6579,1855,8031,36323,70924,65631,https://images.gr-assets.com/books/1295660894m/7967.jpg,https://images.gr-assets.com/books/1295660894s/7967.jpg',\n",
              " '493,11138,11138,801500,152,684823780,9.78068482378e+12,C.S. Lewis,1952.0,Mere Christianity,Mere Christianity,eng,4.31,184759,198433,6041,4215,6220,23223,54958,109817,https://images.gr-assets.com/books/1468102872m/11138.jpg,https://images.gr-assets.com/books/1468102872s/11138.jpg',\n",
              " '494,29044,29044,221359,141,1400031702,9.7814000317e+12,Donna Tartt,1992.0,The Secret History,The Secret History,eng,4.07,168405,189596,13324,3685,9750,32410,66858,76893,https://images.gr-assets.com/books/1451554846m/29044.jpg,https://images.gr-assets.com/books/1451554846s/29044.jpg',\n",
              " '495,4953,4953,42857,65,375725784,9.78037572578e+12,Dave Eggers,2000.0,A Heartbreaking Work of Staggering Genius,A Heartbreaking Work of Staggering Genius,eng,3.68,145459,149779,8673,7877,15434,35148,50148,41172,https://images.gr-assets.com/books/1327714834m/4953.jpg,https://images.gr-assets.com/books/1327714834s/4953.jpg',\n",
              " '496,1295,1295,1584694,161,553381679,9.78055338167e+12,Jean M. Auel,1980.0,The Clan of the Cave Bear,\"The Clan of the Cave Bear (Earth\\'s Children, #1)\",eng,4.02,176062,187874,5137,3977,10151,37279,63914,72553,https://images.gr-assets.com/books/1385331302m/1295.jpg,https://images.gr-assets.com/books/1385331302s/1295.jpg',\n",
              " '497,3685,3685,4639714,1033,439228905,9.78043922891e+12,Anna Sewell,1877.0,Black Beauty,Black Beauty,eng,3.94,183255,195205,3377,3633,11665,47165,62472,70270,https://s.gr-assets.com/assets/nophoto/book/111x148-bcc042a9c91a29c1d680899eff700a03.png,https://s.gr-assets.com/assets/nophoto/book/50x75-a91bf249278a81aabab721ef782c4a74.png',\n",
              " '498,656,656,4912783,1017,192833987,9.78019283398e+12,\"Leo Tolstoy, Henry Gifford, Aylmer Maude, Louise Maude\",1869.0,Война и миръ,War and Peace,eng,4.11,168037,192992,8062,4952,9691,31876,60043,86430,https://images.gr-assets.com/books/1413215930m/656.jpg,https://images.gr-assets.com/books/1413215930s/656.jpg',\n",
              " '499,28676,28676,2270060,144,679735771,9.78067973578e+12,Bret Easton Ellis,1991.0,American Psycho,American Psycho,eng,3.81,166083,177109,7669,8639,13632,36830,61550,56458,https://images.gr-assets.com/books/1436934349m/28676.jpg,https://images.gr-assets.com/books/1436934349s/28676.jpg',\n",
              " '500,38980,38980,2073907,125,613371658,9.78061337165e+12,Meg Cabot,2000.0,The Princess Diaries,\"The Princess Diaries (The Princess Diaries, #1)\",eng,3.76,193140,200671,4289,5442,16659,57732,61651,59187,https://images.gr-assets.com/books/1355011082m/38980.jpg,https://images.gr-assets.com/books/1355011082s/38980.jpg',\n",
              " '501,7061,7061,826298,108,1400034779,9.78140003477e+12,Alexander McCall Smith,1998.0,The No. 1 Ladies\\' Detective Agency ,\"The No. 1 Ladies\\' Detective Agency  (No. 1 Ladies\\' Detective Agency, #1)\",eng,3.75,180320,189258,9369,6389,14860,49558,66723,51728,https://images.gr-assets.com/books/1459953654m/7061.jpg,https://images.gr-assets.com/books/1459953654s/7061.jpg',\n",
              " '502,138398,138398,30474,36,1582406723,9.78158240672e+12,\"Robert Kirkman, Tony Moore\",2004.0,\"The Walking Dead, Vol. 1: Days Gone Bye\",\"The Walking Dead, Vol. 01: Days Gone Bye\",en-GB,4.3,164530,167805,3397,3685,5008,20273,47455,91384,https://images.gr-assets.com/books/1389233242m/138398.jpg,https://images.gr-assets.com/books/1389233242s/138398.jpg',\n",
              " '503,70535,70535,208362,221,451457994,9.780451458e+12,Arthur C. Clarke,1968.0,2001: A Space Odyssey,\"2001: A Space Odyssey (Space Odyssey, #1)\",eng,4.12,170841,180661,3722,2050,6387,32236,67831,72157,https://s.gr-assets.com/assets/nophoto/book/111x148-bcc042a9c91a29c1d680899eff700a03.png,https://s.gr-assets.com/assets/nophoto/book/50x75-a91bf249278a81aabab721ef782c4a74.png',\n",
              " '504,11422,11422,820210,63,1590525132,9.78159052514e+12,Francine Rivers,1991.0,,Redeeming Love,eng,4.48,157506,163637,9147,2949,4277,13328,33009,110074,https://s.gr-assets.com/assets/nophoto/book/111x148-bcc042a9c91a29c1d680899eff700a03.png,https://s.gr-assets.com/assets/nophoto/book/50x75-a91bf249278a81aabab721ef782c4a74.png',\n",
              " '505,27523,27523,972769,63,842342702,9.7808423427e+12,\"Tim LaHaye, Jerry B. Jenkins\",1995.0,Left Behind:  A Novel of the Earth\\'s Last Days,\"Left Behind (Left Behind, #1)\",eng,3.81,161173,165021,3210,12626,13163,31144,43391,64697,https://images.gr-assets.com/books/1406505054m/27523.jpg,https://images.gr-assets.com/books/1406505054s/27523.jpg',\n",
              " '506,18635016,18635016,21587145,94,62059998,9.78006205999e+12,Kiera Cass,2014.0,The One,\"The One (The Selection, #3)\",eng,4.21,139544,237039,21608,3322,9750,35942,72422,115603,https://images.gr-assets.com/books/1395612906m/18635016.jpg,https://images.gr-assets.com/books/1395612906s/18635016.jpg',\n",
              " '507,7938275,7938275,11349083,78,545265355,9.78054526536e+12,Suzanne Collins,2010.0,The Hunger Games Box Set,\"The Hunger Games Trilogy Boxset (The Hunger Games, #1-3)\",eng,4.49,129665,159760,6429,1015,2521,13438,42932,99854,https://images.gr-assets.com/books/1360094673m/7938275.jpg,https://images.gr-assets.com/books/1360094673s/7938275.jpg',\n",
              " '508,1869,1869,1840613,57,805063897,9.7808050639e+12,Barbara Ehrenreich,2001.0,Nickel and Dimed: On (Not) Getting By in America,Nickel and Dimed: On (Not) Getting By in America,eng,3.6,152786,157470,5723,10628,14572,40395,53783,38092,https://s.gr-assets.com/assets/nophoto/book/111x148-bcc042a9c91a29c1d680899eff700a03.png,https://s.gr-assets.com/assets/nophoto/book/50x75-a91bf249278a81aabab721ef782c4a74.png',\n",
              " '509,1358844,1358844,2855627,90,593053893,9.7805930539e+12,Sophie Kinsella,2008.0,Remember Me?,Remember Me?,eng,3.76,170096,182581,6838,3877,12970,52917,65379,47438,https://images.gr-assets.com/books/1276963901m/1358844.jpg,https://images.gr-assets.com/books/1276963901s/1358844.jpg',\n",
              " '510,233649,233649,1574475,71,812517725,9.78081251773e+12,Robert Jordan,1990.0,The Great Hunt,\"The Great Hunt (Wheel of Time, #2)\",en-US,4.2,162595,172500,3061,1824,5059,25119,64494,76004,https://s.gr-assets.com/assets/nophoto/book/111x148-bcc042a9c91a29c1d680899eff700a03.png,https://s.gr-assets.com/assets/nophoto/book/50x75-a91bf249278a81aabab721ef782c4a74.png',\n",
              " '511,6534,6534,1045067,129,743477154,9.78074347715e+12,Patricia Cornwell,1990.0,Post-Mortem:  A Mystery Introducing Dr. Kay Scarpetta,\"Postmortem (Kay Scarpetta, #1)\",eng,4.01,167379,173045,2261,2760,6662,37396,66098,60129,https://images.gr-assets.com/books/1341835831m/6534.jpg,https://images.gr-assets.com/books/1341835831s/6534.jpg',\n",
              " '512,23919,23919,30431,34,385074077,9.78038507407e+12,Edgar Allan Poe,1849.0,The Complete Tales of Edgar Allan Poe,The Complete Stories and Poems,en-US,4.37,160063,160326,1055,1247,2923,19028,49902,87226,https://images.gr-assets.com/books/1327942676m/23919.jpg,https://images.gr-assets.com/books/1327942676s/23919.jpg',\n",
              " '513,561909,561909,878114,83,553256696,9.7805532567e+12,\"Corrie ten Boom, John Sherrill, Elizabeth Sherrill\",1971.0,The Hiding Place,The Hiding Place: The Triumphant True Story of Corrie Ten Boom,en-US,4.42,171384,178722,7801,2958,3872,17731,44665,109496,https://images.gr-assets.com/books/1320418824m/561909.jpg,https://images.gr-assets.com/books/1320418824s/561909.jpg',\n",
              " '514,3590,3590,1222101,1235,192835084,9.78019283509e+12,Arthur Conan Doyle,1892.0,The Adventures of Sherlock Holmes,The Adventures of Sherlock Holmes,eng,4.29,139816,184991,4922,864,3047,24897,68111,88072,https://s.gr-assets.com/assets/nophoto/book/111x148-bcc042a9c91a29c1d680899eff700a03.png,https://s.gr-assets.com/assets/nophoto/book/50x75-a91bf249278a81aabab721ef782c4a74.png',\n",
              " '515,16735,16735,1312477,80,553381547,9.78055338154e+12,Pat Conroy,1986.0,The Prince of Tides,The Prince of Tides,eng,4.22,159596,165367,3454,2169,5408,24359,55122,78309,https://images.gr-assets.com/books/1320541074m/16735.jpg,https://images.gr-assets.com/books/1320541074s/16735.jpg',\n",
              " '516,3985,3985,2693329,80,312282990,9.780312283e+12,Michael Chabon,2000.0,The Amazing Adventures of Kavalier & Clay,The Amazing Adventures of Kavalier & Clay,eng,4.17,147717,156603,9326,2958,7191,22236,52498,71720,https://images.gr-assets.com/books/1479660066m/3985.jpg,https://images.gr-assets.com/books/1479660066s/3985.jpg',\n",
              " '517,4268157,4268157,4315675,52,802798233,9.78080279824e+12,Simone Elkeles,2008.0,Perfect Chemistry,\"Perfect Chemistry (Perfect Chemistry, #1)\",eng,4.07,198627,205008,9882,6422,11998,35815,57351,93422,https://images.gr-assets.com/books/1439792475m/4268157.jpg,https://images.gr-assets.com/books/1439792475s/4268157.jpg',\n",
              " '518,34268,34268,1358908,1416,805072454,9.78080507246e+12,\"J.M. Barrie, Michael Hague\",1904.0,Peter Pan,Peter Pan,en-US,4.1,169306,196359,7464,2488,8076,38675,65507,81613,https://images.gr-assets.com/books/1337714526m/34268.jpg,https://images.gr-assets.com/books/1337714526s/34268.jpg',\n",
              " '519,24768,24768,1568076,78,689865392,9.7806898654e+12,Scott Westerfeld,2005.0,Pretties,\"Pretties (Uglies, #2)\",eng,3.85,193405,203755,9390,3808,13664,52192,72804,61287,https://s.gr-assets.com/assets/nophoto/book/111x148-bcc042a9c91a29c1d680899eff700a03.png,https://s.gr-assets.com/assets/nophoto/book/50x75-a91bf249278a81aabab721ef782c4a74.png',\n",
              " '520,11275,11275,2531376,125,965341984,9.78096534198e+12,\"Haruki Murakami, Jay Rubin\",1994.0,ねじまき鳥クロニクル [Nejimakidori kuronikuru],The Wind-Up Bird Chronicle,eng,4.17,133408,159705,10724,2022,6154,23828,57956,69745,https://images.gr-assets.com/books/1327872639m/11275.jpg,https://images.gr-assets.com/books/1327872639s/11275.jpg',\n",
              " '521,79885,79885,1427801,123,739465511,9.78073946552e+12,Michael Connelly,2005.0,The Lincoln Lawyer ,\"The Lincoln Lawyer (Mickey Haller, #1; Harry Bosch Universe, #16)\",eng,4.14,149438,160724,4757,1136,3767,27768,67204,60849,https://images.gr-assets.com/books/1370140049m/79885.jpg,https://images.gr-assets.com/books/1370140049s/79885.jpg',\n",
              " '522,49628,49628,1871423,113,375507256,9.78037550725e+12,David Mitchell,2004.0,Cloud Atlas,Cloud Atlas,eng,4.01,152441,172239,17001,5442,10645,28665,58983,68504,https://images.gr-assets.com/books/1406383769m/49628.jpg,https://images.gr-assets.com/books/1406383769s/49628.jpg',\n",
              " \"523,133518,133518,1235619,56,767902890,9.78076790289e+12,Tim O'Brien,1990.0,The Things They Carried,The Things They Carried,en-US,4.12,168678,181159,10666,2623,7845,30102,65204,75385,https://images.gr-assets.com/books/1424663847m/133518.jpg,https://images.gr-assets.com/books/1424663847s/133518.jpg\",\n",
              " '524,114683,114683,110426,15,1844137872,9.78184413788e+12,Banksy,1988.0,Wall and Piece,Wall and Piece,eng,3.83,149453,150117,687,11641,11724,27885,38313,60554,https://images.gr-assets.com/books/1327904853m/114683.jpg,https://images.gr-assets.com/books/1327904853s/114683.jpg',\n",
              " '525,9593911,9593911,14480923,76,006197806X,9.78006197807e+12,Lauren Oliver,2012.0,Pandemonium,\"Pandemonium (Delirium, #2)\",eng,4.07,181656,191644,13876,3024,8570,35845,69351,74854,https://images.gr-assets.com/books/1310371414m/9593911.jpg,https://images.gr-assets.com/books/1310371414s/9593911.jpg',\n",
              " '526,17231,17231,2113743,95,307277887,9.78030727789e+12,Jeff Lindsay,2004.0,Darkly Dreaming Dexter,\"Darkly Dreaming Dexter (Dexter, #1)\",eng,3.89,150055,157862,5656,4689,10180,35941,53459,53593,https://images.gr-assets.com/books/1334404607m/17231.jpg,https://images.gr-assets.com/books/1334404607s/17231.jpg',\n",
              " '527,110494,110494,738775,97,1841493007,9.78184149301e+12,Charlaine Harris,2002.0,Living Dead in Dallas,\"Living Dead in Dallas (Sookie Stackhouse, #2)\",eng,3.97,190565,209338,6388,1576,8771,50217,81598,67176,https://images.gr-assets.com/books/1329501808m/110494.jpg,https://images.gr-assets.com/books/1329501808s/110494.jpg',\n",
              " '528,34897,34897,791061,62,765305119,9.78076530511e+12,Robert Jordan,1991.0,The Dragon Reborn ,\"The Dragon Reborn (Wheel of Time, #3)\",eng,4.23,153809,164783,2471,1667,4474,23895,59113,75634,https://images.gr-assets.com/books/1480096580m/34897.jpg,https://images.gr-assets.com/books/1480096580s/34897.jpg',\n",
              " '529,7733,7733,2394716,1762,141439491,9.7801414395e+12,\"Jonathan Swift, Robert DeMaria Jr.\",1726.0,Gulliver’s Travels,Gulliver\\'s Travels,eng,3.55,168727,188299,3927,5995,19839,63680,61509,37276,https://images.gr-assets.com/books/1427829692m/7733.jpg,https://images.gr-assets.com/books/1427829692s/7733.jpg',\n",
              " '530,12957,12957,2080738,805,743482751,9.78074348275e+12,\"William Shakespeare, Barbara A. Mowat, Paul Werstine, Gail Kern Paster, Robert          Jackson\",1598.0,Much Ado About Nothing,Much Ado About Nothing,eng,4.06,175616,185702,2686,2305,7837,37688,66480,71392,https://images.gr-assets.com/books/1327885569m/12957.jpg,https://images.gr-assets.com/books/1327885569s/12957.jpg',\n",
              " '531,52357,52357,189503,601,393320979,9.78039332098e+12,\"Unknown, Seamus Heaney\",975.0,Beowulf,Beowulf,en-US,3.42,155903,184187,5098,12256,25619,56758,51660,37894,https://images.gr-assets.com/books/1327878125m/52357.jpg,https://images.gr-assets.com/books/1327878125s/52357.jpg',\n",
              " '532,59980,59980,2501570,74,1401207529,9.78140120753e+12,\"Frank Miller, David Mazzucchelli, Richmond Lewis, Dennis O\\'Neil\",1987.0,Batman: Year One,Batman: Year One,eng,4.23,145267,148446,1954,3392,4611,19732,47742,72969,https://images.gr-assets.com/books/1327940389m/59980.jpg,https://images.gr-assets.com/books/1327940389s/59980.jpg',\n",
              " '533,24817626,24817626,44458285,102,62409859,9.78006240985e+12,Harper Lee,2015.0,Go Set a Watchman,Go Set a Watchman,eng,3.31,138669,164828,24535,8284,26200,58810,48468,23066,https://images.gr-assets.com/books/1451442088m/24817626.jpg,https://images.gr-assets.com/books/1451442088s/24817626.jpg',\n",
              " '534,1044355,1044355,3255908,47,316143472,9.78031614348e+12,David Sedaris,2008.0,When You Are Engulfed in Flames,When You Are Engulfed in Flames,en-US,4.04,150898,156976,9013,1847,5695,30933,63930,54571,https://s.gr-assets.com/assets/nophoto/book/111x148-bcc042a9c91a29c1d680899eff700a03.png,https://s.gr-assets.com/assets/nophoto/book/50x75-a91bf249278a81aabab721ef782c4a74.png',\n",
              " '535,8490112,8490112,13355552,89,316134023,9.78031613403e+12,Laini Taylor,2011.0,Daughter of Smoke & Bone,\"Daughter of Smoke & Bone (Daughter of Smoke & Bone, #1)\",eng,4.04,198283,228815,23582,7073,12325,38879,76179,94359,https://images.gr-assets.com/books/1461353773m/8490112.jpg,https://images.gr-assets.com/books/1461353773s/8490112.jpg',\n",
              " '536,17878931,22328546,25037051,84,1409151174,9.78140915117e+12,Victoria Aveyard,2015.0,Red Queen,\"Red Queen (Red Queen, #1)\",eng,4.08,83354,289740,30249,7454,14867,48254,95303,123862,https://images.gr-assets.com/books/1411472322m/17878931.jpg,https://images.gr-assets.com/books/1411472322s/17878931.jpg',\n",
              " '537,12609433,12609433,17624817,92,1400069289,9.78140006929e+12,Charles Duhigg,2011.0,The Power of Habit,The Power of Habit: Why We Do What We Do in Life and Business,eng,4.03,155977,170269,9515,3239,6918,33079,66044,60989,https://images.gr-assets.com/books/1366758683m/12609433.jpg,https://images.gr-assets.com/books/1366758683s/12609433.jpg',\n",
              " '538,386187,386187,300461,76,679751521,9.78067975153e+12,John Berendt,1994.0,Midnight in the Garden of Good and Evil,Midnight in the Garden of Good and Evil,eng,3.9,167997,175681,6635,2332,9145,42827,70546,50831,https://images.gr-assets.com/books/1427166915m/386187.jpg,https://images.gr-assets.com/books/1427166915s/386187.jpg',\n",
              " '539,15717943,15717943,21389085,53,1301949825,9.78130194982e+12,Colleen Hoover,2012.0,Hopeless,\"Hopeless (Hopeless, #1)\",eng,4.34,189938,207777,18984,3520,6597,23251,56888,117521,https://images.gr-assets.com/books/1353489892m/15717943.jpg,https://images.gr-assets.com/books/1353489892s/15717943.jpg',\n",
              " '540,3008,3008,1313599,11,142437018,9.78014243702e+12,\"Frances Hodgson Burnett, Nancy Bond\",1905.0,A Little Princess,A Little Princess,eng,4.2,199872,215833,5128,2653,6227,35428,73488,98037,https://images.gr-assets.com/books/1327868556m/3008.jpg,https://images.gr-assets.com/books/1327868556s/3008.jpg',\n",
              " '541,51737,51737,1032900,45,142406252,9.78014240625e+12,Sarah Dessen,2004.0,The Truth About Forever,The Truth About Forever,en-US,4.13,179415,183697,7421,2686,7512,33156,59958,80385,https://images.gr-assets.com/books/1362767907m/51737.jpg,https://images.gr-assets.com/books/1362767907s/51737.jpg',\n",
              " '542,84119,84119,3294501,280,439861365,9.78043986137e+12,C.S. Lewis,1954.0,The horse and his boy,\"The Horse and His Boy (Chronicles of Narnia, #5)\",eng,3.9,189671,209180,4913,2752,13751,54684,68114,69879,https://images.gr-assets.com/books/1388210968m/84119.jpg,https://images.gr-assets.com/books/1388210968s/84119.jpg',\n",
              " '543,6527740,6527740,13385418,63,1595143068,9.78159514307e+12,Richelle Mead,2010.0,Last Sacrifice ,\"Last Sacrifice (Vampire Academy, #6)\",eng,4.42,206792,217652,10312,2797,5330,21948,54440,133137,https://images.gr-assets.com/books/1319850978m/6527740.jpg,https://images.gr-assets.com/books/1319850978s/6527740.jpg',\n",
              " '544,77767,77767,2884161,146,64400026,9.78006440002e+12,\"Laura Ingalls Wilder, Garth Williams\",1935.0,Little House on the Prairie,\"Little House on the Prairie (Little House, #2)\",eng,4.18,195424,200869,3220,3278,7217,33528,61997,94849,https://s.gr-assets.com/assets/nophoto/book/111x148-bcc042a9c91a29c1d680899eff700a03.png,https://s.gr-assets.com/assets/nophoto/book/50x75-a91bf249278a81aabab721ef782c4a74.png',\n",
              " '545,144974,144974,1602074,383,380002558,9.78038000256e+12,\"Margery Williams Bianco, William   Nicholson\",1922.0,The Velveteen Rabbit,The Velveteen Rabbit,eng,4.29,173469,186686,2714,2438,5354,26752,52991,99151,https://s.gr-assets.com/assets/nophoto/book/111x148-bcc042a9c91a29c1d680899eff700a03.png,https://s.gr-assets.com/assets/nophoto/book/50x75-a91bf249278a81aabab721ef782c4a74.png',\n",
              " '546,629,629,175720,181,60589469,9.78006058946e+12,Robert M. Pirsig,1974.0,Zen and the Art of Motorcycle Maintenance,Zen and the Art of Motorcycle Maintenance: An Inquiry Into Values,eng,3.76,139411,153992,6535,6589,14196,36227,49874,47106,https://images.gr-assets.com/books/1410136019m/629.jpg,https://images.gr-assets.com/books/1410136019s/629.jpg',\n",
              " '547,8909,8909,3194841,1167,375759239,9.78037575924e+12,\"H.G. Wells, Arthur C. Clarke\",1897.0,The War of the Worlds,The War of the Worlds,eng,3.8,159752,181437,4930,2843,11418,51466,69720,45990,https://images.gr-assets.com/books/1320391644m/8909.jpg,https://images.gr-assets.com/books/1320391644s/8909.jpg',\n",
              " '548,162085,162085,2191061,75,60887303,9.78006088731e+12,Sara Shepard,2006.0,Pretty Little Liars,\"Pretty Little Liars (Pretty Little Liars, #1)\",en-US,3.9,156328,165836,8160,5743,12397,37519,47724,62453,https://images.gr-assets.com/books/1377830522m/162085.jpg,https://images.gr-assets.com/books/1377830522s/162085.jpg',\n",
              " '549,231850,231850,261903,58,670241334,9.78067024133e+12,Don Freeman,1948.0,Corduroy,Corduroy,en-US,4.28,160860,162337,1902,1966,5326,25357,42664,87024,https://s.gr-assets.com/assets/nophoto/book/111x148-bcc042a9c91a29c1d680899eff700a03.png,https://s.gr-assets.com/assets/nophoto/book/50x75-a91bf249278a81aabab721ef782c4a74.png',\n",
              " \"550,3109,3109,3287769,54,1594200823,9.78159420082e+12,Michael Pollan,2006.0,The Omnivore's Dilemma,The Omnivore's Dilemma: A Natural History of Four Meals,eng,4.17,133271,147664,11843,1566,4451,22055,58252,61340,https://images.gr-assets.com/books/1393804353m/3109.jpg,https://images.gr-assets.com/books/1393804353s/3109.jpg\",\n",
              " '551,15790842,15790842,21443207,95,316176486,9.78031617648e+12,Kate Atkinson,2013.0,Life After Life,Life After Life,eng,3.74,138454,158661,20822,6855,13811,36514,57917,43564,https://images.gr-assets.com/books/1358173808m/15790842.jpg,https://images.gr-assets.com/books/1358173808s/15790842.jpg',\n",
              " '552,3462,3462,1268663,93,446696129,9.78044669613e+12,Nicholas Sparks,2000.0,The Rescue,The Rescue,en-US,4.1,142092,148370,3261,1692,5815,30135,49684,61044,https://s.gr-assets.com/assets/nophoto/book/111x148-bcc042a9c91a29c1d680899eff700a03.png,https://s.gr-assets.com/assets/nophoto/book/50x75-a91bf249278a81aabab721ef782c4a74.png',\n",
              " '553,107291,107291,1812101,135,045057458X,9.78045057458e+12,Stephen King,1991.0,Needful Things,Needful Things,,3.87,153821,161758,2448,2175,10254,42898,57042,49389,https://images.gr-assets.com/books/1315767817m/107291.jpg,https://images.gr-assets.com/books/1315767817s/107291.jpg',\n",
              " '554,10987,10987,1131570,105,385335997,9.780385336e+12,Diana Gabaldon,1993.0,Voyager,\"Voyager (Outlander, #3)\",eng,4.38,157395,184208,8381,827,3030,21397,59170,99784,https://images.gr-assets.com/books/1483278195m/10987.jpg,https://images.gr-assets.com/books/1483278195s/10987.jpg',\n",
              " '555,117251,117251,112914,3,393315053,9.78039331506e+12,\"Kenneth Branagh, William Shakespeare\",1996.0,,\"Hamlet: Screenplay, Introduction And Film Diary\",eng,4.12,156869,156873,194,1788,6304,30594,50942,67245,https://s.gr-assets.com/assets/nophoto/book/111x148-bcc042a9c91a29c1d680899eff700a03.png,https://s.gr-assets.com/assets/nophoto/book/50x75-a91bf249278a81aabab721ef782c4a74.png',\n",
              " '556,10603,10603,996156,143,307348245,9.78030734824e+12,Stephen King,1981.0,Cujo,Cujo,spa,3.65,158215,167044,2832,4096,16130,54393,52708,39717,https://images.gr-assets.com/books/1394208144m/10603.jpg,https://images.gr-assets.com/books/1394208144s/10603.jpg',\n",
              " '557,10956,10956,812415,102,747560595,9.78074756059e+12,Jeffrey Eugenides,1993.0,The Virgin Suicides,The Virgin Suicides,eng,3.83,159249,179190,7547,3780,12486,44781,67480,50663,https://images.gr-assets.com/books/1319032910m/10956.jpg,https://images.gr-assets.com/books/1319032910s/10956.jpg',\n",
              " '558,140077,140077,1808005,88,441012183,9.78044101218e+12,Charlaine Harris,2004.0,Dead to the World,\"Dead to the World (Sookie Stackhouse, #4)\",eng,4.13,199572,210205,5327,1638,5933,39853,78663,84118,https://images.gr-assets.com/books/1468561630m/140077.jpg,https://images.gr-assets.com/books/1468561630s/140077.jpg',\n",
              " '559,32261,32261,3331021,918,141439599,9.78014143959e+12,\"Thomas Hardy, Tim Dolin, Margaret R. Higonnet\",1891.0,Tess of the d\\'Urbervilles: A Pure Woman Faithfully Presented,Tess of the D\\'Urbervilles,eng,3.77,171599,190665,6737,8364,16185,44317,64689,57110,https://images.gr-assets.com/books/1497218117m/32261.jpg,https://images.gr-assets.com/books/1497218117s/32261.jpg',\n",
              " '560,2175,2175,2766347,1682,192840398,9.78019284039e+12,\"Gustave Flaubert, Margaret Mauldon, Malcolm Bowie, Mark Overstall\",1856.0,Madame Bovary,Madame Bovary,eng,3.64,158877,186553,7617,7682,18771,51707,62328,46065,https://images.gr-assets.com/books/1335676143m/2175.jpg,https://images.gr-assets.com/books/1335676143s/2175.jpg',\n",
              " '561,378,378,1782584,82,394820371,9.78039482038e+12,\"Norton Juster, Jules Feiffer\",1961.0,The Phantom Tollbooth,The Phantom Tollbooth,en-US,4.22,178432,185392,8011,2848,6922,27918,56237,91467,https://s.gr-assets.com/assets/nophoto/book/111x148-bcc042a9c91a29c1d680899eff700a03.png,https://s.gr-assets.com/assets/nophoto/book/50x75-a91bf249278a81aabab721ef782c4a74.png',\n",
              " '562,7235533,7235533,8134945,48,765326353,9.78076532636e+12,Brandon Sanderson,2010.0,The Way of Kings,\"The Way of Kings (The Stormlight Archive, #1)\",eng,4.64,144822,164477,10947,1085,1827,7661,33962,119942,https://images.gr-assets.com/books/1388184640m/7235533.jpg,https://images.gr-assets.com/books/1388184640s/7235533.jpg',\n",
              " '563,140082,140082,602144,90,1841493015,9.78184149302e+12,Charlaine Harris,2003.0,Club Dead,\"Club Dead (Sookie Stackhouse, #3)\",en-GB,4.03,181323,197558,5029,1179,6594,44594,78129,67062,https://images.gr-assets.com/books/1329501590m/140082.jpg,https://images.gr-assets.com/books/1329501590s/140082.jpg',\n",
              " \"564,248704,248704,240980,32,078685197X,9.78078685197e+12,Ned Vizzini,2006.0,It's Kind of a Funny Story,It's Kind of a Funny Story,en-US,4.14,161001,165713,8461,2018,6246,28680,58548,70221,https://images.gr-assets.com/books/1420629730m/248704.jpg,https://images.gr-assets.com/books/1420629730s/248704.jpg\",\n",
              " '565,68429,68429,2120474,60,765316889,9.78076531688e+12,Brandon Sanderson,2007.0,,\"The Well of Ascension (Mistborn, #2)\",eng,4.35,150736,171402,8541,534,2630,18661,63880,85697,https://images.gr-assets.com/books/1480717596m/68429.jpg,https://images.gr-assets.com/books/1480717596s/68429.jpg',\n",
              " '566,25041504,25041504,44693518,94,,,Jojo Moyes,2015.0,After You,\"After You (Me Before You, #2)\",eng,3.7,99342,175532,16879,2923,12992,53847,69425,36345,https://images.gr-assets.com/books/1429029729m/25041504.jpg,https://images.gr-assets.com/books/1429029729s/25041504.jpg',\n",
              " '567,10032672,10032672,14928278,90,034552554X,9.78034552554e+12,Vanessa Diffenbaugh,2011.0,The Language of Flowers,The Language of Flowers,eng,4.07,140076,159668,17457,1464,5500,28409,69343,54952,https://images.gr-assets.com/books/1333577674m/10032672.jpg,https://images.gr-assets.com/books/1333577674s/10032672.jpg',\n",
              " '568,59960,59960,1104159,71,156389341X,9.78156389341e+12,\"Frank Miller, Klaus Janson, Lynn Varley\",1986.0,Batman: The Dark Knight Returns,\"Batman: The Dark Knight Returns (The Dark Knight Saga, #1)\",eng,4.25,135979,144349,2838,3353,5104,18631,42654,74607,https://images.gr-assets.com/books/1327892039m/59960.jpg,https://images.gr-assets.com/books/1327892039s/59960.jpg',\n",
              " '569,13152,13152,1829521,96,446617792,9.7804466178e+12,James Patterson,2005.0,The Angel Experiment,\"The Angel Experiment (Maximum Ride, #1)\",eng,4.08,172302,183035,8606,4747,9858,32564,54067,81799,https://images.gr-assets.com/books/1339277875m/13152.jpg,https://images.gr-assets.com/books/1339277875s/13152.jpg',\n",
              " '570,285092,285092,2961887,136,1573225517,9.78157322552e+12,Nick Hornby,1995.0,High Fidelity,High Fidelity,eng,3.94,134849,150929,4792,1587,6973,34435,63435,44499,https://images.gr-assets.com/books/1327928082m/285092.jpg,https://images.gr-assets.com/books/1327928082s/285092.jpg',\n",
              " '571,15925,15925,810630,88,446696110,9.78044669611e+12,Nicholas Sparks,2003.0,The Guardian,The Guardian,en-US,4.14,136427,142884,4333,1867,5499,26372,45789,63357,https://images.gr-assets.com/books/1388195339m/15925.jpg,https://images.gr-assets.com/books/1388195339s/15925.jpg',\n",
              " '572,46756,46756,3143431,109,385721676,9.78038572168e+12,Margaret Atwood,2003.0,Oryx and Crake,\"Oryx and Crake (MaddAddam, #1)\",eng,4.0,151500,167177,10391,3548,8557,31794,64097,59181,https://images.gr-assets.com/books/1494109986m/46756.jpg,https://images.gr-assets.com/books/1494109986s/46756.jpg',\n",
              " '573,1274,1274,55001,202,60574216,9.78006057422e+12,John Gray,1998.0,\"Men Are from Mars, Women Are from Venus Book of Days: 365 Inspirations to Enrich Your Relationships\",\"Men Are from Mars, Women Are from Venus\",en-US,3.52,113915,129520,4191,8235,15283,38147,36751,31104,https://s.gr-assets.com/assets/nophoto/book/111x148-bcc042a9c91a29c1d680899eff700a03.png,https://s.gr-assets.com/assets/nophoto/book/50x75-a91bf249278a81aabab721ef782c4a74.png',\n",
              " '574,33313,33313,4219,78,60899220,9.78006089923e+12,Anthony Bourdain,2000.0,Kitchen Confidential: Adventures in the Culinary Underbelly,Kitchen Confidential: Adventures in the Culinary Underbelly,eng,4.0,134177,145933,7582,1668,5600,30364,61600,46701,https://s.gr-assets.com/assets/nophoto/book/111x148-bcc042a9c91a29c1d680899eff700a03.png,https://s.gr-assets.com/assets/nophoto/book/50x75-a91bf249278a81aabab721ef782c4a74.png',\n",
              " '575,7669,7669,1525987,124,99244721,9.78009924472e+12,Michael Crichton,1999.0,Timeline,Timeline,en-US,3.83,148563,158413,3628,2738,11205,41822,57567,45081,https://images.gr-assets.com/books/1405420745m/7669.jpg,https://images.gr-assets.com/books/1405420745s/7669.jpg',\n",
              " '576,19380,19380,2833018,1039,486266893,9.78048626689e+12,Voltaire,1759.0,Candide,Candide,eng,3.76,151471,171617,5504,4906,14285,45693,59709,47024,https://images.gr-assets.com/books/1345060082m/19380.jpg,https://images.gr-assets.com/books/1345060082s/19380.jpg',\n",
              " '577,84981,84981,1955922,127,374480095,9.7803744801e+12,Natalie Babbitt,1975.0,Tuck Everlasting,Tuck Everlasting,eng,3.85,174280,184056,7187,3823,12462,46988,64213,56570,https://images.gr-assets.com/books/1445184695m/84981.jpg,https://images.gr-assets.com/books/1445184695s/84981.jpg',\n",
              " '578,10629,10629,1150571,156,2253147699,9.7822531477e+12,\"Stephen King, Marie Milpois\",1983.0,Christine,Christine,fre,3.72,151160,157664,2092,3156,14024,48479,49499,42506,https://images.gr-assets.com/books/1327270815m/10629.jpg,https://images.gr-assets.com/books/1327270815s/10629.jpg',\n",
              " '579,197084,197084,1837885,44,1713221,9.78000171322e+12,P.D. Eastman,1960.0,Are You My Mother?,Are You My Mother?,eng,4.16,174204,177809,1864,3986,8065,31523,45916,88319,https://s.gr-assets.com/assets/nophoto/book/111x148-bcc042a9c91a29c1d680899eff700a03.png,https://s.gr-assets.com/assets/nophoto/book/50x75-a91bf249278a81aabab721ef782c4a74.png',\n",
              " '580,222078,222078,215065,102,071483355X,9.78071483355e+12,E.H. Gombrich,1950.0,The Story of Art,The Story of Art,en-US,3.83,164708,166453,470,12639,13426,32492,39357,68539,https://s.gr-assets.com/assets/nophoto/book/111x148-bcc042a9c91a29c1d680899eff700a03.png,https://s.gr-assets.com/assets/nophoto/book/50x75-a91bf249278a81aabab721ef782c4a74.png',\n",
              " '581,13206760,13206760,18390691,64,312642962,9.78031264297e+12,Marissa Meyer,2013.0,Scarlet,\"Scarlet (The Lunar Chronicles, #2)\",eng,4.3,193766,213010,23054,1250,3669,25696,81461,100934,https://images.gr-assets.com/books/1470056982m/13206760.jpg,https://images.gr-assets.com/books/1470056982s/13206760.jpg',\n",
              " '582,69571,69571,3366043,185,751532711,9.78075153272e+12,Robert T. Kiyosaki,1997.0,\"Rich Dad , Poor Dad\",\"Rich Dad, Poor Dad\",eng,3.95,153764,173904,6790,5093,11346,35831,57062,64572,https://s.gr-assets.com/assets/nophoto/book/111x148-bcc042a9c91a29c1d680899eff700a03.png,https://s.gr-assets.com/assets/nophoto/book/50x75-a91bf249278a81aabab721ef782c4a74.png',\n",
              " '583,10637766,10637766,14158688,65,1442426640,9.78144242664e+12,Becca Fitzpatrick,2011.0,Silence ,\"Silence (Hush, Hush, #3)\",eng,4.16,190722,197338,7290,4217,9307,32161,55811,95842,https://images.gr-assets.com/books/1362408152m/10637766.jpg,https://images.gr-assets.com/books/1362408152s/10637766.jpg',\n",
              " '584,6101718,6101718,6278977,67,670020559,9.78067002055e+12,Lev Grossman,2009.0,The Magicians,The Magicians (The Magicians #1),eng,3.47,147908,165609,18232,10045,21851,47087,52810,33816,https://images.gr-assets.com/books/1313772941m/6101718.jpg,https://images.gr-assets.com/books/1313772941s/6101718.jpg',\n",
              " '585,13615,13615,1782155,44,1421501686,9.78142150168e+12,\"Tsugumi Ohba, Takeshi Obata\",2004.0,デスノート #1 (Desu Nōto) Taikutsu (退屈),\"Death Note, Vol. 1: Boredom (Death Note, #1)\",eng,4.42,139501,141095,2470,2040,3448,14453,34728,86426,https://images.gr-assets.com/books/1419952134m/13615.jpg,https://images.gr-assets.com/books/1419952134s/13615.jpg',\n",
              " '586,3682,3682,2113193,65,689875347,9.78068987534e+12,Libba Bray,2003.0,A Great and Terrible Beauty,\"A Great and Terrible Beauty (Gemma Doyle, #1)\",eng,3.79,173613,182107,8902,6620,16645,44166,56502,58174,https://images.gr-assets.com/books/1284558475m/3682.jpg,https://images.gr-assets.com/books/1284558475s/3682.jpg',\n",
              " '587,256566,256566,886727,107,60529709,9.7800605297e+12,Jonathan Safran Foer,2002.0,Everything Is Illuminated,Everything Is Illuminated,eng,3.9,131492,144312,7019,4169,10063,30365,51579,48136,https://images.gr-assets.com/books/1479774440m/256566.jpg,https://images.gr-assets.com/books/1479774440s/256566.jpg',\n",
              " '588,15769,15769,2508588,101,752863886,9.78075286389e+12,Robert Ludlum,1986.0,The Bourne Supremacy,\"The Bourne Supremacy (Jason Bourne, #2)\",en-US,4.09,142168,145806,1010,1623,4638,27003,57766,54776,https://images.gr-assets.com/books/1335860600m/15769.jpg,https://images.gr-assets.com/books/1335860600s/15769.jpg',\n",
              " '589,16056408,16056408,19113823,53,425266745,9.78042526675e+12,Tammara Webber,2012.0,Easy,\"Easy (Contours of the Heart, #1)\",en-CA,4.11,133937,189861,11189,4496,8142,31038,64085,82100,https://images.gr-assets.com/books/1349370267m/16056408.jpg,https://images.gr-assets.com/books/1349370267s/16056408.jpg',\n",
              " '590,58696,58696,4711940,1240,140439447,9.78014043944e+12,\"Charles Dickens, Jeremy Tambling\",1849.0,David Copperfield,David Copperfield,eng,3.96,150512,164400,4623,3426,9508,35753,56963,58750,https://images.gr-assets.com/books/1461452762m/58696.jpg,https://images.gr-assets.com/books/1461452762s/58696.jpg',\n",
              " '591,693208,693208,829330,67,316013684,9.78031601368e+12,\"Sherman Alexie, Ellen Forney\",2007.0,The Absolutely True Diary of a Part-Time Indian,The Absolutely True Diary of a Part-Time Indian,eng,4.11,160607,171492,18988,3502,7316,26704,62780,71190,https://images.gr-assets.com/books/1327908992m/693208.jpg,https://images.gr-assets.com/books/1327908992s/693208.jpg',\n",
              " '592,117833,117833,876183,586,679760806,9.7806797608e+12,\"Mikhail Bulgakov, Katherine Tiernan O\\'Connor, Diana Burgin, Ellendea Proffer\",1967.0,Мастер и Маргарита,The Master and Margarita,eng,4.32,131389,156780,7365,2428,5647,18910,42164,87631,https://images.gr-assets.com/books/1327867963m/117833.jpg,https://images.gr-assets.com/books/1327867963s/117833.jpg',\n",
              " '593,13642,13642,113603,157,553383043,9.78055338304e+12,Ursula K. Le Guin,1968.0,A Wizard of Earthsea,\"A Wizard of Earthsea (Earthsea Cycle, #1)\",en-US,3.99,155042,167058,5357,3253,9210,34737,58618,61240,https://images.gr-assets.com/books/1353424536m/13642.jpg,https://images.gr-assets.com/books/1353424536s/13642.jpg',\n",
              " '594,357664,357664,25169,77,763616052,9.78076361605e+12,\"Kate DiCamillo, Chris Sheban\",2000.0,Because of Winn-Dixie,Because of Winn-Dixie,eng,4.0,154476,159075,6594,2076,8308,36097,54057,58537,https://images.gr-assets.com/books/1456871914m/357664.jpg,https://images.gr-assets.com/books/1456871914s/357664.jpg',\n",
              " '595,5148,5148,39755,82,743253973,9.78074325397e+12,John Knowles,1959.0,A Separate Peace,A Separate Peace,en-US,3.56,155901,162403,5580,8518,18503,45480,53424,36478,https://s.gr-assets.com/assets/nophoto/book/111x148-bcc042a9c91a29c1d680899eff700a03.png,https://s.gr-assets.com/assets/nophoto/book/50x75-a91bf249278a81aabab721ef782c4a74.png',\n",
              " '596,5349,5349,3154548,117,385339607,9.78038533960e+12,John Grisham,1995.0,The Rainmaker,The Rainmaker,eng,3.91,137412,142791,1518,986,6288,38331,55983,41203,https://s.gr-assets.com/assets/nophoto/book/111x148-bcc042a9c91a29c1d680899eff700a03.png,https://s.gr-assets.com/assets/nophoto/book/50x75-a91bf249278a81aabab721ef782c4a74.png',\n",
              " '597,3836,3836,121842,1887,142437239,9.78014243723e+12,\"Miguel de Cervantes Saavedra, Roberto González Echevarría, John Rutherford\",1605.0,Don Quijote de La Mancha,Don Quixote,eng,3.85,134931,159253,5429,4667,12289,38171,50811,53315,https://images.gr-assets.com/books/1364958765m/3836.jpg,https://images.gr-assets.com/books/1364958765s/3836.jpg',\n",
              " '598,45107,77197,171715,108,6480098,9.7800064801e+12,Robin Hobb,1995.0,Assassin\\'s Apprentice,\"Assassin\\'s Apprentice (Farseer Trilogy, #1)\",eng,4.14,132777,162482,6023,2462,6103,25949,59803,68165,https://images.gr-assets.com/books/1320339497m/45107.jpg,https://images.gr-assets.com/books/1320339497s/45107.jpg',\n",
              " '599,8695,8695,1877624,162,345418921,9.78034541892e+12,Douglas Adams,1980.0,The Restaurant at the End of the Universe,\"The Restaurant at the End of the Universe (Hitchhiker\\'s Guide, #2)\",eng,4.22,153838,172365,3851,700,3728,27009,66783,74145,https://s.gr-assets.com/assets/nophoto/book/111x148-bcc042a9c91a29c1d680899eff700a03.png,https://s.gr-assets.com/assets/nophoto/book/50x75-a91bf249278a81aabab721ef782c4a74.png',\n",
              " '600,7740152,7740152,7380161,82,385739141,9.78038573915e+12,Lauren Kate,2010.0,Torment,\"Torment (Fallen, #2)\",eng,3.89,174393,181384,7245,5367,14327,41971,52983,66736,https://images.gr-assets.com/books/1362339749m/7740152.jpg,https://images.gr-assets.com/books/1362339749s/7740152.jpg',\n",
              " '601,19321,19321,644171,1,723247706,9.78072324771e+12,Beatrix Potter,1901.0,The Tale of Peter Rabbit,The Tale of Peter Rabbit,eng,4.17,162373,165470,1404,2294,6298,30659,48594,77625,https://images.gr-assets.com/books/1485118382m/19321.jpg,https://images.gr-assets.com/books/1485118382s/19321.jpg',\n",
              " '602,65641,65641,1419727,257,64405044,9.78006440504e+12,\"C.S. Lewis, Pauline Baynes\",1953.0,The Silver Chair,\"The Silver Chair (Chronicles of Narnia, #4)\",eng,3.95,170453,185348,3391,1580,9479,47180,65697,61412,https://images.gr-assets.com/books/1336139237m/65641.jpg,https://images.gr-assets.com/books/1336139237s/65641.jpg',\n",
              " '603,2767793,2767793,2793516,63,765316897,9.7807653169e+12,Brandon Sanderson,2008.0,The Hero of Ages,\"The Hero of Ages (Mistborn, #3)\",eng,4.46,143622,161085,9111,596,2257,14291,49628,94313,https://images.gr-assets.com/books/1480717763m/2767793.jpg,https://images.gr-assets.com/books/1480717763s/2767793.jpg',\n",
              " '604,68783,68783,926090,49,679746048,9.78067974604e+12,Susanna Kaysen,1993.0,\"Girl, Interrupted\",\"Girl, Interrupted\",eng,3.9,145161,151176,3532,1827,8242,38968,56689,45450,https://images.gr-assets.com/books/1475482930m/68783.jpg,https://images.gr-assets.com/books/1475482930s/68783.jpg',\n",
              " '605,40173,40173,2270522,24,61173398,9.78006117339e+12,Chelsea Handler,2007.0,\"Are You There, Vodka? It\\'s Me, Chelsea\",\"Are You There, Vodka? It\\'s Me, Chelsea\",,3.85,127096,135734,6724,3901,9551,32729,46450,43103,https://s.gr-assets.com/assets/nophoto/book/111x148-bcc042a9c91a29c1d680899eff700a03.png,https://s.gr-assets.com/assets/nophoto/book/50x75-a91bf249278a81aabab721ef782c4a74.png',\n",
              " '606,71728,71728,1743336,278,743278909,9.7807432789e+12,\"Richard Bach, Russell Munson\",1970.0,Jonathan Livingston Seagull,Jonathan Livingston Seagull,en-US,3.8,133728,150767,5501,6169,13796,34951,44689,51162,https://s.gr-assets.com/assets/nophoto/book/111x148-bcc042a9c91a29c1d680899eff700a03.png,https://s.gr-assets.com/assets/nophoto/book/50x75-a91bf249278a81aabab721ef782c4a74.png',\n",
              " '607,8755785,8755785,13629068,7,1481426303,9.78148142630e+12,Cassandra Clare,2014.0,City of Heavenly Fire,\"City of Heavenly Fire (The Mortal Instruments, #6)\",eng,4.48,177796,203325,19582,1683,4287,18763,49304,129288,https://images.gr-assets.com/books/1460477794m/8755785.jpg,https://images.gr-assets.com/books/1460477794s/8755785.jpg',\n",
              " '608,310259,310259,277308,54,920668372,9.78092066838e+12,\"Robert Munsch, Sheila McGraw\",1986.0,Love You Forever,Love You Forever,en-GB,4.34,159703,162007,4286,5949,6288,16941,29626,103203,https://s.gr-assets.com/assets/nophoto/book/111x148-bcc042a9c91a29c1d680899eff700a03.png,https://s.gr-assets.com/assets/nophoto/book/50x75-a91bf249278a81aabab721ef782c4a74.png',\n",
              " '609,10567,10567,3017730,123,1416524517,9.78141652452e+12,Stephen King,2006.0,Cell,Cell,en-US,3.64,144591,153150,4841,5563,16309,44687,47447,39144,https://s.gr-assets.com/assets/nophoto/book/111x148-bcc042a9c91a29c1d680899eff700a03.png,https://s.gr-assets.com/assets/nophoto/book/50x75-a91bf249278a81aabab721ef782c4a74.png',\n",
              " '610,16158542,16158542,21998925,33,067002581X,9.78067002582e+12,Daniel James Brown,2013.0,The Boys in the Boat: Nine Americans and Their Epic Quest for Gold at the 1936 Berlin Olympics,The Boys in the Boat: Nine Americans and Their Epic Quest for Gold at the 1936 Berlin Olympics,eng,4.32,113565,139128,16287,2292,3772,15002,43457,74605,https://images.gr-assets.com/books/1354683116m/16158542.jpg,https://images.gr-assets.com/books/1354683116s/16158542.jpg',\n",
              " '611,7332,7332,4733799,339,618391118,9.78061839111e+12,\"J.R.R. Tolkien, Christopher Tolkien, Ted Nasmith\",1977.0,The Silmarillion,The Silmarillion (Middle-Earth Universe),eng,3.87,134106,160751,5743,4943,13613,36498,47548,58149,https://images.gr-assets.com/books/1336502583m/7332.jpg,https://images.gr-assets.com/books/1336502583s/7332.jpg',\n",
              " '612,5094,5094,2113248,164,451210859,9.78045121085e+12,Stephen King,1987.0,The Drawing of the Three,\"The Drawing of the Three (The Dark Tower, #2)\",eng,4.23,139052,157513,5293,1062,4303,22908,59055,70185,https://images.gr-assets.com/books/1370918050m/5094.jpg,https://images.gr-assets.com/books/1370918050s/5094.jpg',\n",
              " '613,3407877,3407877,3448086,119,330449605,9.7803304496e+12,Kate Morton,2008.0,The Forgotten Garden,The Forgotten Garden,en-GB,4.12,138377,157088,15953,1501,5098,26557,63709,60223,https://images.gr-assets.com/books/1455283767m/3407877.jpg,https://images.gr-assets.com/books/1455283767s/3407877.jpg',\n",
              " '614,17690,17690,2965832,915,99428644,9.78009942864e+12,\"Franz Kafka, Edwin Muir, Willa Muir, Max Brod\",1925.0,Der Prozeß,The Trial,eng,3.98,131856,159270,4717,3539,9051,31198,58123,57359,https://images.gr-assets.com/books/1320399438m/17690.jpg,https://images.gr-assets.com/books/1320399438s/17690.jpg',\n",
              " '615,22205,22205,132402,42,142501557,9.78014250156e+12,Sarah Dessen,2002.0,This Lullaby,This Lullaby,eng,4.03,151829,155107,4597,2714,8175,32346,49750,62122,https://images.gr-assets.com/books/1397779294m/22205.jpg,https://images.gr-assets.com/books/1397779294s/22205.jpg',\n",
              " '616,14864,14864,3375925,65,743275012,9.78074327502e+12,Jodi Picoult,2000.0,Plain Truth,Plain Truth,eng,3.97,128406,138814,6231,1123,5518,32571,57131,42471,https://s.gr-assets.com/assets/nophoto/book/111x148-bcc042a9c91a29c1d680899eff700a03.png,https://s.gr-assets.com/assets/nophoto/book/50x75-a91bf249278a81aabab721ef782c4a74.png',\n",
              " \"617,6314763,6314763,6499995,69,385523386,9.78038552339e+12,Piper Kerman,2010.0,Orange Is the New Black: My Year in a Women's Prison,Orange Is the New Black,eng,3.7,127186,146868,12873,3322,11023,43493,57605,31425,https://images.gr-assets.com/books/1320520714m/6314763.jpg,https://images.gr-assets.com/books/1320520714s/6314763.jpg\",\n",
              " '618,8921,8921,3311984,1717,451528018,9.78045152802e+12,\"Arthur Conan Doyle, Anne Perry\",1902.0,The Hound of the Baskervilles,The Hound of the Baskervilles,eng,4.09,154517,178563,5421,1098,5204,35369,71857,65035,https://images.gr-assets.com/books/1355929358m/8921.jpg,https://images.gr-assets.com/books/1355929358s/8921.jpg',\n",
              " '619,11468377,11468377,16402639,106,374275637,9.78037427563e+12,Daniel Kahneman,2011.0,\"Thinking, Fast and Slow\",\"Thinking, Fast and Slow\",eng,4.08,136950,149271,5715,3714,7025,25687,49723,63122,https://images.gr-assets.com/books/1317793965m/11468377.jpg,https://images.gr-assets.com/books/1317793965s/11468377.jpg',\n",
              " '620,402045,402045,806813,103,345350499,9.7803453505e+12,Marion Zimmer Bradley,1982.0,The Mists of Avalon,\"The Mists of Avalon (Avalon, #1)\",eng,4.12,157736,163331,5582,3469,7966,27551,51373,72972,https://images.gr-assets.com/books/1388857089m/402045.jpg,https://images.gr-assets.com/books/1388857089s/402045.jpg',\n",
              " '621,37732,37732,4121,75,689841582,9.78068984158e+12,Judy Blume,1970.0,\"Are You There God? It\\'s Me, Margaret\",\"Are You There God? It\\'s Me, Margaret\",eng,3.89,151789,162083,5168,3588,10014,40314,55092,53075,https://s.gr-assets.com/assets/nophoto/book/111x148-bcc042a9c91a29c1d680899eff700a03.png,https://s.gr-assets.com/assets/nophoto/book/50x75-a91bf249278a81aabab721ef782c4a74.png',\n",
              " '622,15926,15926,943470,115,446612707,9.78055381395e+12,Nicholas Sparks,2002.0,Nights in Rodanthe,Nights in Rodanthe,eng,3.82,129807,136507,4025,3102,10605,36852,42686,43262,https://images.gr-assets.com/books/1328145638m/15926.jpg,https://images.gr-assets.com/books/1328145638s/15926.jpg',\n",
              " '623,18775247,18775247,26680281,111,1476754454,9.78147675445e+12,Stephen King,2014.0,Mr. Mercedes,\"Mr. Mercedes (Bill Hodges Trilogy, #1)\",eng,3.92,125847,148491,12447,3242,7332,32479,60965,44473,https://images.gr-assets.com/books/1468705326m/18775247.jpg,https://images.gr-assets.com/books/1468705326s/18775247.jpg',\n",
              " '624,140075,140075,3159810,73,441014941,9.78044101494e+12,Charlaine Harris,2007.0,All Together Dead,\"All Together Dead (Sookie Stackhouse, #7)\",eng,4.05,162689,173654,3372,1127,5785,37956,66515,62271,https://images.gr-assets.com/books/1417964062m/140075.jpg,https://images.gr-assets.com/books/1417964062s/140075.jpg',\n",
              " '625,5166,5166,3221872,39,375706771,9.78037570678e+12,Chris Bohjalian,1997.0,Midwives,Midwives,en-US,3.97,133155,135534,3830,1317,5372,30829,57029,40987,https://s.gr-assets.com/assets/nophoto/book/111x148-bcc042a9c91a29c1d680899eff700a03.png,https://s.gr-assets.com/assets/nophoto/book/50x75-a91bf249278a81aabab721ef782c4a74.png',\n",
              " '626,420282,420282,1045364,57,395389496,9.78039538949e+12,Chris Van Allsburg,1985.0,The Polar Express,The Polar Express,en-US,4.29,168001,168847,2498,2857,6268,23676,42383,93663,https://images.gr-assets.com/books/1356707942m/420282.jpg,https://images.gr-assets.com/books/1356707942s/420282.jpg',\n",
              " '627,125507,125507,120878,39,140544518,9.78014054451e+12,\"Jon Scieszka, Lane Smith\",1989.0,The True Story of the Three Little Pigs,The True Story of the 3 Little Pigs,en-GB,4.29,141945,144093,2618,1449,4217,21301,40806,76320,https://images.gr-assets.com/books/1327884731m/125507.jpg,https://images.gr-assets.com/books/1327884731s/125507.jpg',\n",
              " '628,32682,32682,5054702,88,425134350,9.78042513435e+12,Tom Clancy,1987.0,Patriot Games,\"Patriot Games (Jack Ryan Universe, #2)\",eng,4.11,141674,146201,939,1351,3943,27548,58440,54919,https://images.gr-assets.com/books/1328007145m/32682.jpg,https://images.gr-assets.com/books/1328007145s/32682.jpg',\n",
              " '629,1431,1431,3287043,229,61124265,9.78006112427e+12,\"Paulo Coelho, Margaret Jull Costa\",1998.0,Veronika decide morrer,Veronika Decides to Die,eng,3.69,111856,132191,6063,5217,12725,35174,43885,35190,https://s.gr-assets.com/assets/nophoto/book/111x148-bcc042a9c91a29c1d680899eff700a03.png,https://s.gr-assets.com/assets/nophoto/book/50x75-a91bf249278a81aabab721ef782c4a74.png',\n",
              " '630,16071764,16071764,21865596,66,385349947,9.78038534995e+12,\"Sheryl Sandberg, Nell Scovell\",2013.0,\"Lean In: Women, Work, and the Will to Lead\",\"Lean In: Women, Work, and the Will to Lead\",eng,3.94,135635,145331,10385,3688,7487,30825,55784,47547,https://images.gr-assets.com/books/1364250803m/16071764.jpg,https://images.gr-assets.com/books/1364250803s/16071764.jpg',\n",
              " '631,170210,170210,1053933,80,441013333,9.78044101333e+12,Charlaine Harris,2005.0,Dead as a Doornail ,\"Dead as a Doornail (Sookie Stackhouse, #5)\",eng,4.01,169560,179156,3733,969,6113,42398,69792,59884,https://images.gr-assets.com/books/1468562419m/170210.jpg,https://images.gr-assets.com/books/1468562419s/170210.jpg',\n",
              " '632,10429045,10429045,15333458,77,62085484,9.78006208548e+12,Tahereh Mafi,2011.0,\"Shatter Me (Shatter Me, #1)\",\"Shatter Me (Shatter Me, #1)\",en-US,4.01,176433,200300,20959,7715,12475,34344,61578,84188,https://images.gr-assets.com/books/1310649047m/10429045.jpg,https://images.gr-assets.com/books/1310649047s/10429045.jpg',\n",
              " '633,17214,17214,2534973,132,441783589,9.78044178359e+12,Robert A. Heinlein,1959.0,Starship Troopers,Starship Troopers,en-CA,3.99,136886,145886,4034,2062,7314,31597,53591,51322,https://images.gr-assets.com/books/1406457252m/17214.jpg,https://images.gr-assets.com/books/1406457252s/17214.jpg',\n",
              " \"634,12033455,12033455,16327730,86,385342063,9.78038534206e+12,Sophie Kinsella,2011.0,I've Got Your Number,I've Got Your Number,eng,3.93,144533,154513,10577,3523,8046,34351,58073,50520,https://images.gr-assets.com/books/1327956732m/12033455.jpg,https://images.gr-assets.com/books/1327956732s/12033455.jpg\",\n",
              " '635,10959,10959,4432325,239,1857993284,9.78185799329e+12,\"Jostein Gaarder, Paulette Møller\",1991.0,Sofies Verden,Sophie\\'s World,eng,3.88,109692,143393,7652,3975,9949,32355,50286,46828,https://images.gr-assets.com/books/1343459906m/10959.jpg,https://images.gr-assets.com/books/1343459906s/10959.jpg',\n",
              " '636,11260526,11260526,16187316,14,316134112,9.78031613412e+12,Mark Cotta Vaz,2011.0,,\"The Twilight Saga Breaking Dawn Part 1: The Official Illustrated Movie Companion (The Twilight Saga: The Official Illustrated Movie Companion, #4)\",eng,4.3,188136,188274,134,2655,6588,29411,42475,107145,https://images.gr-assets.com/books/1327904795m/11260526.jpg,https://images.gr-assets.com/books/1327904795s/11260526.jpg',\n",
              " '637,76778,76778,4636013,271,553278223,9.78055327822e+12,Ray Bradbury,1950.0,The Martian Chronicles,The Martian Chronicles,en-US,4.12,143236,156328,5204,1666,5808,28385,56556,63913,https://images.gr-assets.com/books/1374049948m/76778.jpg,https://images.gr-assets.com/books/1374049948s/76778.jpg',\n",
              " '638,7331435,7331435,8975330,76,307592839,9.78030759284e+12,Jennifer Egan,2010.0,A Visit From the Goon Squad,A Visit from the Goon Squad,eng,3.64,120126,139744,15030,6060,14855,36024,48972,33833,https://images.gr-assets.com/books/1356844046m/7331435.jpg,https://images.gr-assets.com/books/1356844046s/7331435.jpg',\n",
              " '639,93,93,1738595,771,753454947,9.78075345495e+12,\"Johanna Spyri, Angelo  Rinaldi, Beverly Cleary\",1880.0,Heidi,Heidi,eng,3.97,144497,154669,2667,2236,8362,37291,50838,55942,https://s.gr-assets.com/assets/nophoto/book/111x148-bcc042a9c91a29c1d680899eff700a03.png,https://s.gr-assets.com/assets/nophoto/book/50x75-a91bf249278a81aabab721ef782c4a74.png',\n",
              " '640,83763,83763,1258566,113,61015725,9.78006101572e+12,Michael Crichton,2002.0,Prey,Prey,,3.72,131352,136307,2700,2481,11391,40947,48338,33150,https://s.gr-assets.com/assets/nophoto/book/111x148-bcc042a9c91a29c1d680899eff700a03.png,https://s.gr-assets.com/assets/nophoto/book/50x75-a91bf249278a81aabab721ef782c4a74.png',\n",
              " '641,84369,84369,1059917,245,7202326,9.78000720232e+12,C.S. Lewis,1956.0,The Last Battle,\"The Last Battle (Chronicles of Narnia, #7)\",eng,4.02,158701,174641,4156,3501,10243,35440,54778,70679,https://images.gr-assets.com/books/1308814830m/84369.jpg,https://images.gr-assets.com/books/1308814830s/84369.jpg',\n",
              " '642,5064,5064,2845518,2,525950079,9.78052595007e+12,Ken Follett,2007.0,World Without End,\"World Without End (The Kingsbridge Series, #2)\",eng,4.23,128715,145292,9392,1212,4241,20508,53074,66257,https://s.gr-assets.com/assets/nophoto/book/111x148-bcc042a9c91a29c1d680899eff700a03.png,https://s.gr-assets.com/assets/nophoto/book/50x75-a91bf249278a81aabab721ef782c4a74.png',\n",
              " '643,1326258,1326258,1315683,77,312360304,9.78031236031e+12,\"P.C. Cast, Kristin Cast\",2008.0,Chosen: A House of Night Novel,\"Chosen (House of Night, #3)\",en-US,3.9,180961,188550,4013,5974,14466,42946,53682,71482,https://images.gr-assets.com/books/1393192825m/1326258.jpg,https://images.gr-assets.com/books/1393192825s/1326258.jpg',\n",
              " '644,13372690,30333938,18602144,60,,,Colleen Hoover,2012.0,Slammed,\"Slammed (Slammed, #1)\",eng,4.29,153882,176166,14423,2888,5837,22249,51947,93245,https://images.gr-assets.com/books/1328530463m/13372690.jpg,https://images.gr-assets.com/books/1328530463s/13372690.jpg',\n",
              " '645,544891,544891,532177,74,60874163,9.78006087416e+12,Alex Flinn,2007.0,\"Beastly (Beastly, #1, Kendra Chronicles, #1)\",\"Beastly (Beastly, #1; Kendra Chronicles, #1)\",eng,3.84,150003,157088,8576,4103,12836,39399,48089,52661,https://images.gr-assets.com/books/1334260193m/544891.jpg,https://images.gr-assets.com/books/1334260193s/544891.jpg',\n",
              " '646,2696,2696,986234,634,140424385,9.78014042439e+12,\"Geoffrey Chaucer, Nevill Coghill\",1390.0,Tales of Caunterbury,The Canterbury Tales,eng,3.48,148480,158661,2615,6795,19618,52875,48893,30480,https://images.gr-assets.com/books/1261208589m/2696.jpg,https://images.gr-assets.com/books/1261208589s/2696.jpg',\n",
              " '647,42149,42149,1488992,43,312348649,9.78031234865e+12,Emily Giffin,2006.0,Baby Proof,Baby Proof,en-US,3.71,124371,129325,3375,3042,10434,39728,44093,32028,https://images.gr-assets.com/books/1361466583m/42149.jpg,https://images.gr-assets.com/books/1361466583s/42149.jpg',\n",
              " '648,7664041,7664041,10260587,119,375856110,9.78037585611e+12,Christopher Paolini,2011.0,Inheritance,\"Inheritance (The Inheritance Cycle, #4)\",en-US,4.08,146905,162717,8891,3498,9379,28585,50380,70875,https://s.gr-assets.com/assets/nophoto/book/111x148-bcc042a9c91a29c1d680899eff700a03.png,https://s.gr-assets.com/assets/nophoto/book/50x75-a91bf249278a81aabab721ef782c4a74.png',\n",
              " '649,10357575,10357575,18160093,107,307593312,9.78030759331e+12,\"Haruki Murakami, Jay Rubin, Philip Gabriel\",2009.0,いちきゅうはちよん [Ichi-Kyū-Hachi-Yon],1Q84,eng,3.89,125195,138691,13779,3934,9901,28881,51416,44559,https://images.gr-assets.com/books/1483103331m/10357575.jpg,https://images.gr-assets.com/books/1483103331s/10357575.jpg',\n",
              " \"650,46787,46787,2478635,1075,1840224029,9.78184022402e+12,Harriet Beecher Stowe,1852.0,Uncle Tom's Cabin or Life Among the Lowly,Uncle Tom's Cabin,eng,3.83,137858,155559,5696,3732,11754,39559,52344,48170,https://images.gr-assets.com/books/1414349231m/46787.jpg,https://images.gr-assets.com/books/1414349231s/46787.jpg\",\n",
              " '651,480204,480204,2259720,782,60809248,9.78006080925e+12,\"Gaston Leroux, Alexander Teixeira de Mattos\",1909.0,Le Fantôme de l\\'Opéra,The Phantom of the Opera,eng,3.97,141110,155679,4590,2451,8945,35912,51572,56799,https://images.gr-assets.com/books/1327867727m/480204.jpg,https://images.gr-assets.com/books/1327867727s/480204.jpg',\n",
              " '652,140079,140079,1174101,75,441014917,9.78044101491e+12,Charlaine Harris,2006.0,\"Definitely Dead (Sookie Stackhouse, #6)\",\"Definitely Dead (Sookie Stackhouse, #6)\",en-US,4.02,163054,172955,3669,1028,6116,40058,66966,58787,https://images.gr-assets.com/books/1468562748m/140079.jpg,https://images.gr-assets.com/books/1468562748s/140079.jpg',\n",
              " '653,2526,2526,3213039,231,156007754,9.78015600776e+12,\"José Saramago, Giovanni Pontiero\",1995.0,Ensaio Sobre a Cegueira,Blindness,en-US,4.08,98738,133257,11061,2960,6745,21616,47839,54097,https://images.gr-assets.com/books/1327866409m/2526.jpg,https://images.gr-assets.com/books/1327866409s/2526.jpg',\n",
              " '654,7905092,7905092,9585796,92,374158460,9.78037415846e+12,Jonathan Franzen,2010.0,Freedom,Freedom,en-US,3.73,119213,130682,12909,6143,11728,29502,47828,35481,https://images.gr-assets.com/books/1316729686m/7905092.jpg,https://images.gr-assets.com/books/1316729686s/7905092.jpg',\n",
              " '655,15812814,15812814,14449475,63,142421715,9.78014242171e+12,Ally Condie,2011.0,Crossed,\"Crossed (Matched, #2)\",eng,3.52,100886,179584,14020,6581,22713,57856,55935,36499,https://images.gr-assets.com/books/1374335939m/15812814.jpg,https://images.gr-assets.com/books/1374335939s/15812814.jpg',\n",
              " '656,852470,852470,1008494,58,1423100034,9.78142310003e+12,Ally Carter,2006.0,\"I\\'d Tell You I Love You, But Then I\\'d Have to Kill You\",\"I\\'d Tell You I Love You, But Then I\\'d Have to Kill You (Gallagher Girls, #1)\",en-US,3.82,150222,157885,6720,6407,13220,37418,45880,54960,https://images.gr-assets.com/books/1334491180m/852470.jpg,https://images.gr-assets.com/books/1334491180s/852470.jpg',\n",
              " '657,1768603,1768603,1766737,104,1416562591,9.7814165626e+12,Aravind Adiga,2008.0,The White Tiger,The White Tiger,eng,3.71,114531,125632,8334,2934,9631,34919,51398,26750,https://s.gr-assets.com/assets/nophoto/book/111x148-bcc042a9c91a29c1d680899eff700a03.png,https://s.gr-assets.com/assets/nophoto/book/50x75-a91bf249278a81aabab721ef782c4a74.png',\n",
              " '658,3805,3805,941200,133,1841156736,9.78184115674e+12,Jonathan Franzen,2001.0,The Corrections,The Corrections,eng,3.78,117657,131271,8201,6684,10960,27173,46440,40014,https://images.gr-assets.com/books/1355011305m/3805.jpg,https://images.gr-assets.com/books/1355011305s/3805.jpg',\n",
              " '659,88061,88061,86032,83,1921351438,9.78192135143e+12,Barack Obama,1995.0,Dreams from My Father,Dreams from My Father: A Story of Race and Inheritance,eng,3.81,128961,135594,5843,6777,7212,30921,50809,39875,https://images.gr-assets.com/books/1352340675m/88061.jpg,https://images.gr-assets.com/books/1352340675s/88061.jpg',\n",
              " '660,7672,7672,688299,83,60541830,9.78006054184e+12,Michael Crichton,1980.0,Congo,Congo,eng,3.55,129811,134422,1587,2910,13893,48006,45059,24554,https://s.gr-assets.com/assets/nophoto/book/111x148-bcc042a9c91a29c1d680899eff700a03.png,https://s.gr-assets.com/assets/nophoto/book/50x75-a91bf249278a81aabab721ef782c4a74.png',\n",
              " '661,46677,46677,1086647,47,689711735,9.78068971173e+12,\"Judith Viorst, Ray Cruz\",1972.0,\"Alexander and the Terrible, Horrible, No Good, Very Bad Day\",\"Alexander and the Terrible, Horrible, No Good, Very Bad Day\",en-CA,4.22,146073,147047,2213,2443,5423,23838,40774,74569,https://images.gr-assets.com/books/1405259744m/46677.jpg,https://images.gr-assets.com/books/1405259744s/46677.jpg',\n",
              " '662,5439,5439,3301398,83,618101365,9.78061810137e+12,Jhumpa Lahiri,1999.0,Interpreter of Maladies,Interpreter of Maladies,eng,4.12,110651,125062,8145,860,4045,21705,50880,47572,https://s.gr-assets.com/assets/nophoto/book/111x148-bcc042a9c91a29c1d680899eff700a03.png,https://s.gr-assets.com/assets/nophoto/book/50x75-a91bf249278a81aabab721ef782c4a74.png',\n",
              " \"663,2767,2767,2185591,83,60838655,9.78006083865e+12,Howard Zinn,1980.0,A People's History of the United States: 1492 to Present ,A People's History of the United States,eng,4.07,137372,142326,4320,6435,6926,21522,42751,64692,https://images.gr-assets.com/books/1494279423m/2767.jpg,https://images.gr-assets.com/books/1494279423s/2767.jpg\",\n",
              " \"664,251688,251688,2518209,254,679745653,9.78067974566e+12,Truman Capote,1958.0,Breakfast at Tiffany's,Breakfast at Tiffany's,eng,3.89,129778,158526,7331,1953,8353,40016,62437,45767,https://images.gr-assets.com/books/1477015353m/251688.jpg,https://images.gr-assets.com/books/1477015353s/251688.jpg\",\n",
              " '665,6690798,6690798,2802546,101,345504968,9.78034550497e+12,Justin Cronin,2010.0,The Passage,\"The Passage (The Passage, #1)\",eng,4.04,126993,145772,16506,3522,7867,24461,53735,56187,https://images.gr-assets.com/books/1327874267m/6690798.jpg,https://images.gr-assets.com/books/1327874267s/6690798.jpg',\n",
              " '666,2744,2744,1007964,112,60515198,9.7800605152e+12,Neil Gaiman,2005.0,Anansi Boys,Anansi Boys,eng,4.0,137639,153465,7758,1219,5671,32195,66653,47727,https://images.gr-assets.com/books/1479778049m/2744.jpg,https://images.gr-assets.com/books/1479778049s/2744.jpg',\n",
              " '667,5664985,5664985,5836517,41,670011940,9.78067001194e+12,Sarah Dessen,2009.0,Along for the Ride,Along for the Ride,eng,4.08,151721,156330,6238,2588,7073,30314,52171,64184,https://images.gr-assets.com/books/1479692098m/5664985.jpg,https://images.gr-assets.com/books/1479692098s/5664985.jpg',\n",
              " '668,18693763,18693763,26542311,62,159420571X,9.78159420571e+12,Celeste Ng,2014.0,Everything I Never Told You,Everything I Never Told You,eng,3.78,108703,134550,15177,2352,8110,36543,57858,29687,https://images.gr-assets.com/books/1386795198m/18693763.jpg,https://images.gr-assets.com/books/1386795198s/18693763.jpg',\n",
              " '669,9328,9328,3374404,243,553383809,9.78055338380e+12,\"Isabel Allende, Magda Bogin\",1982.0,La casa de los espíritus,The House of the Spirits,en-US,4.2,119930,140339,5244,1380,4506,21376,50822,62255,https://images.gr-assets.com/books/1358615501m/9328.jpg,https://images.gr-assets.com/books/1358615501s/9328.jpg',\n",
              " '670,11573,11573,2745957,145,451155750,9.78045115576e+12,Stephen King,1979.0,The Dead Zone,The Dead Zone,en-US,3.9,132723,139386,2294,1371,7164,37094,52341,41416,https://images.gr-assets.com/books/1283509622m/11573.jpg,https://images.gr-assets.com/books/1283509622s/11573.jpg',\n",
              " '671,16343,16343,3366260,876,646418432,9.78064641844e+12,\"Agatha Christie, Ροζίτα Σώκου\",1920.0,The Mysterious Affair at Styles,\"The Mysterious Affair at Styles (Hercule Poirot, #1)\",eng,3.98,135514,148617,3826,3132,5501,33269,55831,50884,https://s.gr-assets.com/assets/nophoto/book/111x148-bcc042a9c91a29c1d680899eff700a03.png,https://s.gr-assets.com/assets/nophoto/book/50x75-a91bf249278a81aabab721ef782c4a74.png',\n",
              " '672,16304,853510,2285570,429,425200450,9.78042520045e+12,Agatha Christie,1934.0,Murder in the Calais Coach,\"Murder on the Orient Express (Hercule Poirot, #10)\",eng,4.16,138444,173662,8713,706,4027,30417,70825,67687,https://s.gr-assets.com/assets/nophoto/book/111x148-bcc042a9c91a29c1d680899eff700a03.png,https://s.gr-assets.com/assets/nophoto/book/50x75-a91bf249278a81aabab721ef782c4a74.png',\n",
              " '673,15796700,15796700,21519538,83,307271080,9.78030727108e+12,Chimamanda Ngozi Adichie,2013.0,Americanah,Americanah,eng,4.26,113252,135108,13831,1764,3564,16174,50092,63514,https://images.gr-assets.com/books/1356654499m/15796700.jpg,https://images.gr-assets.com/books/1356654499s/15796700.jpg',\n",
              " \"674,7494,7494,141228,79,446611085,9.78044661108e+12,James Patterson,2001.0,Suzanne's Diary for Nicholas,Suzanne's Diary for Nicholas,eng,4.16,121398,124164,4255,2106,5364,21005,38213,57476,https://s.gr-assets.com/assets/nophoto/book/111x148-bcc042a9c91a29c1d680899eff700a03.png,https://s.gr-assets.com/assets/nophoto/book/50x75-a91bf249278a81aabab721ef782c4a74.png\",\n",
              " '675,233667,233667,1803,154,451167805,9.7804511678e+12,Stephen King,1980.0,Firestarter,Firestarter,eng,3.85,142213,148131,1859,1589,9090,42672,51583,43197,https://images.gr-assets.com/books/1394208032m/233667.jpg,https://images.gr-assets.com/books/1394208032s/233667.jpg',\n",
              " '676,15731779,15731779,21411971,76,425263924,9.78042526392e+12,Sylvia Day,2013.0,Entwined with You,\"Entwined with You (Crossfire, #3)\",eng,4.19,141641,157731,9728,2275,6942,25570,47336,75608,https://images.gr-assets.com/books/1362526983m/15731779.jpg,https://images.gr-assets.com/books/1362526983s/15731779.jpg',\n",
              " '677,6289283,6289283,6473602,70,307266303,9.78030726631e+12,Christopher McDougall,2009.0,\"Born to Run: A Hidden Tribe, Superathletes, and the Greatest Race the World Has Never Seen\",\"Born to Run: A Hidden Tribe, Superathletes, and the Greatest Race the World Has Never Seen\",eng,4.27,109642,121428,11605,1516,3182,15027,42605,59098,https://images.gr-assets.com/books/1320531983m/6289283.jpg,https://images.gr-assets.com/books/1320531983s/6289283.jpg',\n",
              " '678,18293427,18293427,25694131,79,1616203218,9.78161620321e+12,Gabrielle Zevin,2014.0,The Storied Life of A.J. Fikry,The Storied Life of A.J. Fikry,eng,3.98,115393,145313,20980,2685,5844,28640,63184,44960,https://images.gr-assets.com/books/1404582137m/18293427.jpg,https://images.gr-assets.com/books/1404582137s/18293427.jpg',\n",
              " '679,475339,475339,2666907,74,590133373,9.78059013337e+12,Ludwig Bemelmans,1939.0,Mad About Madeline,Madeline,en-GB,4.22,156726,158318,1407,2361,5708,26834,43736,79679,https://s.gr-assets.com/assets/nophoto/book/111x148-bcc042a9c91a29c1d680899eff700a03.png,https://s.gr-assets.com/assets/nophoto/book/50x75-a91bf249278a81aabab721ef782c4a74.png',\n",
              " '680,1005,30186948,1199320,709,1585424331,9.78158542434e+12,Napoleon Hill,1937.0,Think and Grow Rich,Think and Grow Rich: The Landmark Bestseller - Now Revised and Updated for the 21st Century,eng,4.17,87445,117444,3272,2764,5469,18408,33331,57472,https://s.gr-assets.com/assets/nophoto/book/111x148-bcc042a9c91a29c1d680899eff700a03.png,https://s.gr-assets.com/assets/nophoto/book/50x75-a91bf249278a81aabab721ef782c4a74.png',\n",
              " '681,8337,8337,1200805,132,60885378,9.78006088537e+12,\"Laura Ingalls Wilder, Garth Williams\",1932.0,Little House In The Big Woods,\"Little House in the Big Woods (Little House, #1)\",eng,4.16,165127,177991,4096,2773,5952,31155,57916,80195,https://images.gr-assets.com/books/1475195170m/8337.jpg,https://images.gr-assets.com/books/1475195170s/8337.jpg',\n",
              " '682,14201,14201,3921305,124,765356155,9.78076535615e+12,Susanna Clarke,2004.0,Jonathan Strange & Mr Norrell,Jonathan Strange & Mr Norrell,eng,3.8,133683,154688,11516,8086,14044,30972,48696,52890,https://images.gr-assets.com/books/1357027589m/14201.jpg,https://images.gr-assets.com/books/1357027589s/14201.jpg',\n",
              " '683,3463,3463,1498124,105,446696137,9.78044669614e+12,Nicholas Sparks,2001.0,A Bend in the Road,A Bend in the Road,eng,4.02,116800,123173,3392,1452,5660,27409,42912,45740,https://s.gr-assets.com/assets/nophoto/book/111x148-bcc042a9c91a29c1d680899eff700a03.png,https://s.gr-assets.com/assets/nophoto/book/50x75-a91bf249278a81aabab721ef782c4a74.png',\n",
              " '684,12127810,12127810,21539506,63,1423146727,9.78142314673e+12,Rick Riordan,2013.0,The House of Hades,\"The House of Hades (The Heroes of Olympus, #4)\",eng,4.54,159774,175407,11843,698,1916,12999,45501,114293,https://images.gr-assets.com/books/1464201430m/12127810.jpg,https://images.gr-assets.com/books/1464201430s/12127810.jpg',\n",
              " '685,2536134,2536134,2543657,61,61448761,9.78006144877e+12,Michael  Grant,2008.0,Gone,\"Gone (Gone, #1)\",eng,3.85,144606,153953,9445,6428,12529,32771,47507,54718,https://images.gr-assets.com/books/1357796831m/2536134.jpg,https://images.gr-assets.com/books/1357796831s/2536134.jpg',\n",
              " '686,3466,3466,1208014,85,446615862,9.78044661586e+12,Nicholas Sparks,2003.0,The Wedding,\"The Wedding (The Notebook, #2)\",en-US,3.98,118045,124358,5443,2102,7587,28194,39312,47163,https://images.gr-assets.com/books/1385738787m/3466.jpg,https://images.gr-assets.com/books/1385738787s/3466.jpg',\n",
              " '687,1067,1067,3364186,38,743226720,9.78074322672e+12,David McCullough,2005.0,1776,1776,eng,4.06,130293,135378,5963,3155,5468,23230,51681,51844,https://images.gr-assets.com/books/1306787560m/1067.jpg,https://images.gr-assets.com/books/1306787560s/1067.jpg',\n",
              " '688,10847,10847,1723947,37,330419129,9.78033041912e+12,Jon Krakauer,2003.0,Under the Banner of Heaven: A Story of Violent Faith,Under the Banner of Heaven: A Story of Violent Faith,eng,3.98,112167,123697,8947,1958,5259,25101,52050,39329,https://images.gr-assets.com/books/1356441391m/10847.jpg,https://images.gr-assets.com/books/1356441391s/10847.jpg',\n",
              " '689,11447921,11447921,16381755,51,61928127,9.78006192812e+12,Jess Walter,2012.0,Beautiful Ruins,Beautiful Ruins,eng,3.67,116053,128321,13738,2869,10393,38113,51164,25782,https://images.gr-assets.com/books/1338161553m/11447921.jpg,https://images.gr-assets.com/books/1338161553s/11447921.jpg',\n",
              " '690,9742,9742,1716451,62,307237699,9.7803072377e+12,Barack Obama,2006.0,The Audacity of Hope: Thoughts on Reclaiming the American Dream,The Audacity of Hope: Thoughts on Reclaiming the American Dream,en-US,3.69,110873,114115,4511,7053,7808,28645,40177,30432,https://s.gr-assets.com/assets/nophoto/book/111x148-bcc042a9c91a29c1d680899eff700a03.png,https://s.gr-assets.com/assets/nophoto/book/50x75-a91bf249278a81aabab721ef782c4a74.png',\n",
              " '691,10569,10569,150292,122,743455967,9.78074345596e+12,Stephen King,1999.0,On Writing: A Memoir of the Craft,On Writing: A Memoir of the Craft,eng,4.31,131481,151918,11807,1361,3497,18862,51470,76728,https://images.gr-assets.com/books/1436735207m/10569.jpg,https://images.gr-assets.com/books/1436735207s/10569.jpg',\n",
              " '692,1472878,1472878,1463850,61,312364083,9.78031236408e+12,Kristin Hannah,2008.0,Firefly Lane,\"Firefly Lane (Firefly Lane, #1)\",en-US,4.04,121966,131124,11137,2074,6448,25649,46852,50101,https://images.gr-assets.com/books/1362435448m/1472878.jpg,https://images.gr-assets.com/books/1362435448s/1472878.jpg',\n",
              " '693,455373,455373,2651694,122,345418972,9.78034541898e+12,Michael Crichton,1987.0,Sphere,Sphere,eng,3.77,128244,135005,2313,1851,9728,40085,49513,33828,https://s.gr-assets.com/assets/nophoto/book/111x148-bcc042a9c91a29c1d680899eff700a03.png,https://s.gr-assets.com/assets/nophoto/book/50x75-a91bf249278a81aabab721ef782c4a74.png',\n",
              " \"694,2120652,2120652,1470370,47,312348673,9.78031234867e+12,Emily Giffin,2008.0,Love the One You're With,Love the One You're With,en-US,3.7,124812,129614,4743,3289,10895,39052,44476,31902,https://images.gr-assets.com/books/1361466590m/2120652.jpg,https://images.gr-assets.com/books/1361466590s/2120652.jpg\",\n",
              " '695,18214414,18214414,25639104,109,316206873,9.78031620688e+12,\"Robert Galbraith, J.K. Rowling\",2014.0,The Silkworm,\"The Silkworm (Cormoran Strike, #2)\",eng,4.03,120008,145146,13549,1330,4361,27130,67680,44645,https://images.gr-assets.com/books/1392577290m/18214414.jpg,https://images.gr-assets.com/books/1392577290s/18214414.jpg',\n",
              " '696,43814,43814,3241580,111,345476883,9.78034547688e+12,Anne Rice,1985.0,The Vampire Lestat,\"The Vampire Lestat (The Vampire Chronicles, #2)\",eng,4.05,141299,150967,3097,1531,6801,30996,54376,57263,https://images.gr-assets.com/books/1347515742m/43814.jpg,https://images.gr-assets.com/books/1347515742s/43814.jpg',\n",
              " '697,9118135,9118135,14893776,49,62049801,9.7800620498e+12,Ann Patchett,2011.0,State of Wonder,State of Wonder,eng,3.85,124837,135740,14781,2243,8179,32560,57115,35643,https://images.gr-assets.com/books/1454428541m/9118135.jpg,https://images.gr-assets.com/books/1454428541s/9118135.jpg',\n",
              " '698,13539044,13539044,2915346,75,374533571,9.78037453357e+12,Matthew Quick,2008.0,The Silver Linings Playbook,The Silver Linings Playbook,en-US,4.0,110939,129408,11059,1493,5495,25882,54594,41944,https://images.gr-assets.com/books/1358277412m/13539044.jpg,https://images.gr-assets.com/books/1358277412s/13539044.jpg',\n",
              " '699,33507,33507,1112418,1691,076072850X,9.78076072850e+12,\"Jules Verne, Anthony Bonner\",1869.0,Vingt Mille Lieues Sous les Mers,Twenty Thousand Leagues Under the Sea,eng,3.86,121112,148698,4608,2333,8924,38817,55211,43413,https://images.gr-assets.com/books/1494979127m/33507.jpg,https://images.gr-assets.com/books/1494979127s/33507.jpg',\n",
              " '700,16181,16181,1745738,63,743272498,9.78074327249e+12,Philippa Gregory,2005.0,The Constant Princess,\"The Constant Princess (The Plantagenet and Tudor Novels, #6)\",en-US,3.88,124786,130800,4166,2456,6856,33052,49899,38537,https://images.gr-assets.com/books/1355932704m/16181.jpg,https://images.gr-assets.com/books/1355932704s/16181.jpg',\n",
              " '701,14942,14942,841320,572,151009988,9.78015100998e+12,\"Virginia Woolf, Maureen Howard\",1925.0,Mrs Dalloway,Mrs. Dalloway,en-US,3.78,136327,158347,6360,6254,13779,37308,52528,48478,https://images.gr-assets.com/books/1479336522m/14942.jpg,https://images.gr-assets.com/books/1479336522s/14942.jpg',\n",
              " '702,13486632,13486632,10365993,173,1843913720,9.78184391373e+12,\"Jonas Jonasson, Rod Bradbury\",2009.0,Hundraåringen som klev ut genom fönstret och försvann,The Hundred-Year-Old Man Who Climbed Out of the Window and Disappeared,en-GB,3.81,92275,137865,16350,4096,11094,31788,50610,40277,https://images.gr-assets.com/books/1334848488m/13486632.jpg,https://images.gr-assets.com/books/1334848488s/13486632.jpg',\n",
              " '703,10589,10589,3254516,134,067102423X,9.78067102424e+12,Stephen King,1998.0,Bag of Bones,Bag of Bones,en-US,3.87,131004,137867,3087,2377,9330,35689,46716,43755,https://images.gr-assets.com/books/1365592796m/10589.jpg,https://images.gr-assets.com/books/1365592796s/10589.jpg',\n",
              " '704,4687,4687,3875895,114,786226749,9.78078622674e+12,John Irving,1985.0,The Cider House Rules,The Cider House Rules,eng,4.1,124876,134263,3170,1250,4327,23669,55302,49715,https://images.gr-assets.com/books/1327962519m/4687.jpg,https://images.gr-assets.com/books/1327962519s/4687.jpg',\n",
              " '705,10605,10605,2791999,132,451190750,9.78045119076e+12,\"Richard Bachman, Stephen King\",1984.0,Thinner,Thinner,en-GB,3.66,130219,136473,1641,2810,13288,44786,41617,33972,https://images.gr-assets.com/books/1346947063m/10605.jpg,https://images.gr-assets.com/books/1346947063s/10605.jpg',\n",
              " '706,54479,54479,4537271,1903,014044906X,9.78014044907e+12,\"Jules Verne, Michael Glencross, Brian W. Aldiss\",1872.0,Le tour du monde en quatre-vingts jours,Around the World in Eighty Days,eng,3.9,117108,141132,4341,1273,6693,36897,55603,40666,https://images.gr-assets.com/books/1308815551m/54479.jpg,https://images.gr-assets.com/books/1308815551s/54479.jpg',\n",
              " '707,53496,53496,1237212,65,60739495,9.78006073949e+12,Sharon Creech,1994.0,Walk Two Moons,Walk Two Moons,eng,3.95,129350,132970,5530,3251,8401,29328,43060,48930,https://images.gr-assets.com/books/1389035862m/53496.jpg,https://images.gr-assets.com/books/1389035862s/53496.jpg',\n",
              " '708,1430,1430,1950213,194,60589280,9.78006058929e+12,\"Paulo Coelho, Margaret Jull Costa\",2003.0,Onze minutos,Eleven Minutes,eng,3.69,102206,116141,5444,4444,11306,31202,38487,30702,https://images.gr-assets.com/books/1358266987m/1430.jpg,https://images.gr-assets.com/books/1358266987s/1430.jpg',\n",
              " '709,4009,4009,1839377,155,316767727,9.78031676773e+12,J.D. Salinger,1953.0,Nine Stories,Nine Stories,eng,4.19,105138,117297,3423,1416,3591,18615,41479,52196,https://s.gr-assets.com/assets/nophoto/book/111x148-bcc042a9c91a29c1d680899eff700a03.png,https://s.gr-assets.com/assets/nophoto/book/50x75-a91bf249278a81aabab721ef782c4a74.png',\n",
              " '710,13747,13747,3338312,64,031610969X,9.7803161097e+12,Julie Powell,2005.0,\"Julie & Julia: 365 Days, 524 Recipes, 1 Tiny Apartment Kitchen\",\"Julie and Julia: 365 Days, 524 Recipes, 1 Tiny Apartment Kitchen: How One Girl Risked Her Marriage, Her Job, and Her Sanity to Master the Art of Living\",eng,3.67,121373,129563,7434,4405,11803,37340,44811,31204,https://s.gr-assets.com/assets/nophoto/book/111x148-bcc042a9c91a29c1d680899eff700a03.png,https://s.gr-assets.com/assets/nophoto/book/50x75-a91bf249278a81aabab721ef782c4a74.png',\n",
              " '711,764347,764347,750423,62,1416912045,9.78141691204e+12,Neal Shusterman,2007.0,Unwind,\"Unwind (Unwind, #1)\",eng,4.18,143892,152643,15376,3032,5976,22062,50286,71287,https://images.gr-assets.com/books/1297677706m/764347.jpg,https://images.gr-assets.com/books/1297677706s/764347.jpg',\n",
              " '712,10988,10988,3123704,96,385335989,9.78038533598e+12,Diana Gabaldon,1996.0,\"Drums of Autumn (Outlander, #4)\",\"Drums of Autumn (Outlander, #4)\",eng,4.34,123736,145728,5743,584,2679,18529,48756,75180,https://images.gr-assets.com/books/1500688941m/10988.jpg,https://images.gr-assets.com/books/1500688941s/10988.jpg',\n",
              " '713,13414446,13414446,18712554,61,399256768,9.78039925677e+12,Marie Lu,2013.0,Prodigy,\"Prodigy (Legend, #2)\",eng,4.29,149702,160193,12663,1213,3659,21004,56370,77947,https://images.gr-assets.com/books/1336254717m/13414446.jpg,https://images.gr-assets.com/books/1336254717s/13414446.jpg',\n",
              " '714,12938,12938,2342136,1108,074348276X,9.78074348277e+12,William Shakespeare,1603.0,The Tragedie of King Lear,King Lear,eng,3.89,135448,147282,3079,2825,10502,36179,47682,50094,https://images.gr-assets.com/books/1331563731m/12938.jpg,https://images.gr-assets.com/books/1331563731s/12938.jpg',\n",
              " '715,12898,12898,2722054,139,435233076,9.78043523308e+12,Arthur Miller,1949.0,Death of a Salesman,Death of a Salesman,eng,3.49,132061,147597,3486,6733,19241,46338,46051,29234,https://images.gr-assets.com/books/1469024140m/12898.jpg,https://images.gr-assets.com/books/1469024140s/12898.jpg',\n",
              " '716,531350,25402194,2416287,101,446579920,9.78044657993e+12,Nicholas Sparks,2007.0,The Choice,The Choice,en-US,3.99,93479,128525,6808,2160,7288,28349,42867,47861,https://images.gr-assets.com/books/1385739133m/531350.jpg,https://images.gr-assets.com/books/1385739133s/531350.jpg',\n",
              " '717,11742691,11742691,16692130,11,545422906,9.7805454229e+12,Kate Egan,2012.0,,The Hunger Games: Official Illustrated Movie Companion,en-US,4.51,119915,120075,384,1968,2226,10191,24365,81325,https://images.gr-assets.com/books/1363678804m/11742691.jpg,https://images.gr-assets.com/books/1363678804s/11742691.jpg',\n",
              " '718,10975,10975,1168289,221,,,William Faulkner,1929.0,The Sound and the Fury,The Sound and the Fury,eng,3.86,124665,133331,5485,6725,10848,26021,40913,48824,https://images.gr-assets.com/books/1433089995m/10975.jpg,https://images.gr-assets.com/books/1433089995s/10975.jpg',\n",
              " \"719,76334,76334,2567181,45,452287588,9.78045228759e+12,Eckhart Tolle,2005.0,A New Earth: Awakening to Your Life's Purpose,A New Earth: Awakening to Your Life's Purpose,eng,4.02,106211,113457,5862,4424,7162,19384,32949,49538,https://s.gr-assets.com/assets/nophoto/book/111x148-bcc042a9c91a29c1d680899eff700a03.png,https://s.gr-assets.com/assets/nophoto/book/50x75-a91bf249278a81aabab721ef782c4a74.png\",\n",
              " '720,2880,2880,1854946,34,1591164419,9.78159116442e+12,Tite Kubo,2002.0,BLEACH―ブリーチ―\\u30001,\"Bleach, Volume 01\",eng,4.21,120004,120433,890,2644,5380,18982,30554,62873,https://s.gr-assets.com/assets/nophoto/book/111x148-bcc042a9c91a29c1d680899eff700a03.png,https://s.gr-assets.com/assets/nophoto/book/50x75-a91bf249278a81aabab721ef782c4a74.png',\n",
              " '721,17571564,17571564,24510592,24,1451666179,9.78145166618e+12,Allie Brosh,2013.0,,\"Hyperbole and a Half: Unfortunate Situations, Flawed Coping Mechanisms, Mayhem, and Other Things That Happened\",eng,4.17,118910,131008,10136,4313,5424,17787,39701,63783,https://images.gr-assets.com/books/1409522492m/17571564.jpg,https://images.gr-assets.com/books/1409522492s/17571564.jpg',\n",
              " '722,9539,9539,6591373,83,812513738,9.78081251374e+12,Robert Jordan,1992.0,The Shadow Rising ,\"The Shadow Rising (Wheel of Time, #4)\",en-US,4.21,122524,130562,2145,930,3327,20346,48728,57231,https://images.gr-assets.com/books/1470841890m/9539.jpg,https://images.gr-assets.com/books/1470841890s/9539.jpg',\n",
              " '723,33600,33600,3174890,101,192076920X,9.78192076921e+12,Gregory David Roberts,2003.0,Shantaram,Shantaram,eng,4.26,95213,111838,10295,2188,4308,13378,34106,57858,https://images.gr-assets.com/books/1333482282m/33600.jpg,https://images.gr-assets.com/books/1333482282s/33600.jpg',\n",
              " '724,2233407,2233407,3159807,67,441015891,9.78044101589e+12,Charlaine Harris,2008.0,From Dead to Worse,\"From Dead to Worse (Sookie Stackhouse, #8)\",eng,4.01,151095,161814,3500,946,5941,37809,62516,54602,https://s.gr-assets.com/assets/nophoto/book/111x148-bcc042a9c91a29c1d680899eff700a03.png,https://s.gr-assets.com/assets/nophoto/book/50x75-a91bf249278a81aabab721ef782c4a74.png',\n",
              " '725,34084,34084,1810634,151,670032565,9.78067003256e+12,\"Stephen King, Ned Dameron\",1991.0,The Waste Lands,\"The Waste Lands (The Dark Tower, #3)\",eng,4.24,117483,135257,3844,801,3169,19831,50959,60497,https://s.gr-assets.com/assets/nophoto/book/111x148-bcc042a9c91a29c1d680899eff700a03.png,https://s.gr-assets.com/assets/nophoto/book/50x75-a91bf249278a81aabab721ef782c4a74.png',\n",
              " '726,2373,2373,2589896,109,451188454,9.78045118846e+12,Jeffery Deaver,1997.0,The Bone Collector,\"The Bone Collector (Lincoln Rhyme, #1)\",en-US,4.18,120541,125250,1785,1165,3101,20494,47836,52654,https://s.gr-assets.com/assets/nophoto/book/111x148-bcc042a9c91a29c1d680899eff700a03.png,https://s.gr-assets.com/assets/nophoto/book/50x75-a91bf249278a81aabab721ef782c4a74.png',\n",
              " '727,101299,101299,23684,183,375408266,9.78037540827e+12,\"Bernhard Schlink, Carol Brown Janeway\",1995.0,Der Vorleser,The Reader,eng,3.73,119911,141705,8529,2975,10982,39603,55731,32414,https://images.gr-assets.com/books/1327936339m/101299.jpg,https://images.gr-assets.com/books/1327936339s/101299.jpg',\n",
              " '728,759611,759611,810506,77,805047905,9.78080504790e+12,\"Bill Martin Jr., Eric Carle\",1967.0,\"Brown Bear, Brown Bear, What Do You See?\",\"Brown Bear, Brown Bear, What Do You See?\",eng,4.19,125668,127162,2731,2280,6108,22298,31492,64984,https://s.gr-assets.com/assets/nophoto/book/111x148-bcc042a9c91a29c1d680899eff700a03.png,https://s.gr-assets.com/assets/nophoto/book/50x75-a91bf249278a81aabab721ef782c4a74.png',\n",
              " '729,77566,77566,1383900,107,553283685,9.78055328369e+12,Dan Simmons,1989.0,Hyperion,\"Hyperion (Hyperion Cantos, #1)\",eng,4.21,122225,130489,5640,2284,5503,18329,41131,63242,https://images.gr-assets.com/books/1405546838m/77566.jpg,https://images.gr-assets.com/books/1405546838s/77566.jpg',\n",
              " '730,5308,5308,195832,233,142000698,9.78014200069e+12,John Steinbeck,1947.0,The Pearl of the World,The Pearl,eng,3.41,133264,145891,6121,8757,18361,48458,45467,24848,https://images.gr-assets.com/books/1437234939m/5308.jpg,https://images.gr-assets.com/books/1437234939s/5308.jpg',\n",
              " '731,179780,179780,1945267,1,61007226,9.78006100722e+12,William Peter Blatty,1971.0,The Exorcist,The Exorcist,en-US,4.14,124467,130575,2850,2211,4877,22809,43470,57208,https://images.gr-assets.com/books/1375168676m/179780.jpg,https://images.gr-assets.com/books/1375168676s/179780.jpg',\n",
              " '732,7937462,7937462,11342428,93,031612558X,9.78031612558e+12,Stephenie Meyer,2009.0,The Short Second Life of Bree Tanner,\"The Short Second Life of Bree Tanner: An Eclipse Novella (Twilight, #3.5)\",eng,3.51,145874,159769,9885,7314,21317,50829,43629,36680,https://images.gr-assets.com/books/1274335680m/7937462.jpg,https://images.gr-assets.com/books/1274335680s/7937462.jpg',\n",
              " '733,77142,77142,1677615,97,067976402X,9.78067976402e+12,David Guterson,1994.0,Snow Falling on Cedars,Snow Falling on Cedars,eng,3.8,131945,136212,3881,2507,9023,35994,54408,34280,https://images.gr-assets.com/books/1479863528m/77142.jpg,https://images.gr-assets.com/books/1479863528s/77142.jpg',\n",
              " '734,546018,546018,2529422,102,440174643,9.78044017465e+12,Alex Haley,1976.0,Roots,Roots: The Saga of an American Family,en-US,4.42,118951,122585,2644,784,1951,12877,36557,70416,https://images.gr-assets.com/books/1329398936m/546018.jpg,https://images.gr-assets.com/books/1329398936s/546018.jpg',\n",
              " '735,96358,96358,551787,69,930289455,9.78093028945e+12,\"Alan Moore, Brian Bolland, Tim Sale\",1988.0,Batman: The Killing Joke ,Batman: The Killing Joke,eng,4.36,113855,123312,3711,883,2751,14311,38045,67322,https://images.gr-assets.com/books/1346331835m/96358.jpg,https://images.gr-assets.com/books/1346331835s/96358.jpg',\n",
              " '736,16981,16981,170957,109,679732764,9.78067973276e+12,Ralph Ellison,1952.0,Invisible Man,Invisible Man,eng,3.84,123073,127464,4160,4351,10006,28935,43080,41092,https://images.gr-assets.com/books/1352854247m/16981.jpg,https://images.gr-assets.com/books/1352854247s/16981.jpg',\n",
              " '737,43015,43015,825414,68,374105235,9.78037410524e+12,Ishmael Beah,2007.0,A Long Way Gone. Memoirs of a Boy Soldier,A Long Way Gone: Memoirs of a Boy Soldier,en-US,4.14,116260,121841,9015,1424,3801,20057,46963,49596,https://s.gr-assets.com/assets/nophoto/book/111x148-bcc042a9c91a29c1d680899eff700a03.png,https://s.gr-assets.com/assets/nophoto/book/50x75-a91bf249278a81aabab721ef782c4a74.png',\n",
              " '738,9822,9822,839692,73,689862202,9.78068986220e+12,Robert C. O\\'Brien,1971.0,Mrs. Frisby and the Rats of NIMH,\"Mrs. Frisby and the Rats of NIMH (Rats of NIMH, #1)\",,4.13,135978,142350,2718,1620,4727,26279,50968,58756,https://images.gr-assets.com/books/1351191064m/9822.jpg,https://images.gr-assets.com/books/1351191064s/9822.jpg',\n",
              " '739,39662,39662,2248680,132,751514624,9.78075151463e+12,Stephen King,1982.0,Different Seasons,Different Seasons,eng,4.34,105961,138206,3148,435,2223,17523,48177,69848,https://images.gr-assets.com/books/1329662611m/39662.jpg,https://images.gr-assets.com/books/1329662611s/39662.jpg',\n",
              " '740,114345,114345,2852640,14,60529962,9.78006052996e+12,\"Laura Ingalls Wilder, Garth Williams\",1953.0,The Little House Collection,\"The Little House Collection (Little House, #1-9)\",,4.33,124320,128880,2016,2304,3046,15651,36875,71004,https://s.gr-assets.com/assets/nophoto/book/111x148-bcc042a9c91a29c1d680899eff700a03.png,https://s.gr-assets.com/assets/nophoto/book/50x75-a91bf249278a81aabab721ef782c4a74.png',\n",
              " \"741,33926,33926,33947,61,143035479,9.78014303547e+12,Melissa Bank,1998.0,The Girls' Guide to Hunting and Fishing,The Girls' Guide to Hunting and Fishing,,3.29,113977,118017,2809,11089,16858,37528,32016,20526,https://images.gr-assets.com/books/1309210476m/33926.jpg,https://images.gr-assets.com/books/1309210476s/33926.jpg\",\n",
              " '742,13453029,13453029,18979356,116,,,Hugh Howey,2012.0,Wool Omnibus,\"Wool Omnibus (Silo, #1)\",eng,4.24,81982,121842,11803,1155,3518,15776,46236,55157,https://images.gr-assets.com/books/1349614200m/13453029.jpg,https://images.gr-assets.com/books/1349614200s/13453029.jpg',\n",
              " '743,28881,28881,3346728,51,380813815,9.78038081381e+12,Christopher Moore,2002.0,\"Lamb: The Gospel According to Biff, Christ\\'s Childhood Pal\",\"Lamb: The Gospel According to Biff, Christ\\'s Childhood Pal\",en-US,4.26,118576,125861,10411,2392,4578,16179,37102,65610,https://images.gr-assets.com/books/1331419009m/28881.jpg,https://images.gr-assets.com/books/1331419009s/28881.jpg',\n",
              " '744,6708,6708,840520,153,1577314808,9.78157731481e+12,Eckhart Tolle,1997.0,The Power of Now,The Power of Now: A Guide to Spiritual Enlightenment,eng,4.1,104549,112730,5376,3440,6131,17848,33175,52136,https://s.gr-assets.com/assets/nophoto/book/111x148-bcc042a9c91a29c1d680899eff700a03.png,https://s.gr-assets.com/assets/nophoto/book/50x75-a91bf249278a81aabab721ef782c4a74.png',\n",
              " \"745,12868761,12868761,17995392,2,399159010,9.78039915902e+12,Jenny  Lawson,2012.0,Let's Pretend This Never Happened (A Mostly True Memoir),Let's Pretend This Never Happened: A Mostly True Memoir,eng,3.9,118475,130593,15544,5179,9769,25994,41884,47767,https://images.gr-assets.com/books/1489415716m/12868761.jpg,https://images.gr-assets.com/books/1489415716s/12868761.jpg\",\n",
              " '746,127455,127455,2116675,72,553804677,9.78055380468e+12,Scott Lynch,2006.0,The Lies of Locke Lamora,\"The Lies of Locke Lamora (Gentleman Bastard, #1)\",eng,4.3,118751,138021,9655,2360,4377,14772,44719,71793,https://s.gr-assets.com/assets/nophoto/book/111x148-bcc042a9c91a29c1d680899eff700a03.png,https://s.gr-assets.com/assets/nophoto/book/50x75-a91bf249278a81aabab721ef782c4a74.png',\n",
              " '747,518848,518848,3312237,99,64471837,9.78006447183e+12,Garth Nix,1995.0,Sabriel,\"Sabriel (Abhorsen,  #1)\",en-US,4.17,137047,146144,5652,2911,5797,22367,47814,67255,https://images.gr-assets.com/books/1293655399m/518848.jpg,https://images.gr-assets.com/books/1293655399s/518848.jpg',\n",
              " '748,5161066,5161066,5228078,68,441017150,9.78044101716e+12,Charlaine Harris,2009.0,Dead and Gone,\"Dead and Gone (Sookie Stackhouse, #9)\",eng,4.01,145157,156932,4315,1114,6415,36292,59321,53790,https://s.gr-assets.com/assets/nophoto/book/111x148-bcc042a9c91a29c1d680899eff700a03.png,https://s.gr-assets.com/assets/nophoto/book/50x75-a91bf249278a81aabab721ef782c4a74.png',\n",
              " '749,15753740,15753740,21449403,62,1439102767,9.78143910276e+12,Jodi Picoult,2013.0,The Storyteller,The Storyteller,eng,4.26,109313,125264,13923,1206,3199,15490,47104,58265,https://images.gr-assets.com/books/1356328634m/15753740.jpg,https://images.gr-assets.com/books/1356328634s/15753740.jpg',\n",
              " '750,12578077,12578077,17588854,60,1620610078,9.78162061008e+12,Jennifer L. Armentrout,2011.0,Obsidian,\"Obsidian (Lux, #1)\",eng,4.23,164832,176296,15367,4284,6932,23256,50731,91093,https://images.gr-assets.com/books/1328275091m/12578077.jpg,https://images.gr-assets.com/books/1328275091s/12578077.jpg',\n",
              " '751,8694,8694,74123,142,345418905,9.78034541891e+12,Douglas Adams,1982.0,\"Life, the Universe and Everything\",\"Life, the Universe and Everything (Hitchhiker\\'s Guide, #3)\",eng,4.19,131562,145992,2354,657,3816,25663,53047,62809,https://images.gr-assets.com/books/1333577589m/8694.jpg,https://images.gr-assets.com/books/1333577589s/8694.jpg',\n",
              " '752,17167166,17167166,21581860,55,1619630621,9.78161963063e+12,Sarah J. Maas,2013.0,Crown of Midnight,\"Crown of Midnight (Throne of Glass, #2)\",en-CA,4.49,160485,184381,19450,1092,2478,14391,52781,113639,https://images.gr-assets.com/books/1391580481m/17167166.jpg,https://images.gr-assets.com/books/1391580481s/17167166.jpg',\n",
              " '753,29800,29800,30220,34,1932664084,9.78193266409e+12,Bryan Lee O\\'Malley,2004.0,\"Scott Pilgrim, Volume 1: Scott Pilgrim\\'s Precious Little Life\",\"Scott Pilgrim, Volume 1: Scott Pilgrim\\'s Precious Little Life\",eng,4.18,126864,130847,3118,3667,4891,18962,40649,62678,https://s.gr-assets.com/assets/nophoto/book/111x148-bcc042a9c91a29c1d680899eff700a03.png,https://s.gr-assets.com/assets/nophoto/book/50x75-a91bf249278a81aabab721ef782c4a74.png',\n",
              " '754,6366437,6366437,6553801,51,1416586288,9.78141658629e+12,Jeannette Walls,2008.0,Half Broke Horses: A True Life Novel,Half Broke Horses,eng,4.05,110597,119479,10401,820,3719,23221,52865,38854,https://s.gr-assets.com/assets/nophoto/book/111x148-bcc042a9c91a29c1d680899eff700a03.png,https://s.gr-assets.com/assets/nophoto/book/50x75-a91bf249278a81aabab721ef782c4a74.png',\n",
              " '755,386372,386372,1857065,4,61020680,9.78006102068e+12,Terry Pratchett,1987.0,Mort,\"Mort (Death, #1; Discworld, #4)\",eng,4.22,128450,141887,3081,912,2663,21970,55524,60818,https://s.gr-assets.com/assets/nophoto/book/111x148-bcc042a9c91a29c1d680899eff700a03.png,https://s.gr-assets.com/assets/nophoto/book/50x75-a91bf249278a81aabab721ef782c4a74.png',\n",
              " '756,6644117,6644117,6838626,58,373210086,9.78037321008e+12,Julie Kagawa,2010.0,\"The Iron King (The Iron Fey, #1) \",\"The Iron King (The Iron Fey, #1)\",eng,3.92,158063,163118,10506,5814,11383,34292,50281,61348,https://images.gr-assets.com/books/1327877670m/6644117.jpg,https://images.gr-assets.com/books/1327877670s/6644117.jpg',\n",
              " '757,256008,256008,3281465,57,067168390X,9.7806716839e+12,Larry McMurtry,1985.0,Lonesome Dove,Lonesome Dove,en-US,4.47,111498,116430,5343,1080,2179,10686,29526,72959,https://images.gr-assets.com/books/1378573063m/256008.jpg,https://images.gr-assets.com/books/1378573063s/256008.jpg',\n",
              " '758,32145,32145,1188203,48,393324826,9.78039332482e+12,Mary Roach,2003.0,Stiff: The Curious Lives of Human Cadavers,Stiff: The Curious Lives of Human Cadavers,eng,4.05,122502,128102,10513,1992,5132,24229,49580,47169,https://images.gr-assets.com/books/1347656489m/32145.jpg,https://images.gr-assets.com/books/1347656489s/32145.jpg',\n",
              " '759,8709527,8709527,13582374,37,1595143173,9.78159514317e+12,Richelle Mead,2011.0,Bloodlines,\"Bloodlines (Bloodlines, #1)\",en-US,4.22,140599,146134,7698,3103,4901,21147,45060,71923,https://images.gr-assets.com/books/1297199431m/8709527.jpg,https://images.gr-assets.com/books/1297199431s/8709527.jpg',\n",
              " '760,9532,9532,3145587,63,765342405,9.78076534241e+12,Orson Scott Card,1998.0,Ender\\'s Shadow,\"Ender\\'s Shadow (Ender\\'s Shadow, #1)\",eng,4.3,115521,125744,4587,706,2793,16218,44173,61854,https://s.gr-assets.com/assets/nophoto/book/111x148-bcc042a9c91a29c1d680899eff700a03.png,https://s.gr-assets.com/assets/nophoto/book/50x75-a91bf249278a81aabab721ef782c4a74.png',\n",
              " '761,6063187,6063187,6239469,74,385342020,9.78038534202e+12,Sophie Kinsella,2009.0,Twenties Girl,Twenties Girl,eng,3.82,119105,126192,6023,3479,9323,32120,42968,38302,https://images.gr-assets.com/books/1320544759m/6063187.jpg,https://images.gr-assets.com/books/1320544759s/6063187.jpg',\n",
              " \"762,375013,375013,3127624,134,340606517,9.78034060651e+12,Thomas Keneally,1982.0,Schindler's Ark,Schindler's List,eng,4.34,108338,113156,1605,1225,2361,12913,36982,59675,https://images.gr-assets.com/books/1348163457m/375013.jpg,https://images.gr-assets.com/books/1348163457s/375013.jpg\",\n",
              " '763,11337,11337,1987778,104,452287065,9.78045228707e+12,Toni Morrison,1970.0,The Bluest Eye,The Bluest Eye,eng,3.99,109944,121866,4963,2409,6094,24867,45871,42625,https://s.gr-assets.com/assets/nophoto/book/111x148-bcc042a9c91a29c1d680899eff700a03.png,https://s.gr-assets.com/assets/nophoto/book/50x75-a91bf249278a81aabab721ef782c4a74.png',\n",
              " '764,5971165,5971165,13560666,101,1416563687,9.78141656369e+12,Philippa Gregory,2009.0,The White Queen,\"The White Queen (The Plantagenet and Tudor Novels, #2)\",eng,3.9,119739,130446,6293,2295,7115,31384,49549,40103,https://s.gr-assets.com/assets/nophoto/book/111x148-bcc042a9c91a29c1d680899eff700a03.png,https://s.gr-assets.com/assets/nophoto/book/50x75-a91bf249278a81aabab721ef782c4a74.png',\n",
              " '765,92057,92057,47400,105,345350685,9.78034535069e+12,\"Malcolm X, Alex Haley\",1965.0,The Autobiography of Malcolm X,The Autobiography of Malcolm X,eng,4.29,124805,131773,3951,2453,3362,16312,41019,68627,https://images.gr-assets.com/books/1434682864m/92057.jpg,https://images.gr-assets.com/books/1434682864s/92057.jpg',\n",
              " '766,23754,23754,1228437,68,1563892278,9.78156389227e+12,\"Neil Gaiman, Sam Kieth, Mike Dringenberg, Malcolm Jones III, Todd Klein, Karen  Berger\",1989.0,Preludes & Nocturnes,Preludes & Nocturnes (The Sandman #1),eng,4.3,122540,138525,4388,2632,3868,16435,41523,74067,https://images.gr-assets.com/books/1411609637m/23754.jpg,https://images.gr-assets.com/books/1411609637s/23754.jpg',\n",
              " '767,110737,110737,17572,63,345465083,9.78034546508e+12,Laura Hillenbrand,1999.0,Seabiscuit,Seabiscuit: An American Legend,en-US,4.2,111497,116984,3636,1391,3451,18065,41881,52196,https://images.gr-assets.com/books/1171644213m/110737.jpg,https://images.gr-assets.com/books/1171644213s/110737.jpg',\n",
              " '768,21686,21686,1234227,134,038073186X,9.78038073186e+12,Dennis Lehane,2003.0,Shutter Island,Shutter Island,eng,4.07,113718,124032,6990,1636,4727,22089,49875,45705,https://images.gr-assets.com/books/1329269081m/21686.jpg,https://images.gr-assets.com/books/1329269081s/21686.jpg',\n",
              " '769,188572,188572,7492217,301,553328255,9.78055332826e+12,Arthur Conan Doyle,1894.0,The Complete Sherlock Holmes,The Complete Sherlock Holmes,eng,4.5,109754,126558,2774,471,1125,10089,37928,76945,https://images.gr-assets.com/books/1465539139m/188572.jpg,https://images.gr-assets.com/books/1465539139s/188572.jpg',\n",
              " '770,13006,13006,2796883,1129,198320272,9.78019832027e+12,\"William Shakespeare, Roma Gill\",1599.0,The Tragedy of Julius Caesar,Julius Caesar,eng,3.65,119933,135918,3044,3318,13030,42014,46750,30806,https://images.gr-assets.com/books/1354574927m/13006.jpg,https://images.gr-assets.com/books/1354574927s/13006.jpg',\n",
              " '771,9938498,9938498,14831761,57,307408841,9.78030740885e+12,Erik Larson,2011.0,\"In the Garden of Beasts: Love, Terror, and an American Family in Hitler\\'s Berlin\",\"In the Garden of Beasts: Love, Terror, and an American Family in Hitler\\'s Berlin\",eng,3.81,110481,122989,12570,1951,7701,32350,50986,30001,https://images.gr-assets.com/books/1327864303m/9938498.jpg,https://images.gr-assets.com/books/1327864303s/9938498.jpg',\n",
              " '772,30289,30289,1625515,842,140449140,9.78014044914e+12,\"Plato, Desmond Lee\",-380.0,Πολιτεία,The Republic,eng,3.9,110274,122747,2261,2772,7531,29394,42284,40766,https://s.gr-assets.com/assets/nophoto/book/111x148-bcc042a9c91a29c1d680899eff700a03.png,https://s.gr-assets.com/assets/nophoto/book/50x75-a91bf249278a81aabab721ef782c4a74.png',\n",
              " '773,47021,47021,3152341,689,074347757X,9.78074347757e+12,William Shakespeare,1593.0,The Taming of the Shrew,The Taming of the Shrew,en-US,3.81,126318,134240,2370,2869,9611,35666,47453,38641,https://images.gr-assets.com/books/1327935253m/47021.jpg,https://images.gr-assets.com/books/1327935253s/47021.jpg',\n",
              " '774,13206828,13206828,18390772,51,312642970,9.78031264298e+12,Marissa Meyer,2014.0,Cress,\"Cress (The Lunar Chronicles, #3)\",eng,4.46,162069,177466,20055,866,2056,14772,56494,103278,https://images.gr-assets.com/books/1470057005m/13206828.jpg,https://images.gr-assets.com/books/1470057005s/13206828.jpg',\n",
              " '775,341879,341879,332242,66,006621131X,9.78006621131e+12,Patti Smith,2010.0,Just Kids,Just Kids,en-US,4.14,106542,117400,8415,3268,5377,17142,37031,54582,https://images.gr-assets.com/books/1259762407m/341879.jpg,https://images.gr-assets.com/books/1259762407s/341879.jpg',\n",
              " '776,567616,567616,347606,8,714836257,9.78071483626e+12,Phaidon Press,1997.0,,The Art Book,eng,3.79,102746,102988,192,7128,7874,22124,28325,37537,https://images.gr-assets.com/books/1411210646m/567616.jpg,https://images.gr-assets.com/books/1411210646s/567616.jpg',\n",
              " '777,227941,227941,3341834,40,767905180,9.78076790518e+12,Jane Green,2001.0,Jemima J,Jemima J,en-US,3.62,101436,103849,2448,8909,9304,24965,29819,30852,https://s.gr-assets.com/assets/nophoto/book/111x148-bcc042a9c91a29c1d680899eff700a03.png,https://s.gr-assets.com/assets/nophoto/book/50x75-a91bf249278a81aabab721ef782c4a74.png',\n",
              " '778,30597,30597,3043569,1206,451527887,9.78045152788e+12,\"Victor Hugo, Walter J. Cobb\",1831.0,Notre-Dame de Paris,The Hunchback of Notre-Dame,eng,3.97,119851,133421,3255,1952,6849,30636,47753,46231,https://s.gr-assets.com/assets/nophoto/book/111x148-bcc042a9c91a29c1d680899eff700a03.png,https://s.gr-assets.com/assets/nophoto/book/50x75-a91bf249278a81aabab721ef782c4a74.png',\n",
              " '779,5211,5211,865827,79,140003065X,9.78140003065e+12,Rohinton Mistry,1996.0,A Fine Balance,A Fine Balance,eng,4.34,99252,104516,7227,1477,3066,11254,31034,57685,https://s.gr-assets.com/assets/nophoto/book/111x148-bcc042a9c91a29c1d680899eff700a03.png,https://s.gr-assets.com/assets/nophoto/book/50x75-a91bf249278a81aabab721ef782c4a74.png',\n",
              " '780,77727,77727,2110010,24,836220889,9.78083622089e+12,\"Bill Watterson, G.B. Trudeau\",1987.0,Calvin and Hobbes,Calvin and Hobbes,en-US,4.61,117788,118294,684,980,1435,7684,22365,85830,https://s.gr-assets.com/assets/nophoto/book/111x148-bcc042a9c91a29c1d680899eff700a03.png,https://s.gr-assets.com/assets/nophoto/book/50x75-a91bf249278a81aabab721ef782c4a74.png',\n",
              " '781,24765,24765,3278286,66,689865406,9.7806898654e+12,Scott Westerfeld,2006.0,Specials,\"Specials (Uglies, #3)\",eng,3.77,139168,148783,7313,3286,13140,41196,48574,42587,https://s.gr-assets.com/assets/nophoto/book/111x148-bcc042a9c91a29c1d680899eff700a03.png,https://s.gr-assets.com/assets/nophoto/book/50x75-a91bf249278a81aabab721ef782c4a74.png',\n",
              " '782,58345,58345,1970518,452,543898083,9.78054389808e+12,Kate Chopin,1899.0,The Awakening,The Awakening,eng,3.63,125474,137455,5662,7523,14751,35125,44172,35884,https://s.gr-assets.com/assets/nophoto/book/111x148-bcc042a9c91a29c1d680899eff700a03.png,https://s.gr-assets.com/assets/nophoto/book/50x75-a91bf249278a81aabab721ef782c4a74.png',\n",
              " '783,4134071,4134071,4181277,63,031237982X,9.78031237983e+12,\"P.C. Cast, Kristin Cast\",2009.0,Hunted,\"Hunted (House of Night, #5)\",eng,3.93,138103,146051,3204,4169,10788,32719,41977,56398,https://images.gr-assets.com/books/1438042897m/4134071.jpg,https://images.gr-assets.com/books/1438042897s/4134071.jpg',\n",
              " '784,10929,10929,3125926,83,1401303277,9.78140130327e+12,Mitch Albom,2006.0,For One More Day,For One More Day,en-US,4.09,102193,106720,6632,958,4221,21064,38962,41515,https://s.gr-assets.com/assets/nophoto/book/111x148-bcc042a9c91a29c1d680899eff700a03.png,https://s.gr-assets.com/assets/nophoto/book/50x75-a91bf249278a81aabab721ef782c4a74.png',\n",
              " '785,32669,32669,5054704,91,425144372,9.78042514437e+12,Tom Clancy,1989.0,Clear and Present Danger,\"Clear and Present Danger (Jack Ryan Universe, #6)\",eng,4.08,105317,108638,574,973,3064,21463,44290,38848,https://images.gr-assets.com/books/1291440438m/32669.jpg,https://images.gr-assets.com/books/1291440438s/32669.jpg',\n",
              " '786,30120,30120,2501867,24,60513098,9.78006051309e+12,Shel Silverstein,1996.0,Falling Up,Falling Up,en-US,4.33,111779,114990,1281,1209,2879,15625,32073,63204,https://images.gr-assets.com/books/1327871908m/30120.jpg,https://images.gr-assets.com/books/1327871908s/30120.jpg',\n",
              " '787,7821447,7821447,10860635,39,61992704,9.7800619927e+12,Justin Halpern,2010.0,Sh*t My Dad Says,Sh*t My Dad Says,,3.98,102560,116368,7386,2279,6246,25054,40835,41954,https://images.gr-assets.com/books/1370399211m/7821447.jpg,https://images.gr-assets.com/books/1370399211s/7821447.jpg',\n",
              " '788,23955,135836,1087421,112,2020336464,9.78202033647e+12,\"Irvine Welsh, Eric Lindor Fall\",1993.0,Trainspotting,Trainspotting,fre,4.07,59453,110677,2029,1757,4329,19778,42833,41980,https://images.gr-assets.com/books/1375258001m/23955.jpg,https://images.gr-assets.com/books/1375258001s/23955.jpg',\n",
              " '789,29581,29581,1703483,143,553803727,9.78055380372e+12,Isaac Asimov,1952.0,Foundation and Empire,Foundation and Empire (Foundation #2),eng,4.2,105595,116241,2054,497,2770,18775,44860,49339,https://s.gr-assets.com/assets/nophoto/book/111x148-bcc042a9c91a29c1d680899eff700a03.png,https://s.gr-assets.com/assets/nophoto/book/50x75-a91bf249278a81aabab721ef782c4a74.png',\n",
              " '790,6596,6596,376130,82,1878424505,9.7818784245e+12,Miguel Ruiz,1997.0,\"The Four Agreements: A Practical Guide to Personal Freedom, A Toltec Wisdom Book\",The Four Agreements: A Practical Guide to Personal Freedom,,4.12,97016,112472,6132,2463,5818,19047,33836,51308,https://s.gr-assets.com/assets/nophoto/book/111x148-bcc042a9c91a29c1d680899eff700a03.png,https://s.gr-assets.com/assets/nophoto/book/50x75-a91bf249278a81aabab721ef782c4a74.png',\n",
              " '791,6614960,6614960,6809039,7,743296435,9.78074329643e+12,Jodi Picoult,2010.0,House Rules,House Rules,en-US,4.01,111239,119767,9871,1155,5434,25143,47540,40495,https://images.gr-assets.com/books/1290479868m/6614960.jpg,https://images.gr-assets.com/books/1290479868s/6614960.jpg',\n",
              " '792,22917,22917,1855987,325,394709306,9.78039470931e+12,\"Jacob Grimm, Wilhelm Grimm, Josef Scharl, Padraic Colum, Joseph Campbell, Margaret Raine Hunt, James Stern\",1812.0,Brüder Grimm: Kinder- und Hausmärchen,The Complete Grimm\\'s Fairy Tales,eng,4.31,116324,128007,1851,772,2476,18421,41254,65084,https://images.gr-assets.com/books/1369540060m/22917.jpg,https://images.gr-assets.com/books/1369540060s/22917.jpg',\n",
              " '793,3980,3980,1384549,83,744583276,9.78074458327e+12,E.L. Konigsburg,1967.0,From the Mixed-Up Files of Mrs. Basil E. Frankweiler,From the Mixed-Up Files of Mrs. Basil E. Frankweiler,eng,4.15,134537,144108,5440,1943,5209,25045,49509,62402,https://images.gr-assets.com/books/1327784751m/3980.jpg,https://images.gr-assets.com/books/1327784751s/3980.jpg',\n",
              " '794,16130549,16130549,17851499,116,1476727651,9.78147672765e+12,Stephen King,2013.0,Doctor Sleep,\"Doctor Sleep (The Shining, #2)\",eng,4.1,95276,116565,13654,1117,4071,19995,48181,43201,https://images.gr-assets.com/books/1362415596m/16130549.jpg,https://images.gr-assets.com/books/1362415596s/16130549.jpg',\n",
              " '795,4271,4271,2961843,138,140285679,9.78014028567e+12,Nick Hornby,1998.0,About a Boy,About a Boy,en-US,3.79,101999,112161,2794,1127,5639,32252,49493,23650,https://images.gr-assets.com/books/1382004144m/4271.jpg,https://images.gr-assets.com/books/1382004144s/4271.jpg',\n",
              " '796,15760001,15760001,21459719,61,,,Samantha Young,2012.0,On Dublin Street,\"On Dublin Street (On Dublin Street, #1)\",eng,4.24,136761,145943,8174,2615,5087,19239,46853,72149,https://images.gr-assets.com/books/1490401910m/15760001.jpg,https://images.gr-assets.com/books/1490401910s/15760001.jpg',\n",
              " '797,3206011,3206011,3239458,44,1434768511,9.78143476851e+12,\"Francis Chan, Danae Yankoski, Chris Tomlin\",2008.0,Crazy Love: Overwhelmed by a Relentless God,Crazy Love: Overwhelmed by a Relentless God,eng,4.15,106351,109134,3011,2800,4867,16969,32636,51862,https://images.gr-assets.com/books/1328763220m/3206011.jpg,https://images.gr-assets.com/books/1328763220s/3206011.jpg',\n",
              " '798,7770,7770,98895,49,7173687,9.78000717369e+12,Dr. Seuss,1960.0,\"One Fish, Two Fish, Red Fish, Blue Fish\",\"One Fish, Two Fish, Red Fish, Blue Fish\",,4.12,117582,122653,2074,2153,5979,24401,32449,57671,https://s.gr-assets.com/assets/nophoto/book/111x148-bcc042a9c91a29c1d680899eff700a03.png,https://s.gr-assets.com/assets/nophoto/book/50x75-a91bf249278a81aabab721ef782c4a74.png',\n",
              " '799,32423,32423,2200683,99,,9.7804251888e+12,Dean Koontz,1987.0,Watchers,Watchers,,4.16,109595,113984,2687,1253,3766,20833,38155,49977,https://images.gr-assets.com/books/1308458930m/32423.jpg,https://images.gr-assets.com/books/1308458930s/32423.jpg',\n",
              " '800,821611,821611,1602613,298,553213873,9.78055321387e+12,Helen Keller,1902.0,The Story of My Life,The Story of My Life,eng,4.07,107313,110056,1683,2514,4654,20960,36225,45703,https://images.gr-assets.com/books/1320429331m/821611.jpg,https://images.gr-assets.com/books/1320429331s/821611.jpg',\n",
              " '801,6224935,6224935,6405647,71,052595127X,9.78052595128e+12,Jonathan Tropper,2009.0,This Is Where I Leave You,This is Where I Leave You,eng,3.88,98645,111476,11062,1552,6027,26235,47931,29731,https://images.gr-assets.com/books/1467397162m/6224935.jpg,https://images.gr-assets.com/books/1467397162s/6224935.jpg',\n",
              " '802,7108001,7108001,6596168,62,446563080,9.78044656309e+12,Seth Grahame-Smith,2010.0,Abraham Lincoln: Vampire Hunter,Abraham Lincoln: Vampire Hunter,en-US,3.7,106336,118704,11875,4404,10413,31741,42104,30042,https://images.gr-assets.com/books/1291165397m/7108001.jpg,https://images.gr-assets.com/books/1291165397s/7108001.jpg',\n",
              " '803,271199,271199,542633,17,1591826039,9.78159182603e+12,\"Natsuki Takaya, Alethea Nibley, Athena Nibley\",1999.0,フルーツバスケット 1,\"Fruits Basket, Vol. 1\",eng,4.23,118467,118803,1541,3190,5265,17379,27721,65248,https://s.gr-assets.com/assets/nophoto/book/111x148-bcc042a9c91a29c1d680899eff700a03.png,https://s.gr-assets.com/assets/nophoto/book/50x75-a91bf249278a81aabab721ef782c4a74.png',\n",
              " '804,12985,12985,1359590,956,743482832,9.78074348284e+12,William Shakespeare,1623.0,The Tempest,The Tempest,en-US,3.8,125178,135537,2831,2394,10084,37832,46984,38243,https://images.gr-assets.com/books/1327793692m/12985.jpg,https://images.gr-assets.com/books/1327793692s/12985.jpg',\n",
              " '805,6917952,6917952,7145410,61,1905654944,9.78190565495e+12,\"P.C. Cast, Kristin Cast\",2010.0,Burned: A House of Night Novel,\"Burned (House of Night, #7)\",eng,3.98,120763,129493,2999,3628,8971,27361,35719,53814,https://images.gr-assets.com/books/1327944437m/6917952.jpg,https://images.gr-assets.com/books/1327944437s/6917952.jpg',\n",
              " '806,5096,5096,750558,11,340829788,9.78034082978e+12,\"Stephen King, Dave McKean\",1997.0,Wizard and Glass,\"Wizard and Glass (The Dark Tower, #4)\",eng,4.24,105026,120708,4070,1040,4034,17762,39468,58404,https://images.gr-assets.com/books/1327946510m/5096.jpg,https://images.gr-assets.com/books/1327946510s/5096.jpg',\n",
              " '807,18302455,18302455,25791820,89,385351399,9.78038535139e+12,Dave Eggers,2013.0,The Circle,The Circle,eng,3.46,109412,129023,17954,5667,16425,41080,44562,21289,https://images.gr-assets.com/books/1376419833m/18302455.jpg,https://images.gr-assets.com/books/1376419833s/18302455.jpg',\n",
              " '808,9673436,9673436,527941,73,439813786,9.78043981378e+12,Brian Selznick,2007.0,The Invention of Hugo Cabret,The Invention of Hugo Cabret,eng,4.23,132159,135507,13128,1601,4222,20022,44895,64767,https://images.gr-assets.com/books/1422312376m/9673436.jpg,https://images.gr-assets.com/books/1422312376s/9673436.jpg',\n",
              " '809,5479,5479,39947767,38,60776099,9.78006077609e+12,\"Aldous Huxley, Christopher Hitchens\",1932.0,Brave New World/Brave New World Revisited,Brave New World / Brave New World Revisited,eng,4.16,108124,110115,1012,1215,3784,18335,39753,47028,https://images.gr-assets.com/books/1331315450m/5479.jpg,https://images.gr-assets.com/books/1331315450s/5479.jpg',\n",
              " '810,1087204,1087204,2192688,17,1591169151,9.78159116915e+12,Bisco Hatori,2003.0,桜蘭高校ホスト部 1,\"Ouran High School Host Club, Vol. 1 (Ouran High School Host Club, #1)\",eng,4.36,113881,114117,949,2338,3593,13572,26298,68316,https://s.gr-assets.com/assets/nophoto/book/111x148-bcc042a9c91a29c1d680899eff700a03.png,https://s.gr-assets.com/assets/nophoto/book/50x75-a91bf249278a81aabab721ef782c4a74.png',\n",
              " '811,18812405,18812405,26747961,76,778316556,9.78077831656e+12,Mary Kubica,2014.0,The Good Girl,The Good Girl,eng,3.81,100936,122753,11244,2697,8081,30628,49795,31552,https://images.gr-assets.com/books/1388340126m/18812405.jpg,https://images.gr-assets.com/books/1388340126s/18812405.jpg',\n",
              " '812,16070903,16070903,21864517,47,,,Abbi Glines,2012.0,\"Fallen Too Far (Too Far, #1)\",\"Fallen Too Far (Rosemary Beach, #1; Too Far, #1)\",eng,4.21,138871,143547,7995,3366,6036,19726,42292,72127,https://images.gr-assets.com/books/1349565157m/16070903.jpg,https://images.gr-assets.com/books/1349565157s/16070903.jpg',\n",
              " '813,18081809,18081809,25391048,51,1250049377,9.78125004938e+12,Rainbow Rowell,2014.0,Landline,Landline,eng,3.55,113805,123422,15782,5386,13087,38025,41984,24940,https://images.gr-assets.com/books/1499378092m/18081809.jpg,https://images.gr-assets.com/books/1499378092s/18081809.jpg',\n",
              " '814,6262365,6262365,6445600,62,1905654588,9.78190565458e+12,\"P.C. Cast, Kristin Cast\",2008.0,Tempted,\"Tempted (House of Night, #6)\",eng,3.96,127387,137910,3165,4010,9937,29521,38966,55476,https://images.gr-assets.com/books/1408633041m/6262365.jpg,https://images.gr-assets.com/books/1408633041s/6262365.jpg',\n",
              " '815,12497,12497,2996445,104,375706674,9.78037570668e+12,Cormac McCarthy,2005.0,No Country for Old Men,No Country for Old Men,eng,4.12,100513,110082,6281,1533,3795,16790,45304,42660,https://images.gr-assets.com/books/1443231179m/12497.jpg,https://images.gr-assets.com/books/1443231179s/12497.jpg',\n",
              " '816,6101138,6101138,6278354,2,7230206,9.7800072302e+12,Hilary Mantel,2009.0,Wolf Hall,\"Wolf Hall (Thomas Cromwell, #1)\",eng,3.85,102936,118705,12827,6673,9916,21464,37421,43231,https://images.gr-assets.com/books/1336576165m/6101138.jpg,https://images.gr-assets.com/books/1336576165s/6101138.jpg',\n",
              " '817,6294,6294,2001,75,006441034X,9.78006441034e+12,Diana Wynne Jones,1986.0,Howl\\'s Moving Castle,\"Howl\\'s Moving Castle (Howl\\'s Moving Castle, #1)\",eng,4.3,123945,140348,9219,1370,3764,18194,45058,71962,https://images.gr-assets.com/books/1407450489m/6294.jpg,https://images.gr-assets.com/books/1407450489s/6294.jpg',\n",
              " '818,11570,11570,643924,118,2226131906,9.7822261319e+12,\"Stephen King, William Olivier Desmond\",2001.0,Dreamcatcher,Dreamcatcher,fre,3.59,115855,122599,1856,5234,14010,36926,36389,30040,https://s.gr-assets.com/assets/nophoto/book/111x148-bcc042a9c91a29c1d680899eff700a03.png,https://s.gr-assets.com/assets/nophoto/book/50x75-a91bf249278a81aabab721ef782c4a74.png',\n",
              " '819,16902,16902,2361393,852,691096120,9.78069109612e+12,Henry David Thoreau,1854.0,Walden; or Life in the Woods,Walden,eng,3.79,108062,120653,3620,5092,10227,27683,39108,38543,https://images.gr-assets.com/books/1465675526m/16902.jpg,https://images.gr-assets.com/books/1465675526s/16902.jpg',\n",
              " '820,28921,28921,3333111,170,571225381,9.78057122538e+12,Kazuo Ishiguro,1989.0,The Remains of the Day,The Remains of the Day,eng,4.1,105892,121763,7455,1500,5028,21065,46702,47468,https://images.gr-assets.com/books/1327128714m/28921.jpg,https://images.gr-assets.com/books/1327128714s/28921.jpg',\n",
              " '821,10766509,10766509,15677976,91,446547654,9.78044654766e+12,Nicholas Sparks,2010.0,The Best of Me,The Best of Me,en-US,3.91,103915,124564,9610,2688,9119,28642,40370,43745,https://images.gr-assets.com/books/1301685366m/10766509.jpg,https://images.gr-assets.com/books/1301685366s/10766509.jpg',\n",
              " '822,10746542,10746542,15657664,110,224094157,9.78022409415e+12,Julian Barnes,2011.0,The Sense of an Ending,The Sense of an Ending,eng,3.7,94968,114025,12966,2910,9843,30865,45258,25149,https://images.gr-assets.com/books/1311704453m/10746542.jpg,https://images.gr-assets.com/books/1311704453s/10746542.jpg',\n",
              " '823,64863,64863,1299178,81,312938993,9.78031293899e+12,Sue Grafton,1982.0,A is for Alibi,\"A is for Alibi (Kinsey Millhone, #1)\",en-US,3.82,116026,121225,3236,2465,7563,34101,42272,34824,https://s.gr-assets.com/assets/nophoto/book/111x148-bcc042a9c91a29c1d680899eff700a03.png,https://s.gr-assets.com/assets/nophoto/book/50x75-a91bf249278a81aabab721ef782c4a74.png',\n",
              " '824,1554,1554,3098166,498,1580495931,9.78158049594e+12,\"Sophocles, J.E. Thomas\",-430.0,Οἰδίπους Τύραννος,\"Oedipus Rex  (The Theban Plays, #1)\",eng,3.67,119496,134384,2129,3032,12324,42020,45436,31572,https://s.gr-assets.com/assets/nophoto/book/111x148-bcc042a9c91a29c1d680899eff700a03.png,https://s.gr-assets.com/assets/nophoto/book/50x75-a91bf249278a81aabab721ef782c4a74.png',\n",
              " '825,5960325,5960325,5991850,52,1400067111,9.78140006711e+12,Lisa See,2009.0,Shanghai Girls,Shanghai Girls (Shanghai Girls #1),eng,3.87,106729,114862,8654,1334,5638,28727,49667,29496,https://images.gr-assets.com/books/1327968416m/5960325.jpg,https://images.gr-assets.com/books/1327968416s/5960325.jpg',\n",
              " '826,5659,5659,1061285,1150,143039091,9.7801430391e+12,\"Kenneth Grahame, Gillian Avery\",1908.0,The Wind in the Willows,The Wind in the Willows,eng,3.98,124612,139791,4057,2608,7140,31301,47933,50809,https://images.gr-assets.com/books/1423183570m/5659.jpg,https://images.gr-assets.com/books/1423183570s/5659.jpg',\n",
              " '827,15749186,15749186,21442106,60,,,Jenny Han,2014.0,To All the Boys I\\'ve Loved Before,\"To All the Boys I\\'ve Loved Before (To All the Boys I\\'ve Loved Before, #1)\",eng,4.11,136938,151311,17356,3388,6744,25033,51196,64950,https://images.gr-assets.com/books/1372086100m/15749186.jpg,https://images.gr-assets.com/books/1372086100s/15749186.jpg',\n",
              " '828,9516,9516,3303888,39,037571457X,9.78037571457e+12,\"Marjane Satrapi, Mattias Ripa\",2000.0,Persepolis,\"Persepolis: The Story of a Childhood (Persepolis, #1)\",eng,4.23,117103,119965,6588,1138,3121,16734,45474,53498,https://images.gr-assets.com/books/1425871473m/9516.jpg,https://images.gr-assets.com/books/1425871473s/9516.jpg',\n",
              " '829,3087,3087,4574872,557,1420925431,9.78142092543e+12,E.M. Forster,1908.0,A Room with a View,A Room with a View,eng,3.91,109994,122055,3969,2113,7241,28787,45563,38351,https://s.gr-assets.com/assets/nophoto/book/111x148-bcc042a9c91a29c1d680899eff700a03.png,https://s.gr-assets.com/assets/nophoto/book/50x75-a91bf249278a81aabab721ef782c4a74.png',\n",
              " '830,6931356,6931356,7162394,53,316084239,9.78031608424e+12,Kody Keplinger,2010.0,The DUFF: Designated Ugly Fat Friend,The DUFF: Designated Ugly Fat Friend,en-US,3.86,136736,146547,11130,5089,10817,33459,47351,49831,https://images.gr-assets.com/books/1271108843m/6931356.jpg,https://images.gr-assets.com/books/1271108843s/6931356.jpg',\n",
              " '831,1295102,1295102,1284222,38,067001088X,9.78067001088e+12,Sarah Dessen,2008.0,Lock and Key,Lock and Key,eng,4.01,120475,127649,4950,1910,6407,27658,43875,47799,https://images.gr-assets.com/books/1479691949m/1295102.jpg,https://images.gr-assets.com/books/1479691949s/1295102.jpg',\n",
              " '832,268602,479309,1097497,101,399151575,9.78039915158e+12,J.D. Robb,1995.0,Naked in Death,\"Naked in Death (In Death, #1)\",en-US,4.13,78028,126781,4462,3226,5211,21254,39535,57555,https://images.gr-assets.com/books/1297783540m/268602.jpg,https://images.gr-assets.com/books/1297783540s/268602.jpg',\n",
              " '833,5355,5355,1254155,112,385339666,9.78038533967e+12,John Grisham,1994.0,The Chamber,The Chamber,eng,3.76,102715,106806,1337,1706,7154,32686,38347,26913,https://s.gr-assets.com/assets/nophoto/book/111x148-bcc042a9c91a29c1d680899eff700a03.png,https://s.gr-assets.com/assets/nophoto/book/50x75-a91bf249278a81aabab721ef782c4a74.png',\n",
              " '834,4502877,4502877,4551869,1,,,Stephenie Meyer,2008.0,Midnight Sun (Partial Draft),\"Midnight Sun (Twilight, #1.5)\",eng,4.03,138118,138117,9189,6209,9089,23237,35433,64149,https://s.gr-assets.com/assets/nophoto/book/111x148-bcc042a9c91a29c1d680899eff700a03.png,https://s.gr-assets.com/assets/nophoto/book/50x75-a91bf249278a81aabab721ef782c4a74.png',\n",
              " '835,204042,204042,197436,49,1569319006,9.781569319e+12,\"Masashi Kishimoto, Katy Bridges\",1999.0,NARUTO -ナルト- 巻ノ一 ,\"Naruto, Vol. 01: The Tests of the Ninja (Naruto, #1)\",eng,4.35,104633,105269,1207,2105,3635,13142,23193,63194,https://images.gr-assets.com/books/1435524806m/204042.jpg,https://images.gr-assets.com/books/1435524806s/204042.jpg',\n",
              " '836,13227454,13227454,18156927,89,812993292,9.7808129933e+12,Rachel Joyce,2012.0,The Unlikely Pilgrimage of Harold Fry,\"The Unlikely Pilgrimage of Harold Fry (Harold Fry, #1)\",eng,3.89,94012,113876,14583,1925,6032,26242,48627,31050,https://images.gr-assets.com/books/1335816092m/13227454.jpg,https://images.gr-assets.com/books/1335816092s/13227454.jpg',\n",
              " '837,13262783,13262783,18464379,66,307931889,9.78030793189e+12,David Levithan,2012.0,Every Day,\"Every Day (Every Day, #1)\",eng,3.99,121863,133960,15539,2994,7882,26109,47403,49572,https://images.gr-assets.com/books/1356993940m/13262783.jpg,https://images.gr-assets.com/books/1356993940s/13262783.jpg',\n",
              " '838,8648,8648,1150594,79,312861877,9.78031286187e+12,Orson Scott Card,1991.0,Xenocide,\"Xenocide (Ender\\'s Saga, #3)\",eng,3.77,104467,115183,3217,1842,8424,33016,43038,28863,https://s.gr-assets.com/assets/nophoto/book/111x148-bcc042a9c91a29c1d680899eff700a03.png,https://s.gr-assets.com/assets/nophoto/book/50x75-a91bf249278a81aabab721ef782c4a74.png',\n",
              " '839,24128,24128,2682703,1088,743477561,9.78074347757e+12,\"William Shakespeare, Robert          Jackson, Barbara A. Mowat, Paul Werstine\",1596.0,The Merchant of Venice,The Merchant of Venice,eng,3.78,115621,128289,2616,1925,9212,36917,46745,33490,https://images.gr-assets.com/books/1327871054m/24128.jpg,https://images.gr-assets.com/books/1327871054s/24128.jpg',\n",
              " '840,402093,402093,1755568,120,440178002,9.780440178e+12,James Clavell,1975.0,Shōgun,\"Shōgun (Asian Saga, #1)\",eng,4.37,104339,115527,3075,872,2373,13468,35713,63101,https://images.gr-assets.com/books/1397228842m/402093.jpg,https://images.gr-assets.com/books/1397228842s/402093.jpg',\n",
              " '841,42900,42900,1214837,52,451219368,9.78045121937e+12,J.R. Ward,2006.0,\"Lover Awakened (Black Dagger Brotherhood, #3)\",\"Lover Awakened (Black Dagger Brotherhood, #3)\",eng,4.45,134249,142754,5926,1196,2744,14043,36965,87806,https://images.gr-assets.com/books/1388773547m/42900.jpg,https://images.gr-assets.com/books/1388773547s/42900.jpg',\n",
              " '842,16096824,16096824,21905102,54,1619634449,9.78161963444e+12,Sarah J. Maas,2015.0,A Court of Thorns and Roses,\"A Court of Thorns and Roses (A Court of Thorns and Roses, #1)\",eng,4.29,167848,188723,25463,3499,6586,22541,56042,100055,https://images.gr-assets.com/books/1491595796m/16096824.jpg,https://images.gr-assets.com/books/1491595796s/16096824.jpg',\n",
              " '843,13584236,13584236,19171215,31,345803574,9.78034580357e+12,E.L. James,2012.0,,\"Fifty Shades Trilogy (Fifty Shades, #1-3)\",,4.13,76876,101613,6275,5505,6427,13235,20763,55683,https://images.gr-assets.com/books/1431573483m/13584236.jpg,https://images.gr-assets.com/books/1431573483s/13584236.jpg',\n",
              " '844,293595,293595,680304,42,068983568X,9.78068983568e+12,\"Bill Martin Jr., John Archambault, Lois Ehlert\",1989.0,Chicka Chicka Boom Boom,Chicka Chicka Boom Boom,eng,4.21,105192,116089,3318,2524,5879,18923,26523,62240,https://s.gr-assets.com/assets/nophoto/book/111x148-bcc042a9c91a29c1d680899eff700a03.png,https://s.gr-assets.com/assets/nophoto/book/50x75-a91bf249278a81aabab721ef782c4a74.png',\n",
              " '845,6393631,6393631,6582125,28,545132053,9.78054513205e+12,Raina Telgemeier,2009.0,Smile,Smile,eng,4.19,98628,102804,6516,3201,4369,15206,26690,53338,https://images.gr-assets.com/books/1438206850m/6393631.jpg,https://images.gr-assets.com/books/1438206850s/6393631.jpg',\n",
              " '846,5472,5472,2966408,51,151010269,9.78015101026e+12,\"George Orwell, Christopher Hitchens\",1950.0, Animal Farm & 1984,Animal Farm / 1984,eng,4.26,116197,118761,1293,1212,3276,16511,40583,57179,https://images.gr-assets.com/books/1327959366m/5472.jpg,https://images.gr-assets.com/books/1327959366s/5472.jpg',\n",
              " '847,5161,5161,1207024,48,140286276,9.78014028627e+12,Jacquelyn Mitchard,1996.0,The Deep End of the Ocean,\"The Deep End of the Ocean (Cappadora Family, #1)\",en-US,3.84,102733,104471,1095,1741,6092,27939,39820,28879,https://s.gr-assets.com/assets/nophoto/book/111x148-bcc042a9c91a29c1d680899eff700a03.png,https://s.gr-assets.com/assets/nophoto/book/50x75-a91bf249278a81aabab721ef782c4a74.png',\n",
              " \"848,12555,12555,1898187,79,345457374,9.78034545737e+12,Amy Tan,2001.0,The Bonesetter's Daughter,The Bonesetter's Daughter,en-US,3.98,99926,105274,2871,730,3502,23935,46287,30820,https://s.gr-assets.com/assets/nophoto/book/111x148-bcc042a9c91a29c1d680899eff700a03.png,https://s.gr-assets.com/assets/nophoto/book/50x75-a91bf249278a81aabab721ef782c4a74.png\",\n",
              " '849,402013,402013,108471,67,60288140,9.78006028814e+12,Louise Rennison,1999.0,\"Angus, Thongs and Full-Frontal Snogging\",\"Angus, Thongs and Full-Frontal Snogging (Confessions of Georgia Nicolson, #1)\",eng,3.74,112733,118893,3833,4507,10953,31648,35061,36724,https://s.gr-assets.com/assets/nophoto/book/111x148-bcc042a9c91a29c1d680899eff700a03.png,https://s.gr-assets.com/assets/nophoto/book/50x75-a91bf249278a81aabab721ef782c4a74.png',\n",
              " '850,13538873,13538873,6736543,88,374214913,9.78037421491e+12,Robin Sloan,2012.0,Mr. Penumbra\\'s 24-Hour Bookstore,\"Mr. Penumbra\\'s 24-Hour Bookstore (Mr. Penumbra\\'s 24-Hour Bookstore, #1)\",eng,3.75,110552,127396,20150,2419,9582,34956,50973,29466,https://images.gr-assets.com/books/1345089845m/13538873.jpg,https://images.gr-assets.com/books/1345089845s/13538873.jpg',\n",
              " '851,43448,43448,3311885,111,743496310,9.78074349632e+12,V.C. Andrews,1979.0,Flowers in the Attic,\"Flowers in the Attic (Dollanganger, #1)\",eng,3.79,109063,122259,6055,4467,10284,30206,38523,38779,https://images.gr-assets.com/books/1327880853m/43448.jpg,https://images.gr-assets.com/books/1327880853s/43448.jpg',\n",
              " '852,25899336,25899336,45424659,80,,,\"Paul Kalanithi, Abraham Verghese\",2016.0,When Breath Becomes Air,When Breath Becomes Air,eng,4.32,116771,165673,15933,2913,4244,18562,51535,88419,https://images.gr-assets.com/books/1492677644m/25899336.jpg,https://images.gr-assets.com/books/1492677644s/25899336.jpg',\n",
              " '853,139463,139463,3264295,49,590452037,9.78059045204e+12,Jerry Spinelli,1990.0,Maniac Magee,Maniac Magee,eng,3.86,99831,104657,3689,2697,7804,25881,33058,35217,https://images.gr-assets.com/books/1395884800m/139463.jpg,https://images.gr-assets.com/books/1395884800s/139463.jpg',\n",
              " '854,22290,12813565,849507,87,99285444,9.78009928544e+12,Chuck Palahniuk,1999.0,Invisible Monsters,Invisible Monsters,eng,4.0,54937,99936,4657,1625,5710,20718,35026,36857,https://s.gr-assets.com/assets/nophoto/book/111x148-bcc042a9c91a29c1d680899eff700a03.png,https://s.gr-assets.com/assets/nophoto/book/50x75-a91bf249278a81aabab721ef782c4a74.png',\n",
              " '855,1625,1625,3267921,861,743482778,9.78074348278e+12,William Shakespeare,1601.0,\"Twelfth Night; or, What You Will\",Twelfth Night,eng,3.97,119607,128893,2615,1494,6329,29985,47546,43539,https://images.gr-assets.com/books/1416628008m/1625.jpg,https://images.gr-assets.com/books/1416628008s/1625.jpg',\n",
              " '856,12936,12936,2134456,73,385732562,9.78038573257e+12,Lois Lowry,2000.0,Gathering Blue,\"Gathering Blue (The Giver, #2)\",eng,3.8,114917,127810,9480,1516,8009,36770,49694,31821,https://s.gr-assets.com/assets/nophoto/book/111x148-bcc042a9c91a29c1d680899eff700a03.png,https://s.gr-assets.com/assets/nophoto/book/50x75-a91bf249278a81aabab721ef782c4a74.png',\n",
              " '857,902,902,869832,38,014240120X,9.7801424012e+12,Ellen Raskin,1978.0,The Westing Game,The Westing Game,eng,4.03,117108,124343,7814,2682,6710,24165,41664,49122,https://images.gr-assets.com/books/1356850909m/902.jpg,https://images.gr-assets.com/books/1356850909s/902.jpg',\n",
              " '858,15839976,15839976,21580644,83,345539788,9.78034553979e+12,Pierce Brown,2014.0,Red Rising,\"Red Rising (Red Rising, #1)\",eng,4.26,104939,128188,15775,2341,4309,15037,42448,64053,https://images.gr-assets.com/books/1461354651m/15839976.jpg,https://images.gr-assets.com/books/1461354651s/15839976.jpg',\n",
              " '859,3227063,3227063,3261241,48,316033677,9.78031603367e+12,Brent Weeks,2008.0,The Way of Shadows,\"The Way of Shadows (Night Angel, #1)\",en-US,4.15,109236,114492,4025,2049,4811,17366,39470,50796,https://images.gr-assets.com/books/1327881551m/3227063.jpg,https://images.gr-assets.com/books/1327881551s/3227063.jpg',\n",
              " '860,30868,30868,1095121,48,812474945,9.78081247495e+12,Barbara Kingsolver,1988.0,The Bean Trees,\"The Bean Trees (Greer Family, #1)\",eng,3.94,105032,113568,5259,1401,5007,25764,47738,33658,https://images.gr-assets.com/books/1443483961m/30868.jpg,https://images.gr-assets.com/books/1443483961s/30868.jpg',\n",
              " '861,15745950,15745950,21436019,58,1476712980,9.78147671299e+12,Jamie McGuire,2013.0,Walking Disaster,\"Walking Disaster (Beautiful, #2)\",eng,4.23,134022,145114,11348,2597,5841,20243,42657,73776,https://images.gr-assets.com/books/1352338368m/15745950.jpg,https://images.gr-assets.com/books/1352338368s/15745950.jpg',\n",
              " '862,17332218,17332218,16482835,34,765326361,9.78076532636e+12,Brandon Sanderson,2014.0,Words of Radiance,\"Words of Radiance (The Stormlight Archive, #2)\",eng,4.77,73572,108176,7261,154,404,2653,18272,86693,https://images.gr-assets.com/books/1391535251m/17332218.jpg,https://images.gr-assets.com/books/1391535251s/17332218.jpg',\n",
              " '863,301736,301736,45331,148,076360013X,9.78076360014e+12,\"Sam McBratney, Anita Jeram\",1988.0,Guess How Much I Love You,Guess How Much I Love You,en-US,4.36,104690,107554,1326,1434,3317,13963,25628,63212,https://images.gr-assets.com/books/1320457007m/301736.jpg,https://images.gr-assets.com/books/1320457007s/301736.jpg',\n",
              " '864,10967,10967,1189893,76,440221668,9.78044022166e+12,Diana Gabaldon,2001.0,The Fiery Cross,\"The Fiery Cross (Outlander, #5)\",eng,4.26,103552,120438,5048,736,3692,18829,37362,59819,https://images.gr-assets.com/books/1407366842m/10967.jpg,https://images.gr-assets.com/books/1407366842s/10967.jpg',\n",
              " '865,10628,10628,2454497,119,450042685,9.78045004268e+12,\"Stephen King, John D. MacDonald\",1978.0,Night Shift,Night Shift,en-GB,3.96,104248,112357,2038,984,4705,28410,41703,36555,https://images.gr-assets.com/books/1342215309m/10628.jpg,https://images.gr-assets.com/books/1342215309s/10628.jpg',\n",
              " '866,126232,126232,2318370,109,1400064562,9.78140006456e+12,Peter Benchley,1974.0,Jaws,Jaws,eng,3.96,102574,106201,2205,1836,5893,24737,35730,38005,https://images.gr-assets.com/books/1327958767m/126232.jpg,https://images.gr-assets.com/books/1327958767s/126232.jpg',\n",
              " '867,3867,3867,1882970,96,393328627,9.78039332862e+12,Nicole Krauss,2005.0,The History of Love,The History of Love,eng,3.91,98379,103470,9622,2251,7414,22791,35939,35075,https://images.gr-assets.com/books/1327911009m/3867.jpg,https://images.gr-assets.com/books/1327911009s/3867.jpg',\n",
              " '868,19302,19302,2056462,215,142402494,9.7801424025e+12,\"Astrid Lindgren, Lauren Child, Florence Lamborn, Nancy Seligsohn\",1945.0,Pippi Långstrump,Pippi Longstocking,eng,4.11,123065,130305,2615,1749,5293,25615,41802,55846,https://s.gr-assets.com/assets/nophoto/book/111x148-bcc042a9c91a29c1d680899eff700a03.png,https://s.gr-assets.com/assets/nophoto/book/50x75-a91bf249278a81aabab721ef782c4a74.png',\n",
              " '869,2967752,2967752,1531887,127,1933372605,9.7819333726e+12,\"Muriel Barbery, Alison Anderson\",2006.0,L\\'élégance du hérisson,The Elegance of the Hedgehog,eng,3.73,101669,118556,15335,6480,11258,25525,39331,35962,https://s.gr-assets.com/assets/nophoto/book/111x148-bcc042a9c91a29c1d680899eff700a03.png,https://s.gr-assets.com/assets/nophoto/book/50x75-a91bf249278a81aabab721ef782c4a74.png',\n",
              " '870,2199,2199,2861004,40,743270754,9.78074327076e+12,\"Doris Kearns Goodwin, Suzanne Toren\",2005.0,Team of Rivals: The Political Genius of Abraham Lincoln,Team of Rivals: The Political Genius of Abraham Lincoln,eng,4.3,102923,107944,5875,3306,3095,11140,31184,59219,https://images.gr-assets.com/books/1347278868m/2199.jpg,https://images.gr-assets.com/books/1347278868s/2199.jpg',\n",
              " '871,7091488,7091488,6902804,59,441018645,9.78044101864e+12,Charlaine Harris,2010.0,Dead in the Family,\"Dead in the Family (Sookie Stackhouse, #10)\",en-US,3.88,127379,138027,5325,1531,8555,37227,48154,42560,https://images.gr-assets.com/books/1290479828m/7091488.jpg,https://images.gr-assets.com/books/1290479828s/7091488.jpg',\n",
              " '872,11989,11989,2058116,388,679720219,9.78067972022e+12,\"Albert Camus, Stuart Gilbert\",1947.0,La peste,The Plague,en-US,3.97,95803,111823,3494,1430,5671,23913,44261,36548,https://images.gr-assets.com/books/1342837610m/11989.jpg,https://images.gr-assets.com/books/1342837610s/11989.jpg',\n",
              " '873,78418,78418,888312,97,439206480,9.78043920649e+12,\"Lemony Snicket, Brett Helquist\",1999.0,The Reptile Room,\"The Reptile Room (A Series of Unfortunate Events, #2)\",eng,3.95,130213,141121,4863,1410,6684,34847,52929,45251,https://images.gr-assets.com/books/1352146294m/78418.jpg,https://images.gr-assets.com/books/1352146294s/78418.jpg',\n",
              " '874,13547180,13547180,19112736,35,145162137X,9.78145162137e+12,Susannah Cahalan,2012.0,Brain on Fire,Brain on Fire: My Month of Madness,eng,4.0,92849,103617,8593,1491,4253,21084,42730,34059,https://images.gr-assets.com/books/1353173297m/13547180.jpg,https://images.gr-assets.com/books/1353173297s/13547180.jpg',\n",
              " '875,305234,305234,296240,62,61214655,9.78006121465e+12,Melissa Marr,2007.0,Wicked Lovely ,\"Wicked Lovely (Wicked Lovely, #1)\",en-US,3.69,131034,136316,6591,5909,13879,36275,40331,39922,https://images.gr-assets.com/books/1327814035m/305234.jpg,https://images.gr-assets.com/books/1327814035s/305234.jpg',\n",
              " '876,420297,420297,561754,55,039515023X,9.78039515024e+12,H.A. Rey,1941.0,Curious George,Curious George,en-CA,4.13,105473,112467,845,2090,5211,21963,29649,53554,https://s.gr-assets.com/assets/nophoto/book/111x148-bcc042a9c91a29c1d680899eff700a03.png,https://s.gr-assets.com/assets/nophoto/book/50x75-a91bf249278a81aabab721ef782c4a74.png',\n",
              " '877,27712,27712,1122661,218,525457585,9.78052545759e+12,\"Michael Ende, Ralph Manheim, Roswitha Quadflieg\",1979.0,Die unendliche Geschichte,The Neverending Story,eng,4.17,109110,124555,4303,1684,4743,21142,39618,57368,https://images.gr-assets.com/books/1327871159m/27712.jpg,https://images.gr-assets.com/books/1327871159s/27712.jpg',\n",
              " '878,13912,13912,2561274,59,571212921,9.78057121293e+12,Sylvia Nasar,1998.0,A Beautiful Mind,A Beautiful Mind,en-GB,4.12,98276,100629,1100,2044,3393,16728,36997,41467,https://s.gr-assets.com/assets/nophoto/book/111x148-bcc042a9c91a29c1d680899eff700a03.png,https://s.gr-assets.com/assets/nophoto/book/50x75-a91bf249278a81aabab721ef782c4a74.png',\n",
              " '879,41681,41681,1253187,534,1884365302,9.7818843653e+12,\"Upton Sinclair, Earl Lee, Kathleen DeGrave\",1906.0,The Jungle,The Jungle,eng,3.72,97468,109522,4750,3719,9393,29116,39239,28055,https://images.gr-assets.com/books/1332140681m/41681.jpg,https://images.gr-assets.com/books/1332140681s/41681.jpg',\n",
              " '880,2800905,2800905,2451397,52,61662690,9.78006166269e+12,Kelley Armstrong,2008.0,The Summoning,\"The Summoning (Darkest Powers, #1)\",en-US,4.03,132285,136832,5830,3330,7629,27219,42153,56501,https://images.gr-assets.com/books/1478986944m/2800905.jpg,https://images.gr-assets.com/books/1478986944s/2800905.jpg',\n",
              " '881,63697,63697,882844,124,684853949,9.78068485395e+12,Oliver Sacks,1985.0,The Man Who Mistook His Wife for a Hat and Other Clinical Tales,The Man Who Mistook His Wife for a Hat and Other Clinical Tales,en-US,4.04,102419,111090,4238,1549,4719,21880,42523,40419,https://images.gr-assets.com/books/1447047702m/63697.jpg,https://images.gr-assets.com/books/1447047702s/63697.jpg',\n",
              " '882,92364,92364,395229,144,006074815X,9.78006074816e+12,Ken Follett,1978.0,Storm Island,Eye of the Needle,en-US,4.16,93475,99971,1990,578,2147,17130,40554,39562,https://images.gr-assets.com/books/1327939511m/92364.jpg,https://images.gr-assets.com/books/1327939511s/92364.jpg',\n",
              " '883,78433,78433,3246409,103,1860498809,9.7818604988e+12,Margaret Atwood,2000.0,The Blind Assassin,The Blind Assassin,eng,3.95,98464,111284,5908,2340,6203,23409,42565,36767,https://images.gr-assets.com/books/1451445426m/78433.jpg,https://images.gr-assets.com/books/1451445426s/78433.jpg',\n",
              " '884,23164983,23164983,17377739,29,1594747350,9.78159474736e+12,Ransom Riggs,2014.0,Hollow City,\"Hollow City (Miss Peregrine’s Peculiar Children, #2)\",eng,4.07,73149,132924,14221,971,4618,25627,54274,47434,https://images.gr-assets.com/books/1429175859m/23164983.jpg,https://images.gr-assets.com/books/1429175859s/23164983.jpg',\n",
              " '885,359770,7944648,932849,43,375727345,9.78037572734e+12,Andre Dubus III,1999.0,House of Sand and Fog,House of Sand and Fog,eng,3.83,55381,104803,3589,3192,7268,24787,38793,30763,https://images.gr-assets.com/books/1428883041m/359770.jpg,https://images.gr-assets.com/books/1428883041s/359770.jpg',\n",
              " '886,17235026,17235026,23753235,69,356500152,9.78035650016e+12,M.R. Carey,2014.0,The Girl with All the Gifts,The Girl with All the Gifts,eng,3.93,99729,119493,14701,2427,6277,24649,49720,36420,https://images.gr-assets.com/books/1403033579m/17235026.jpg,https://images.gr-assets.com/books/1403033579s/17235026.jpg',\n",
              " '887,77013,77013,481854,134,067973225X,9.78067973226e+12,William Faulkner,1930.0,As I Lay Dying,As I Lay Dying,eng,3.72,103547,110705,5508,6178,10613,24587,35971,33356,https://images.gr-assets.com/books/1451810782m/77013.jpg,https://images.gr-assets.com/books/1451810782s/77013.jpg',\n",
              " '888,98573,98573,1285373,33,747532036,9.78074753203e+12,Crockett Johnson,1955.0,Harold and the Purple Crayon,Harold and the Purple Crayon,eng,4.24,107221,109752,1570,1865,4213,17288,28357,58029,https://images.gr-assets.com/books/1327390957m/98573.jpg,https://images.gr-assets.com/books/1327390957s/98573.jpg',\n",
              " '889,35729,35729,1593685,57,451218043,9.78045121805e+12,J.R. Ward,2006.0,\"Lover Eternal (Black Dagger Brotherhood, #2)\",\"Lover Eternal (Black Dagger Brotherhood, #2)\",eng,4.35,137558,146205,5559,1583,3587,17261,42711,81063,https://images.gr-assets.com/books/1300845974m/35729.jpg,https://images.gr-assets.com/books/1300845974s/35729.jpg',\n",
              " '890,29580,29580,64823,146,553803735,9.78055380373e+12,Isaac Asimov,1953.0,,Second Foundation (Foundation #3),eng,4.23,96865,105839,1675,394,2296,16502,39942,46705,https://images.gr-assets.com/books/1417900922m/29580.jpg,https://images.gr-assets.com/books/1417900922s/29580.jpg',\n",
              " '891,91477,91477,855288,59,451458125,9.78045145812e+12,Jim Butcher,2001.0,Fool Moon ,\"Fool Moon (The Dresden Files, #2)\",eng,4.04,111371,122158,5269,580,4224,26768,49154,41432,https://images.gr-assets.com/books/1345556849m/91477.jpg,https://images.gr-assets.com/books/1345556849s/91477.jpg',\n",
              " '892,15751404,15751404,21445709,68,316204366,9.78031620436e+12,Malcolm Gladwell,2011.0,David and Goliath,\"David and Goliath: Underdogs, Misfits, and the Art of Battling Giants\",eng,3.9,90083,101707,7317,1768,5208,24303,40901,29527,https://images.gr-assets.com/books/1391813567m/15751404.jpg,https://images.gr-assets.com/books/1391813567s/15751404.jpg',\n",
              " '893,870,870,1959820,37,1591169208,9.78159116921e+12,\"Hiromu Arakawa, Akira Watanabe\",2002.0,鋼の錬金術師 1,\"Fullmetal Alchemist, Vol. 1 (Fullmetal Alchemist, #1)\",eng,4.49,93990,94768,1103,972,1734,8737,21751,61574,https://s.gr-assets.com/assets/nophoto/book/111x148-bcc042a9c91a29c1d680899eff700a03.png,https://s.gr-assets.com/assets/nophoto/book/50x75-a91bf249278a81aabab721ef782c4a74.png',\n",
              " '894,64216,64216,1128601,98,61020648,9.78006102064e+12,Terry Pratchett,1989.0,Guards! Guards!,\"Guards! Guards! (Discworld, #8)\",eng,4.32,108652,119069,2610,756,1721,14830,43570,58192,https://images.gr-assets.com/books/1431127356m/64216.jpg,https://images.gr-assets.com/books/1431127356s/64216.jpg',\n",
              " '895,7815,7815,1659905,57,1400078431,9.78140007843e+12,Joan Didion,2005.0,The Year of Magical Thinking,The Year of Magical Thinking,eng,3.86,94590,99308,7729,2670,7410,22435,35538,31255,https://images.gr-assets.com/books/1327878638m/7815.jpg,https://images.gr-assets.com/books/1327878638s/7815.jpg',\n",
              " '896,80660,80660,3106720,98,006112429X,9.7800611243e+12,Lionel Shriver,2003.0,We Need to Talk About Kevin,We Need to Talk About Kevin,eng,4.07,101343,113939,11369,3643,5596,16884,41057,46759,https://images.gr-assets.com/books/1327865017m/80660.jpg,https://images.gr-assets.com/books/1327865017s/80660.jpg',\n",
              " '897,112537,112537,1882772,151,1857231589,9.78185723159e+12,Arthur C. Clarke,1973.0,Rendezvous with Rama,\"Rendezvous with Rama (Rama, #1)\",eng,4.06,93151,103414,2773,836,3999,20716,40151,37712,https://images.gr-assets.com/books/1405456427m/112537.jpg,https://images.gr-assets.com/books/1405456427s/112537.jpg',\n",
              " '898,43758,43758,3147123,100,345419626,9.78034541962e+12,Anne Rice,1988.0,The Queen of the Damned,\"The Queen of the Damned (The Vampire Chronicles, #3)\",eng,3.86,110693,117289,1921,1866,8091,31233,39038,37061,https://images.gr-assets.com/books/1327871992m/43758.jpg,https://images.gr-assets.com/books/1327871992s/43758.jpg',\n",
              " '899,53835,53835,1959512,836,159308143X,9.78159308143e+12,\"Edith Wharton, Maureen Howard\",1920.0,The Age of Innocence,The Age of Innocence,eng,3.93,102646,114994,5051,2359,6549,25631,42542,37913,https://s.gr-assets.com/assets/nophoto/book/111x148-bcc042a9c91a29c1d680899eff700a03.png,https://s.gr-assets.com/assets/nophoto/book/50x75-a91bf249278a81aabab721ef782c4a74.png',\n",
              " '900,61535,61535,1746717,104,199291152,9.78019929115e+12,Richard Dawkins,1976.0,The Selfish Gene,The Selfish Gene,eng,4.11,96564,101017,2460,2783,4298,15845,33818,44273,https://images.gr-assets.com/books/1366758096m/61535.jpg,https://images.gr-assets.com/books/1366758096s/61535.jpg',\n",
              " '901,4965,4965,3211895,20,142001430,9.78014200143e+12,Geraldine Brooks,2001.0,Year of Wonders: A Novel of the Plague,Year of Wonders,eng,4.0,104283,108029,8124,1491,4853,21931,43557,36197,https://images.gr-assets.com/books/1327936622m/4965.jpg,https://images.gr-assets.com/books/1327936622s/4965.jpg',\n",
              " '902,32508,32508,48262,130,446612731,9.78044661274e+12,Michael Connelly,1992.0,The Black Echo,\"The Black Echo (Harry Bosch, #1; Harry Bosch Universe, #1)\",eng,4.08,98591,108388,3068,1487,2971,19722,45422,38786,https://images.gr-assets.com/books/1344265342m/32508.jpg,https://images.gr-assets.com/books/1344265342s/32508.jpg',\n",
              " '903,667,667,287946,460,452281253,9.78045228126e+12,Ayn Rand,1938.0,Anthem,Anthem,eng,3.62,95620,106766,7096,6095,10982,27984,34074,27631,https://s.gr-assets.com/assets/nophoto/book/111x148-bcc042a9c91a29c1d680899eff700a03.png,https://s.gr-assets.com/assets/nophoto/book/50x75-a91bf249278a81aabab721ef782c4a74.png',\n",
              " '904,10140661,10140661,15038778,50,1936305623,9.78193630563e+12,Sylvain Reynard,2011.0,Gabriel\\'s Inferno,\"Gabriel\\'s Inferno (Gabriel\\'s Inferno, #1)\",eng,4.02,119633,127883,7192,5445,8481,21252,35901,56804,https://images.gr-assets.com/books/1301789770m/10140661.jpg,https://images.gr-assets.com/books/1301789770s/10140661.jpg',\n",
              " '905,8073,8073,11045,28,689707495,9.78068970749e+12,\"Judi Barrett, Ron Barrett\",1978.0,Cloudy with a Chance of Meatballs,Cloudy With a Chance of Meatballs,eng,4.15,104677,105520,1782,1641,4578,19494,30132,49675,https://s.gr-assets.com/assets/nophoto/book/111x148-bcc042a9c91a29c1d680899eff700a03.png,https://s.gr-assets.com/assets/nophoto/book/50x75-a91bf249278a81aabab721ef782c4a74.png',\n",
              " \"906,6643090,6643090,6837577,65,1400068932,9.78140006894e+12,Helen Simonson,2010.0,Major Pettigrew's Last Stand,Major Pettigrew's Last Stand,eng,3.87,97745,109311,11386,1652,5870,26114,46749,28926,https://images.gr-assets.com/books/1320539020m/6643090.jpg,https://images.gr-assets.com/books/1320539020s/6643090.jpg\",\n",
              " '907,5598113,5598113,5769464,73,425227510,9.78042522751e+12,Nora Roberts,2009.0,Vision in White,\"Vision in White (Bride Quartet, #1)\",eng,4.1,103933,107747,3560,1736,4571,20507,35020,45913,https://images.gr-assets.com/books/1316972164m/5598113.jpg,https://images.gr-assets.com/books/1316972164s/5598113.jpg',\n",
              " '908,10909,10909,2532689,69,074349671X,9.78074349671e+12,Jodi Picoult,2006.0,The Tenth Circle,The Tenth Circle,eng,3.48,99170,103155,5101,3141,12846,36925,32003,18240,https://images.gr-assets.com/books/1348575053m/10909.jpg,https://images.gr-assets.com/books/1348575053s/10909.jpg',\n",
              " '909,9067850,9067850,13945952,66,1423140567,9.78142314057e+12,Rick Riordan,2011.0,The Throne of Fire,\"The Throne of Fire (Kane Chronicles, #2)\",eng,4.2,116360,123024,4900,869,3653,20425,42668,55409,https://images.gr-assets.com/books/1366227973m/9067850.jpg,https://images.gr-assets.com/books/1366227973s/9067850.jpg',\n",
              " '910,51964,51964,50700,64,765348276,9.78076534827e+12,John Scalzi,2005.0,Old Man\\'s War,\"Old Man\\'s War (Old Man\\'s War, #1)\",eng,4.23,97653,109133,6878,883,2704,14821,42929,47796,https://images.gr-assets.com/books/1487044882m/51964.jpg,https://images.gr-assets.com/books/1487044882s/51964.jpg',\n",
              " \"911,32692,32692,4847031,112,831727527,9.78083172753e+12,Stephen King,1992.0,Gerald's Game,Gerald's Game,eng,3.47,100158,105777,2445,6039,14425,32757,28853,23703,https://images.gr-assets.com/books/1297737756m/32692.jpg,https://images.gr-assets.com/books/1297737756s/32692.jpg\",\n",
              " '912,6427,6427,617151,76,140255559,9.78014025555e+12,Janet Evanovich,1996.0,Two for the Dough,\"Two for the Dough (Stephanie Plum, #2)\",eng,4.11,116171,127548,4045,458,3089,25824,51020,47157,https://images.gr-assets.com/books/1330926461m/6427.jpg,https://images.gr-assets.com/books/1330926461s/6427.jpg',\n",
              " '913,327847,327847,318479,63,684818701,9.7806848187e+12,\"Irma S. Rombauer, Marion Rombauer Becker, Ethan Becker\",1931.0,The Joy of Cooking,The Joy of Cooking,,4.14,102348,105920,1009,3036,4504,17338,31223,49819,https://images.gr-assets.com/books/1379313627m/327847.jpg,https://images.gr-assets.com/books/1379313627s/327847.jpg',\n",
              " '914,21611,21611,423,98,60510862,9.78006051086e+12,Joe Haldeman,1974.0,The Forever War,\"The Forever War (The Forever War, #1)\",eng,4.15,87636,101775,4340,919,3331,16929,39208,41388,https://images.gr-assets.com/books/1386852511m/21611.jpg,https://images.gr-assets.com/books/1386852511s/21611.jpg',\n",
              " '915,10585,10585,1590722,125,8497597729,9.78849759772e+12,\"Stephen King, Bettina Blanch Tyroller\",1994.0,Insomnia,Insomnia,spa,3.79,100972,109444,2296,3138,9066,28408,35608,33224,https://images.gr-assets.com/books/1354355494m/10585.jpg,https://images.gr-assets.com/books/1354355494s/10585.jpg',\n",
              " '916,7603,7603,903067,69,812971060,9.78081297106e+12,Azar Nafisi,2003.0,Reading Lolita in Tehran: A Memoir in Books,Reading Lolita in Tehran,eng,3.57,94696,98413,6576,4270,10670,28610,34061,20802,https://images.gr-assets.com/books/1397751318m/7603.jpg,https://images.gr-assets.com/books/1397751318s/7603.jpg',\n",
              " '917,944073,944073,929009,82,575079797,9.78057507979e+12,Joe Abercrombie,2006.0,The Blade Itself,\"The Blade Itself (The First Law, #1)\",eng,4.14,97501,107614,5521,1844,3944,15593,42598,43635,https://images.gr-assets.com/books/1284167912m/944073.jpg,https://images.gr-assets.com/books/1284167912s/944073.jpg',\n",
              " '918,114955,114955,508999,121,786851473,9.78078685148e+12,Eoin Colfer,2002.0,The Arctic Incident,\"The Arctic Incident (Artemis Fowl, #2)\",eng,3.94,108031,114867,2434,1594,5098,27655,44276,36244,https://s.gr-assets.com/assets/nophoto/book/111x148-bcc042a9c91a29c1d680899eff700a03.png,https://s.gr-assets.com/assets/nophoto/book/50x75-a91bf249278a81aabab721ef782c4a74.png',\n",
              " '919,7354,7354,310090,95,743225422,9.78074322543e+12,Annie Proulx,1993.0,The Shipping News,The Shipping News,eng,3.83,103151,109047,4044,3321,8054,24808,40446,32418,https://images.gr-assets.com/books/1469036074m/7354.jpg,https://images.gr-assets.com/books/1469036074s/7354.jpg',\n",
              " '920,22318578,22318578,41711738,94,1607747308,9.78160774731e+12,\"Marie Kondō, Cathy Hirano\",2011.0,人生がときめく片づけの魔法,The Life-Changing Magic of Tidying Up: The Japanese Art of Decluttering and Organizing,eng,3.77,105063,129409,17320,3885,10846,32775,44967,36936,https://images.gr-assets.com/books/1418767178m/22318578.jpg,https://images.gr-assets.com/books/1418767178s/22318578.jpg',\n",
              " '921,18460392,18460392,26113532,74,385755880,9.78038575589e+12,\"Jennifer Niven, فرانک معنوی\",2015.0,All the Bright Places,All the Bright Places,eng,4.19,132087,146542,21192,2871,6238,21061,45697,70675,https://images.gr-assets.com/books/1404331702m/18460392.jpg,https://images.gr-assets.com/books/1404331702s/18460392.jpg',\n",
              " '922,231604,231604,866667,95,671011367,9.78067101137e+12,Kathy Reichs,1997.0,Déjà Dead,\"Déjà Dead (Temperance Brennan, #1)\",eng,3.86,100369,107636,3098,2579,6023,27054,40072,31908,https://images.gr-assets.com/books/1334157601m/231604.jpg,https://images.gr-assets.com/books/1334157601s/231604.jpg',\n",
              " '923,17402605,17402605,3354660,85,552562521,9.78055256252e+12,Michael Scott,2007.0,The Alchemyst: The Secrets of The Immortal Nicholas Flamel,\"The Alchemyst (The Secrets of the Immortal Nicholas Flamel, #1)\",eng,3.84,58396,115864,7165,3737,8839,27510,38469,37309,https://images.gr-assets.com/books/1361310229m/17402605.jpg,https://images.gr-assets.com/books/1361310229s/17402605.jpg',\n",
              " '924,10964693,10964693,15668403,78,374203059,9.78037420305e+12,Jeffrey Eugenides,2011.0,The Marriage Plot,The Marriage Plot,eng,3.42,90551,99271,10634,4472,12653,33397,33807,14942,https://images.gr-assets.com/books/1328736940m/10964693.jpg,https://images.gr-assets.com/books/1328736940s/10964693.jpg',\n",
              " '925,16527,16527,3471915,126,61120251,9.78006112025e+12,\"Isabel Allende, Margaret Sayers Peden\",1998.0,Hija de la fortuna,Daughter of Fortune,eng,3.89,89770,96939,3142,1238,4950,24400,39391,26960,https://images.gr-assets.com/books/1299666780m/16527.jpg,https://images.gr-assets.com/books/1299666780s/16527.jpg',\n",
              " '926,22609317,22609317,42099141,58,1476789630,9.78147678964e+12,Jessica Knoll,2015.0,Luckiest Girl Alive,Luckiest Girl Alive,eng,3.48,82504,98163,9278,3530,11319,33135,34874,15305,https://images.gr-assets.com/books/1425975301m/22609317.jpg,https://images.gr-assets.com/books/1425975301s/22609317.jpg',\n",
              " '927,270730,270730,262457,22,689865198,9.78068986519e+12,Ellen Hopkins,2004.0,\"Crank (Crank, #1)\",\"Crank (Crank, #1)\",eng,4.16,104168,105823,7239,2207,5055,16890,31143,50528,https://s.gr-assets.com/assets/nophoto/book/111x148-bcc042a9c91a29c1d680899eff700a03.png,https://s.gr-assets.com/assets/nophoto/book/50x75-a91bf249278a81aabab721ef782c4a74.png',\n",
              " '928,17675462,17675462,18970934,64,545424925,9.78054542493e+12,Maggie Stiefvater,2012.0,The Raven Boys,\"The Raven Boys (The Raven Cycle, #1)\",eng,4.05,121727,159696,20296,4299,7656,26761,57622,63358,https://images.gr-assets.com/books/1477103737m/17675462.jpg,https://images.gr-assets.com/books/1477103737s/17675462.jpg',\n",
              " '929,547094,547094,2223519,26,031286504X,9.78031286505e+12,Richard Matheson,1954.0,I Am Legend and Other Stories,I Am Legend and Other Stories,eng,3.99,98795,102941,4383,1451,5061,22371,38426,35632,https://images.gr-assets.com/books/1317791583m/547094.jpg,https://images.gr-assets.com/books/1317791583s/547094.jpg',\n",
              " '930,1736739,1736739,3263906,87,140006208X,9.78140006209e+12,Elizabeth Strout,2008.0,Olive Kitteridge,Olive Kitteridge,eng,3.78,85019,108518,14175,2907,8772,26625,41160,29054,https://images.gr-assets.com/books/1320430655m/1736739.jpg,https://images.gr-assets.com/books/1320430655s/1736739.jpg',\n",
              " '931,20588698,20588698,21933444,71,081299499X,9.780812995e+12,\"Lena Dunham, Joana Avillez\",2014.0,Not that Kind of Girl,\"Not That Kind of Girl: A Young Woman Tells You What She\\'s \"\"Learned\"\"\",eng,3.33,88251,97626,7732,6235,14712,32976,28187,15516,https://images.gr-assets.com/books/1402816003m/20588698.jpg,https://images.gr-assets.com/books/1402816003s/20588698.jpg',\n",
              " \"932,76865,76865,1094028,63,66620996,9.78006662099e+12,James C. Collins,2001.0,Good to Great: Why Some Companies Make the Leap... and Others Don't,Good to Great: Why Some Companies Make the Leap... and Others Don't,eng,4.04,85277,88373,3100,1550,3682,16971,33234,32936,https://s.gr-assets.com/assets/nophoto/book/111x148-bcc042a9c91a29c1d680899eff700a03.png,https://s.gr-assets.com/assets/nophoto/book/50x75-a91bf249278a81aabab721ef782c4a74.png\",\n",
              " '933,6137154,6137154,6128277,70,803734611,9.78080373462e+12,Kristin Cashore,2009.0,Fire,\"Fire (Graceling Realm, #2)\",en-US,4.12,98180,133462,9159,2390,6020,22684,45051,57317,https://images.gr-assets.com/books/1331535456m/6137154.jpg,https://images.gr-assets.com/books/1331535456s/6137154.jpg',\n",
              " '934,17716,17716,2635502,187,,,Samuel Beckett,1952.0,En attendant Godot,Waiting for Godot,eng,3.81,98950,113243,3767,4684,9587,25125,36788,37059,https://images.gr-assets.com/books/1327910301m/17716.jpg,https://images.gr-assets.com/books/1327910301s/17716.jpg',\n",
              " '935,43035,43035,2949952,1085,439236193,9.7804392362e+12,Jack London,1906.0,White Fang,White Fang,eng,3.94,100223,114519,3017,1823,5850,27264,42175,37407,https://images.gr-assets.com/books/1475878443m/43035.jpg,https://images.gr-assets.com/books/1475878443s/43035.jpg',\n",
              " '936,4978,4978,2754911,105,141651693X,9.78141651693e+12,\"Stephen King, Bernie Wrightson\",2003.0,Wolves of the Calla,\"Wolves of the Calla (The Dark Tower, #5)\",eng,4.17,98182,109648,2874,1013,3733,17788,39889,47225,https://images.gr-assets.com/books/1419360231m/4978.jpg,https://images.gr-assets.com/books/1419360231s/4978.jpg',\n",
              " '937,18116,18116,1943518,81,440238609,9.78044023861e+12,Philip Pullman,2000.0,His Dark Materials,His Dark Materials (His Dark Materials #1-3),eng,4.25,88227,102040,4499,1672,3744,13475,31455,51694,https://s.gr-assets.com/assets/nophoto/book/111x148-bcc042a9c91a29c1d680899eff700a03.png,https://s.gr-assets.com/assets/nophoto/book/50x75-a91bf249278a81aabab721ef782c4a74.png',\n",
              " '938,16081272,16081272,21880254,61,1480095532,9.78148009553e+12,J.A. Redmerski,2012.0,The Edge of Never,\"The Edge of Never (The Edge of Never, #1)\",en-US,4.26,117508,127686,10763,2681,4863,16493,35712,67937,https://images.gr-assets.com/books/1358810128m/16081272.jpg,https://images.gr-assets.com/books/1358810128s/16081272.jpg',\n",
              " '939,15776309,15776309,21488217,46,006222543X,9.78006222544e+12,Kimberly McCreight,2013.0,Reconstructing Amelia,Reconstructing Amelia,eng,3.82,86965,99269,10243,1616,5754,25360,42578,23961,https://images.gr-assets.com/books/1350193583m/15776309.jpg,https://images.gr-assets.com/books/1350193583s/15776309.jpg',\n",
              " '940,18693716,18693716,25570700,88,525426582,9.78052542658e+12,Jojo Moyes,2014.0,The One Plus One,One Plus One,eng,3.94,87412,105933,9884,1548,4059,23143,47569,29614,https://images.gr-assets.com/books/1403185695m/18693716.jpg,https://images.gr-assets.com/books/1403185695s/18693716.jpg',\n",
              " '941,11899,11899,2245431,138,312305060,9.78031230506e+12,Michael Cunningham,1998.0,The Hours,The Hours,en-US,3.91,97462,106608,4109,2540,6874,23497,38208,35489,https://images.gr-assets.com/books/1479663379m/11899.jpg,https://images.gr-assets.com/books/1479663379s/11899.jpg',\n",
              " '942,15858248,15858248,21607771,34,1623420024,9.78162342002e+12,Alice Clayton,2012.0,Wallbanger,\"Wallbanger (Cocktail, #1)\",eng,4.1,134805,145610,11854,3556,7236,23963,46970,63885,https://images.gr-assets.com/books/1352205960m/15858248.jpg,https://images.gr-assets.com/books/1352205960s/15858248.jpg',\n",
              " '943,4136,4136,674383,42,316191299,9.7803161913e+12,David Sedaris,1997.0,Holidays on Ice,Holidays on Ice,eng,3.95,82591,90898,4509,1685,5179,20216,32529,31289,https://images.gr-assets.com/books/1328330843m/4136.jpg,https://images.gr-assets.com/books/1328330843s/4136.jpg',\n",
              " '944,10584,10584,14015,132,451188462,9.78045118846e+12,Stephen King,1996.0,Desperation,Desperation,eng,3.8,94821,100128,1787,2284,8007,27093,32961,29783,https://images.gr-assets.com/books/1395764566m/10584.jpg,https://images.gr-assets.com/books/1395764566s/10584.jpg',\n",
              " '945,9369720,9369720,10958266,66,385739168,9.78038573916e+12,Lauren Kate,2011.0,Passion,\"Passion (Fallen, #3)\",eng,3.89,119735,125252,5464,3673,10214,28665,35799,46901,https://images.gr-assets.com/books/1362339802m/9369720.jpg,https://images.gr-assets.com/books/1362339802s/9369720.jpg',\n",
              " '946,13089710,13089710,18261314,66,385742886,9.78038574289e+12,James Dashner,2012.0,The Kill Order,\"The Kill Order (Maze Runner, #0.5)\",eng,3.69,96568,109441,8219,4497,11820,28996,31984,32144,https://images.gr-assets.com/books/1330636153m/13089710.jpg,https://images.gr-assets.com/books/1330636153s/13089710.jpg',\n",
              " '947,11500217,15863832,16435765,67,144477851X,9.78144477852e+12,Susan Ee,2011.0,Angelfall,\"Angelfall (Penryn & the End of Days, #1)\",en-US,4.19,73886,128028,13789,2909,5168,18366,40347,61238,https://images.gr-assets.com/books/1423238576m/11500217.jpg,https://images.gr-assets.com/books/1423238576s/11500217.jpg',\n",
              " '948,187020,187020,826474,49,375726403,9.78037572641e+12,Richard Russo,2001.0,Empire Falls,Empire Falls,eng,3.91,90811,93054,3722,1469,5164,21151,38013,27257,https://images.gr-assets.com/books/1403184884m/187020.jpg,https://images.gr-assets.com/books/1403184884s/187020.jpg',\n",
              " '949,13895,13895,588034,56,1857232097,9.7818572321e+12,Robert Jordan,1993.0,The Fires of Heaven,\"The Fires of Heaven (Wheel of Time, #5)\",en-US,4.13,93227,104317,1864,863,3367,18885,39542,41660,https://images.gr-assets.com/books/1327866286m/13895.jpg,https://images.gr-assets.com/books/1327866286s/13895.jpg',\n",
              " \"950,20820994,20820994,11409817,71,803734964,9.78080373497e+12,Jandy Nelson,2014.0,I'll Give You the Sun,I'll Give You the Sun,eng,4.14,140937,153584,16701,7025,7517,20793,40241,78008,https://images.gr-assets.com/books/1496659336m/20820994.jpg,https://images.gr-assets.com/books/1496659336s/20820994.jpg\",\n",
              " '951,22283,7076703,1602338,63,009928264X,9.78009928265e+12,Chuck Palahniuk,1999.0,Survivor,Survivor,en-US,3.93,49551,88231,3078,903,4759,20844,34767,26958,https://images.gr-assets.com/books/1327346693m/22283.jpg,https://images.gr-assets.com/books/1327346693s/22283.jpg',\n",
              " '952,9420,9420,3284660,80,385338708,9.78038533871e+12,Sophie Kinsella,2007.0,Shopaholic and Baby,\"Shopaholic & Baby (Shopaholic, #5)\",eng,3.77,98130,103621,2434,2341,7661,29880,34857,28882,https://s.gr-assets.com/assets/nophoto/book/111x148-bcc042a9c91a29c1d680899eff700a03.png,https://s.gr-assets.com/assets/nophoto/book/50x75-a91bf249278a81aabab721ef782c4a74.png',\n",
              " '953,5091,5091,6309701,105,1416524525,9.78141652453e+12,Stephen King,2004.0,The Dark Tower,\"The Dark Tower (The Dark Tower, #7)\",en-US,4.27,93296,104085,3945,1630,3759,13375,31203,54118,https://images.gr-assets.com/books/1372296329m/5091.jpg,https://images.gr-assets.com/books/1372296329s/5091.jpg',\n",
              " \"954,6202690,6202690,6383190,14,316070521,9.78031607052e+12,Catherine Hardwicke,2009.0,Twilight Director's Notebook,Twilight Director's Notebook : The Story of How We Made the Movie Based on the Novel by Stephenie Meyer,en-US,4.2,88847,89383,417,3040,4242,14517,17460,50124,https://s.gr-assets.com/assets/nophoto/book/111x148-bcc042a9c91a29c1d680899eff700a03.png,https://s.gr-assets.com/assets/nophoto/book/50x75-a91bf249278a81aabab721ef782c4a74.png\",\n",
              " '955,9418,9418,3238753,93,440241812,9.78044024181e+12,Sophie Kinsella,2001.0,Shopaholic Abroad,\"Shopaholic Takes Manhattan (Shopaholic, #2)\",en-US,3.75,93498,100718,2785,1635,7071,31036,35898,25078,https://images.gr-assets.com/books/1266449959m/9418.jpg,https://images.gr-assets.com/books/1266449959s/9418.jpg',\n",
              " '956,5544,5544,321174,97,393316041,9.78039331605e+12,Richard Feynman,1984.0,\"Surely You\\'re Joking, Mr. Feynman! Adventures of a Curious Character\",\"Surely You\\'re Joking, Mr. Feynman!: Adventures of a Curious Character\",en-US,4.29,91625,97719,3500,2080,2616,11036,30784,51203,https://images.gr-assets.com/books/1348445281m/5544.jpg,https://images.gr-assets.com/books/1348445281s/5544.jpg',\n",
              " '957,6654313,6654313,6848948,76,545123283,9.78054512328e+12,Maggie Stiefvater,2010.0,Linger,\"Linger (The Wolves of Mercy Falls, #2)\",en-US,3.91,125363,133284,8784,2594,8966,31455,44446,45823,https://images.gr-assets.com/books/1292482391m/6654313.jpg,https://images.gr-assets.com/books/1292482391s/6654313.jpg',\n",
              " '958,3579,3579,7365,40,553609416,76783609419.0,L.M. Montgomery,1908.0,The Complete Anne of Green Gables Boxed Set,\"The Complete Anne of Green Gables Boxed Set (Anne of Green Gables, #1-8)\",,4.42,92142,93067,1438,1395,1991,9286,23394,57001,https://images.gr-assets.com/books/1267721500m/3579.jpg,https://images.gr-assets.com/books/1267721500s/3579.jpg',\n",
              " '959,7588,7588,3298883,766,142437344,9.78014243735e+12,\"James Joyce, Seamus Deane\",1916.0,A Portrait of the Artist as a Young Man,A Portrait of the Artist as a Young Man,eng,3.6,92569,103232,3934,6367,11067,26108,33169,26521,https://s.gr-assets.com/assets/nophoto/book/111x148-bcc042a9c91a29c1d680899eff700a03.png,https://s.gr-assets.com/assets/nophoto/book/50x75-a91bf249278a81aabab721ef782c4a74.png',\n",
              " '960,1166599,1166599,1920889,2,765302306,9.7807653023e+12,\"Robert Jordan, Brandon Sanderson\",2009.0,The Gathering Storm,\"The Gathering Storm (Wheel of Time, #12)\",eng,4.34,94095,100343,2582,1146,2178,10877,32914,53228,https://s.gr-assets.com/assets/nophoto/book/111x148-bcc042a9c91a29c1d680899eff700a03.png,https://s.gr-assets.com/assets/nophoto/book/50x75-a91bf249278a81aabab721ef782c4a74.png',\n",
              " '961,19089,19089,1461747,665,451529170,9.78045152918e+12,\"George Eliot, Michel Faber\",1871.0,Middlemarch,Middlemarch,eng,3.93,95995,107160,5292,3674,7307,22093,33770,40316,https://images.gr-assets.com/books/1481264628m/19089.jpg,https://images.gr-assets.com/books/1481264628s/19089.jpg',\n",
              " '962,13496084,19390926,19038910,30,,,Colleen Hoover,2012.0,Point of Retreat,\"Point of Retreat (Slammed, #2)\",eng,4.3,109344,124145,8186,1204,3594,16043,39235,64069,https://images.gr-assets.com/books/1330543249m/13496084.jpg,https://images.gr-assets.com/books/1330543249s/13496084.jpg',\n",
              " '963,5350,5350,1110983,118,385339100,9.7803853391e+12,John Grisham,1997.0,The Partner,The Partner,,3.89,86870,91921,1896,746,4116,25227,36009,25823,https://s.gr-assets.com/assets/nophoto/book/111x148-bcc042a9c91a29c1d680899eff700a03.png,https://s.gr-assets.com/assets/nophoto/book/50x75-a91bf249278a81aabab721ef782c4a74.png',\n",
              " '964,30,30,89369,74,345538374,9.78034553838e+12,J.R.R. Tolkien,1973.0,The Hobbit and The Lord of the Rings,J.R.R. Tolkien 4-Book Boxed Set: The Hobbit and The Lord of the Rings,eng,4.59,90907,94348,1565,826,1281,5819,19982,66440,https://images.gr-assets.com/books/1346072396m/30.jpg,https://images.gr-assets.com/books/1346072396s/30.jpg',\n",
              " '965,13517535,13517535,14321512,38,146109111X,9.78146109111e+12,S.C. Stephens,2009.0,Thoughtless,\"Thoughtless (Thoughtless, #1)\",eng,4.12,90483,123867,8939,5238,6858,17472,32339,61960,https://images.gr-assets.com/books/1331254339m/13517535.jpg,https://images.gr-assets.com/books/1331254339s/13517535.jpg',\n",
              " '966,425029,425029,7732,110,446350982,9.78044635098e+12,Scott Turow,1986.0,Presumed Innocent,Presumed Innocent,,4.1,91774,93835,1114,679,2438,18147,38472,34099,https://images.gr-assets.com/books/1404412704m/425029.jpg,https://images.gr-assets.com/books/1404412704s/425029.jpg',\n",
              " '967,11597,11597,1316297,131,045052468X,9.78045052468e+12,Stephen King,1989.0,The Dark Half,The Dark Half,eng,3.74,94624,99918,1357,1592,7735,31007,34084,25500,https://images.gr-assets.com/books/1430122353m/11597.jpg,https://images.gr-assets.com/books/1430122353s/11597.jpg',\n",
              " '968,7968243,7968243,12020129,55,316001929,9.78031600192e+12,Stacy Schiff,2006.0,Cleopatra: A Life,Cleopatra: A Life,eng,3.62,73994,76685,4534,5022,7484,19656,23929,20594,https://images.gr-assets.com/books/1294098301m/7968243.jpg,https://images.gr-assets.com/books/1294098301s/7968243.jpg',\n",
              " '969,1911,1911,711993,83,374292795,9.7803742928e+12,Thomas L. Friedman,2005.0,The World Is Flat: A Brief History of the Twenty-first Century,The World Is Flat: A Brief History of the Twenty-first Century,en-US,3.66,78271,83905,3277,3342,7529,22896,30500,19638,https://s.gr-assets.com/assets/nophoto/book/111x148-bcc042a9c91a29c1d680899eff700a03.png,https://s.gr-assets.com/assets/nophoto/book/50x75-a91bf249278a81aabab721ef782c4a74.png',\n",
              " '970,17182126,17182126,21366540,64,385743564,9.78038574356e+12,Brandon Sanderson,2013.0,Steelheart,\"Steelheart (The Reckoners, #1)\",eng,4.16,76261,102116,10160,1300,3063,15596,40585,41572,https://images.gr-assets.com/books/1357576738m/17182126.jpg,https://images.gr-assets.com/books/1357576738s/17182126.jpg',\n",
              " '971,766020,766020,56647,75,1558580093,9.78155858009e+12,\"Marcus Pfister, J. Alison James\",1995.0,,The Rainbow Fish,en-US,4.15,95421,96218,1764,2029,4860,17546,24018,47765,https://images.gr-assets.com/books/1328755881m/766020.jpg,https://images.gr-assets.com/books/1328755881s/766020.jpg',\n",
              " '972,32829,32829,1924715,1363,553213970,9.78055321397e+12,Jules Verne,1864.0,Voyage au centre de la Terre,\"Journey to the Center of the Earth (Extraordinary Voyages, #3)\",eng,3.84,89410,111100,3483,1238,6342,31442,42106,29972,https://s.gr-assets.com/assets/nophoto/book/111x148-bcc042a9c91a29c1d680899eff700a03.png,https://s.gr-assets.com/assets/nophoto/book/50x75-a91bf249278a81aabab721ef782c4a74.png',\n",
              " '973,6398634,6398634,6587328,73,61583251,9.78006158325e+12,Gretchen Rubin,2009.0,The Happiness Project,\"The Happiness Project: Or Why I Spent a Year Trying to Sing in the Morning, Clean My Closets, Fight Right, Read Aristotle, and Generally Have More Fun\",eng,3.57,94456,102878,10295,4381,11562,30145,34374,22416,https://images.gr-assets.com/books/1256849491m/6398634.jpg,https://images.gr-assets.com/books/1256849491s/6398634.jpg',\n",
              " '974,216363,216363,2398287,196,679740678,9.78067974067e+12,Philip K. Dick,1962.0,The Man in the High Castle,The Man in the High Castle,eng,3.66,84180,108388,7689,2723,10203,31793,40156,23513,https://images.gr-assets.com/books/1448756803m/216363.jpg,https://images.gr-assets.com/books/1448756803s/216363.jpg',\n",
              " '975,105992,105992,1077715,52,393322238,9.78039332223e+12,\"Vincent Bugliosi, Curt Gentry\",1974.0,Helter Skelter: The True Story of The Manson Murders,Helter Skelter: The True Story of the Manson Murders,en-GB,4.0,92158,94919,2510,1207,4141,21434,35026,33111,https://s.gr-assets.com/assets/nophoto/book/111x148-bcc042a9c91a29c1d680899eff700a03.png,https://s.gr-assets.com/assets/nophoto/book/50x75-a91bf249278a81aabab721ef782c4a74.png',\n",
              " '976,90072,90072,24501333,3,793551617,9.78079355161e+12,\"Robert Kapilow, Dr. Seuss\",,,\"Dr. Seuss\\'s Green Eggs and Ham: For Soprano, Boy Soprano, and Orchestra\",,4.44,90574,90691,262,803,1943,10781,20483,56681,https://s.gr-assets.com/assets/nophoto/book/111x148-bcc042a9c91a29c1d680899eff700a03.png,https://s.gr-assets.com/assets/nophoto/book/50x75-a91bf249278a81aabab721ef782c4a74.png',\n",
              " '977,15645,15645,2377563,856,812970063,9.78081297007e+12,\"Dante Alighieri, Anthony M. Esolen\",1320.0,Inferno,Inferno (The Divine Comedy #1),,3.99,87511,109200,3576,1930,6267,23308,37680,40015,https://images.gr-assets.com/books/1333579470m/15645.jpg,https://images.gr-assets.com/books/1333579470s/15645.jpg',\n",
              " '978,11559200,11559200,16499524,64,670023485,9.78067002349e+12,Deborah Harkness,2012.0,Shadow of Night,\"Shadow of Night (All Souls Trilogy, #2)\",eng,4.04,97925,112860,11911,1531,5320,22037,41964,42008,https://images.gr-assets.com/books/1320604137m/11559200.jpg,https://images.gr-assets.com/books/1320604137s/11559200.jpg',\n",
              " '979,18816603,18816603,26757264,64,345544927,9.78034554493e+12,Jodi Picoult,2014.0,Leaving Time,Leaving Time,eng,3.94,76553,94584,11792,1874,5604,20043,36018,31045,https://images.gr-assets.com/books/1394487223m/18816603.jpg,https://images.gr-assets.com/books/1394487223s/18816603.jpg',\n",
              " '980,71811,71811,69530,48,441013813,9.78044101381e+12,Patricia Briggs,2006.0,Moon Called,\"Moon Called (Mercy Thompson, #1)\",eng,4.18,129150,136273,6493,2325,4716,20975,46351,61906,https://images.gr-assets.com/books/1272070347m/71811.jpg,https://images.gr-assets.com/books/1272070347s/71811.jpg',\n",
              " '981,872333,872333,857698,47,786838922,9.78078683893e+12,Melissa de la Cruz,2006.0,Blue Bloods,\"Blue Bloods (Blue Bloods, #1)\",en-US,3.68,116687,120989,4679,6024,12543,31927,34222,36273,https://images.gr-assets.com/books/1322281515m/872333.jpg,https://images.gr-assets.com/books/1322281515s/872333.jpg',\n",
              " '982,40024,40024,2266643,70,812976142,9.78081297614e+12,Caleb Carr,1994.0,The Alienist,\"The Alienist (Dr. Laszlo Kreizler, #1)\",eng,4.05,96981,100908,4026,1798,4571,18715,37572,38252,https://s.gr-assets.com/assets/nophoto/book/111x148-bcc042a9c91a29c1d680899eff700a03.png,https://s.gr-assets.com/assets/nophoto/book/50x75-a91bf249278a81aabab721ef782c4a74.png',\n",
              " '983,25489625,25489625,44848425,36,812993543,9.78081299355e+12,Ta-Nehisi Coates,2015.0,Between the World and Me,Between the World and Me,eng,4.4,74218,102946,13113,1438,2375,9177,30541,59415,https://images.gr-assets.com/books/1451435027m/25489625.jpg,https://images.gr-assets.com/books/1451435027s/25489625.jpg',\n",
              " '984,15997,15997,1031493,819,140424393,9.78014042439e+12,\"John Milton, John      Leonard\",1667.0,Paradise Lost,Paradise Lost,eng,3.8,96316,104580,2645,3956,9036,25069,32906,33613,https://images.gr-assets.com/books/1455618673m/15997.jpg,https://images.gr-assets.com/books/1455618673s/15997.jpg',\n",
              " '985,6463967,26889576,6654434,57,393072231,9.78039307224e+12,Michael   Lewis,2009.0,The Big Short: Inside the Doomsday Machine,The Big Short: Inside the Doomsday Machine,en-US,4.26,37090,98272,5659,972,2139,12082,38479,44600,https://images.gr-assets.com/books/1453470736m/6463967.jpg,https://images.gr-assets.com/books/1453470736s/6463967.jpg',\n",
              " '986,11564,11564,1836389,115,1416524290,9.7814165243e+12,Stephen King,1999.0,The Girl Who Loved Tom Gordon,The Girl Who Loved Tom Gordon,,3.56,95768,103156,3281,3658,12231,33253,30730,23284,https://s.gr-assets.com/assets/nophoto/book/111x148-bcc042a9c91a29c1d680899eff700a03.png,https://s.gr-assets.com/assets/nophoto/book/50x75-a91bf249278a81aabab721ef782c4a74.png',\n",
              " '987,8621462,8621462,13492114,138,1406311529,9.78140631152e+12,\"Patrick Ness, Jim Kay, Siobhan Dowd\",2011.0, A Monster Calls ,A Monster Calls,eng,4.36,104579,132593,24522,1622,3307,14260,39473,73931,https://images.gr-assets.com/books/1485991317m/8621462.jpg,https://images.gr-assets.com/books/1485991317s/8621462.jpg',\n",
              " '988,8253920,8253920,7338128,39,765325942,9.78076532594e+12,\"Robert Jordan, Brandon Sanderson\",2010.0,Towers of Midnight,\"Towers of Midnight (Wheel of Time, #13)\",en-US,4.42,91383,98092,2356,877,1704,9062,30593,55856,https://images.gr-assets.com/books/1358109459m/8253920.jpg,https://images.gr-assets.com/books/1358109459s/8253920.jpg',\n",
              " '989,540020,540020,1792180,170,553266306,9.78055326631e+12,Frederick Forsyth,1971.0,The Day of the Jackal,The Day of the Jackal,eng,4.25,85883,89606,1439,514,1738,12890,34456,40008,https://images.gr-assets.com/books/1405364996m/540020.jpg,https://images.gr-assets.com/books/1405364996s/540020.jpg',\n",
              " '990,6732019,6732019,6928276,60,307463745,9.78030746375e+12,\"Jason Fried, David Heinemeier Hansson\",2010.0,Rework,Rework,eng,3.93,88626,92318,2938,3523,6109,18662,29118,34906,https://s.gr-assets.com/assets/nophoto/book/111x148-bcc042a9c91a29c1d680899eff700a03.png,https://s.gr-assets.com/assets/nophoto/book/50x75-a91bf249278a81aabab721ef782c4a74.png',\n",
              " '991,8909152,8909152,13785503,44,525951989,9.78052595199e+12,Rainbow Rowell,2011.0,Attachments,Attachments,eng,3.95,105414,119865,16114,2354,5547,25617,48546,37801,https://images.gr-assets.com/books/1499377988m/8909152.jpg,https://images.gr-assets.com/books/1499377988s/8909152.jpg',\n",
              " '992,3090465,3090465,6440505,36,739352350,9.78073935236e+12,\"Stephenie Meyer, Ilyana Kadushin, Matt Walters\",2005.0,The Twilight Saga,\"The Twilight Saga (Twilight, #1-4)\",,3.88,89204,96811,3641,7478,7649,16077,23209,42398,https://images.gr-assets.com/books/1327930511m/3090465.jpg,https://images.gr-assets.com/books/1327930511s/3090465.jpg',\n",
              " \"993,12875258,12875258,18028067,49,679644199,9.78067964419e+12,Carol Rifka Brunt,2012.0,Tell the Wolves I'm Home,Tell the Wolves I'm Home,eng,4.04,85582,96546,11579,1702,4342,17472,38357,34673,https://images.gr-assets.com/books/1335450415m/12875258.jpg,https://images.gr-assets.com/books/1335450415s/12875258.jpg\",\n",
              " '994,32085,18929854,2247074,77,312965788,9.78031296578e+12,James Herriot,1972.0,All Creatures Great And Small,\"All Creatures Great and Small (All Creatures Great and Small, #1-2)\",eng,4.31,64779,98251,2770,693,1999,13232,32737,49590,https://s.gr-assets.com/assets/nophoto/book/111x148-bcc042a9c91a29c1d680899eff700a03.png,https://s.gr-assets.com/assets/nophoto/book/50x75-a91bf249278a81aabab721ef782c4a74.png',\n",
              " '995,11408650,11408650,13460686,42,,,Michelle Hodkin,2011.0,The Unbecoming of Mara Dyer,\"The Unbecoming of Mara Dyer (Mara Dyer, #1)\",eng,4.09,83847,128632,14154,3673,7214,20598,39430,57717,https://images.gr-assets.com/books/1336655755m/11408650.jpg,https://images.gr-assets.com/books/1336655755s/11408650.jpg',\n",
              " '996,6854,6854,1341652,67,312966091,9.7803129661e+12,Janet Evanovich,1997.0,Three to Get Deadly,\"Three to Get Deadly (Stephanie Plum, #3)\",en-US,4.14,113400,118305,2912,332,2257,23249,47014,45453,https://images.gr-assets.com/books/1311727539m/6854.jpg,https://images.gr-assets.com/books/1311727539s/6854.jpg',\n",
              " '997,136116,136116,750426,427,1576469239,9.78157646923e+12,Emmuska Orczy,1905.0,The Scarlet Pimpernel,The Scarlet Pimpernel,eng,4.06,93217,104012,5087,1465,4492,20565,37114,40376,https://s.gr-assets.com/assets/nophoto/book/111x148-bcc042a9c91a29c1d680899eff700a03.png,https://s.gr-assets.com/assets/nophoto/book/50x75-a91bf249278a81aabab721ef782c4a74.png',\n",
              " '998,44186,44186,640276,23,037582913X,9.78037582913e+12,\"Jon Stone, Michael J. Smollin\",1971.0,The Monster at the End of This Book,The Monster at the End of this Book,eng,4.45,102184,104970,2504,1911,2537,10567,21477,68478,https://s.gr-assets.com/assets/nophoto/book/111x148-bcc042a9c91a29c1d680899eff700a03.png,https://s.gr-assets.com/assets/nophoto/book/50x75-a91bf249278a81aabab721ef782c4a74.png',\n",
              " '999,37741,37741,879886,66,425193799,9.78042519379e+12,Judy Blume,1972.0,Tales of a Fourth Grade Nothing,\"Tales of a Fourth Grade Nothing (Fudge, #1)\",eng,4.09,106435,111139,2081,1954,4102,21881,37208,45994,https://s.gr-assets.com/assets/nophoto/book/111x148-bcc042a9c91a29c1d680899eff700a03.png,https://s.gr-assets.com/assets/nophoto/book/50x75-a91bf249278a81aabab721ef782c4a74.png',\n",
              " ...]"
            ]
          },
          "metadata": {},
          "execution_count": 10
        }
      ]
    },
    {
      "cell_type": "code",
      "metadata": {
        "colab": {
          "base_uri": "https://localhost:8080/"
        },
        "id": "G8Bavn4wLUSS",
        "outputId": "783a7ecf-409b-41c1-c1e9-498ff5f8e662"
      },
      "source": [
        "for line in data.take(5):\n",
        "  print(line)"
      ],
      "execution_count": 11,
      "outputs": [
        {
          "output_type": "stream",
          "text": [
            "id,book_id,best_book_id,work_id,books_count,isbn,isbn13,authors,original_publication_year,original_title,title,language_code,average_rating,ratings_count,work_ratings_count,work_text_reviews_count,ratings_1,ratings_2,ratings_3,ratings_4,ratings_5,image_url,small_image_url\n",
            "1,2767052,2767052,2792775,272,439023483,9.78043902348e+12,Suzanne Collins,2008.0,The Hunger Games,\"The Hunger Games (The Hunger Games, #1)\",eng,4.34,4780653,4942365,155254,66715,127936,560092,1481305,2706317,https://images.gr-assets.com/books/1447303603m/2767052.jpg,https://images.gr-assets.com/books/1447303603s/2767052.jpg\n",
            "2,3,3,4640799,491,439554934,9.78043955493e+12,\"J.K. Rowling, Mary GrandPré\",1997.0,Harry Potter and the Philosopher's Stone,\"Harry Potter and the Sorcerer's Stone (Harry Potter, #1)\",eng,4.44,4602479,4800065,75867,75504,101676,455024,1156318,3011543,https://images.gr-assets.com/books/1474154022m/3.jpg,https://images.gr-assets.com/books/1474154022s/3.jpg\n",
            "3,41865,41865,3212258,226,316015849,9.78031601584e+12,Stephenie Meyer,2005.0,Twilight,\"Twilight (Twilight, #1)\",en-US,3.57,3866839,3916824,95009,456191,436802,793319,875073,1355439,https://images.gr-assets.com/books/1361039443m/41865.jpg,https://images.gr-assets.com/books/1361039443s/41865.jpg\n",
            "4,2657,2657,3275794,487,61120081,9.78006112008e+12,Harper Lee,1960.0,To Kill a Mockingbird,To Kill a Mockingbird,eng,4.25,3198671,3340896,72586,60427,117415,446835,1001952,1714267,https://images.gr-assets.com/books/1361975680m/2657.jpg,https://images.gr-assets.com/books/1361975680s/2657.jpg\n"
          ],
          "name": "stdout"
        }
      ]
    },
    {
      "cell_type": "code",
      "metadata": {
        "colab": {
          "base_uri": "https://localhost:8080/",
          "height": 52
        },
        "id": "SI4pIWofLj4D",
        "outputId": "cc9503f3-edda-4f61-d617-853b95120c08"
      },
      "source": [
        "data.first()"
      ],
      "execution_count": 12,
      "outputs": [
        {
          "output_type": "execute_result",
          "data": {
            "application/vnd.google.colaboratory.intrinsic+json": {
              "type": "string"
            },
            "text/plain": [
              "'id,book_id,best_book_id,work_id,books_count,isbn,isbn13,authors,original_publication_year,original_title,title,language_code,average_rating,ratings_count,work_ratings_count,work_text_reviews_count,ratings_1,ratings_2,ratings_3,ratings_4,ratings_5,image_url,small_image_url'"
            ]
          },
          "metadata": {},
          "execution_count": 12
        }
      ]
    },
    {
      "cell_type": "code",
      "metadata": {
        "colab": {
          "base_uri": "https://localhost:8080/"
        },
        "id": "3Ht8WmoVLq6r",
        "outputId": "d3a47e31-6ed0-433b-d3ae-770a71795840"
      },
      "source": [
        "oneRecord = data.first()\n",
        "columns = oneRecord.split(',')\n",
        "columns"
      ],
      "execution_count": 13,
      "outputs": [
        {
          "output_type": "execute_result",
          "data": {
            "text/plain": [
              "['id',\n",
              " 'book_id',\n",
              " 'best_book_id',\n",
              " 'work_id',\n",
              " 'books_count',\n",
              " 'isbn',\n",
              " 'isbn13',\n",
              " 'authors',\n",
              " 'original_publication_year',\n",
              " 'original_title',\n",
              " 'title',\n",
              " 'language_code',\n",
              " 'average_rating',\n",
              " 'ratings_count',\n",
              " 'work_ratings_count',\n",
              " 'work_text_reviews_count',\n",
              " 'ratings_1',\n",
              " 'ratings_2',\n",
              " 'ratings_3',\n",
              " 'ratings_4',\n",
              " 'ratings_5',\n",
              " 'image_url',\n",
              " 'small_image_url']"
            ]
          },
          "metadata": {},
          "execution_count": 13
        }
      ]
    },
    {
      "cell_type": "code",
      "metadata": {
        "id": "Wfl_8pWlL3S6"
      },
      "source": [
        "import pyspark as ps\n",
        "spark = ps.sql.SparkSession.builder.master(\"local\").appName(\"FirstApp\").getOrCreate()"
      ],
      "execution_count": 14,
      "outputs": []
    },
    {
      "cell_type": "code",
      "metadata": {
        "id": "ScQ5mZkLM1IK"
      },
      "source": [
        "spark = ps.sql.SparkSession.builder.getOrCreate()"
      ],
      "execution_count": 15,
      "outputs": []
    },
    {
      "cell_type": "code",
      "metadata": {
        "colab": {
          "base_uri": "https://localhost:8080/"
        },
        "id": "UoiDtRpaNPby",
        "outputId": "33d597b8-4f7b-4c53-84a0-0de30c526981"
      },
      "source": [
        "type(spark)"
      ],
      "execution_count": 16,
      "outputs": [
        {
          "output_type": "execute_result",
          "data": {
            "text/plain": [
              "pyspark.sql.session.SparkSession"
            ]
          },
          "metadata": {},
          "execution_count": 16
        }
      ]
    },
    {
      "cell_type": "code",
      "metadata": {
        "id": "YPAmSGj2NTFD"
      },
      "source": [
        "books_df = spark.read.csv('books.csv', header = True, inferSchema=True)"
      ],
      "execution_count": 17,
      "outputs": []
    },
    {
      "cell_type": "code",
      "metadata": {
        "colab": {
          "base_uri": "https://localhost:8080/"
        },
        "id": "8zhDzNlDP4Lt",
        "outputId": "0797ec99-4b0c-47c8-8047-c7791798affc"
      },
      "source": [
        "### Lets see schema column details of the book_df\n",
        "books_df.printSchema()"
      ],
      "execution_count": 18,
      "outputs": [
        {
          "output_type": "stream",
          "text": [
            "root\n",
            " |-- id: integer (nullable = true)\n",
            " |-- book_id: integer (nullable = true)\n",
            " |-- best_book_id: integer (nullable = true)\n",
            " |-- work_id: integer (nullable = true)\n",
            " |-- books_count: integer (nullable = true)\n",
            " |-- isbn: string (nullable = true)\n",
            " |-- isbn13: double (nullable = true)\n",
            " |-- authors: string (nullable = true)\n",
            " |-- original_publication_year: double (nullable = true)\n",
            " |-- original_title: string (nullable = true)\n",
            " |-- title: string (nullable = true)\n",
            " |-- language_code: string (nullable = true)\n",
            " |-- average_rating: string (nullable = true)\n",
            " |-- ratings_count: string (nullable = true)\n",
            " |-- work_ratings_count: string (nullable = true)\n",
            " |-- work_text_reviews_count: string (nullable = true)\n",
            " |-- ratings_1: double (nullable = true)\n",
            " |-- ratings_2: integer (nullable = true)\n",
            " |-- ratings_3: integer (nullable = true)\n",
            " |-- ratings_4: integer (nullable = true)\n",
            " |-- ratings_5: integer (nullable = true)\n",
            " |-- image_url: string (nullable = true)\n",
            " |-- small_image_url: string (nullable = true)\n",
            "\n"
          ],
          "name": "stdout"
        }
      ]
    },
    {
      "cell_type": "code",
      "metadata": {
        "colab": {
          "base_uri": "https://localhost:8080/"
        },
        "id": "BiGevk0uQHVA",
        "outputId": "e59dd9bf-75d7-4374-b976-8f24557ca2ec"
      },
      "source": [
        "type(books_df)"
      ],
      "execution_count": 19,
      "outputs": [
        {
          "output_type": "execute_result",
          "data": {
            "text/plain": [
              "pyspark.sql.dataframe.DataFrame"
            ]
          },
          "metadata": {},
          "execution_count": 19
        }
      ]
    },
    {
      "cell_type": "code",
      "metadata": {
        "colab": {
          "base_uri": "https://localhost:8080/"
        },
        "id": "e4NVAsOjQLgp",
        "outputId": "666f5515-fe68-4908-95b6-89581096baa3"
      },
      "source": [
        "len(books_df.columns)"
      ],
      "execution_count": 20,
      "outputs": [
        {
          "output_type": "execute_result",
          "data": {
            "text/plain": [
              "23"
            ]
          },
          "metadata": {},
          "execution_count": 20
        }
      ]
    },
    {
      "cell_type": "code",
      "metadata": {
        "colab": {
          "resources": {
            "http://localhost:8080/nbextensions/google.colab/files.js": {
              "data": "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",
              "ok": true,
              "headers": [
                [
                  "content-type",
                  "application/javascript"
                ]
              ],
              "status": 200,
              "status_text": ""
            }
          },
          "base_uri": "https://localhost:8080/",
          "height": 72
        },
        "id": "HVlqRbTDQPwZ",
        "outputId": "2e700556-589c-4104-ede4-c5c09e685da7"
      },
      "source": [
        "#### Import Rating dataset\n",
        "from google.colab import files\n",
        "uploaded2 = files.upload()"
      ],
      "execution_count": 21,
      "outputs": [
        {
          "output_type": "display_data",
          "data": {
            "text/html": [
              "\n",
              "     <input type=\"file\" id=\"files-f701cb1c-ffb3-4a5c-bec0-dd03e7c83c04\" name=\"files[]\" multiple disabled\n",
              "        style=\"border:none\" />\n",
              "     <output id=\"result-f701cb1c-ffb3-4a5c-bec0-dd03e7c83c04\">\n",
              "      Upload widget is only available when the cell has been executed in the\n",
              "      current browser session. Please rerun this cell to enable.\n",
              "      </output>\n",
              "      <script src=\"/nbextensions/google.colab/files.js\"></script> "
            ],
            "text/plain": [
              "<IPython.core.display.HTML object>"
            ]
          },
          "metadata": {}
        },
        {
          "output_type": "stream",
          "text": [
            "Saving ratings.csv to ratings (1).csv\n"
          ],
          "name": "stdout"
        }
      ]
    },
    {
      "cell_type": "code",
      "metadata": {
        "id": "FZ71A7uHQ2nQ"
      },
      "source": [
        "data2 = io.BytesIO(uploaded2['ratings.csv'])"
      ],
      "execution_count": 22,
      "outputs": []
    },
    {
      "cell_type": "code",
      "metadata": {
        "id": "mPebT7CtR7d5"
      },
      "source": [
        "ratings_df = spark.read.csv('ratings.csv', header=True, inferSchema=True) "
      ],
      "execution_count": 23,
      "outputs": []
    },
    {
      "cell_type": "code",
      "metadata": {
        "colab": {
          "base_uri": "https://localhost:8080/"
        },
        "id": "k4160wJsSAso",
        "outputId": "07f4df03-41a7-4ccc-9849-b12640b7fea5"
      },
      "source": [
        "type(ratings_df)"
      ],
      "execution_count": 24,
      "outputs": [
        {
          "output_type": "execute_result",
          "data": {
            "text/plain": [
              "pyspark.sql.dataframe.DataFrame"
            ]
          },
          "metadata": {},
          "execution_count": 24
        }
      ]
    },
    {
      "cell_type": "code",
      "metadata": {
        "colab": {
          "base_uri": "https://localhost:8080/"
        },
        "id": "__EbZsvJSE2w",
        "outputId": "c89e844a-8fbe-4637-e3b1-fa74b089d196"
      },
      "source": [
        "ratings_df.count()"
      ],
      "execution_count": 25,
      "outputs": [
        {
          "output_type": "execute_result",
          "data": {
            "text/plain": [
              "981756"
            ]
          },
          "metadata": {},
          "execution_count": 25
        }
      ]
    },
    {
      "cell_type": "code",
      "metadata": {
        "colab": {
          "base_uri": "https://localhost:8080/"
        },
        "id": "a2ivCnZfScbD",
        "outputId": "95d73f5d-08e5-4040-863d-30930979737a"
      },
      "source": [
        "ratings_df.printSchema()"
      ],
      "execution_count": 26,
      "outputs": [
        {
          "output_type": "stream",
          "text": [
            "root\n",
            " |-- book_id: integer (nullable = true)\n",
            " |-- user_id: integer (nullable = true)\n",
            " |-- rating: integer (nullable = true)\n",
            "\n"
          ],
          "name": "stdout"
        }
      ]
    },
    {
      "cell_type": "code",
      "metadata": {
        "colab": {
          "base_uri": "https://localhost:8080/"
        },
        "id": "KQOWQ7dka5T4",
        "outputId": "d17d881d-287d-45be-c289-ac21f51c06f6"
      },
      "source": [
        "ratings_df.first()"
      ],
      "execution_count": 27,
      "outputs": [
        {
          "output_type": "execute_result",
          "data": {
            "text/plain": [
              "Row(book_id=1, user_id=314, rating=5)"
            ]
          },
          "metadata": {},
          "execution_count": 27
        }
      ]
    },
    {
      "cell_type": "code",
      "metadata": {
        "colab": {
          "base_uri": "https://localhost:8080/"
        },
        "id": "aAm1LBUUa8ef",
        "outputId": "a462f2b3-48bb-4995-a2bc-d1a565d3319f"
      },
      "source": [
        "ratings_df.show(5)"
      ],
      "execution_count": 28,
      "outputs": [
        {
          "output_type": "stream",
          "text": [
            "+-------+-------+------+\n",
            "|book_id|user_id|rating|\n",
            "+-------+-------+------+\n",
            "|      1|    314|     5|\n",
            "|      1|    439|     3|\n",
            "|      1|    588|     5|\n",
            "|      1|   1169|     4|\n",
            "|      1|   1185|     4|\n",
            "+-------+-------+------+\n",
            "only showing top 5 rows\n",
            "\n"
          ],
          "name": "stdout"
        }
      ]
    },
    {
      "cell_type": "code",
      "metadata": {
        "colab": {
          "base_uri": "https://localhost:8080/"
        },
        "id": "MUjC3Opta_Fe",
        "outputId": "87bcbb71-7864-4250-f148-6e7bb0999b29"
      },
      "source": [
        "ratings_df.head(5)"
      ],
      "execution_count": 29,
      "outputs": [
        {
          "output_type": "execute_result",
          "data": {
            "text/plain": [
              "[Row(book_id=1, user_id=314, rating=5),\n",
              " Row(book_id=1, user_id=439, rating=3),\n",
              " Row(book_id=1, user_id=588, rating=5),\n",
              " Row(book_id=1, user_id=1169, rating=4),\n",
              " Row(book_id=1, user_id=1185, rating=4)]"
            ]
          },
          "metadata": {},
          "execution_count": 29
        }
      ]
    },
    {
      "cell_type": "code",
      "metadata": {
        "colab": {
          "base_uri": "https://localhost:8080/"
        },
        "id": "s4FBHpVVbFEf",
        "outputId": "58dcfe4f-6139-4d71-81bf-3db6902e7407"
      },
      "source": [
        "ratings_df.select(\"book_id\",\"rating\").show(5)"
      ],
      "execution_count": 30,
      "outputs": [
        {
          "output_type": "stream",
          "text": [
            "+-------+------+\n",
            "|book_id|rating|\n",
            "+-------+------+\n",
            "|      1|     5|\n",
            "|      1|     3|\n",
            "|      1|     5|\n",
            "|      1|     4|\n",
            "|      1|     4|\n",
            "+-------+------+\n",
            "only showing top 5 rows\n",
            "\n"
          ],
          "name": "stdout"
        }
      ]
    },
    {
      "cell_type": "code",
      "metadata": {
        "colab": {
          "base_uri": "https://localhost:8080/"
        },
        "id": "PCD_x3JabI4f",
        "outputId": "a846a359-5ea2-48b6-a43a-f5fd9c49fcf6"
      },
      "source": [
        "ratings_df.filter(\"rating <= 3\").show(5)"
      ],
      "execution_count": 31,
      "outputs": [
        {
          "output_type": "stream",
          "text": [
            "+-------+-------+------+\n",
            "|book_id|user_id|rating|\n",
            "+-------+-------+------+\n",
            "|      1|    439|     3|\n",
            "|      1|   5461|     3|\n",
            "|      1|   7563|     3|\n",
            "|      1|   9246|     1|\n",
            "|      1|  20076|     3|\n",
            "+-------+-------+------+\n",
            "only showing top 5 rows\n",
            "\n"
          ],
          "name": "stdout"
        }
      ]
    },
    {
      "cell_type": "code",
      "metadata": {
        "colab": {
          "base_uri": "https://localhost:8080/"
        },
        "id": "y3DKD9zTbMAX",
        "outputId": "2a42ffaf-a9e4-431b-eec3-42e9a2332b29"
      },
      "source": [
        "ratings_df.select(\"book_id\",\"rating\").filter(\"rating <= 3\").show(5)"
      ],
      "execution_count": 32,
      "outputs": [
        {
          "output_type": "stream",
          "text": [
            "+-------+------+\n",
            "|book_id|rating|\n",
            "+-------+------+\n",
            "|      1|     3|\n",
            "|      1|     3|\n",
            "|      1|     3|\n",
            "|      1|     1|\n",
            "|      1|     3|\n",
            "+-------+------+\n",
            "only showing top 5 rows\n",
            "\n"
          ],
          "name": "stdout"
        }
      ]
    },
    {
      "cell_type": "code",
      "metadata": {
        "colab": {
          "base_uri": "https://localhost:8080/"
        },
        "id": "NBjHeVKabet2",
        "outputId": "f816b922-d328-42da-c311-49b63717e20b"
      },
      "source": [
        "ratings_df.count()"
      ],
      "execution_count": 33,
      "outputs": [
        {
          "output_type": "execute_result",
          "data": {
            "text/plain": [
              "981756"
            ]
          },
          "metadata": {},
          "execution_count": 33
        }
      ]
    },
    {
      "cell_type": "code",
      "metadata": {
        "colab": {
          "base_uri": "https://localhost:8080/"
        },
        "id": "IoZQh5-kbh2G",
        "outputId": "5f563e8f-62ea-4fee-b325-38b56321324e"
      },
      "source": [
        "print(f\"Total number of Ratings Records : {ratings_df.count()}\")"
      ],
      "execution_count": 34,
      "outputs": [
        {
          "output_type": "stream",
          "text": [
            "Total number of Ratings Records : 981756\n"
          ],
          "name": "stdout"
        }
      ]
    },
    {
      "cell_type": "code",
      "metadata": {
        "colab": {
          "base_uri": "https://localhost:8080/"
        },
        "id": "zCgasfX7bv1V",
        "outputId": "4c5ab02d-d714-45f3-ed90-fd6554d2c1b9"
      },
      "source": [
        "unique_user_count = ratings_df.select(\"user_id\").distinct().count()\n",
        "unique_user_count"
      ],
      "execution_count": 35,
      "outputs": [
        {
          "output_type": "execute_result",
          "data": {
            "text/plain": [
              "53424"
            ]
          },
          "metadata": {},
          "execution_count": 35
        }
      ]
    },
    {
      "cell_type": "code",
      "metadata": {
        "colab": {
          "base_uri": "https://localhost:8080/"
        },
        "id": "EBDw_t99bxjX",
        "outputId": "49c1950f-b83e-4392-8a1f-ed6bb5fea259"
      },
      "source": [
        "### Count of Ratings whose value is 3 or less than 3\n",
        "book_rating_less_or_three_count = ratings_df.filter('rating<=3').count()\n",
        "book_rating_less_or_three_count"
      ],
      "execution_count": 36,
      "outputs": [
        {
          "output_type": "execute_result",
          "data": {
            "text/plain": [
              "331429"
            ]
          },
          "metadata": {},
          "execution_count": 36
        }
      ]
    },
    {
      "cell_type": "code",
      "metadata": {
        "colab": {
          "base_uri": "https://localhost:8080/"
        },
        "id": "iiT350akcTS-",
        "outputId": "a4ac553d-820a-43c3-e759-f9824dbd6309"
      },
      "source": [
        "ratings_df.describe('book_id').show()"
      ],
      "execution_count": 37,
      "outputs": [
        {
          "output_type": "stream",
          "text": [
            "+-------+-----------------+\n",
            "|summary|          book_id|\n",
            "+-------+-----------------+\n",
            "|  count|           981756|\n",
            "|   mean|4943.275635697668|\n",
            "| stddev|2873.207414896197|\n",
            "|    min|                1|\n",
            "|    max|            10000|\n",
            "+-------+-----------------+\n",
            "\n"
          ],
          "name": "stdout"
        }
      ]
    },
    {
      "cell_type": "code",
      "metadata": {
        "id": "ikk8KwVdcdf1",
        "colab": {
          "base_uri": "https://localhost:8080/"
        },
        "outputId": "e56373ce-388d-4dea-a662-193c27ecf09b"
      },
      "source": [
        "ratings_df.describe('book_id','rating').show()"
      ],
      "execution_count": 39,
      "outputs": [
        {
          "output_type": "stream",
          "text": [
            "+-------+-----------------+------------------+\n",
            "|summary|          book_id|            rating|\n",
            "+-------+-----------------+------------------+\n",
            "|  count|           981756|            981756|\n",
            "|   mean|4943.275635697668|3.8565335989797873|\n",
            "| stddev|2873.207414896197|0.9839408559620116|\n",
            "|    min|                1|                 1|\n",
            "|    max|            10000|                 5|\n",
            "+-------+-----------------+------------------+\n",
            "\n"
          ],
          "name": "stdout"
        }
      ]
    },
    {
      "cell_type": "code",
      "metadata": {
        "colab": {
          "base_uri": "https://localhost:8080/"
        },
        "id": "RZepA4GHiDtA",
        "outputId": "73567814-9017-4163-fc6e-79a395cc27cc"
      },
      "source": [
        "ratings_df.count()"
      ],
      "execution_count": 40,
      "outputs": [
        {
          "output_type": "execute_result",
          "data": {
            "text/plain": [
              "981756"
            ]
          },
          "metadata": {},
          "execution_count": 40
        }
      ]
    },
    {
      "cell_type": "code",
      "metadata": {
        "id": "ZR0JuRvOkcCY"
      },
      "source": [
        "fresh_Data = ratings_df.dropDuplicates()"
      ],
      "execution_count": 42,
      "outputs": []
    },
    {
      "cell_type": "code",
      "metadata": {
        "colab": {
          "base_uri": "https://localhost:8080/"
        },
        "id": "gr_b18xqknSO",
        "outputId": "f6856811-43e8-4d02-a378-36878ce92430"
      },
      "source": [
        "fresh_Data.count()"
      ],
      "execution_count": 43,
      "outputs": [
        {
          "output_type": "execute_result",
          "data": {
            "text/plain": [
              "980112"
            ]
          },
          "metadata": {},
          "execution_count": 43
        }
      ]
    },
    {
      "cell_type": "code",
      "metadata": {
        "id": "rQ8hEEzTkyEf"
      },
      "source": [
        "## Drop all the rows with null values\n",
        "ratings_without_null = ratings_df.dropna().count()"
      ],
      "execution_count": 45,
      "outputs": []
    },
    {
      "cell_type": "code",
      "metadata": {
        "colab": {
          "base_uri": "https://localhost:8080/"
        },
        "id": "oq8ujUN-laxJ",
        "outputId": "eed28809-643c-4578-b2a7-1ac40d64e2c9"
      },
      "source": [
        "ratings_without_null"
      ],
      "execution_count": 46,
      "outputs": [
        {
          "output_type": "execute_result",
          "data": {
            "text/plain": [
              "981756"
            ]
          },
          "metadata": {},
          "execution_count": 46
        }
      ]
    },
    {
      "cell_type": "code",
      "metadata": {
        "colab": {
          "base_uri": "https://localhost:8080/"
        },
        "id": "6bLjB43glekQ",
        "outputId": "563177ce-f56b-4795-d55b-fbd8627d11cd"
      },
      "source": [
        "ratings_df.dropna('any').count() # drop a row if it contains any nulls"
      ],
      "execution_count": 47,
      "outputs": [
        {
          "output_type": "execute_result",
          "data": {
            "text/plain": [
              "981756"
            ]
          },
          "metadata": {},
          "execution_count": 47
        }
      ]
    },
    {
      "cell_type": "code",
      "metadata": {
        "colab": {
          "base_uri": "https://localhost:8080/"
        },
        "id": "s_EZGqwfmRVR",
        "outputId": "646fe6e9-94db-444a-ad93-683af638fda0"
      },
      "source": [
        "ratings_df.dropna('all').count() # drop a row if it contains any nulls"
      ],
      "execution_count": 48,
      "outputs": [
        {
          "output_type": "execute_result",
          "data": {
            "text/plain": [
              "981756"
            ]
          },
          "metadata": {},
          "execution_count": 48
        }
      ]
    },
    {
      "cell_type": "code",
      "metadata": {
        "colab": {
          "base_uri": "https://localhost:8080/"
        },
        "id": "itJkBWB1mWXX",
        "outputId": "a3bc93f6-507a-4b5b-abe9-d9a219306995"
      },
      "source": [
        "ratings_df.agg({'rating':'max'}).show()"
      ],
      "execution_count": 50,
      "outputs": [
        {
          "output_type": "stream",
          "text": [
            "+-----------+\n",
            "|max(rating)|\n",
            "+-----------+\n",
            "|          5|\n",
            "+-----------+\n",
            "\n"
          ],
          "name": "stdout"
        }
      ]
    },
    {
      "cell_type": "code",
      "metadata": {
        "colab": {
          "base_uri": "https://localhost:8080/",
          "height": 204
        },
        "id": "VZmNotDvmisg",
        "outputId": "7834722e-0c07-495e-a6b0-73a1c7d36914"
      },
      "source": [
        "ratings_df.groupby(\"rating\").count().toPandas()"
      ],
      "execution_count": 51,
      "outputs": [
        {
          "output_type": "execute_result",
          "data": {
            "text/html": [
              "<div>\n",
              "<style scoped>\n",
              "    .dataframe tbody tr th:only-of-type {\n",
              "        vertical-align: middle;\n",
              "    }\n",
              "\n",
              "    .dataframe tbody tr th {\n",
              "        vertical-align: top;\n",
              "    }\n",
              "\n",
              "    .dataframe thead th {\n",
              "        text-align: right;\n",
              "    }\n",
              "</style>\n",
              "<table border=\"1\" class=\"dataframe\">\n",
              "  <thead>\n",
              "    <tr style=\"text-align: right;\">\n",
              "      <th></th>\n",
              "      <th>rating</th>\n",
              "      <th>count</th>\n",
              "    </tr>\n",
              "  </thead>\n",
              "  <tbody>\n",
              "    <tr>\n",
              "      <th>0</th>\n",
              "      <td>1</td>\n",
              "      <td>19575</td>\n",
              "    </tr>\n",
              "    <tr>\n",
              "      <th>1</th>\n",
              "      <td>3</td>\n",
              "      <td>248623</td>\n",
              "    </tr>\n",
              "    <tr>\n",
              "      <th>2</th>\n",
              "      <td>5</td>\n",
              "      <td>292961</td>\n",
              "    </tr>\n",
              "    <tr>\n",
              "      <th>3</th>\n",
              "      <td>4</td>\n",
              "      <td>357366</td>\n",
              "    </tr>\n",
              "    <tr>\n",
              "      <th>4</th>\n",
              "      <td>2</td>\n",
              "      <td>63231</td>\n",
              "    </tr>\n",
              "  </tbody>\n",
              "</table>\n",
              "</div>"
            ],
            "text/plain": [
              "   rating   count\n",
              "0       1   19575\n",
              "1       3  248623\n",
              "2       5  292961\n",
              "3       4  357366\n",
              "4       2   63231"
            ]
          },
          "metadata": {},
          "execution_count": 51
        }
      ]
    },
    {
      "cell_type": "code",
      "metadata": {
        "colab": {
          "base_uri": "https://localhost:8080/"
        },
        "id": "0D9-oZr-nKNg",
        "outputId": "cd34d55d-3e78-4bc7-bf2d-58231d17b967"
      },
      "source": [
        "# Join two csv dataset\n",
        "ratings_df.join(books_df, books_df.book_id == ratings_df.book_id).select(\"user_id\",\"title\").show(5)\n"
      ],
      "execution_count": 52,
      "outputs": [
        {
          "output_type": "stream",
          "text": [
            "+-------+--------------------+\n",
            "|user_id|               title|\n",
            "+-------+--------------------+\n",
            "|    314|Harry Potter and ...|\n",
            "|    439|Harry Potter and ...|\n",
            "|    588|Harry Potter and ...|\n",
            "|   1169|Harry Potter and ...|\n",
            "|   1185|Harry Potter and ...|\n",
            "+-------+--------------------+\n",
            "only showing top 5 rows\n",
            "\n"
          ],
          "name": "stdout"
        }
      ]
    },
    {
      "cell_type": "code",
      "metadata": {
        "colab": {
          "base_uri": "https://localhost:8080/"
        },
        "id": "H2b4sRMOnQ1B",
        "outputId": "dce753c5-3c6f-4b88-9e07-9a955ebd35d2"
      },
      "source": [
        "ratings_df.orderBy(\"rating\").show(5)"
      ],
      "execution_count": 53,
      "outputs": [
        {
          "output_type": "stream",
          "text": [
            "+-------+-------+------+\n",
            "|book_id|user_id|rating|\n",
            "+-------+-------+------+\n",
            "|      2|  13794|     1|\n",
            "|      3|   9246|     1|\n",
            "|      2|  17643|     1|\n",
            "|      1|  51480|     1|\n",
            "|      2|  48687|     1|\n",
            "+-------+-------+------+\n",
            "only showing top 5 rows\n",
            "\n"
          ],
          "name": "stdout"
        }
      ]
    },
    {
      "cell_type": "code",
      "metadata": {
        "colab": {
          "base_uri": "https://localhost:8080/"
        },
        "id": "iE4B56-XnW2K",
        "outputId": "ee7c687b-c4d2-4784-b769-04c1e9af83b2"
      },
      "source": [
        "ratings_df.orderBy(ratings_df.rating.desc()).show(5)"
      ],
      "execution_count": 54,
      "outputs": [
        {
          "output_type": "stream",
          "text": [
            "+-------+-------+------+\n",
            "|book_id|user_id|rating|\n",
            "+-------+-------+------+\n",
            "|      1|    314|     5|\n",
            "|      1|    588|     5|\n",
            "|      1|   5885|     5|\n",
            "|      1|   2900|     5|\n",
            "|      1|   3922|     5|\n",
            "+-------+-------+------+\n",
            "only showing top 5 rows\n",
            "\n"
          ],
          "name": "stdout"
        }
      ]
    },
    {
      "cell_type": "code",
      "metadata": {
        "colab": {
          "base_uri": "https://localhost:8080/"
        },
        "id": "VpYFXD2tnYkR",
        "outputId": "eaa5c3a8-d5b4-4058-8c02-2e02b723772a"
      },
      "source": [
        "ratings_df.orderBy(\"rating\",\"book_id\").show(115)"
      ],
      "execution_count": 55,
      "outputs": [
        {
          "output_type": "stream",
          "text": [
            "+-------+-------+------+\n",
            "|book_id|user_id|rating|\n",
            "+-------+-------+------+\n",
            "|      1|  51480|     1|\n",
            "|      1|   9246|     1|\n",
            "|      2|  13794|     1|\n",
            "|      2|  17643|     1|\n",
            "|      2|   6063|     1|\n",
            "|      2|  48687|     1|\n",
            "|      3|  10944|     1|\n",
            "|      3|  10509|     1|\n",
            "|      3|  10751|     1|\n",
            "|      3|   4536|     1|\n",
            "|      3|  11854|     1|\n",
            "|      3|  13794|     1|\n",
            "|      3|    588|     1|\n",
            "|      3|  15604|     1|\n",
            "|      3|  16377|     1|\n",
            "|      3|   9246|     1|\n",
            "|      3|  16569|     1|\n",
            "|      3|  21733|     1|\n",
            "|      3|  23576|     1|\n",
            "|      3|  10246|     1|\n",
            "|      3|  25214|     1|\n",
            "|      3|  10610|     1|\n",
            "|      3|  29703|     1|\n",
            "|      3|  32305|     1|\n",
            "|      3|  33065|     1|\n",
            "|      3|  37284|     1|\n",
            "|      3|  52036|     1|\n",
            "|      3|  48687|     1|\n",
            "|      3|  49298|     1|\n",
            "|      4|   4606|     1|\n",
            "|      5|   3022|     1|\n",
            "|      6|  18179|     1|\n",
            "|      6|  18031|     1|\n",
            "|      7|  13282|     1|\n",
            "|      7|  12455|     1|\n",
            "|      7|  23576|     1|\n",
            "|      7|  51480|     1|\n",
            "|      7|  11868|     1|\n",
            "|      8|   3922|     1|\n",
            "|      8|  17643|     1|\n",
            "|      8|   3022|     1|\n",
            "|      8|  18313|     1|\n",
            "|      9|   7563|     1|\n",
            "|      9|  11854|     1|\n",
            "|      9|  38080|     1|\n",
            "|      9|  11408|     1|\n",
            "|      9|  12466|     1|\n",
            "|      9|  51480|     1|\n",
            "|      9|    951|     1|\n",
            "|     10|   6063|     1|\n",
            "|     10|  17643|     1|\n",
            "|     11|  28824|     1|\n",
            "|     12|  52007|     1|\n",
            "|     12|  52036|     1|\n",
            "|     14|  18313|     1|\n",
            "|     14|  28767|     1|\n",
            "|     14|  30681|     1|\n",
            "|     16|  30233|     1|\n",
            "|     16|  32305|     1|\n",
            "|     16|  43985|     1|\n",
            "|     16|  16913|     1|\n",
            "|     17|  12476|     1|\n",
            "|     18|  48687|     1|\n",
            "|     18|   6063|     1|\n",
            "|     19|  11868|     1|\n",
            "|     19|  13282|     1|\n",
            "|     19|  18313|     1|\n",
            "|     19|  29819|     1|\n",
            "|     20|   8454|     1|\n",
            "|     20|  33147|     1|\n",
            "|     21|  48687|     1|\n",
            "|     22|  10111|     1|\n",
            "|     22|  23612|     1|\n",
            "|     22|  13794|     1|\n",
            "|     23|  48687|     1|\n",
            "|     24|  48687|     1|\n",
            "|     25|  48687|     1|\n",
            "|     26|  10944|     1|\n",
            "|     26|  51480|     1|\n",
            "|     26|   1169|     1|\n",
            "|     27|  48687|     1|\n",
            "|     27|  51480|     1|\n",
            "|     28|   9011|     1|\n",
            "|     28|  28767|     1|\n",
            "|     29|   6252|     1|\n",
            "|     29|  15748|     1|\n",
            "|     29|  17643|     1|\n",
            "|     30|   3087|     1|\n",
            "|     30|  13544|     1|\n",
            "|     30|  17242|     1|\n",
            "|     30|  38080|     1|\n",
            "|     30|  21713|     1|\n",
            "|     30|  26244|     1|\n",
            "|     31|  24499|     1|\n",
            "|     32|  51480|     1|\n",
            "|     33|  16913|     1|\n",
            "|     33|  13794|     1|\n",
            "|     34|  43039|     1|\n",
            "|     34|  48297|     1|\n",
            "|     34|  27027|     1|\n",
            "|     34|  38687|     1|\n",
            "|     34|  51452|     1|\n",
            "|     34|    173|     1|\n",
            "|     34|  26097|     1|\n",
            "|     34|  33065|     1|\n",
            "|     34|   3662|     1|\n",
            "|     34|  33716|     1|\n",
            "|     34|  41062|     1|\n",
            "|     34|  52036|     1|\n",
            "|     34|  32923|     1|\n",
            "|     34|  33357|     1|\n",
            "|     34|  13580|     1|\n",
            "|     34|  37035|     1|\n",
            "|     34|  27612|     1|\n",
            "|     34|   8060|     1|\n",
            "+-------+-------+------+\n",
            "only showing top 115 rows\n",
            "\n"
          ],
          "name": "stdout"
        }
      ]
    },
    {
      "cell_type": "code",
      "metadata": {
        "colab": {
          "base_uri": "https://localhost:8080/"
        },
        "id": "tzxMEzjHnar4",
        "outputId": "c5792b6e-345d-4a68-e65f-e0672285c329"
      },
      "source": [
        "# Change the value of an existing columns\n",
        "ratings_df.withColumn(\"rating\", ratings_df.rating*10).show(5)"
      ],
      "execution_count": 56,
      "outputs": [
        {
          "output_type": "stream",
          "text": [
            "+-------+-------+------+\n",
            "|book_id|user_id|rating|\n",
            "+-------+-------+------+\n",
            "|      1|    314|    50|\n",
            "|      1|    439|    30|\n",
            "|      1|    588|    50|\n",
            "|      1|   1169|    40|\n",
            "|      1|   1185|    40|\n",
            "+-------+-------+------+\n",
            "only showing top 5 rows\n",
            "\n"
          ],
          "name": "stdout"
        }
      ]
    },
    {
      "cell_type": "code",
      "metadata": {
        "colab": {
          "base_uri": "https://localhost:8080/"
        },
        "id": "8pex3d8pnjo5",
        "outputId": "71657c1b-8e61-4770-9389-08c2edbf125d"
      },
      "source": [
        "# Add new columns\n",
        "new_dataset = ratings_df.withColumn(\"rating_ten\", ratings_df.rating*10)\n",
        "new_dataset.show(5)"
      ],
      "execution_count": 57,
      "outputs": [
        {
          "output_type": "stream",
          "text": [
            "+-------+-------+------+----------+\n",
            "|book_id|user_id|rating|rating_ten|\n",
            "+-------+-------+------+----------+\n",
            "|      1|    314|     5|        50|\n",
            "|      1|    439|     3|        30|\n",
            "|      1|    588|     5|        50|\n",
            "|      1|   1169|     4|        40|\n",
            "|      1|   1185|     4|        40|\n",
            "+-------+-------+------+----------+\n",
            "only showing top 5 rows\n",
            "\n"
          ],
          "name": "stdout"
        }
      ]
    },
    {
      "cell_type": "code",
      "metadata": {
        "colab": {
          "base_uri": "https://localhost:8080/"
        },
        "id": "8nMrYei8nljQ",
        "outputId": "9b4dd462-7a8b-491f-e1dc-d98e06d4b807"
      },
      "source": [
        "ratings_df.show(5)\n"
      ],
      "execution_count": 58,
      "outputs": [
        {
          "output_type": "stream",
          "text": [
            "+-------+-------+------+\n",
            "|book_id|user_id|rating|\n",
            "+-------+-------+------+\n",
            "|      1|    314|     5|\n",
            "|      1|    439|     3|\n",
            "|      1|    588|     5|\n",
            "|      1|   1169|     4|\n",
            "|      1|   1185|     4|\n",
            "+-------+-------+------+\n",
            "only showing top 5 rows\n",
            "\n"
          ],
          "name": "stdout"
        }
      ]
    },
    {
      "cell_type": "code",
      "metadata": {
        "colab": {
          "base_uri": "https://localhost:8080/"
        },
        "id": "f82uAXFKoZRx",
        "outputId": "1ed304e6-e31f-407f-ec46-08d4034c4ffa"
      },
      "source": [
        "#### How to drop a columns\n",
        "ratings_df.drop('rating').show(5)"
      ],
      "execution_count": 60,
      "outputs": [
        {
          "output_type": "stream",
          "text": [
            "+-------+-------+\n",
            "|book_id|user_id|\n",
            "+-------+-------+\n",
            "|      1|    314|\n",
            "|      1|    439|\n",
            "|      1|    588|\n",
            "|      1|   1169|\n",
            "|      1|   1185|\n",
            "+-------+-------+\n",
            "only showing top 5 rows\n",
            "\n"
          ],
          "name": "stdout"
        }
      ]
    },
    {
      "cell_type": "code",
      "metadata": {
        "colab": {
          "base_uri": "https://localhost:8080/"
        },
        "id": "0_8WC3j1okKx",
        "outputId": "a9f59450-e582-48ef-ef16-83b8e951d636"
      },
      "source": [
        "ratings_df.show()"
      ],
      "execution_count": 61,
      "outputs": [
        {
          "output_type": "stream",
          "text": [
            "+-------+-------+------+\n",
            "|book_id|user_id|rating|\n",
            "+-------+-------+------+\n",
            "|      1|    314|     5|\n",
            "|      1|    439|     3|\n",
            "|      1|    588|     5|\n",
            "|      1|   1169|     4|\n",
            "|      1|   1185|     4|\n",
            "|      1|   2077|     4|\n",
            "|      1|   2487|     4|\n",
            "|      1|   2900|     5|\n",
            "|      1|   3662|     4|\n",
            "|      1|   3922|     5|\n",
            "|      1|   5379|     5|\n",
            "|      1|   5461|     3|\n",
            "|      1|   5885|     5|\n",
            "|      1|   6630|     5|\n",
            "|      1|   7563|     3|\n",
            "|      1|   9246|     1|\n",
            "|      1|  10140|     4|\n",
            "|      1|  10146|     5|\n",
            "|      1|  10246|     4|\n",
            "|      1|  10335|     4|\n",
            "+-------+-------+------+\n",
            "only showing top 20 rows\n",
            "\n"
          ],
          "name": "stdout"
        }
      ]
    },
    {
      "cell_type": "code",
      "metadata": {
        "id": "-N-58Sssorlo"
      },
      "source": [
        ""
      ],
      "execution_count": null,
      "outputs": []
    }
  ]
}